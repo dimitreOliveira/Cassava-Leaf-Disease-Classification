{
 "cells": [
  {
   "cell_type": "markdown",
   "metadata": {
    "papermill": {
     "duration": 0.0227,
     "end_time": "2021-01-30T16:21:59.684067",
     "exception": false,
     "start_time": "2021-01-30T16:21:59.661367",
     "status": "completed"
    },
    "tags": []
   },
   "source": [
    "## Dependencies"
   ]
  },
  {
   "cell_type": "code",
   "execution_count": 1,
   "metadata": {
    "_kg_hide-input": true,
    "_kg_hide-output": true,
    "execution": {
     "iopub.execute_input": "2021-01-30T16:21:59.733737Z",
     "iopub.status.busy": "2021-01-30T16:21:59.732997Z",
     "iopub.status.idle": "2021-01-30T16:22:09.956273Z",
     "shell.execute_reply": "2021-01-30T16:22:09.955601Z"
    },
    "papermill": {
     "duration": 10.248277,
     "end_time": "2021-01-30T16:22:09.956399",
     "exception": false,
     "start_time": "2021-01-30T16:21:59.708122",
     "status": "completed"
    },
    "tags": []
   },
   "outputs": [
    {
     "name": "stdout",
     "output_type": "stream",
     "text": [
      "\u001b[33mWARNING: You are using pip version 20.1.1; however, version 21.0.1 is available.\r\n",
      "You should consider upgrading via the '/opt/conda/bin/python3.7 -m pip install --upgrade pip' command.\u001b[0m\r\n"
     ]
    }
   ],
   "source": [
    "!pip install --quiet efficientnet"
   ]
  },
  {
   "cell_type": "code",
   "execution_count": 2,
   "metadata": {
    "_cell_guid": "b1076dfc-b9ad-4769-8c92-a6c4dae69d19",
    "_kg_hide-input": true,
    "_kg_hide-output": true,
    "_uuid": "8f2839f25d086af736a60e9eeb907d3b93b6e0e5",
    "execution": {
     "iopub.execute_input": "2021-01-30T16:22:10.010346Z",
     "iopub.status.busy": "2021-01-30T16:22:10.009525Z",
     "iopub.status.idle": "2021-01-30T16:22:18.775882Z",
     "shell.execute_reply": "2021-01-30T16:22:18.775120Z"
    },
    "papermill": {
     "duration": 8.797126,
     "end_time": "2021-01-30T16:22:18.776012",
     "exception": false,
     "start_time": "2021-01-30T16:22:09.978886",
     "status": "completed"
    },
    "tags": []
   },
   "outputs": [],
   "source": [
    "import warnings, time\n",
    "from kaggle_datasets import KaggleDatasets\n",
    "from sklearn.model_selection import KFold\n",
    "from sklearn.metrics import classification_report, confusion_matrix, accuracy_score\n",
    "from tensorflow.keras import optimizers, Sequential, losses, metrics, Model\n",
    "from tensorflow.keras.callbacks import EarlyStopping, ModelCheckpoint\n",
    "import efficientnet.tfkeras as efn\n",
    "from cassava_scripts import *\n",
    "from scripts_step_lr_schedulers import *\n",
    "import tensorflow_addons as tfa\n",
    "\n",
    "\n",
    "seed = 0\n",
    "seed_everything(seed)\n",
    "warnings.filterwarnings('ignore')"
   ]
  },
  {
   "cell_type": "markdown",
   "metadata": {
    "papermill": {
     "duration": 0.02201,
     "end_time": "2021-01-30T16:22:18.821714",
     "exception": false,
     "start_time": "2021-01-30T16:22:18.799704",
     "status": "completed"
    },
    "tags": []
   },
   "source": [
    "### Hardware configuration"
   ]
  },
  {
   "cell_type": "code",
   "execution_count": 3,
   "metadata": {
    "_kg_hide-input": true,
    "execution": {
     "iopub.execute_input": "2021-01-30T16:22:18.961575Z",
     "iopub.status.busy": "2021-01-30T16:22:18.880041Z",
     "iopub.status.idle": "2021-01-30T16:22:23.085945Z",
     "shell.execute_reply": "2021-01-30T16:22:23.086513Z"
    },
    "papermill": {
     "duration": 4.242865,
     "end_time": "2021-01-30T16:22:23.086691",
     "exception": false,
     "start_time": "2021-01-30T16:22:18.843826",
     "status": "completed"
    },
    "tags": []
   },
   "outputs": [
    {
     "name": "stdout",
     "output_type": "stream",
     "text": [
      "Running on TPU grpc://10.0.0.2:8470\n",
      "REPLICAS: 8\n"
     ]
    }
   ],
   "source": [
    "# TPU or GPU detection\n",
    "# Detect hardware, return appropriate distribution strategy\n",
    "strategy, tpu = set_up_strategy()\n",
    "\n",
    "AUTO = tf.data.experimental.AUTOTUNE\n",
    "REPLICAS = strategy.num_replicas_in_sync\n",
    "print(f'REPLICAS: {REPLICAS}')\n",
    "\n",
    "\n",
    "# Mixed precision\n",
    "from tensorflow.keras.mixed_precision import experimental as mixed_precision\n",
    "policy = mixed_precision.Policy('mixed_bfloat16')\n",
    "mixed_precision.set_policy(policy)\n",
    "\n",
    "# XLA\n",
    "tf.config.optimizer.set_jit(True)"
   ]
  },
  {
   "cell_type": "markdown",
   "metadata": {
    "papermill": {
     "duration": 0.028216,
     "end_time": "2021-01-30T16:22:23.137772",
     "exception": false,
     "start_time": "2021-01-30T16:22:23.109556",
     "status": "completed"
    },
    "tags": []
   },
   "source": [
    "# Model parameters"
   ]
  },
  {
   "cell_type": "code",
   "execution_count": 4,
   "metadata": {
    "execution": {
     "iopub.execute_input": "2021-01-30T16:22:23.206942Z",
     "iopub.status.busy": "2021-01-30T16:22:23.205790Z",
     "iopub.status.idle": "2021-01-30T16:22:23.208636Z",
     "shell.execute_reply": "2021-01-30T16:22:23.209416Z"
    },
    "papermill": {
     "duration": 0.041902,
     "end_time": "2021-01-30T16:22:23.209590",
     "exception": false,
     "start_time": "2021-01-30T16:22:23.167688",
     "status": "completed"
    },
    "tags": []
   },
   "outputs": [],
   "source": [
    "BATCH_SIZE = 8 * REPLICAS\n",
    "LEARNING_RATE = 1e-5 * REPLICAS\n",
    "EPOCHS_CL = 5\n",
    "EPOCHS = 33\n",
    "HEIGHT = 512\n",
    "WIDTH = 512\n",
    "HEIGHT_DT = 512\n",
    "WIDTH_DT = 512\n",
    "CHANNELS = 3\n",
    "N_CLASSES = 5\n",
    "N_FOLDS = 5\n",
    "FOLDS_USED = 1\n",
    "ES_PATIENCE = 10"
   ]
  },
  {
   "cell_type": "markdown",
   "metadata": {
    "papermill": {
     "duration": 0.036559,
     "end_time": "2021-01-30T16:22:23.274678",
     "exception": false,
     "start_time": "2021-01-30T16:22:23.238119",
     "status": "completed"
    },
    "tags": []
   },
   "source": [
    "# Load data"
   ]
  },
  {
   "cell_type": "code",
   "execution_count": 5,
   "metadata": {
    "_kg_hide-input": true,
    "execution": {
     "iopub.execute_input": "2021-01-30T16:22:23.327038Z",
     "iopub.status.busy": "2021-01-30T16:22:23.326228Z",
     "iopub.status.idle": "2021-01-30T16:22:23.889179Z",
     "shell.execute_reply": "2021-01-30T16:22:23.888410Z"
    },
    "papermill": {
     "duration": 0.590475,
     "end_time": "2021-01-30T16:22:23.889305",
     "exception": false,
     "start_time": "2021-01-30T16:22:23.298830",
     "status": "completed"
    },
    "tags": []
   },
   "outputs": [
    {
     "name": "stdout",
     "output_type": "stream",
     "text": [
      "Train samples: 21397\n",
      "GCS: train images: 21395\n"
     ]
    },
    {
     "data": {
      "text/html": [
       "<div>\n",
       "<style scoped>\n",
       "    .dataframe tbody tr th:only-of-type {\n",
       "        vertical-align: middle;\n",
       "    }\n",
       "\n",
       "    .dataframe tbody tr th {\n",
       "        vertical-align: top;\n",
       "    }\n",
       "\n",
       "    .dataframe thead th {\n",
       "        text-align: right;\n",
       "    }\n",
       "</style>\n",
       "<table border=\"1\" class=\"dataframe\">\n",
       "  <thead>\n",
       "    <tr style=\"text-align: right;\">\n",
       "      <th></th>\n",
       "      <th>image_id</th>\n",
       "      <th>label</th>\n",
       "    </tr>\n",
       "  </thead>\n",
       "  <tbody>\n",
       "    <tr>\n",
       "      <th>0</th>\n",
       "      <td>1000015157.jpg</td>\n",
       "      <td>0</td>\n",
       "    </tr>\n",
       "    <tr>\n",
       "      <th>1</th>\n",
       "      <td>1000201771.jpg</td>\n",
       "      <td>3</td>\n",
       "    </tr>\n",
       "    <tr>\n",
       "      <th>2</th>\n",
       "      <td>100042118.jpg</td>\n",
       "      <td>1</td>\n",
       "    </tr>\n",
       "    <tr>\n",
       "      <th>3</th>\n",
       "      <td>1000723321.jpg</td>\n",
       "      <td>1</td>\n",
       "    </tr>\n",
       "    <tr>\n",
       "      <th>4</th>\n",
       "      <td>1000812911.jpg</td>\n",
       "      <td>3</td>\n",
       "    </tr>\n",
       "  </tbody>\n",
       "</table>\n",
       "</div>"
      ],
      "text/plain": [
       "         image_id  label\n",
       "0  1000015157.jpg      0\n",
       "1  1000201771.jpg      3\n",
       "2   100042118.jpg      1\n",
       "3  1000723321.jpg      1\n",
       "4  1000812911.jpg      3"
      ]
     },
     "metadata": {},
     "output_type": "display_data"
    }
   ],
   "source": [
    "database_base_path = '/kaggle/input/cassava-leaf-disease-classification/'\n",
    "train = pd.read_csv(f'{database_base_path}train.csv')\n",
    "print(f'Train samples: {len(train)}')\n",
    "\n",
    "GCS_PATH = KaggleDatasets().get_gcs_path(f'cassava-leaf-disease-tfrecords-center-{HEIGHT_DT}x{WIDTH_DT}') # Center croped and resized (50 TFRecord)\n",
    "# GCS_PATH_EXT = KaggleDatasets().get_gcs_path(f'cassava-leaf-disease-tfrecords-external-{HEIGHT_DT}x{WIDTH_DT}') # Center croped and resized (50 TFRecord) (External)\n",
    "# GCS_PATH_CLASSES = KaggleDatasets().get_gcs_path(f'cassava-leaf-disease-tfrecords-classes-{HEIGHT_DT}x{WIDTH_DT}') # Center croped and resized (50 TFRecord) by classes\n",
    "# GCS_PATH_EXT_CLASSES = KaggleDatasets().get_gcs_path(f'cassava-leaf-disease-tfrecords-classes-ext-{HEIGHT_DT}x{WIDTH_DT}') # Center croped and resized (50 TFRecord) (External) by classes\n",
    "\n",
    "\n",
    "FILENAMES_COMP = tf.io.gfile.glob(GCS_PATH + '/*.tfrec')\n",
    "# FILENAMES_2019 = tf.io.gfile.glob(GCS_PATH_EXT + '/*.tfrec')\n",
    "\n",
    "# FILENAMES_COMP_CBB = tf.io.gfile.glob(GCS_PATH_CLASSES + '/CBB*.tfrec')\n",
    "# FILENAMES_COMP_CBSD = tf.io.gfile.glob(GCS_PATH_CLASSES + '/CBSD*.tfrec')\n",
    "# FILENAMES_COMP_CGM = tf.io.gfile.glob(GCS_PATH_CLASSES + '/CGM*.tfrec')\n",
    "# FILENAMES_COMP_CMD = tf.io.gfile.glob(GCS_PATH_CLASSES + '/CMD*.tfrec')\n",
    "# FILENAMES_COMP_Healthy = tf.io.gfile.glob(GCS_PATH_CLASSES + '/Healthy*.tfrec')\n",
    "\n",
    "# FILENAMES_2019_CBB = tf.io.gfile.glob(GCS_PATH_EXT_CLASSES + '/CBB*.tfrec')\n",
    "# FILENAMES_2019_CBSD = tf.io.gfile.glob(GCS_PATH_EXT_CLASSES + '/CBSD*.tfrec')\n",
    "# FILENAMES_2019_CGM = tf.io.gfile.glob(GCS_PATH_EXT_CLASSES + '/CGM*.tfrec')\n",
    "# FILENAMES_2019_CMD = tf.io.gfile.glob(GCS_PATH_EXT_CLASSES + '/CMD*.tfrec')\n",
    "# FILENAMES_2019_Healthy = tf.io.gfile.glob(GCS_PATH_EXT_CLASSES + '/Healthy*.tfrec')\n",
    "\n",
    "TRAINING_FILENAMES = FILENAMES_COMP\n",
    "NUM_TRAINING_IMAGES = count_data_items(TRAINING_FILENAMES)\n",
    "\n",
    "print(f'GCS: train images: {NUM_TRAINING_IMAGES}')\n",
    "display(train.head())"
   ]
  },
  {
   "cell_type": "markdown",
   "metadata": {
    "papermill": {
     "duration": 0.024424,
     "end_time": "2021-01-30T16:22:23.937830",
     "exception": false,
     "start_time": "2021-01-30T16:22:23.913406",
     "status": "completed"
    },
    "tags": []
   },
   "source": [
    "# Augmentation"
   ]
  },
  {
   "cell_type": "code",
   "execution_count": 6,
   "metadata": {
    "execution": {
     "iopub.execute_input": "2021-01-30T16:22:24.005978Z",
     "iopub.status.busy": "2021-01-30T16:22:24.000421Z",
     "iopub.status.idle": "2021-01-30T16:22:24.015139Z",
     "shell.execute_reply": "2021-01-30T16:22:24.014342Z"
    },
    "papermill": {
     "duration": 0.052999,
     "end_time": "2021-01-30T16:22:24.015285",
     "exception": false,
     "start_time": "2021-01-30T16:22:23.962286",
     "status": "completed"
    },
    "tags": []
   },
   "outputs": [],
   "source": [
    "def data_augment(image, label):\n",
    "#     p_rotation = tf.random.uniform([], 0, 1.0, dtype=tf.float32)\n",
    "    p_spatial = tf.random.uniform([], 0, 1.0, dtype=tf.float32)\n",
    "    p_rotate = tf.random.uniform([], 0, 1.0, dtype=tf.float32)\n",
    "    p_pixel_1 = tf.random.uniform([], 0, 1.0, dtype=tf.float32)\n",
    "    p_pixel_2 = tf.random.uniform([], 0, 1.0, dtype=tf.float32)\n",
    "    p_pixel_3 = tf.random.uniform([], 0, 1.0, dtype=tf.float32)\n",
    "#     p_shear = tf.random.uniform([], 0, 1.0, dtype=tf.float32)\n",
    "    p_crop = tf.random.uniform([], 0, 1.0, dtype=tf.float32)\n",
    "    p_cutout = tf.random.uniform([], 0, 1.0, dtype=tf.float32)\n",
    "    \n",
    "#     # Shear\n",
    "#     if p_shear > .2:\n",
    "#         if p_shear > .6:\n",
    "#             image = transform_shear(image, HEIGHT, shear=20.)\n",
    "#         else:\n",
    "#             image = transform_shear(image, HEIGHT, shear=-20.)\n",
    "            \n",
    "#     # Rotation\n",
    "#     if p_rotation > .2:\n",
    "#         if p_rotation > .6:\n",
    "#             image = transform_rotation(image, HEIGHT, rotation=45.)\n",
    "#         else:\n",
    "#             image = transform_rotation(image, HEIGHT, rotation=-45.)\n",
    "            \n",
    "    # Flips\n",
    "    image = tf.image.random_flip_left_right(image)\n",
    "    image = tf.image.random_flip_up_down(image)\n",
    "    if p_spatial > .75:\n",
    "        image = tf.image.transpose(image)\n",
    "        \n",
    "    # Rotates\n",
    "    if p_rotate > .75:\n",
    "        image = tf.image.rot90(image, k=3) # rotate 270º\n",
    "    elif p_rotate > .5:\n",
    "        image = tf.image.rot90(image, k=2) # rotate 180º\n",
    "    elif p_rotate > .25:\n",
    "        image = tf.image.rot90(image, k=1) # rotate 90º\n",
    "        \n",
    "    # Pixel-level transforms\n",
    "    if p_pixel_1 >= .4:\n",
    "        image = tf.image.random_saturation(image, lower=.7, upper=1.3)\n",
    "    if p_pixel_2 >= .4:\n",
    "        image = tf.image.random_contrast(image, lower=.8, upper=1.2)\n",
    "    if p_pixel_3 >= .4:\n",
    "        image = tf.image.random_brightness(image, max_delta=.1)\n",
    "        \n",
    "    # Crops\n",
    "    if p_crop > .6:\n",
    "        if p_crop > .9:\n",
    "            image = tf.image.central_crop(image, central_fraction=.5)\n",
    "        elif p_crop > .8:\n",
    "            image = tf.image.central_crop(image, central_fraction=.6)\n",
    "        elif p_crop > .7:\n",
    "            image = tf.image.central_crop(image, central_fraction=.7)\n",
    "        else:\n",
    "            image = tf.image.central_crop(image, central_fraction=.8)\n",
    "    elif p_crop > .3:\n",
    "        crop_size = tf.random.uniform([], int(HEIGHT*.6), HEIGHT, dtype=tf.int32)\n",
    "        image = tf.image.random_crop(image, size=[crop_size, crop_size, CHANNELS])\n",
    "            \n",
    "    image = tf.image.resize(image, size=[HEIGHT, WIDTH])\n",
    "\n",
    "    if p_cutout > .5:\n",
    "        image = data_augment_cutout(image)\n",
    "        \n",
    "    return image, label"
   ]
  },
  {
   "cell_type": "markdown",
   "metadata": {
    "papermill": {
     "duration": 0.024733,
     "end_time": "2021-01-30T16:22:24.065463",
     "exception": false,
     "start_time": "2021-01-30T16:22:24.040730",
     "status": "completed"
    },
    "tags": []
   },
   "source": [
    "## Auxiliary functions"
   ]
  },
  {
   "cell_type": "code",
   "execution_count": 7,
   "metadata": {
    "_kg_hide-input": true,
    "execution": {
     "iopub.execute_input": "2021-01-30T16:22:24.128454Z",
     "iopub.status.busy": "2021-01-30T16:22:24.127604Z",
     "iopub.status.idle": "2021-01-30T16:22:24.131866Z",
     "shell.execute_reply": "2021-01-30T16:22:24.131208Z"
    },
    "papermill": {
     "duration": 0.041823,
     "end_time": "2021-01-30T16:22:24.131996",
     "exception": false,
     "start_time": "2021-01-30T16:22:24.090173",
     "status": "completed"
    },
    "tags": []
   },
   "outputs": [],
   "source": [
    "# CutOut\n",
    "def data_augment_cutout(image, min_mask_size=(int(HEIGHT * .1), int(HEIGHT * .1)), \n",
    "                        max_mask_size=(int(HEIGHT * .125), int(HEIGHT * .125))):\n",
    "    p_cutout = tf.random.uniform([], 0, 1.0, dtype=tf.float32)\n",
    "    \n",
    "    if p_cutout > .85: # 10~15 cut outs\n",
    "        n_cutout = tf.random.uniform([], 10, 15, dtype=tf.int32)\n",
    "        image = random_cutout(image, HEIGHT, WIDTH, \n",
    "                              min_mask_size=min_mask_size, max_mask_size=max_mask_size, k=n_cutout)\n",
    "    elif p_cutout > .6: # 5~10 cut outs\n",
    "        n_cutout = tf.random.uniform([], 5, 10, dtype=tf.int32)\n",
    "        image = random_cutout(image, HEIGHT, WIDTH, \n",
    "                              min_mask_size=min_mask_size, max_mask_size=max_mask_size, k=n_cutout)\n",
    "    elif p_cutout > .25: # 2~5 cut outs\n",
    "        n_cutout = tf.random.uniform([], 2, 5, dtype=tf.int32)\n",
    "        image = random_cutout(image, HEIGHT, WIDTH, \n",
    "                              min_mask_size=min_mask_size, max_mask_size=max_mask_size, k=n_cutout)\n",
    "    else: # 1 cut out\n",
    "        image = random_cutout(image, HEIGHT, WIDTH, \n",
    "                              min_mask_size=min_mask_size, max_mask_size=max_mask_size, k=1)\n",
    "\n",
    "    return image"
   ]
  },
  {
   "cell_type": "code",
   "execution_count": 8,
   "metadata": {
    "_cell_guid": "79c7e3d0-c299-4dcb-8224-4455121ee9b0",
    "_kg_hide-input": true,
    "_uuid": "d629ff2d2480ee46fbb7e2d37f6b5fab8052498a",
    "execution": {
     "iopub.execute_input": "2021-01-30T16:22:24.193325Z",
     "iopub.status.busy": "2021-01-30T16:22:24.192360Z",
     "iopub.status.idle": "2021-01-30T16:22:24.216374Z",
     "shell.execute_reply": "2021-01-30T16:22:24.216984Z"
    },
    "papermill": {
     "duration": 0.060207,
     "end_time": "2021-01-30T16:22:24.217156",
     "exception": false,
     "start_time": "2021-01-30T16:22:24.156949",
     "status": "completed"
    },
    "tags": []
   },
   "outputs": [],
   "source": [
    "# Datasets utility functions\n",
    "def random_crop(image, label):\n",
    "    \"\"\"\n",
    "        Resize and reshape images to the expected size.\n",
    "    \"\"\"\n",
    "    image = tf.image.random_crop(image, size=[HEIGHT, WIDTH, CHANNELS])\n",
    "    return image, label\n",
    "\n",
    "def prepare_image(image, label):\n",
    "    \"\"\"\n",
    "        Resize and reshape images to the expected size.\n",
    "    \"\"\"\n",
    "    image = tf.image.resize(image, [HEIGHT, WIDTH])\n",
    "    image = tf.reshape(image, [HEIGHT, WIDTH, CHANNELS])\n",
    "    return image, label\n",
    "\n",
    "def center_crop_(image, label, height_rs, width_rs, height=HEIGHT_DT, width=WIDTH_DT, channels=3):\n",
    "    image = tf.reshape(image, [height, width, channels]) # Original shape\n",
    "    \n",
    "    h, w = image.shape[0], image.shape[1]\n",
    "    if h > w:\n",
    "        image = tf.image.crop_to_bounding_box(image, (h - w) // 2, 0, w, w)\n",
    "    else:\n",
    "        image = tf.image.crop_to_bounding_box(image, 0, (w - h) // 2, h, h)\n",
    "        \n",
    "    image = tf.image.resize(image, [height_rs, width_rs]) # Expected shape\n",
    "    return image, label\n",
    "\n",
    "\n",
    "def read_tfrecord_(example, labeled=True, n_classes=5):\n",
    "    \"\"\"\n",
    "        1. Parse data based on the 'TFREC_FORMAT' map.\n",
    "        2. Decode image.\n",
    "        3. If 'labeled' returns (image, label) if not (image, name).\n",
    "    \"\"\"\n",
    "    if labeled:\n",
    "        TFREC_FORMAT = {\n",
    "            'image': tf.io.FixedLenFeature([], tf.string), \n",
    "            'target': tf.io.FixedLenFeature([], tf.int64), \n",
    "        }\n",
    "    else:\n",
    "        TFREC_FORMAT = {\n",
    "            'image': tf.io.FixedLenFeature([], tf.string), \n",
    "            'image_name': tf.io.FixedLenFeature([], tf.string), \n",
    "        }\n",
    "    example = tf.io.parse_single_example(example, TFREC_FORMAT)\n",
    "    image = decode_image(example['image'])\n",
    "    if labeled:\n",
    "        label_or_name = tf.cast(example['target'], tf.int32)\n",
    "        # One-Hot Encoding needed to use \"categorical_crossentropy\" loss\n",
    "        label_or_name = tf.one_hot(tf.cast(label_or_name, tf.int32), n_classes)\n",
    "    else:\n",
    "        label_or_name = example['image_name']\n",
    "    return image, label_or_name\n",
    "\n",
    "def get_dataset(filenames, labeled=True, ordered=False, repeated=False, \n",
    "                cached=False, augment=False):\n",
    "    \"\"\"\n",
    "        Return a Tensorflow dataset ready for training or inference.\n",
    "    \"\"\"\n",
    "    \n",
    "    ignore_order = tf.data.Options()\n",
    "    if not ordered:\n",
    "        ignore_order.experimental_deterministic = False\n",
    "        dataset = tf.data.Dataset.list_files(filenames)\n",
    "        dataset = dataset.interleave(tf.data.TFRecordDataset, num_parallel_calls=AUTO)\n",
    "    else:\n",
    "        dataset = tf.data.TFRecordDataset(filenames, num_parallel_reads=AUTO)\n",
    "        \n",
    "    dataset = dataset.with_options(ignore_order)\n",
    "    \n",
    "#     dataset = dataset.map(lambda x: read_tfrecord_(x, labeled=labeled), num_parallel_calls=AUTO)\n",
    "    dataset = dataset.map(lambda x: read_tfrecord(x, labeled=labeled), num_parallel_calls=AUTO)\n",
    "    \n",
    "    if augment:\n",
    "        dataset = dataset.map(data_augment, num_parallel_calls=AUTO)\n",
    "        \n",
    "    dataset = dataset.map(scale_image, num_parallel_calls=AUTO)\n",
    "    dataset = dataset.map(prepare_image, num_parallel_calls=AUTO)\n",
    "    \n",
    "    \n",
    "    if labeled:\n",
    "        dataset = dataset.map(conf_output, num_parallel_calls=AUTO)\n",
    "    \n",
    "    \n",
    "    if not ordered:\n",
    "        dataset = dataset.shuffle(2048)\n",
    "    if repeated:\n",
    "        dataset = dataset.repeat()\n",
    "        \n",
    "    dataset = dataset.batch(BATCH_SIZE)\n",
    "    \n",
    "    if cached:\n",
    "        dataset = dataset.cache()\n",
    "    dataset = dataset.prefetch(AUTO)\n",
    "    return dataset\n",
    "\n",
    "def conf_output(image, label):\n",
    "    \"\"\"\n",
    "        Configure the output of the dataset.\n",
    "    \"\"\"\n",
    "    aux_label = [0.]\n",
    "    aux_2_label = [0.]\n",
    "    if tf.math.argmax(label, axis=-1) == 4: # Healthy\n",
    "#     if label == 4: # Healthy\n",
    "        aux_label = [1.]\n",
    "    if tf.math.argmax(label, axis=-1) == 3: # CMD\n",
    "#     if label == 3: # CMD\n",
    "        aux_2_label = [1.]\n",
    "    return (image, (label, aux_label, aux_2_label))"
   ]
  },
  {
   "cell_type": "markdown",
   "metadata": {
    "papermill": {
     "duration": 0.02374,
     "end_time": "2021-01-30T16:22:24.264965",
     "exception": false,
     "start_time": "2021-01-30T16:22:24.241225",
     "status": "completed"
    },
    "tags": []
   },
   "source": [
    "# Training data samples (with augmentation)"
   ]
  },
  {
   "cell_type": "code",
   "execution_count": 9,
   "metadata": {
    "_kg_hide-input": true,
    "execution": {
     "iopub.execute_input": "2021-01-30T16:22:24.316381Z",
     "iopub.status.busy": "2021-01-30T16:22:24.315681Z",
     "iopub.status.idle": "2021-01-30T16:22:24.319017Z",
     "shell.execute_reply": "2021-01-30T16:22:24.319559Z"
    },
    "papermill": {
     "duration": 0.030871,
     "end_time": "2021-01-30T16:22:24.319863",
     "exception": false,
     "start_time": "2021-01-30T16:22:24.288992",
     "status": "completed"
    },
    "tags": []
   },
   "outputs": [],
   "source": [
    "# train_dataset = get_dataset(FILENAMES_COMP, ordered=True, augment=True)\n",
    "# train_iter = iter(train_dataset.unbatch().batch(20))\n",
    "\n",
    "# display_batch_of_images(next(train_iter))\n",
    "# display_batch_of_images(next(train_iter))"
   ]
  },
  {
   "cell_type": "markdown",
   "metadata": {
    "papermill": {
     "duration": 0.024,
     "end_time": "2021-01-30T16:22:24.368115",
     "exception": false,
     "start_time": "2021-01-30T16:22:24.344115",
     "status": "completed"
    },
    "tags": []
   },
   "source": [
    "# Model"
   ]
  },
  {
   "cell_type": "code",
   "execution_count": 10,
   "metadata": {
    "execution": {
     "iopub.execute_input": "2021-01-30T16:22:24.436893Z",
     "iopub.status.busy": "2021-01-30T16:22:24.435807Z",
     "iopub.status.idle": "2021-01-30T16:22:24.439398Z",
     "shell.execute_reply": "2021-01-30T16:22:24.438726Z"
    },
    "papermill": {
     "duration": 0.045875,
     "end_time": "2021-01-30T16:22:24.439520",
     "exception": false,
     "start_time": "2021-01-30T16:22:24.393645",
     "status": "completed"
    },
    "tags": []
   },
   "outputs": [],
   "source": [
    "def encoder_fn(input_shape):\n",
    "    inputs = L.Input(shape=input_shape, name='input_image')\n",
    "    base_model = efn.EfficientNetB5(input_tensor=inputs, \n",
    "                                    include_top=False, \n",
    "                                    weights='noisy-student', \n",
    "                                    pooling='avg')\n",
    "    \n",
    "    model = Model(inputs=inputs, outputs=base_model.output)\n",
    "    return model\n",
    "\n",
    "def add_projection_head(input_shape, encoder):\n",
    "    inputs = L.Input(shape=input_shape, name='input_image')\n",
    "    features = encoder(inputs)\n",
    "    outputs = L.Dense(128, activation='relu', name='projection_head', dtype='float32')(features)\n",
    "    \n",
    "    model = Model(inputs=inputs, outputs=outputs)\n",
    "    return model\n",
    "\n",
    "def classifier_fn(input_shape, N_CLASSES, encoder, trainable=True):\n",
    "    for layer in encoder.layers:\n",
    "        layer.trainable = trainable\n",
    "        \n",
    "    inputs = L.Input(shape=input_shape, name='input_image')\n",
    "    \n",
    "    features = encoder(inputs)\n",
    "    features = L.Dropout(.25)(features)\n",
    "#     features = L.Dense(1000, activation='relu')(features)\n",
    "#     features = L.Dropout(.25)(features)\n",
    "    \n",
    "    output = L.Dense(N_CLASSES, activation='softmax', name='output', dtype='float32')(features)\n",
    "    output_healthy = L.Dense(1, activation='sigmoid', name='output_healthy', dtype='float32')(features)\n",
    "    output_cmd = L.Dense(1, activation='sigmoid', name='output_cmd', dtype='float32')(features)\n",
    "    \n",
    "    model = Model(inputs=inputs, outputs=[output, output_healthy, output_cmd])\n",
    "    return model"
   ]
  },
  {
   "cell_type": "code",
   "execution_count": 11,
   "metadata": {
    "execution": {
     "iopub.execute_input": "2021-01-30T16:22:24.492481Z",
     "iopub.status.busy": "2021-01-30T16:22:24.491774Z",
     "iopub.status.idle": "2021-01-30T16:22:24.501195Z",
     "shell.execute_reply": "2021-01-30T16:22:24.501788Z"
    },
    "papermill": {
     "duration": 0.038061,
     "end_time": "2021-01-30T16:22:24.501943",
     "exception": false,
     "start_time": "2021-01-30T16:22:24.463882",
     "status": "completed"
    },
    "tags": []
   },
   "outputs": [],
   "source": [
    "temperature = 0.1\n",
    "\n",
    "class SupervisedContrastiveLoss(losses.Loss):\n",
    "    def __init__(self, temperature=0.1, name=None):\n",
    "        super(SupervisedContrastiveLoss, self).__init__(name=name)\n",
    "        self.temperature = temperature\n",
    "\n",
    "    def __call__(self, labels, feature_vectors, sample_weight=None):\n",
    "        # Normalize feature vectors\n",
    "        feature_vectors_normalized = tf.math.l2_normalize(feature_vectors, axis=1)\n",
    "        # Compute logits\n",
    "        logits = tf.divide(\n",
    "            tf.matmul(\n",
    "                feature_vectors_normalized, tf.transpose(feature_vectors_normalized)\n",
    "            ),\n",
    "            temperature,\n",
    "        )\n",
    "        return tfa.losses.npairs_loss(tf.squeeze(labels), logits)"
   ]
  },
  {
   "cell_type": "markdown",
   "metadata": {
    "papermill": {
     "duration": 0.025709,
     "end_time": "2021-01-30T16:22:24.553493",
     "exception": false,
     "start_time": "2021-01-30T16:22:24.527784",
     "status": "completed"
    },
    "tags": []
   },
   "source": [
    "### Learning rate schedule"
   ]
  },
  {
   "cell_type": "code",
   "execution_count": 12,
   "metadata": {
    "_kg_hide-input": true,
    "execution": {
     "iopub.execute_input": "2021-01-30T16:22:24.607882Z",
     "iopub.status.busy": "2021-01-30T16:22:24.607072Z",
     "iopub.status.idle": "2021-01-30T16:23:22.852506Z",
     "shell.execute_reply": "2021-01-30T16:23:22.851781Z"
    },
    "papermill": {
     "duration": 58.274347,
     "end_time": "2021-01-30T16:23:22.852657",
     "exception": false,
     "start_time": "2021-01-30T16:22:24.578310",
     "status": "completed"
    },
    "tags": []
   },
   "outputs": [
    {
     "name": "stdout",
     "output_type": "stream",
     "text": [
      "11022 total steps and 334 steps per epoch\n",
      "Learning rate schedule: 1e-08 to 8e-05 to 1e-06\n"
     ]
    },
    {
     "data": {
      "image/png": "[encoded data removed]",
      "text/plain": [
       "<Figure size 1440x432 with 1 Axes>"
      ]
     },
     "metadata": {},
     "output_type": "display_data"
    }
   ],
   "source": [
    "lr_start = 1e-8\n",
    "lr_min = 1e-6\n",
    "lr_max = LEARNING_RATE\n",
    "num_cycles = 3.\n",
    "warmup_epochs = 3\n",
    "hold_max_epochs = 0\n",
    "total_epochs = EPOCHS\n",
    "step_size = (NUM_TRAINING_IMAGES//BATCH_SIZE)\n",
    "hold_max_steps = hold_max_epochs * step_size\n",
    "total_steps = total_epochs * step_size\n",
    "warmup_steps = warmup_epochs * step_size\n",
    "\n",
    "\n",
    "def lrfn(total_steps, warmup_steps=0, lr_start=1e-4, lr_max=1e-3, lr_min=1e-4, num_cycles=1.):\n",
    "    @tf.function\n",
    "    def cosine_with_hard_restarts_schedule_with_warmup_(step):\n",
    "        \"\"\" Create a schedule with a learning rate that decreases following the\n",
    "        values of the cosine function with several hard restarts, after a warmup\n",
    "        period during which it increases linearly between 0 and 1.\n",
    "        \"\"\"\n",
    "\n",
    "        if step < warmup_steps:\n",
    "            lr = (lr_max - lr_start) / warmup_steps * step + lr_start\n",
    "        else:\n",
    "            progress = (step - warmup_steps) / (total_steps - warmup_steps)\n",
    "            lr = lr_max * (0.5 * (1.0 + tf.math.cos(np.pi * ((num_cycles * progress) % 1.0))))\n",
    "            if lr_min is not None:\n",
    "                lr = tf.math.maximum(lr_min, float(lr))\n",
    "        return lr\n",
    "    return cosine_with_hard_restarts_schedule_with_warmup_\n",
    "\n",
    "lrfn_fn = lrfn(total_steps, warmup_steps, lr_start, lr_max, lr_min, num_cycles)\n",
    "rng = [i for i in range(total_steps)]\n",
    "y = [lrfn_fn(tf.cast(x, tf.float32)) for x in rng]\n",
    "\n",
    "sns.set(style='whitegrid')\n",
    "fig, ax = plt.subplots(figsize=(20, 6))\n",
    "plt.plot(rng, y)\n",
    "\n",
    "print(f'{total_steps} total steps and {step_size} steps per epoch')\n",
    "print(f'Learning rate schedule: {y[0]:.3g} to {max(y):.3g} to {y[-1]:.3g}')"
   ]
  },
  {
   "cell_type": "markdown",
   "metadata": {
    "papermill": {
     "duration": 0.027159,
     "end_time": "2021-01-30T16:23:22.907364",
     "exception": false,
     "start_time": "2021-01-30T16:23:22.880205",
     "status": "completed"
    },
    "tags": []
   },
   "source": [
    "# Training"
   ]
  },
  {
   "cell_type": "code",
   "execution_count": 13,
   "metadata": {
    "_kg_hide-input": true,
    "_kg_hide-output": true,
    "execution": {
     "iopub.execute_input": "2021-01-30T16:23:23.004856Z",
     "iopub.status.busy": "2021-01-30T16:23:23.003949Z",
     "iopub.status.idle": "2021-01-30T17:32:22.185696Z",
     "shell.execute_reply": "2021-01-30T17:32:22.184524Z"
    },
    "papermill": {
     "duration": 4139.246889,
     "end_time": "2021-01-30T17:32:22.185841",
     "exception": false,
     "start_time": "2021-01-30T16:23:22.938952",
     "status": "completed"
    },
    "tags": []
   },
   "outputs": [
    {
     "name": "stdout",
     "output_type": "stream",
     "text": [
      "\n",
      "FOLD: 1\n",
      "TRAIN: [ 0  2  3  4  5  7  9 10 11 12 13 14] VALID: [1 6 8]\n",
      "Pre-training the encoder using \"Supervised Contrastive\" Loss\n",
      "Downloading data from https://github.com/qubvel/efficientnet/releases/download/v0.0.1/efficientnet-b5_noisy-student_notop.h5\n",
      "115261440/115255328 [==============================] - 2s 0us/step\n",
      "Training the classifier with the frozen encoder\n",
      "Model: \"model_1\"\n",
      "__________________________________________________________________________________________________\n",
      "Layer (type)                    Output Shape         Param #     Connected to                     \n",
      "==================================================================================================\n",
      "input_image (InputLayer)        [(None, None, None,  0                                            \n",
      "__________________________________________________________________________________________________\n",
      "model (Model)                   (None, 2048)         28513520    input_image[0][0]                \n",
      "__________________________________________________________________________________________________\n",
      "dropout (Dropout)               (None, 2048)         0           model[1][0]                      \n",
      "__________________________________________________________________________________________________\n",
      "output (Dense)                  (None, 5)            10245       dropout[0][0]                    \n",
      "__________________________________________________________________________________________________\n",
      "output_healthy (Dense)          (None, 1)            2049        dropout[0][0]                    \n",
      "__________________________________________________________________________________________________\n",
      "output_cmd (Dense)              (None, 1)            2049        dropout[0][0]                    \n",
      "==================================================================================================\n",
      "Total params: 28,527,863\n",
      "Trainable params: 28,355,127\n",
      "Non-trainable params: 172,736\n",
      "__________________________________________________________________________________________________\n",
      "Epoch 1/33\n",
      "267/267 - 171s - output_healthy_loss: 0.5978 - output_cmd_binary_accuracy: 0.6224 - output_cmd_loss: 0.6507 - output_categorical_accuracy: 0.5241 - output_healthy_binary_accuracy: 0.7128 - loss: 1.5426 - output_loss: 1.4177 - val_output_healthy_loss: 0.6167 - val_output_cmd_binary_accuracy: 0.7614 - val_output_cmd_loss: 0.5929 - val_output_categorical_accuracy: 0.7231 - val_output_healthy_binary_accuracy: 0.7055 - val_loss: 1.3857 - val_output_loss: 1.2648\n",
      "Epoch 2/33\n",
      "267/267 - 125s - output_healthy_loss: 0.3860 - output_cmd_binary_accuracy: 0.8517 - output_cmd_loss: 0.4540 - output_categorical_accuracy: 0.7616 - output_healthy_binary_accuracy: 0.8885 - loss: 1.2675 - output_loss: 1.1835 - val_output_healthy_loss: 0.3653 - val_output_cmd_binary_accuracy: 0.9299 - val_output_cmd_loss: 0.3332 - val_output_categorical_accuracy: 0.8486 - val_output_healthy_binary_accuracy: 0.9135 - val_loss: 1.1582 - val_output_loss: 1.0884\n",
      "Epoch 3/33\n",
      "267/267 - 116s - output_healthy_loss: 0.3453 - output_cmd_binary_accuracy: 0.9022 - output_cmd_loss: 0.3700 - output_categorical_accuracy: 0.8205 - output_healthy_binary_accuracy: 0.9051 - loss: 1.1860 - output_loss: 1.1144 - val_output_healthy_loss: 0.3271 - val_output_cmd_binary_accuracy: 0.9434 - val_output_cmd_loss: 0.3047 - val_output_categorical_accuracy: 0.8701 - val_output_healthy_binary_accuracy: 0.9304 - val_loss: 1.1145 - val_output_loss: 1.0513\n",
      "Epoch 4/33\n",
      "267/267 - 113s - output_healthy_loss: 0.3244 - output_cmd_binary_accuracy: 0.9233 - output_cmd_loss: 0.3353 - output_categorical_accuracy: 0.8523 - output_healthy_binary_accuracy: 0.9209 - loss: 1.1449 - output_loss: 1.0789 - val_output_healthy_loss: 0.3078 - val_output_cmd_binary_accuracy: 0.9502 - val_output_cmd_loss: 0.2914 - val_output_categorical_accuracy: 0.8794 - val_output_healthy_binary_accuracy: 0.9355 - val_loss: 1.0998 - val_output_loss: 1.0399\n",
      "Epoch 5/33\n",
      "267/267 - 112s - output_healthy_loss: 0.3168 - output_cmd_binary_accuracy: 0.9350 - output_cmd_loss: 0.3186 - output_categorical_accuracy: 0.8617 - output_healthy_binary_accuracy: 0.9276 - loss: 1.1274 - output_loss: 1.0639 - val_output_healthy_loss: 0.3010 - val_output_cmd_binary_accuracy: 0.9537 - val_output_cmd_loss: 0.2879 - val_output_categorical_accuracy: 0.8850 - val_output_healthy_binary_accuracy: 0.9362 - val_loss: 1.0891 - val_output_loss: 1.0302\n",
      "Epoch 6/33\n",
      "267/267 - 109s - output_healthy_loss: 0.3116 - output_cmd_binary_accuracy: 0.9410 - output_cmd_loss: 0.3075 - output_categorical_accuracy: 0.8730 - output_healthy_binary_accuracy: 0.9297 - loss: 1.1131 - output_loss: 1.0512 - val_output_healthy_loss: 0.2997 - val_output_cmd_binary_accuracy: 0.9533 - val_output_cmd_loss: 0.2892 - val_output_categorical_accuracy: 0.8883 - val_output_healthy_binary_accuracy: 0.9388 - val_loss: 1.0886 - val_output_loss: 1.0297\n",
      "Epoch 7/33\n",
      "267/267 - 108s - output_healthy_loss: 0.3063 - output_cmd_binary_accuracy: 0.9451 - output_cmd_loss: 0.3015 - output_categorical_accuracy: 0.8828 - output_healthy_binary_accuracy: 0.9343 - loss: 1.1020 - output_loss: 1.0412 - val_output_healthy_loss: 0.2981 - val_output_cmd_binary_accuracy: 0.9547 - val_output_cmd_loss: 0.2828 - val_output_categorical_accuracy: 0.8885 - val_output_healthy_binary_accuracy: 0.9385 - val_loss: 1.0819 - val_output_loss: 1.0238\n",
      "Epoch 8/33\n",
      "267/267 - 107s - output_healthy_loss: 0.3026 - output_cmd_binary_accuracy: 0.9474 - output_cmd_loss: 0.2966 - output_categorical_accuracy: 0.8855 - output_healthy_binary_accuracy: 0.9373 - loss: 1.0955 - output_loss: 1.0356 - val_output_healthy_loss: 0.2976 - val_output_cmd_binary_accuracy: 0.9547 - val_output_cmd_loss: 0.2823 - val_output_categorical_accuracy: 0.8892 - val_output_healthy_binary_accuracy: 0.9385 - val_loss: 1.0808 - val_output_loss: 1.0228\n",
      "Epoch 9/33\n",
      "267/267 - 112s - output_healthy_loss: 0.2993 - output_cmd_binary_accuracy: 0.9503 - output_cmd_loss: 0.2928 - output_categorical_accuracy: 0.8890 - output_healthy_binary_accuracy: 0.9367 - loss: 1.0875 - output_loss: 1.0283 - val_output_healthy_loss: 0.2959 - val_output_cmd_binary_accuracy: 0.9533 - val_output_cmd_loss: 0.2868 - val_output_categorical_accuracy: 0.8867 - val_output_healthy_binary_accuracy: 0.9383 - val_loss: 1.0830 - val_output_loss: 1.0247\n",
      "Epoch 10/33\n",
      "267/267 - 114s - output_healthy_loss: 0.2959 - output_cmd_binary_accuracy: 0.9498 - output_cmd_loss: 0.2890 - output_categorical_accuracy: 0.8920 - output_healthy_binary_accuracy: 0.9395 - loss: 1.0817 - output_loss: 1.0232 - val_output_healthy_loss: 0.2943 - val_output_cmd_binary_accuracy: 0.9547 - val_output_cmd_loss: 0.2831 - val_output_categorical_accuracy: 0.8899 - val_output_healthy_binary_accuracy: 0.9374 - val_loss: 1.0786 - val_output_loss: 1.0209\n",
      "Epoch 11/33\n",
      "267/267 - 112s - output_healthy_loss: 0.2950 - output_cmd_binary_accuracy: 0.9530 - output_cmd_loss: 0.2875 - output_categorical_accuracy: 0.8961 - output_healthy_binary_accuracy: 0.9414 - loss: 1.0787 - output_loss: 1.0205 - val_output_healthy_loss: 0.2947 - val_output_cmd_binary_accuracy: 0.9556 - val_output_cmd_loss: 0.2840 - val_output_categorical_accuracy: 0.8911 - val_output_healthy_binary_accuracy: 0.9381 - val_loss: 1.0792 - val_output_loss: 1.0213\n",
      "Epoch 12/33\n",
      "267/267 - 111s - output_healthy_loss: 0.2921 - output_cmd_binary_accuracy: 0.9543 - output_cmd_loss: 0.2851 - output_categorical_accuracy: 0.8965 - output_healthy_binary_accuracy: 0.9438 - loss: 1.0748 - output_loss: 1.0171 - val_output_healthy_loss: 0.2952 - val_output_cmd_binary_accuracy: 0.9551 - val_output_cmd_loss: 0.2844 - val_output_categorical_accuracy: 0.8899 - val_output_healthy_binary_accuracy: 0.9381 - val_loss: 1.0797 - val_output_loss: 1.0218\n",
      "Epoch 13/33\n",
      "267/267 - 106s - output_healthy_loss: 0.2920 - output_cmd_binary_accuracy: 0.9546 - output_cmd_loss: 0.2840 - output_categorical_accuracy: 0.8990 - output_healthy_binary_accuracy: 0.9424 - loss: 1.0734 - output_loss: 1.0158 - val_output_healthy_loss: 0.2948 - val_output_cmd_binary_accuracy: 0.9551 - val_output_cmd_loss: 0.2842 - val_output_categorical_accuracy: 0.8906 - val_output_healthy_binary_accuracy: 0.9378 - val_loss: 1.0794 - val_output_loss: 1.0215\n",
      "Epoch 14/33\n",
      "267/267 - 106s - output_healthy_loss: 0.2982 - output_cmd_binary_accuracy: 0.9507 - output_cmd_loss: 0.2910 - output_categorical_accuracy: 0.8906 - output_healthy_binary_accuracy: 0.9385 - loss: 1.0859 - output_loss: 1.0270 - val_output_healthy_loss: 0.2949 - val_output_cmd_binary_accuracy: 0.9563 - val_output_cmd_loss: 0.2816 - val_output_categorical_accuracy: 0.8881 - val_output_healthy_binary_accuracy: 0.9385 - val_loss: 1.0788 - val_output_loss: 1.0212\n",
      "Epoch 15/33\n",
      "267/267 - 107s - output_healthy_loss: 0.2941 - output_cmd_binary_accuracy: 0.9518 - output_cmd_loss: 0.2895 - output_categorical_accuracy: 0.8943 - output_healthy_binary_accuracy: 0.9415 - loss: 1.0831 - output_loss: 1.0247 - val_output_healthy_loss: 0.2948 - val_output_cmd_binary_accuracy: 0.9542 - val_output_cmd_loss: 0.2890 - val_output_categorical_accuracy: 0.8864 - val_output_healthy_binary_accuracy: 0.9381 - val_loss: 1.0825 - val_output_loss: 1.0241\n",
      "Epoch 16/33\n",
      "267/267 - 111s - output_healthy_loss: 0.2919 - output_cmd_binary_accuracy: 0.9548 - output_cmd_loss: 0.2849 - output_categorical_accuracy: 0.8969 - output_healthy_binary_accuracy: 0.9431 - loss: 1.0767 - output_loss: 1.0190 - val_output_healthy_loss: 0.2949 - val_output_cmd_binary_accuracy: 0.9535 - val_output_cmd_loss: 0.2891 - val_output_categorical_accuracy: 0.8862 - val_output_healthy_binary_accuracy: 0.9397 - val_loss: 1.0820 - val_output_loss: 1.0236\n",
      "Epoch 17/33\n",
      "267/267 - 109s - output_healthy_loss: 0.2879 - output_cmd_binary_accuracy: 0.9572 - output_cmd_loss: 0.2795 - output_categorical_accuracy: 0.9022 - output_healthy_binary_accuracy: 0.9460 - loss: 1.0679 - output_loss: 1.0111 - val_output_healthy_loss: 0.2954 - val_output_cmd_binary_accuracy: 0.9568 - val_output_cmd_loss: 0.2820 - val_output_categorical_accuracy: 0.8888 - val_output_healthy_binary_accuracy: 0.9367 - val_loss: 1.0773 - val_output_loss: 1.0196\n",
      "Epoch 18/33\n",
      "267/267 - 109s - output_healthy_loss: 0.2828 - output_cmd_binary_accuracy: 0.9599 - output_cmd_loss: 0.2757 - output_categorical_accuracy: 0.9084 - output_healthy_binary_accuracy: 0.9508 - loss: 1.0614 - output_loss: 1.0055 - val_output_healthy_loss: 0.2947 - val_output_cmd_binary_accuracy: 0.9500 - val_output_cmd_loss: 0.2916 - val_output_categorical_accuracy: 0.8860 - val_output_healthy_binary_accuracy: 0.9378 - val_loss: 1.0827 - val_output_loss: 1.0241\n",
      "Epoch 19/33\n",
      "267/267 - 106s - output_healthy_loss: 0.2818 - output_cmd_binary_accuracy: 0.9601 - output_cmd_loss: 0.2749 - output_categorical_accuracy: 0.9111 - output_healthy_binary_accuracy: 0.9500 - loss: 1.0579 - output_loss: 1.0022 - val_output_healthy_loss: 0.2954 - val_output_cmd_binary_accuracy: 0.9519 - val_output_cmd_loss: 0.2881 - val_output_categorical_accuracy: 0.8841 - val_output_healthy_binary_accuracy: 0.9374 - val_loss: 1.0809 - val_output_loss: 1.0225\n",
      "Epoch 20/33\n",
      "267/267 - 105s - output_healthy_loss: 0.2786 - output_cmd_binary_accuracy: 0.9603 - output_cmd_loss: 0.2722 - output_categorical_accuracy: 0.9133 - output_healthy_binary_accuracy: 0.9520 - loss: 1.0528 - output_loss: 0.9978 - val_output_healthy_loss: 0.2959 - val_output_cmd_binary_accuracy: 0.9549 - val_output_cmd_loss: 0.2846 - val_output_categorical_accuracy: 0.8897 - val_output_healthy_binary_accuracy: 0.9388 - val_loss: 1.0793 - val_output_loss: 1.0212\n",
      "Epoch 21/33\n",
      "267/267 - 112s - output_healthy_loss: 0.2779 - output_cmd_binary_accuracy: 0.9619 - output_cmd_loss: 0.2701 - output_categorical_accuracy: 0.9187 - output_healthy_binary_accuracy: 0.9527 - loss: 1.0483 - output_loss: 0.9934 - val_output_healthy_loss: 0.2958 - val_output_cmd_binary_accuracy: 0.9556 - val_output_cmd_loss: 0.2823 - val_output_categorical_accuracy: 0.8897 - val_output_healthy_binary_accuracy: 0.9385 - val_loss: 1.0776 - val_output_loss: 1.0198\n",
      "Epoch 22/33\n",
      "267/267 - 113s - output_healthy_loss: 0.2767 - output_cmd_binary_accuracy: 0.9605 - output_cmd_loss: 0.2708 - output_categorical_accuracy: 0.9160 - output_healthy_binary_accuracy: 0.9520 - loss: 1.0489 - output_loss: 0.9941 - val_output_healthy_loss: 0.2956 - val_output_cmd_binary_accuracy: 0.9551 - val_output_cmd_loss: 0.2835 - val_output_categorical_accuracy: 0.8909 - val_output_healthy_binary_accuracy: 0.9388 - val_loss: 1.0783 - val_output_loss: 1.0203\n",
      "Epoch 23/33\n",
      "267/267 - 109s - output_healthy_loss: 0.2744 - output_cmd_binary_accuracy: 0.9642 - output_cmd_loss: 0.2665 - output_categorical_accuracy: 0.9182 - output_healthy_binary_accuracy: 0.9558 - loss: 1.0437 - output_loss: 0.9896 - val_output_healthy_loss: 0.2956 - val_output_cmd_binary_accuracy: 0.9554 - val_output_cmd_loss: 0.2836 - val_output_categorical_accuracy: 0.8906 - val_output_healthy_binary_accuracy: 0.9385 - val_loss: 1.0782 - val_output_loss: 1.0203\n",
      "Epoch 24/33\n",
      "267/267 - 106s - output_healthy_loss: 0.2791 - output_cmd_binary_accuracy: 0.9604 - output_cmd_loss: 0.2745 - output_categorical_accuracy: 0.9120 - output_healthy_binary_accuracy: 0.9530 - loss: 1.0567 - output_loss: 1.0014 - val_output_healthy_loss: 0.2970 - val_output_cmd_binary_accuracy: 0.9533 - val_output_cmd_loss: 0.2845 - val_output_categorical_accuracy: 0.8860 - val_output_healthy_binary_accuracy: 0.9374 - val_loss: 1.0832 - val_output_loss: 1.0250\n",
      "Epoch 25/33\n",
      "267/267 - 106s - output_healthy_loss: 0.2785 - output_cmd_binary_accuracy: 0.9592 - output_cmd_loss: 0.2729 - output_categorical_accuracy: 0.9112 - output_healthy_binary_accuracy: 0.9526 - loss: 1.0558 - output_loss: 1.0007 - val_output_healthy_loss: 0.2999 - val_output_cmd_binary_accuracy: 0.9537 - val_output_cmd_loss: 0.2853 - val_output_categorical_accuracy: 0.8864 - val_output_healthy_binary_accuracy: 0.9381 - val_loss: 1.0823 - val_output_loss: 1.0238\n",
      "Epoch 26/33\n",
      "267/267 - 113s - output_healthy_loss: 0.2756 - output_cmd_binary_accuracy: 0.9622 - output_cmd_loss: 0.2695 - output_categorical_accuracy: 0.9144 - output_healthy_binary_accuracy: 0.9549 - loss: 1.0503 - output_loss: 0.9958 - val_output_healthy_loss: 0.2970 - val_output_cmd_binary_accuracy: 0.9535 - val_output_cmd_loss: 0.2834 - val_output_categorical_accuracy: 0.8916 - val_output_healthy_binary_accuracy: 0.9399 - val_loss: 1.0817 - val_output_loss: 1.0237\n",
      "Epoch 27/33\n",
      "267/267 - 111s - output_healthy_loss: 0.2754 - output_cmd_binary_accuracy: 0.9631 - output_cmd_loss: 0.2687 - output_categorical_accuracy: 0.9186 - output_healthy_binary_accuracy: 0.9545 - loss: 1.0470 - output_loss: 0.9926 - val_output_healthy_loss: 0.2988 - val_output_cmd_binary_accuracy: 0.9549 - val_output_cmd_loss: 0.2857 - val_output_categorical_accuracy: 0.8862 - val_output_healthy_binary_accuracy: 0.9381 - val_loss: 1.0835 - val_output_loss: 1.0250\n",
      "Epoch 28/33\n",
      "267/267 - 110s - output_healthy_loss: 0.2698 - output_cmd_binary_accuracy: 0.9651 - output_cmd_loss: 0.2659 - output_categorical_accuracy: 0.9219 - output_healthy_binary_accuracy: 0.9583 - loss: 1.0401 - output_loss: 0.9866 - val_output_healthy_loss: 0.3036 - val_output_cmd_binary_accuracy: 0.9535 - val_output_cmd_loss: 0.2863 - val_output_categorical_accuracy: 0.8827 - val_output_healthy_binary_accuracy: 0.9353 - val_loss: 1.0862 - val_output_loss: 1.0272\n",
      "Epoch 29/33\n",
      "267/267 - 107s - output_healthy_loss: 0.2663 - output_cmd_binary_accuracy: 0.9651 - output_cmd_loss: 0.2620 - output_categorical_accuracy: 0.9256 - output_healthy_binary_accuracy: 0.9600 - loss: 1.0342 - output_loss: 0.9813 - val_output_healthy_loss: 0.3017 - val_output_cmd_binary_accuracy: 0.9486 - val_output_cmd_loss: 0.2898 - val_output_categorical_accuracy: 0.8806 - val_output_healthy_binary_accuracy: 0.9388 - val_loss: 1.0880 - val_output_loss: 1.0288\n",
      "Epoch 30/33\n",
      "267/267 - 107s - output_healthy_loss: 0.2650 - output_cmd_binary_accuracy: 0.9680 - output_cmd_loss: 0.2605 - output_categorical_accuracy: 0.9309 - output_healthy_binary_accuracy: 0.9618 - loss: 1.0295 - output_loss: 0.9770 - val_output_healthy_loss: 0.3033 - val_output_cmd_binary_accuracy: 0.9535 - val_output_cmd_loss: 0.2873 - val_output_categorical_accuracy: 0.8815 - val_output_healthy_binary_accuracy: 0.9378 - val_loss: 1.0869 - val_output_loss: 1.0278\n",
      "Epoch 31/33\n",
      "267/267 - 106s - output_healthy_loss: 0.2634 - output_cmd_binary_accuracy: 0.9683 - output_cmd_loss: 0.2584 - output_categorical_accuracy: 0.9326 - output_healthy_binary_accuracy: 0.9622 - loss: 1.0269 - output_loss: 0.9748 - val_output_healthy_loss: 0.3017 - val_output_cmd_binary_accuracy: 0.9537 - val_output_cmd_loss: 0.2857 - val_output_categorical_accuracy: 0.8843 - val_output_healthy_binary_accuracy: 0.9390 - val_loss: 1.0849 - val_output_loss: 1.0261\n",
      "Epoch 32/33\n",
      "267/267 - 110s - output_healthy_loss: 0.2606 - output_cmd_binary_accuracy: 0.9683 - output_cmd_loss: 0.2593 - output_categorical_accuracy: 0.9346 - output_healthy_binary_accuracy: 0.9655 - loss: 1.0253 - output_loss: 0.9733 - val_output_healthy_loss: 0.3027 - val_output_cmd_binary_accuracy: 0.9542 - val_output_cmd_loss: 0.2851 - val_output_categorical_accuracy: 0.8843 - val_output_healthy_binary_accuracy: 0.9383 - val_loss: 1.0849 - val_output_loss: 1.0262\n",
      "Epoch 33/33\n",
      "267/267 - 110s - output_healthy_loss: 0.2623 - output_cmd_binary_accuracy: 0.9688 - output_cmd_loss: 0.2590 - output_categorical_accuracy: 0.9343 - output_healthy_binary_accuracy: 0.9633 - loss: 1.0245 - output_loss: 0.9723 - val_output_healthy_loss: 0.3025 - val_output_cmd_binary_accuracy: 0.9533 - val_output_cmd_loss: 0.2857 - val_output_categorical_accuracy: 0.8841 - val_output_healthy_binary_accuracy: 0.9383 - val_loss: 1.0853 - val_output_loss: 1.0264\n",
      "#### FOLD 1 OOF Accuracy = 0.892\n"
     ]
    }
   ],
   "source": [
    "skf = KFold(n_splits=N_FOLDS, shuffle=True, random_state=seed)\n",
    "oof_pred = []; oof_labels = []; oof_names = []; oof_folds = []; history_list = []; oof_embed = []\n",
    "\n",
    "for fold,(idxT, idxV) in enumerate(skf.split(np.arange(15))):\n",
    "    if fold >= FOLDS_USED:\n",
    "        break\n",
    "    if tpu: tf.tpu.experimental.initialize_tpu_system(tpu)\n",
    "    K.clear_session()\n",
    "    print(f'\\nFOLD: {fold+1}')\n",
    "    print(f'TRAIN: {idxT} VALID: {idxV}')\n",
    "\n",
    "    # Create train and validation sets\n",
    "    TRAIN_FILENAMES = tf.io.gfile.glob([GCS_PATH + '/Id_train%.2i*.tfrec' % x for x in idxT])\n",
    "#     FILENAMES_COMP_CBB = tf.io.gfile.glob([GCS_PATH_CLASSES + '/CBB%.2i*.tfrec' % x for x in idxT])\n",
    "#     FILENAMES_COMP_CBSD = tf.io.gfile.glob([GCS_PATH_CLASSES + '/CBSD%.2i*.tfrec' % x for x in idxT])\n",
    "#     FILENAMES_COMP_CGM = tf.io.gfile.glob([GCS_PATH_CLASSES + '/CGM%.2i*.tfrec' % x for x in idxT])\n",
    "#     FILENAMES_COMP_Healthy = tf.io.gfile.glob([GCS_PATH_CLASSES + '/Healthy%.2i*.tfrec' % x for x in idxT])    \n",
    "    np.random.shuffle(TRAIN_FILENAMES)\n",
    "    \n",
    "    VALID_FILENAMES = tf.io.gfile.glob([GCS_PATH + '/Id_train%.2i*.tfrec' % x for x in idxV])\n",
    "    \n",
    "    ct_train = count_data_items(TRAIN_FILENAMES)\n",
    "    ct_valid = count_data_items(VALID_FILENAMES)\n",
    "    \n",
    "    step_size = (ct_train // BATCH_SIZE)\n",
    "    warmup_steps = (warmup_epochs * step_size)\n",
    "    total_steps = (total_epochs * step_size)\n",
    "#     total_steps_cl = (EPOCHS_CL * step_size)\n",
    "#     warmup_steps_cl = 1\n",
    "    \n",
    "    \n",
    "    ### Pre-train the encoder\n",
    "    print('Pre-training the encoder using \"Supervised Contrastive\" Loss')\n",
    "    with strategy.scope():\n",
    "        encoder = encoder_fn((None, None, CHANNELS))\n",
    "#         encoder_proj = add_projection_head((None, None, CHANNELS), encoder)\n",
    "#         encoder_proj.summary()\n",
    "\n",
    "#         lrfn_fn = lrfn(total_steps, warmup_steps, lr_start, lr_max, lr_min, num_cycles)\n",
    "#         optimizer = optimizers.SGD(learning_rate=lambda: lrfn_fn(tf.cast(optimizer.iterations, tf.float32)), \n",
    "#                                    momentum=0.95, nesterov=True)\n",
    "#         optimizer = optimizers.Adam(learning_rate=lambda: lrfn_fn(tf.cast(optimizer.iterations, tf.float32)))\n",
    "#         encoder_proj.compile(optimizer=optimizer, \n",
    "#                              loss=SupervisedContrastiveLoss(temperature))\n",
    "        \n",
    "#     history_enc = encoder_proj.fit(x=get_dataset(TRAIN_FILENAMES, repeated=True, augment=True), \n",
    "#                                    validation_data=get_dataset(VALID_FILENAMES, ordered=True), \n",
    "#                                    steps_per_epoch=step_size, \n",
    "#                                    batch_size=BATCH_SIZE, \n",
    "#                                    epochs=EPOCHS,\n",
    "#                                    verbose=2).history\n",
    "\n",
    "    \n",
    "    ### Train the classifier with the frozen encoder\n",
    "    print('Training the classifier with the frozen encoder')\n",
    "    \n",
    "    with strategy.scope():\n",
    "#         model = classifier_fn((None, None, CHANNELS), N_CLASSES, encoder, trainable=False)\n",
    "        model = classifier_fn((None, None, CHANNELS), N_CLASSES, encoder, trainable=True)\n",
    "#         model = model_fn((None, None, CHANNELS), N_CLASSES)\n",
    "        model.summary()\n",
    "\n",
    "#         lrfn_fn = lrfn(total_steps_cl, warmup_steps_cl, lr_start, lr_max, lr_min, num_cycles)\n",
    "        lrfn_fn = lrfn(total_steps, warmup_steps, lr_start, lr_max, lr_min, num_cycles)\n",
    "#         optimizer = optimizers.SGD(learning_rate=lambda: lrfn_fn(tf.cast(optimizer.iterations, tf.float32)), \n",
    "#                                    momentum=0.95, nesterov=True)\n",
    "        optimizer = optimizers.Adam(learning_rate=lambda: lrfn_fn(tf.cast(optimizer.iterations, tf.float32)))\n",
    "        model.compile(optimizer=optimizer, \n",
    "                      loss={'output': losses.CategoricalCrossentropy(label_smoothing=.3), \n",
    "                            'output_healthy': losses.BinaryCrossentropy(label_smoothing=.1), \n",
    "                            'output_cmd': losses.BinaryCrossentropy(label_smoothing=.1)\n",
    "                           },\n",
    "                      loss_weights={'output': 1., \n",
    "                                    'output_healthy': .1, \n",
    "                                    'output_cmd': .1}, \n",
    "                      metrics={'output': metrics.CategoricalAccuracy(), \n",
    "                               'output_healthy': metrics.BinaryAccuracy(), \n",
    "                               'output_cmd': metrics.BinaryAccuracy()\n",
    "                              })\n",
    "    \n",
    "    model_path = f'model_{fold}.h5'\n",
    "    chkpt = ModelCheckpoint(model_path, mode='max', \n",
    "                            monitor='val_output_categorical_accuracy', \n",
    "                            save_best_only=True, save_weights_only=True)\n",
    "    \n",
    "    history = model.fit(x=get_dataset(TRAIN_FILENAMES, repeated=True, augment=True), \n",
    "                        validation_data=get_dataset(VALID_FILENAMES, ordered=True), \n",
    "                        steps_per_epoch=step_size, \n",
    "                        callbacks=[chkpt], \n",
    "#                         epochs=EPOCHS_CL, \n",
    "                        epochs=EPOCHS, \n",
    "                        verbose=2).history\n",
    "    \n",
    "    \n",
    "    ### RESULTS\n",
    "    print(f\"#### FOLD {fold+1} OOF Accuracy = {np.max(history['val_output_categorical_accuracy']):.3f}\")\n",
    "    \n",
    "    history_list.append(history)\n",
    "    # Load best model weights\n",
    "    model.load_weights(model_path)\n",
    "\n",
    "    # OOF predictions\n",
    "    ds_valid = get_dataset(VALID_FILENAMES, ordered=True)\n",
    "    oof_folds.append(np.full((ct_valid), fold, dtype='int8'))\n",
    "    oof_labels.append([target[0].numpy() for img, target in iter(ds_valid.unbatch())])\n",
    "    x_oof = ds_valid.map(lambda image, target: image)\n",
    "    oof_pred.append(np.argmax(model.predict(x_oof)[0], axis=-1))\n",
    "    # OOF names\n",
    "    ds_valid_names = get_dataset(VALID_FILENAMES, labeled=False, ordered=True)\n",
    "    oof_names.append(np.array([img_name.numpy().decode('utf-8') for img, img_name in iter(ds_valid_names.unbatch())]))\n",
    "    oof_embed.append(encoder.predict(x_oof)) # OOF embeddings"
   ]
  },
  {
   "cell_type": "markdown",
   "metadata": {
    "papermill": {
     "duration": 0.061396,
     "end_time": "2021-01-30T17:32:22.306772",
     "exception": false,
     "start_time": "2021-01-30T17:32:22.245376",
     "status": "completed"
    },
    "tags": []
   },
   "source": [
    "## Model loss graph"
   ]
  },
  {
   "cell_type": "code",
   "execution_count": 14,
   "metadata": {
    "_kg_hide-input": true,
    "execution": {
     "iopub.execute_input": "2021-01-30T17:32:22.488346Z",
     "iopub.status.busy": "2021-01-30T17:32:22.487251Z",
     "iopub.status.idle": "2021-01-30T17:32:23.410334Z",
     "shell.execute_reply": "2021-01-30T17:32:23.409765Z"
    },
    "papermill": {
     "duration": 0.989406,
     "end_time": "2021-01-30T17:32:23.410467",
     "exception": false,
     "start_time": "2021-01-30T17:32:22.421061",
     "status": "completed"
    },
    "tags": []
   },
   "outputs": [
    {
     "name": "stdout",
     "output_type": "stream",
     "text": [
      "\n",
      "FOLD: 1\n"
     ]
    },
    {
     "ename": "KeyError",
     "evalue": "'output_sparse_categorical_accuracy'",
     "output_type": "error",
     "traceback": [
      "\u001b[0;31m---------------------------------------------------------------------------\u001b[0m",
      "\u001b[0;31mKeyError\u001b[0m                                  Traceback (most recent call last)",
      "\u001b[0;32m<ipython-input-14-2433a03fbd06>\u001b[0m in \u001b[0;36m<module>\u001b[0;34m\u001b[0m\n\u001b[1;32m      1\u001b[0m \u001b[0;32mfor\u001b[0m \u001b[0mfold\u001b[0m\u001b[0;34m,\u001b[0m \u001b[0mhistory\u001b[0m \u001b[0;32min\u001b[0m \u001b[0menumerate\u001b[0m\u001b[0;34m(\u001b[0m\u001b[0mhistory_list\u001b[0m\u001b[0;34m)\u001b[0m\u001b[0;34m:\u001b[0m\u001b[0;34m\u001b[0m\u001b[0;34m\u001b[0m\u001b[0m\n\u001b[1;32m      2\u001b[0m     \u001b[0mprint\u001b[0m\u001b[0;34m(\u001b[0m\u001b[0;34mf'\\nFOLD: {fold+1}'\u001b[0m\u001b[0;34m)\u001b[0m\u001b[0;34m\u001b[0m\u001b[0;34m\u001b[0m\u001b[0m\n\u001b[0;32m----> 3\u001b[0;31m     \u001b[0mplot_metrics\u001b[0m\u001b[0;34m(\u001b[0m\u001b[0mhistory\u001b[0m\u001b[0;34m,\u001b[0m \u001b[0macc_name\u001b[0m\u001b[0;34m=\u001b[0m\u001b[0;34m'output_sparse_categorical_accuracy'\u001b[0m\u001b[0;34m)\u001b[0m\u001b[0;34m\u001b[0m\u001b[0;34m\u001b[0m\u001b[0m\n\u001b[0m",
      "\u001b[0;32m/kaggle/usr/lib/cassava_scripts/cassava_scripts.py\u001b[0m in \u001b[0;36mplot_metrics\u001b[0;34m(history, acc_name)\u001b[0m\n\u001b[1;32m    276\u001b[0m     \u001b[0maxes\u001b[0m\u001b[0;34m[\u001b[0m\u001b[0;36m0\u001b[0m\u001b[0;34m]\u001b[0m\u001b[0;34m.\u001b[0m\u001b[0maxvline\u001b[0m\u001b[0;34m(\u001b[0m\u001b[0mnp\u001b[0m\u001b[0;34m.\u001b[0m\u001b[0margmin\u001b[0m\u001b[0;34m(\u001b[0m\u001b[0mhistory\u001b[0m\u001b[0;34m[\u001b[0m\u001b[0;34m'val_loss'\u001b[0m\u001b[0;34m]\u001b[0m\u001b[0;34m)\u001b[0m\u001b[0;34m,\u001b[0m \u001b[0mlinestyle\u001b[0m\u001b[0;34m=\u001b[0m\u001b[0;34m'dashed'\u001b[0m\u001b[0;34m,\u001b[0m \u001b[0mcolor\u001b[0m\u001b[0;34m=\u001b[0m\u001b[0;34m'orange'\u001b[0m\u001b[0;34m)\u001b[0m\u001b[0;34m\u001b[0m\u001b[0;34m\u001b[0m\u001b[0m\n\u001b[1;32m    277\u001b[0m \u001b[0;34m\u001b[0m\u001b[0m\n\u001b[0;32m--> 278\u001b[0;31m     \u001b[0maxes\u001b[0m\u001b[0;34m[\u001b[0m\u001b[0;36m1\u001b[0m\u001b[0;34m]\u001b[0m\u001b[0;34m.\u001b[0m\u001b[0mplot\u001b[0m\u001b[0;34m(\u001b[0m\u001b[0mhistory\u001b[0m\u001b[0;34m[\u001b[0m\u001b[0macc_name\u001b[0m\u001b[0;34m]\u001b[0m\u001b[0;34m,\u001b[0m \u001b[0mlabel\u001b[0m\u001b[0;34m=\u001b[0m\u001b[0;34m'Train accuracy'\u001b[0m\u001b[0;34m)\u001b[0m\u001b[0;34m\u001b[0m\u001b[0;34m\u001b[0m\u001b[0m\n\u001b[0m\u001b[1;32m    279\u001b[0m     \u001b[0maxes\u001b[0m\u001b[0;34m[\u001b[0m\u001b[0;36m1\u001b[0m\u001b[0;34m]\u001b[0m\u001b[0;34m.\u001b[0m\u001b[0mplot\u001b[0m\u001b[0;34m(\u001b[0m\u001b[0mhistory\u001b[0m\u001b[0;34m[\u001b[0m\u001b[0;34mf'val_{acc_name}'\u001b[0m\u001b[0;34m]\u001b[0m\u001b[0;34m,\u001b[0m \u001b[0mlabel\u001b[0m\u001b[0;34m=\u001b[0m\u001b[0;34m'Validation accuracy'\u001b[0m\u001b[0;34m)\u001b[0m\u001b[0;34m\u001b[0m\u001b[0;34m\u001b[0m\u001b[0m\n\u001b[1;32m    280\u001b[0m     \u001b[0maxes\u001b[0m\u001b[0;34m[\u001b[0m\u001b[0;36m1\u001b[0m\u001b[0;34m]\u001b[0m\u001b[0;34m.\u001b[0m\u001b[0mlegend\u001b[0m\u001b[0;34m(\u001b[0m\u001b[0mloc\u001b[0m\u001b[0;34m=\u001b[0m\u001b[0;34m'best'\u001b[0m\u001b[0;34m,\u001b[0m \u001b[0mfontsize\u001b[0m\u001b[0;34m=\u001b[0m\u001b[0;36m16\u001b[0m\u001b[0;34m)\u001b[0m\u001b[0;34m\u001b[0m\u001b[0;34m\u001b[0m\u001b[0m\n",
      "\u001b[0;31mKeyError\u001b[0m: 'output_sparse_categorical_accuracy'"
     ]
    },
    {
     "data": {
      "image/png": "[encoded data removed]",
      "text/plain": [
       "<Figure size 1440x576 with 2 Axes>"
      ]
     },
     "metadata": {},
     "output_type": "display_data"
    }
   ],
   "source": [
    "for fold, history in enumerate(history_list):\n",
    "    print(f'\\nFOLD: {fold+1}')\n",
    "    plot_metrics(history, acc_name='output_sparse_categorical_accuracy')"
   ]
  },
  {
   "cell_type": "markdown",
   "metadata": {
    "papermill": {
     "duration": 0.061266,
     "end_time": "2021-01-30T17:32:23.534875",
     "exception": false,
     "start_time": "2021-01-30T17:32:23.473609",
     "status": "completed"
    },
    "tags": []
   },
   "source": [
    "# Model evaluation"
   ]
  },
  {
   "cell_type": "code",
   "execution_count": 15,
   "metadata": {
    "_kg_hide-input": true,
    "execution": {
     "iopub.execute_input": "2021-01-30T17:32:23.667481Z",
     "iopub.status.busy": "2021-01-30T17:32:23.666783Z",
     "iopub.status.idle": "2021-01-30T17:32:23.714027Z",
     "shell.execute_reply": "2021-01-30T17:32:23.713453Z"
    },
    "papermill": {
     "duration": 0.117711,
     "end_time": "2021-01-30T17:32:23.714158",
     "exception": false,
     "start_time": "2021-01-30T17:32:23.596447",
     "status": "completed"
    },
    "tags": []
   },
   "outputs": [
    {
     "ename": "ValueError",
     "evalue": "Classification metrics can't handle a mix of multilabel-indicator and multiclass targets",
     "output_type": "error",
     "traceback": [
      "\u001b[0;31m---------------------------------------------------------------------------\u001b[0m",
      "\u001b[0;31mValueError\u001b[0m                                Traceback (most recent call last)",
      "\u001b[0;32m<ipython-input-15-b9fb595f7630>\u001b[0m in \u001b[0;36m<module>\u001b[0;34m\u001b[0m\n\u001b[1;32m      4\u001b[0m \u001b[0mnames\u001b[0m \u001b[0;34m=\u001b[0m \u001b[0mnp\u001b[0m\u001b[0;34m.\u001b[0m\u001b[0mconcatenate\u001b[0m\u001b[0;34m(\u001b[0m\u001b[0moof_names\u001b[0m\u001b[0;34m)\u001b[0m\u001b[0;34m\u001b[0m\u001b[0;34m\u001b[0m\u001b[0m\n\u001b[1;32m      5\u001b[0m \u001b[0;34m\u001b[0m\u001b[0m\n\u001b[0;32m----> 6\u001b[0;31m \u001b[0macc\u001b[0m \u001b[0;34m=\u001b[0m \u001b[0maccuracy_score\u001b[0m\u001b[0;34m(\u001b[0m\u001b[0my_true\u001b[0m\u001b[0;34m,\u001b[0m \u001b[0my_pred\u001b[0m\u001b[0;34m)\u001b[0m\u001b[0;34m\u001b[0m\u001b[0;34m\u001b[0m\u001b[0m\n\u001b[0m\u001b[1;32m      7\u001b[0m \u001b[0mprint\u001b[0m\u001b[0;34m(\u001b[0m\u001b[0;34mf'Overall OOF Accuracy = {acc:.3f}'\u001b[0m\u001b[0;34m)\u001b[0m\u001b[0;34m\u001b[0m\u001b[0;34m\u001b[0m\u001b[0m\n\u001b[1;32m      8\u001b[0m \u001b[0;34m\u001b[0m\u001b[0m\n",
      "\u001b[0;32m/opt/conda/lib/python3.7/site-packages/sklearn/utils/validation.py\u001b[0m in \u001b[0;36minner_f\u001b[0;34m(*args, **kwargs)\u001b[0m\n\u001b[1;32m     71\u001b[0m                           FutureWarning)\n\u001b[1;32m     72\u001b[0m         \u001b[0mkwargs\u001b[0m\u001b[0;34m.\u001b[0m\u001b[0mupdate\u001b[0m\u001b[0;34m(\u001b[0m\u001b[0;34m{\u001b[0m\u001b[0mk\u001b[0m\u001b[0;34m:\u001b[0m \u001b[0marg\u001b[0m \u001b[0;32mfor\u001b[0m \u001b[0mk\u001b[0m\u001b[0;34m,\u001b[0m \u001b[0marg\u001b[0m \u001b[0;32min\u001b[0m \u001b[0mzip\u001b[0m\u001b[0;34m(\u001b[0m\u001b[0msig\u001b[0m\u001b[0;34m.\u001b[0m\u001b[0mparameters\u001b[0m\u001b[0;34m,\u001b[0m \u001b[0margs\u001b[0m\u001b[0;34m)\u001b[0m\u001b[0;34m}\u001b[0m\u001b[0;34m)\u001b[0m\u001b[0;34m\u001b[0m\u001b[0;34m\u001b[0m\u001b[0m\n\u001b[0;32m---> 73\u001b[0;31m         \u001b[0;32mreturn\u001b[0m \u001b[0mf\u001b[0m\u001b[0;34m(\u001b[0m\u001b[0;34m**\u001b[0m\u001b[0mkwargs\u001b[0m\u001b[0;34m)\u001b[0m\u001b[0;34m\u001b[0m\u001b[0;34m\u001b[0m\u001b[0m\n\u001b[0m\u001b[1;32m     74\u001b[0m     \u001b[0;32mreturn\u001b[0m \u001b[0minner_f\u001b[0m\u001b[0;34m\u001b[0m\u001b[0;34m\u001b[0m\u001b[0m\n\u001b[1;32m     75\u001b[0m \u001b[0;34m\u001b[0m\u001b[0m\n",
      "\u001b[0;32m/opt/conda/lib/python3.7/site-packages/sklearn/metrics/_classification.py\u001b[0m in \u001b[0;36maccuracy_score\u001b[0;34m(y_true, y_pred, normalize, sample_weight)\u001b[0m\n\u001b[1;32m    185\u001b[0m \u001b[0;34m\u001b[0m\u001b[0m\n\u001b[1;32m    186\u001b[0m     \u001b[0;31m# Compute accuracy for each possible representation\u001b[0m\u001b[0;34m\u001b[0m\u001b[0;34m\u001b[0m\u001b[0;34m\u001b[0m\u001b[0m\n\u001b[0;32m--> 187\u001b[0;31m     \u001b[0my_type\u001b[0m\u001b[0;34m,\u001b[0m \u001b[0my_true\u001b[0m\u001b[0;34m,\u001b[0m \u001b[0my_pred\u001b[0m \u001b[0;34m=\u001b[0m \u001b[0m_check_targets\u001b[0m\u001b[0;34m(\u001b[0m\u001b[0my_true\u001b[0m\u001b[0;34m,\u001b[0m \u001b[0my_pred\u001b[0m\u001b[0;34m)\u001b[0m\u001b[0;34m\u001b[0m\u001b[0;34m\u001b[0m\u001b[0m\n\u001b[0m\u001b[1;32m    188\u001b[0m     \u001b[0mcheck_consistent_length\u001b[0m\u001b[0;34m(\u001b[0m\u001b[0my_true\u001b[0m\u001b[0;34m,\u001b[0m \u001b[0my_pred\u001b[0m\u001b[0;34m,\u001b[0m \u001b[0msample_weight\u001b[0m\u001b[0;34m)\u001b[0m\u001b[0;34m\u001b[0m\u001b[0;34m\u001b[0m\u001b[0m\n\u001b[1;32m    189\u001b[0m     \u001b[0;32mif\u001b[0m \u001b[0my_type\u001b[0m\u001b[0;34m.\u001b[0m\u001b[0mstartswith\u001b[0m\u001b[0;34m(\u001b[0m\u001b[0;34m'multilabel'\u001b[0m\u001b[0;34m)\u001b[0m\u001b[0;34m:\u001b[0m\u001b[0;34m\u001b[0m\u001b[0;34m\u001b[0m\u001b[0m\n",
      "\u001b[0;32m/opt/conda/lib/python3.7/site-packages/sklearn/metrics/_classification.py\u001b[0m in \u001b[0;36m_check_targets\u001b[0;34m(y_true, y_pred)\u001b[0m\n\u001b[1;32m     89\u001b[0m     \u001b[0;32mif\u001b[0m \u001b[0mlen\u001b[0m\u001b[0;34m(\u001b[0m\u001b[0my_type\u001b[0m\u001b[0;34m)\u001b[0m \u001b[0;34m>\u001b[0m \u001b[0;36m1\u001b[0m\u001b[0;34m:\u001b[0m\u001b[0;34m\u001b[0m\u001b[0;34m\u001b[0m\u001b[0m\n\u001b[1;32m     90\u001b[0m         raise ValueError(\"Classification metrics can't handle a mix of {0} \"\n\u001b[0;32m---> 91\u001b[0;31m                          \"and {1} targets\".format(type_true, type_pred))\n\u001b[0m\u001b[1;32m     92\u001b[0m \u001b[0;34m\u001b[0m\u001b[0m\n\u001b[1;32m     93\u001b[0m     \u001b[0;31m# We can't have more than one value on y_type => The set is no more needed\u001b[0m\u001b[0;34m\u001b[0m\u001b[0;34m\u001b[0m\u001b[0;34m\u001b[0m\u001b[0m\n",
      "\u001b[0;31mValueError\u001b[0m: Classification metrics can't handle a mix of multilabel-indicator and multiclass targets"
     ]
    }
   ],
   "source": [
    "y_true = np.concatenate(oof_labels)\n",
    "y_pred = np.concatenate(oof_pred)\n",
    "folds = np.concatenate(oof_folds)\n",
    "names = np.concatenate(oof_names)\n",
    "\n",
    "acc = accuracy_score(y_true, y_pred)\n",
    "print(f'Overall OOF Accuracy = {acc:.3f}')\n",
    "\n",
    "df_oof = pd.DataFrame({'image_id':names, 'fold':fold, \n",
    "                       'target':y_true, 'pred':y_pred})\n",
    "df_oof.to_csv('oof.csv', index=False)\n",
    "display(df_oof.head())\n",
    "\n",
    "print(classification_report(y_true, y_pred, target_names=CLASSES))"
   ]
  },
  {
   "cell_type": "markdown",
   "metadata": {
    "papermill": {
     "duration": 0.061513,
     "end_time": "2021-01-30T17:32:23.837433",
     "exception": false,
     "start_time": "2021-01-30T17:32:23.775920",
     "status": "completed"
    },
    "tags": []
   },
   "source": [
    "# Confusion matrix"
   ]
  },
  {
   "cell_type": "code",
   "execution_count": 16,
   "metadata": {
    "_kg_hide-input": true,
    "execution": {
     "iopub.execute_input": "2021-01-30T17:32:23.980921Z",
     "iopub.status.busy": "2021-01-30T17:32:23.979229Z",
     "iopub.status.idle": "2021-01-30T17:32:24.305000Z",
     "shell.execute_reply": "2021-01-30T17:32:24.305706Z"
    },
    "papermill": {
     "duration": 0.402869,
     "end_time": "2021-01-30T17:32:24.305875",
     "exception": false,
     "start_time": "2021-01-30T17:32:23.903006",
     "status": "completed"
    },
    "tags": []
   },
   "outputs": [
    {
     "ename": "ValueError",
     "evalue": "Classification metrics can't handle a mix of multilabel-indicator and multiclass targets",
     "output_type": "error",
     "traceback": [
      "\u001b[0;31m---------------------------------------------------------------------------\u001b[0m",
      "\u001b[0;31mValueError\u001b[0m                                Traceback (most recent call last)",
      "\u001b[0;32m<ipython-input-16-6128df710b33>\u001b[0m in \u001b[0;36m<module>\u001b[0;34m\u001b[0m\n\u001b[1;32m      1\u001b[0m \u001b[0mfig\u001b[0m\u001b[0;34m,\u001b[0m \u001b[0max\u001b[0m \u001b[0;34m=\u001b[0m \u001b[0mplt\u001b[0m\u001b[0;34m.\u001b[0m\u001b[0msubplots\u001b[0m\u001b[0;34m(\u001b[0m\u001b[0;36m1\u001b[0m\u001b[0;34m,\u001b[0m \u001b[0;36m1\u001b[0m\u001b[0;34m,\u001b[0m \u001b[0mfigsize\u001b[0m\u001b[0;34m=\u001b[0m\u001b[0;34m(\u001b[0m\u001b[0;36m20\u001b[0m\u001b[0;34m,\u001b[0m \u001b[0;36m12\u001b[0m\u001b[0;34m)\u001b[0m\u001b[0;34m)\u001b[0m\u001b[0;34m\u001b[0m\u001b[0;34m\u001b[0m\u001b[0m\n\u001b[0;32m----> 2\u001b[0;31m \u001b[0mcfn_matrix\u001b[0m \u001b[0;34m=\u001b[0m \u001b[0mconfusion_matrix\u001b[0m\u001b[0;34m(\u001b[0m\u001b[0my_true\u001b[0m\u001b[0;34m,\u001b[0m \u001b[0my_pred\u001b[0m\u001b[0;34m,\u001b[0m \u001b[0mlabels\u001b[0m\u001b[0;34m=\u001b[0m\u001b[0mrange\u001b[0m\u001b[0;34m(\u001b[0m\u001b[0mlen\u001b[0m\u001b[0;34m(\u001b[0m\u001b[0mCLASSES\u001b[0m\u001b[0;34m)\u001b[0m\u001b[0;34m)\u001b[0m\u001b[0;34m)\u001b[0m\u001b[0;34m\u001b[0m\u001b[0;34m\u001b[0m\u001b[0m\n\u001b[0m\u001b[1;32m      3\u001b[0m \u001b[0mcfn_matrix\u001b[0m \u001b[0;34m=\u001b[0m \u001b[0;34m(\u001b[0m\u001b[0mcfn_matrix\u001b[0m\u001b[0;34m.\u001b[0m\u001b[0mT\u001b[0m \u001b[0;34m/\u001b[0m \u001b[0mcfn_matrix\u001b[0m\u001b[0;34m.\u001b[0m\u001b[0msum\u001b[0m\u001b[0;34m(\u001b[0m\u001b[0maxis\u001b[0m\u001b[0;34m=\u001b[0m\u001b[0;36m1\u001b[0m\u001b[0;34m)\u001b[0m\u001b[0;34m)\u001b[0m\u001b[0;34m.\u001b[0m\u001b[0mT\u001b[0m\u001b[0;34m\u001b[0m\u001b[0;34m\u001b[0m\u001b[0m\n\u001b[1;32m      4\u001b[0m \u001b[0mdf_cm\u001b[0m \u001b[0;34m=\u001b[0m \u001b[0mpd\u001b[0m\u001b[0;34m.\u001b[0m\u001b[0mDataFrame\u001b[0m\u001b[0;34m(\u001b[0m\u001b[0mcfn_matrix\u001b[0m\u001b[0;34m,\u001b[0m \u001b[0mindex\u001b[0m\u001b[0;34m=\u001b[0m\u001b[0mCLASSES\u001b[0m\u001b[0;34m,\u001b[0m \u001b[0mcolumns\u001b[0m\u001b[0;34m=\u001b[0m\u001b[0mCLASSES\u001b[0m\u001b[0;34m)\u001b[0m\u001b[0;34m\u001b[0m\u001b[0;34m\u001b[0m\u001b[0m\n\u001b[1;32m      5\u001b[0m \u001b[0max\u001b[0m \u001b[0;34m=\u001b[0m \u001b[0msns\u001b[0m\u001b[0;34m.\u001b[0m\u001b[0mheatmap\u001b[0m\u001b[0;34m(\u001b[0m\u001b[0mdf_cm\u001b[0m\u001b[0;34m,\u001b[0m \u001b[0mcmap\u001b[0m\u001b[0;34m=\u001b[0m\u001b[0;34m'Blues'\u001b[0m\u001b[0;34m,\u001b[0m \u001b[0mannot\u001b[0m\u001b[0;34m=\u001b[0m\u001b[0;32mTrue\u001b[0m\u001b[0;34m,\u001b[0m \u001b[0mfmt\u001b[0m\u001b[0;34m=\u001b[0m\u001b[0;34m'.2f'\u001b[0m\u001b[0;34m,\u001b[0m \u001b[0mlinewidths\u001b[0m\u001b[0;34m=\u001b[0m\u001b[0;36m.5\u001b[0m\u001b[0;34m)\u001b[0m\u001b[0;34m.\u001b[0m\u001b[0mset_title\u001b[0m\u001b[0;34m(\u001b[0m\u001b[0;34m'Train'\u001b[0m\u001b[0;34m,\u001b[0m \u001b[0mfontsize\u001b[0m\u001b[0;34m=\u001b[0m\u001b[0;36m30\u001b[0m\u001b[0;34m)\u001b[0m\u001b[0;34m\u001b[0m\u001b[0;34m\u001b[0m\u001b[0m\n",
      "\u001b[0;32m/opt/conda/lib/python3.7/site-packages/sklearn/utils/validation.py\u001b[0m in \u001b[0;36minner_f\u001b[0;34m(*args, **kwargs)\u001b[0m\n\u001b[1;32m     71\u001b[0m                           FutureWarning)\n\u001b[1;32m     72\u001b[0m         \u001b[0mkwargs\u001b[0m\u001b[0;34m.\u001b[0m\u001b[0mupdate\u001b[0m\u001b[0;34m(\u001b[0m\u001b[0;34m{\u001b[0m\u001b[0mk\u001b[0m\u001b[0;34m:\u001b[0m \u001b[0marg\u001b[0m \u001b[0;32mfor\u001b[0m \u001b[0mk\u001b[0m\u001b[0;34m,\u001b[0m \u001b[0marg\u001b[0m \u001b[0;32min\u001b[0m \u001b[0mzip\u001b[0m\u001b[0;34m(\u001b[0m\u001b[0msig\u001b[0m\u001b[0;34m.\u001b[0m\u001b[0mparameters\u001b[0m\u001b[0;34m,\u001b[0m \u001b[0margs\u001b[0m\u001b[0;34m)\u001b[0m\u001b[0;34m}\u001b[0m\u001b[0;34m)\u001b[0m\u001b[0;34m\u001b[0m\u001b[0;34m\u001b[0m\u001b[0m\n\u001b[0;32m---> 73\u001b[0;31m         \u001b[0;32mreturn\u001b[0m \u001b[0mf\u001b[0m\u001b[0;34m(\u001b[0m\u001b[0;34m**\u001b[0m\u001b[0mkwargs\u001b[0m\u001b[0;34m)\u001b[0m\u001b[0;34m\u001b[0m\u001b[0;34m\u001b[0m\u001b[0m\n\u001b[0m\u001b[1;32m     74\u001b[0m     \u001b[0;32mreturn\u001b[0m \u001b[0minner_f\u001b[0m\u001b[0;34m\u001b[0m\u001b[0;34m\u001b[0m\u001b[0m\n\u001b[1;32m     75\u001b[0m \u001b[0;34m\u001b[0m\u001b[0m\n",
      "\u001b[0;32m/opt/conda/lib/python3.7/site-packages/sklearn/metrics/_classification.py\u001b[0m in \u001b[0;36mconfusion_matrix\u001b[0;34m(y_true, y_pred, labels, sample_weight, normalize)\u001b[0m\n\u001b[1;32m    274\u001b[0m \u001b[0;34m\u001b[0m\u001b[0m\n\u001b[1;32m    275\u001b[0m     \"\"\"\n\u001b[0;32m--> 276\u001b[0;31m     \u001b[0my_type\u001b[0m\u001b[0;34m,\u001b[0m \u001b[0my_true\u001b[0m\u001b[0;34m,\u001b[0m \u001b[0my_pred\u001b[0m \u001b[0;34m=\u001b[0m \u001b[0m_check_targets\u001b[0m\u001b[0;34m(\u001b[0m\u001b[0my_true\u001b[0m\u001b[0;34m,\u001b[0m \u001b[0my_pred\u001b[0m\u001b[0;34m)\u001b[0m\u001b[0;34m\u001b[0m\u001b[0;34m\u001b[0m\u001b[0m\n\u001b[0m\u001b[1;32m    277\u001b[0m     \u001b[0;32mif\u001b[0m \u001b[0my_type\u001b[0m \u001b[0;32mnot\u001b[0m \u001b[0;32min\u001b[0m \u001b[0;34m(\u001b[0m\u001b[0;34m\"binary\"\u001b[0m\u001b[0;34m,\u001b[0m \u001b[0;34m\"multiclass\"\u001b[0m\u001b[0;34m)\u001b[0m\u001b[0;34m:\u001b[0m\u001b[0;34m\u001b[0m\u001b[0;34m\u001b[0m\u001b[0m\n\u001b[1;32m    278\u001b[0m         \u001b[0;32mraise\u001b[0m \u001b[0mValueError\u001b[0m\u001b[0;34m(\u001b[0m\u001b[0;34m\"%s is not supported\"\u001b[0m \u001b[0;34m%\u001b[0m \u001b[0my_type\u001b[0m\u001b[0;34m)\u001b[0m\u001b[0;34m\u001b[0m\u001b[0;34m\u001b[0m\u001b[0m\n",
      "\u001b[0;32m/opt/conda/lib/python3.7/site-packages/sklearn/metrics/_classification.py\u001b[0m in \u001b[0;36m_check_targets\u001b[0;34m(y_true, y_pred)\u001b[0m\n\u001b[1;32m     89\u001b[0m     \u001b[0;32mif\u001b[0m \u001b[0mlen\u001b[0m\u001b[0;34m(\u001b[0m\u001b[0my_type\u001b[0m\u001b[0;34m)\u001b[0m \u001b[0;34m>\u001b[0m \u001b[0;36m1\u001b[0m\u001b[0;34m:\u001b[0m\u001b[0;34m\u001b[0m\u001b[0;34m\u001b[0m\u001b[0m\n\u001b[1;32m     90\u001b[0m         raise ValueError(\"Classification metrics can't handle a mix of {0} \"\n\u001b[0;32m---> 91\u001b[0;31m                          \"and {1} targets\".format(type_true, type_pred))\n\u001b[0m\u001b[1;32m     92\u001b[0m \u001b[0;34m\u001b[0m\u001b[0m\n\u001b[1;32m     93\u001b[0m     \u001b[0;31m# We can't have more than one value on y_type => The set is no more needed\u001b[0m\u001b[0;34m\u001b[0m\u001b[0;34m\u001b[0m\u001b[0;34m\u001b[0m\u001b[0m\n",
      "\u001b[0;31mValueError\u001b[0m: Classification metrics can't handle a mix of multilabel-indicator and multiclass targets"
     ]
    },
    {
     "data": {
      "image/png": "[encoded data removed]",
      "text/plain": [
       "<Figure size 1440x864 with 1 Axes>"
      ]
     },
     "metadata": {},
     "output_type": "display_data"
    }
   ],
   "source": [
    "fig, ax = plt.subplots(1, 1, figsize=(20, 12))\n",
    "cfn_matrix = confusion_matrix(y_true, y_pred, labels=range(len(CLASSES)))\n",
    "cfn_matrix = (cfn_matrix.T / cfn_matrix.sum(axis=1)).T\n",
    "df_cm = pd.DataFrame(cfn_matrix, index=CLASSES, columns=CLASSES)\n",
    "ax = sns.heatmap(df_cm, cmap='Blues', annot=True, fmt='.2f', linewidths=.5).set_title('Train', fontsize=30)\n",
    "plt.show()"
   ]
  },
  {
   "cell_type": "markdown",
   "metadata": {
    "papermill": {
     "duration": 0.063003,
     "end_time": "2021-01-30T17:32:24.432333",
     "exception": false,
     "start_time": "2021-01-30T17:32:24.369330",
     "status": "completed"
    },
    "tags": []
   },
   "source": [
    "# Visualize embeddings outputs"
   ]
  },
  {
   "cell_type": "code",
   "execution_count": 17,
   "metadata": {
    "_kg_hide-input": true,
    "execution": {
     "iopub.execute_input": "2021-01-30T17:32:24.566258Z",
     "iopub.status.busy": "2021-01-30T17:32:24.565301Z",
     "iopub.status.idle": "2021-01-30T17:33:20.964361Z",
     "shell.execute_reply": "2021-01-30T17:33:20.965214Z"
    },
    "papermill": {
     "duration": 56.469155,
     "end_time": "2021-01-30T17:33:20.965403",
     "exception": false,
     "start_time": "2021-01-30T17:32:24.496248",
     "status": "completed"
    },
    "tags": []
   },
   "outputs": [
    {
     "ename": "ValueError",
     "evalue": "If using all scalar values, you must pass an index",
     "output_type": "error",
     "traceback": [
      "\u001b[0;31m---------------------------------------------------------------------------\u001b[0m",
      "\u001b[0;31mValueError\u001b[0m                                Traceback (most recent call last)",
      "\u001b[0;32m<ipython-input-17-053d5a879379>\u001b[0m in \u001b[0;36m<module>\u001b[0;34m\u001b[0m\n\u001b[1;32m      3\u001b[0m \u001b[0my_embeddings\u001b[0m \u001b[0;34m=\u001b[0m \u001b[0mnp\u001b[0m\u001b[0;34m.\u001b[0m\u001b[0mconcatenate\u001b[0m\u001b[0;34m(\u001b[0m\u001b[0moof_embed\u001b[0m\u001b[0;34m)\u001b[0m\u001b[0;34m\u001b[0m\u001b[0;34m\u001b[0m\u001b[0m\n\u001b[1;32m      4\u001b[0m \u001b[0;34m\u001b[0m\u001b[0m\n\u001b[0;32m----> 5\u001b[0;31m \u001b[0mvisualize_embeddings\u001b[0m\u001b[0;34m(\u001b[0m\u001b[0my_embeddings\u001b[0m\u001b[0;34m,\u001b[0m \u001b[0my_true\u001b[0m\u001b[0;34m)\u001b[0m\u001b[0;34m\u001b[0m\u001b[0;34m\u001b[0m\u001b[0m\n\u001b[0m",
      "\u001b[0;32m/kaggle/usr/lib/cassava_scripts/cassava_scripts.py\u001b[0m in \u001b[0;36mvisualize_embeddings\u001b[0;34m(embeddings, labels, seed, figsize)\u001b[0m\n\u001b[1;32m    242\u001b[0m \u001b[0;34m\u001b[0m\u001b[0m\n\u001b[1;32m    243\u001b[0m     \u001b[0;31m# Create dataframe with labels and TSNE values\u001b[0m\u001b[0;34m\u001b[0m\u001b[0;34m\u001b[0m\u001b[0;34m\u001b[0m\u001b[0m\n\u001b[0;32m--> 244\u001b[0;31m     \u001b[0mdf_embed\u001b[0m \u001b[0;34m=\u001b[0m \u001b[0mpd\u001b[0m\u001b[0;34m.\u001b[0m\u001b[0mDataFrame\u001b[0m\u001b[0;34m(\u001b[0m\u001b[0;34m{\u001b[0m\u001b[0;34m'labels'\u001b[0m\u001b[0;34m:\u001b[0m \u001b[0mlabels\u001b[0m\u001b[0;34m}\u001b[0m\u001b[0;34m)\u001b[0m\u001b[0;34m\u001b[0m\u001b[0;34m\u001b[0m\u001b[0m\n\u001b[0m\u001b[1;32m    245\u001b[0m     \u001b[0mdf_embed\u001b[0m \u001b[0;34m=\u001b[0m \u001b[0mdf_embed\u001b[0m\u001b[0;34m.\u001b[0m\u001b[0massign\u001b[0m\u001b[0;34m(\u001b[0m\u001b[0mx\u001b[0m\u001b[0;34m=\u001b[0m\u001b[0membed2D_x\u001b[0m\u001b[0;34m,\u001b[0m \u001b[0my\u001b[0m\u001b[0;34m=\u001b[0m\u001b[0membed2D_y\u001b[0m\u001b[0;34m)\u001b[0m\u001b[0;34m\u001b[0m\u001b[0;34m\u001b[0m\u001b[0m\n\u001b[1;32m    246\u001b[0m \u001b[0;34m\u001b[0m\u001b[0m\n",
      "\u001b[0;32m/opt/conda/lib/python3.7/site-packages/pandas/core/frame.py\u001b[0m in \u001b[0;36m__init__\u001b[0;34m(self, data, index, columns, dtype, copy)\u001b[0m\n\u001b[1;32m    433\u001b[0m             )\n\u001b[1;32m    434\u001b[0m         \u001b[0;32melif\u001b[0m \u001b[0misinstance\u001b[0m\u001b[0;34m(\u001b[0m\u001b[0mdata\u001b[0m\u001b[0;34m,\u001b[0m \u001b[0mdict\u001b[0m\u001b[0;34m)\u001b[0m\u001b[0;34m:\u001b[0m\u001b[0;34m\u001b[0m\u001b[0;34m\u001b[0m\u001b[0m\n\u001b[0;32m--> 435\u001b[0;31m             \u001b[0mmgr\u001b[0m \u001b[0;34m=\u001b[0m \u001b[0minit_dict\u001b[0m\u001b[0;34m(\u001b[0m\u001b[0mdata\u001b[0m\u001b[0;34m,\u001b[0m \u001b[0mindex\u001b[0m\u001b[0;34m,\u001b[0m \u001b[0mcolumns\u001b[0m\u001b[0;34m,\u001b[0m \u001b[0mdtype\u001b[0m\u001b[0;34m=\u001b[0m\u001b[0mdtype\u001b[0m\u001b[0;34m)\u001b[0m\u001b[0;34m\u001b[0m\u001b[0;34m\u001b[0m\u001b[0m\n\u001b[0m\u001b[1;32m    436\u001b[0m         \u001b[0;32melif\u001b[0m \u001b[0misinstance\u001b[0m\u001b[0;34m(\u001b[0m\u001b[0mdata\u001b[0m\u001b[0;34m,\u001b[0m \u001b[0mma\u001b[0m\u001b[0;34m.\u001b[0m\u001b[0mMaskedArray\u001b[0m\u001b[0;34m)\u001b[0m\u001b[0;34m:\u001b[0m\u001b[0;34m\u001b[0m\u001b[0;34m\u001b[0m\u001b[0m\n\u001b[1;32m    437\u001b[0m             \u001b[0;32mimport\u001b[0m \u001b[0mnumpy\u001b[0m\u001b[0;34m.\u001b[0m\u001b[0mma\u001b[0m\u001b[0;34m.\u001b[0m\u001b[0mmrecords\u001b[0m \u001b[0;32mas\u001b[0m \u001b[0mmrecords\u001b[0m\u001b[0;34m\u001b[0m\u001b[0;34m\u001b[0m\u001b[0m\n",
      "\u001b[0;32m/opt/conda/lib/python3.7/site-packages/pandas/core/internals/construction.py\u001b[0m in \u001b[0;36minit_dict\u001b[0;34m(data, index, columns, dtype)\u001b[0m\n\u001b[1;32m    252\u001b[0m             \u001b[0marr\u001b[0m \u001b[0;32mif\u001b[0m \u001b[0;32mnot\u001b[0m \u001b[0mis_datetime64tz_dtype\u001b[0m\u001b[0;34m(\u001b[0m\u001b[0marr\u001b[0m\u001b[0;34m)\u001b[0m \u001b[0;32melse\u001b[0m \u001b[0marr\u001b[0m\u001b[0;34m.\u001b[0m\u001b[0mcopy\u001b[0m\u001b[0;34m(\u001b[0m\u001b[0;34m)\u001b[0m \u001b[0;32mfor\u001b[0m \u001b[0marr\u001b[0m \u001b[0;32min\u001b[0m \u001b[0marrays\u001b[0m\u001b[0;34m\u001b[0m\u001b[0;34m\u001b[0m\u001b[0m\n\u001b[1;32m    253\u001b[0m         ]\n\u001b[0;32m--> 254\u001b[0;31m     \u001b[0;32mreturn\u001b[0m \u001b[0marrays_to_mgr\u001b[0m\u001b[0;34m(\u001b[0m\u001b[0marrays\u001b[0m\u001b[0;34m,\u001b[0m \u001b[0mdata_names\u001b[0m\u001b[0;34m,\u001b[0m \u001b[0mindex\u001b[0m\u001b[0;34m,\u001b[0m \u001b[0mcolumns\u001b[0m\u001b[0;34m,\u001b[0m \u001b[0mdtype\u001b[0m\u001b[0;34m=\u001b[0m\u001b[0mdtype\u001b[0m\u001b[0;34m)\u001b[0m\u001b[0;34m\u001b[0m\u001b[0;34m\u001b[0m\u001b[0m\n\u001b[0m\u001b[1;32m    255\u001b[0m \u001b[0;34m\u001b[0m\u001b[0m\n\u001b[1;32m    256\u001b[0m \u001b[0;34m\u001b[0m\u001b[0m\n",
      "\u001b[0;32m/opt/conda/lib/python3.7/site-packages/pandas/core/internals/construction.py\u001b[0m in \u001b[0;36marrays_to_mgr\u001b[0;34m(arrays, arr_names, index, columns, dtype)\u001b[0m\n\u001b[1;32m     62\u001b[0m     \u001b[0;31m# figure out the index, if necessary\u001b[0m\u001b[0;34m\u001b[0m\u001b[0;34m\u001b[0m\u001b[0;34m\u001b[0m\u001b[0m\n\u001b[1;32m     63\u001b[0m     \u001b[0;32mif\u001b[0m \u001b[0mindex\u001b[0m \u001b[0;32mis\u001b[0m \u001b[0;32mNone\u001b[0m\u001b[0;34m:\u001b[0m\u001b[0;34m\u001b[0m\u001b[0;34m\u001b[0m\u001b[0m\n\u001b[0;32m---> 64\u001b[0;31m         \u001b[0mindex\u001b[0m \u001b[0;34m=\u001b[0m \u001b[0mextract_index\u001b[0m\u001b[0;34m(\u001b[0m\u001b[0marrays\u001b[0m\u001b[0;34m)\u001b[0m\u001b[0;34m\u001b[0m\u001b[0;34m\u001b[0m\u001b[0m\n\u001b[0m\u001b[1;32m     65\u001b[0m     \u001b[0;32melse\u001b[0m\u001b[0;34m:\u001b[0m\u001b[0;34m\u001b[0m\u001b[0;34m\u001b[0m\u001b[0m\n\u001b[1;32m     66\u001b[0m         \u001b[0mindex\u001b[0m \u001b[0;34m=\u001b[0m \u001b[0mensure_index\u001b[0m\u001b[0;34m(\u001b[0m\u001b[0mindex\u001b[0m\u001b[0;34m)\u001b[0m\u001b[0;34m\u001b[0m\u001b[0;34m\u001b[0m\u001b[0m\n",
      "\u001b[0;32m/opt/conda/lib/python3.7/site-packages/pandas/core/internals/construction.py\u001b[0m in \u001b[0;36mextract_index\u001b[0;34m(data)\u001b[0m\n\u001b[1;32m    353\u001b[0m \u001b[0;34m\u001b[0m\u001b[0m\n\u001b[1;32m    354\u001b[0m         \u001b[0;32mif\u001b[0m \u001b[0;32mnot\u001b[0m \u001b[0mindexes\u001b[0m \u001b[0;32mand\u001b[0m \u001b[0;32mnot\u001b[0m \u001b[0mraw_lengths\u001b[0m\u001b[0;34m:\u001b[0m\u001b[0;34m\u001b[0m\u001b[0;34m\u001b[0m\u001b[0m\n\u001b[0;32m--> 355\u001b[0;31m             \u001b[0;32mraise\u001b[0m \u001b[0mValueError\u001b[0m\u001b[0;34m(\u001b[0m\u001b[0;34m\"If using all scalar values, you must pass an index\"\u001b[0m\u001b[0;34m)\u001b[0m\u001b[0;34m\u001b[0m\u001b[0;34m\u001b[0m\u001b[0m\n\u001b[0m\u001b[1;32m    356\u001b[0m \u001b[0;34m\u001b[0m\u001b[0m\n\u001b[1;32m    357\u001b[0m         \u001b[0;32mif\u001b[0m \u001b[0mhave_series\u001b[0m\u001b[0;34m:\u001b[0m\u001b[0;34m\u001b[0m\u001b[0;34m\u001b[0m\u001b[0m\n",
      "\u001b[0;31mValueError\u001b[0m: If using all scalar values, you must pass an index"
     ]
    }
   ],
   "source": [
    "y_true = np.concatenate(oof_labels)\n",
    "y_pred = np.concatenate(oof_pred)\n",
    "y_embeddings = np.concatenate(oof_embed)\n",
    "\n",
    "visualize_embeddings(y_embeddings, y_true)"
   ]
  },
  {
   "cell_type": "markdown",
   "metadata": {
    "papermill": {
     "duration": 0.066383,
     "end_time": "2021-01-30T17:33:21.110584",
     "exception": false,
     "start_time": "2021-01-30T17:33:21.044201",
     "status": "completed"
    },
    "tags": []
   },
   "source": [
    "# Visualize predictions"
   ]
  },
  {
   "cell_type": "code",
   "execution_count": 18,
   "metadata": {
    "_kg_hide-input": true,
    "execution": {
     "iopub.execute_input": "2021-01-30T17:33:21.249079Z",
     "iopub.status.busy": "2021-01-30T17:33:21.247925Z",
     "iopub.status.idle": "2021-01-30T17:33:21.251660Z",
     "shell.execute_reply": "2021-01-30T17:33:21.252419Z"
    },
    "papermill": {
     "duration": 0.075473,
     "end_time": "2021-01-30T17:33:21.252591",
     "exception": false,
     "start_time": "2021-01-30T17:33:21.177118",
     "status": "completed"
    },
    "tags": []
   },
   "outputs": [],
   "source": [
    "# train_dataset = get_dataset(TRAINING_FILENAMES, ordered=True)\n",
    "# x_samp, y_samp = dataset_to_numpy_util(train_dataset, 18)\n",
    "# y_samp = np.argmax(y_samp, axis=-1)\n",
    "\n",
    "# x_samp_1, y_samp_1 = x_samp[:9,:,:,:], y_samp[:9]\n",
    "# samp_preds_1 = model.predict(x_samp_1, batch_size=9)\n",
    "# display_9_images_with_predictions(x_samp_1, samp_preds_1, y_samp_1)\n",
    "\n",
    "# x_samp_2, y_samp_2 = x_samp[9:,:,:,:], y_samp[9:]\n",
    "# samp_preds_2 = model.predict(x_samp_2, batch_size=9)\n",
    "# display_9_images_with_predictions(x_samp_2, samp_preds_2, y_samp_2)"
   ]
  }
 ],
 "metadata": {
  "kernelspec": {
   "display_name": "Python 3",
   "language": "python",
   "name": "python3"
  },
  "language_info": {
   "codemirror_mode": {
    "name": "ipython",
    "version": 3
   },
   "file_extension": ".py",
   "mimetype": "text/x-python",
   "name": "python",
   "nbconvert_exporter": "python",
   "pygments_lexer": "ipython3",
   "version": "3.7.6"
  },
  "papermill": {
   "duration": 4287.123965,
   "end_time": "2021-01-30T17:33:21.528348",
   "environment_variables": {},
   "exception": null,
   "input_path": "__notebook__.ipynb",
   "output_path": "__notebook__.ipynb",
   "parameters": {},
   "start_time": "2021-01-30T16:21:54.404383",
   "version": "2.1.0"
  }
 },
 "nbformat": 4,
 "nbformat_minor": 4
}
