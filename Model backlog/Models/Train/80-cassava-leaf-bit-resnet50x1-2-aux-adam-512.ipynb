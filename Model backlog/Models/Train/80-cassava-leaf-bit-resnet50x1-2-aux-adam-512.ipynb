{
 "cells": [
  {
   "cell_type": "markdown",
   "metadata": {
    "papermill": {
     "duration": 0.022734,
     "end_time": "2021-01-25T14:18:19.514348",
     "exception": false,
     "start_time": "2021-01-25T14:18:19.491614",
     "status": "completed"
    },
    "tags": []
   },
   "source": [
    "## Dependencies"
   ]
  },
  {
   "cell_type": "code",
   "execution_count": 1,
   "metadata": {
    "_kg_hide-input": true,
    "_kg_hide-output": true,
    "execution": {
     "iopub.execute_input": "2021-01-25T14:18:19.561587Z",
     "iopub.status.busy": "2021-01-25T14:18:19.560489Z",
     "iopub.status.idle": "2021-01-25T14:18:19.564735Z",
     "shell.execute_reply": "2021-01-25T14:18:19.565336Z"
    },
    "papermill": {
     "duration": 0.029098,
     "end_time": "2021-01-25T14:18:19.565522",
     "exception": false,
     "start_time": "2021-01-25T14:18:19.536424",
     "status": "completed"
    },
    "tags": []
   },
   "outputs": [],
   "source": [
    "# !pip install --quiet efficientnet"
   ]
  },
  {
   "cell_type": "code",
   "execution_count": 2,
   "metadata": {
    "_cell_guid": "b1076dfc-b9ad-4769-8c92-a6c4dae69d19",
    "_kg_hide-input": true,
    "_kg_hide-output": true,
    "_uuid": "8f2839f25d086af736a60e9eeb907d3b93b6e0e5",
    "execution": {
     "iopub.execute_input": "2021-01-25T14:18:19.628058Z",
     "iopub.status.busy": "2021-01-25T14:18:19.626840Z",
     "iopub.status.idle": "2021-01-25T14:18:27.134323Z",
     "shell.execute_reply": "2021-01-25T14:18:27.133550Z"
    },
    "papermill": {
     "duration": 7.54791,
     "end_time": "2021-01-25T14:18:27.134461",
     "exception": false,
     "start_time": "2021-01-25T14:18:19.586551",
     "status": "completed"
    },
    "tags": []
   },
   "outputs": [],
   "source": [
    "import warnings, time\n",
    "from kaggle_datasets import KaggleDatasets\n",
    "from sklearn.model_selection import KFold\n",
    "from sklearn.metrics import classification_report, confusion_matrix, accuracy_score\n",
    "from tensorflow.keras import optimizers, Sequential, losses, metrics, Model\n",
    "from tensorflow.keras.callbacks import EarlyStopping\n",
    "# import efficientnet.tfkeras as efn\n",
    "from cassava_scripts import *\n",
    "from scripts_step_lr_schedulers import *\n",
    "\n",
    "\n",
    "seed = 0\n",
    "seed_everything(seed)\n",
    "warnings.filterwarnings('ignore')"
   ]
  },
  {
   "cell_type": "markdown",
   "metadata": {
    "papermill": {
     "duration": 0.021079,
     "end_time": "2021-01-25T14:18:27.178494",
     "exception": false,
     "start_time": "2021-01-25T14:18:27.157415",
     "status": "completed"
    },
    "tags": []
   },
   "source": [
    "### Hardware configuration"
   ]
  },
  {
   "cell_type": "code",
   "execution_count": 3,
   "metadata": {
    "_kg_hide-input": true,
    "execution": {
     "iopub.execute_input": "2021-01-25T14:18:27.318680Z",
     "iopub.status.busy": "2021-01-25T14:18:27.238181Z",
     "iopub.status.idle": "2021-01-25T14:18:31.548949Z",
     "shell.execute_reply": "2021-01-25T14:18:31.548336Z"
    },
    "papermill": {
     "duration": 4.349316,
     "end_time": "2021-01-25T14:18:31.549083",
     "exception": false,
     "start_time": "2021-01-25T14:18:27.199767",
     "status": "completed"
    },
    "tags": []
   },
   "outputs": [
    {
     "name": "stdout",
     "output_type": "stream",
     "text": [
      "Running on TPU grpc://10.0.0.2:8470\n",
      "REPLICAS: 8\n"
     ]
    }
   ],
   "source": [
    "# TPU or GPU detection\n",
    "# Detect hardware, return appropriate distribution strategy\n",
    "strategy, tpu = set_up_strategy()\n",
    "\n",
    "AUTO = tf.data.experimental.AUTOTUNE\n",
    "REPLICAS = strategy.num_replicas_in_sync\n",
    "print(f'REPLICAS: {REPLICAS}')"
   ]
  },
  {
   "cell_type": "markdown",
   "metadata": {
    "papermill": {
     "duration": 0.020763,
     "end_time": "2021-01-25T14:18:31.591537",
     "exception": false,
     "start_time": "2021-01-25T14:18:31.570774",
     "status": "completed"
    },
    "tags": []
   },
   "source": [
    "# Model parameters"
   ]
  },
  {
   "cell_type": "code",
   "execution_count": 4,
   "metadata": {
    "execution": {
     "iopub.execute_input": "2021-01-25T14:18:31.637540Z",
     "iopub.status.busy": "2021-01-25T14:18:31.636850Z",
     "iopub.status.idle": "2021-01-25T14:18:31.643115Z",
     "shell.execute_reply": "2021-01-25T14:18:31.643652Z"
    },
    "papermill": {
     "duration": 0.031105,
     "end_time": "2021-01-25T14:18:31.643829",
     "exception": false,
     "start_time": "2021-01-25T14:18:31.612724",
     "status": "completed"
    },
    "tags": []
   },
   "outputs": [],
   "source": [
    "BATCH_SIZE = 8 * REPLICAS\n",
    "LEARNING_RATE = 1e-5 * REPLICAS\n",
    "EPOCHS = 33\n",
    "HEIGHT = 512\n",
    "WIDTH = 512\n",
    "HEIGHT_DT = 512\n",
    "WIDTH_DT = 512\n",
    "CHANNELS = 3\n",
    "N_CLASSES = 5\n",
    "N_FOLDS = 5\n",
    "FOLDS_USED = 1\n",
    "ES_PATIENCE = 10"
   ]
  },
  {
   "cell_type": "markdown",
   "metadata": {
    "papermill": {
     "duration": 0.020939,
     "end_time": "2021-01-25T14:18:31.686071",
     "exception": false,
     "start_time": "2021-01-25T14:18:31.665132",
     "status": "completed"
    },
    "tags": []
   },
   "source": [
    "# Load data"
   ]
  },
  {
   "cell_type": "code",
   "execution_count": 5,
   "metadata": {
    "_kg_hide-input": true,
    "execution": {
     "iopub.execute_input": "2021-01-25T14:18:31.732367Z",
     "iopub.status.busy": "2021-01-25T14:18:31.731687Z",
     "iopub.status.idle": "2021-01-25T14:18:32.238281Z",
     "shell.execute_reply": "2021-01-25T14:18:32.238867Z"
    },
    "papermill": {
     "duration": 0.531566,
     "end_time": "2021-01-25T14:18:32.239035",
     "exception": false,
     "start_time": "2021-01-25T14:18:31.707469",
     "status": "completed"
    },
    "tags": []
   },
   "outputs": [
    {
     "name": "stdout",
     "output_type": "stream",
     "text": [
      "Train samples: 21397\n",
      "GCS: train images: 21395\n"
     ]
    },
    {
     "data": {
      "text/html": [
       "<div>\n",
       "<style scoped>\n",
       "    .dataframe tbody tr th:only-of-type {\n",
       "        vertical-align: middle;\n",
       "    }\n",
       "\n",
       "    .dataframe tbody tr th {\n",
       "        vertical-align: top;\n",
       "    }\n",
       "\n",
       "    .dataframe thead th {\n",
       "        text-align: right;\n",
       "    }\n",
       "</style>\n",
       "<table border=\"1\" class=\"dataframe\">\n",
       "  <thead>\n",
       "    <tr style=\"text-align: right;\">\n",
       "      <th></th>\n",
       "      <th>image_id</th>\n",
       "      <th>label</th>\n",
       "    </tr>\n",
       "  </thead>\n",
       "  <tbody>\n",
       "    <tr>\n",
       "      <th>0</th>\n",
       "      <td>1000015157.jpg</td>\n",
       "      <td>0</td>\n",
       "    </tr>\n",
       "    <tr>\n",
       "      <th>1</th>\n",
       "      <td>1000201771.jpg</td>\n",
       "      <td>3</td>\n",
       "    </tr>\n",
       "    <tr>\n",
       "      <th>2</th>\n",
       "      <td>100042118.jpg</td>\n",
       "      <td>1</td>\n",
       "    </tr>\n",
       "    <tr>\n",
       "      <th>3</th>\n",
       "      <td>1000723321.jpg</td>\n",
       "      <td>1</td>\n",
       "    </tr>\n",
       "    <tr>\n",
       "      <th>4</th>\n",
       "      <td>1000812911.jpg</td>\n",
       "      <td>3</td>\n",
       "    </tr>\n",
       "  </tbody>\n",
       "</table>\n",
       "</div>"
      ],
      "text/plain": [
       "         image_id  label\n",
       "0  1000015157.jpg      0\n",
       "1  1000201771.jpg      3\n",
       "2   100042118.jpg      1\n",
       "3  1000723321.jpg      1\n",
       "4  1000812911.jpg      3"
      ]
     },
     "metadata": {},
     "output_type": "display_data"
    }
   ],
   "source": [
    "database_base_path = '/kaggle/input/cassava-leaf-disease-classification/'\n",
    "train = pd.read_csv(f'{database_base_path}train.csv')\n",
    "print(f'Train samples: {len(train)}')\n",
    "\n",
    "GCS_PATH = KaggleDatasets().get_gcs_path(f'cassava-leaf-disease-tfrecords-center-{HEIGHT_DT}x{WIDTH_DT}') # Center croped and resized (50 TFRecord)\n",
    "# GCS_PATH_EXT = KaggleDatasets().get_gcs_path(f'cassava-leaf-disease-tfrecords-external-{HEIGHT_DT}x{WIDTH_DT}') # Center croped and resized (50 TFRecord) (External)\n",
    "# GCS_PATH_CLASSES = KaggleDatasets().get_gcs_path(f'cassava-leaf-disease-tfrecords-classes-{HEIGHT_DT}x{WIDTH_DT}') # Center croped and resized (50 TFRecord) by classes\n",
    "# GCS_PATH_EXT_CLASSES = KaggleDatasets().get_gcs_path(f'cassava-leaf-disease-tfrecords-classes-ext-{HEIGHT_DT}x{WIDTH_DT}') # Center croped and resized (50 TFRecord) (External) by classes\n",
    "\n",
    "\n",
    "FILENAMES_COMP = tf.io.gfile.glob(GCS_PATH + '/*.tfrec')\n",
    "# FILENAMES_2019 = tf.io.gfile.glob(GCS_PATH_EXT + '/*.tfrec')\n",
    "\n",
    "# FILENAMES_COMP_CBB = tf.io.gfile.glob(GCS_PATH_CLASSES + '/CBB*.tfrec')\n",
    "# FILENAMES_COMP_CBSD = tf.io.gfile.glob(GCS_PATH_CLASSES + '/CBSD*.tfrec')\n",
    "# FILENAMES_COMP_CGM = tf.io.gfile.glob(GCS_PATH_CLASSES + '/CGM*.tfrec')\n",
    "# FILENAMES_COMP_CMD = tf.io.gfile.glob(GCS_PATH_CLASSES + '/CMD*.tfrec')\n",
    "# FILENAMES_COMP_Healthy = tf.io.gfile.glob(GCS_PATH_CLASSES + '/Healthy*.tfrec')\n",
    "\n",
    "# FILENAMES_2019_CBB = tf.io.gfile.glob(GCS_PATH_EXT_CLASSES + '/CBB*.tfrec')\n",
    "# FILENAMES_2019_CBSD = tf.io.gfile.glob(GCS_PATH_EXT_CLASSES + '/CBSD*.tfrec')\n",
    "# FILENAMES_2019_CGM = tf.io.gfile.glob(GCS_PATH_EXT_CLASSES + '/CGM*.tfrec')\n",
    "# FILENAMES_2019_CMD = tf.io.gfile.glob(GCS_PATH_EXT_CLASSES + '/CMD*.tfrec')\n",
    "# FILENAMES_2019_Healthy = tf.io.gfile.glob(GCS_PATH_EXT_CLASSES + '/Healthy*.tfrec')\n",
    "\n",
    "\n",
    "TRAINING_FILENAMES = FILENAMES_COMP\n",
    "\n",
    "NUM_TRAINING_IMAGES = count_data_items(TRAINING_FILENAMES)\n",
    "\n",
    "print(f'GCS: train images: {NUM_TRAINING_IMAGES}')\n",
    "display(train.head())"
   ]
  },
  {
   "cell_type": "markdown",
   "metadata": {
    "papermill": {
     "duration": 0.023272,
     "end_time": "2021-01-25T14:18:32.285391",
     "exception": false,
     "start_time": "2021-01-25T14:18:32.262119",
     "status": "completed"
    },
    "tags": []
   },
   "source": [
    "# Augmentation"
   ]
  },
  {
   "cell_type": "code",
   "execution_count": 6,
   "metadata": {
    "execution": {
     "iopub.execute_input": "2021-01-25T14:18:32.351935Z",
     "iopub.status.busy": "2021-01-25T14:18:32.341145Z",
     "iopub.status.idle": "2021-01-25T14:18:32.360849Z",
     "shell.execute_reply": "2021-01-25T14:18:32.360018Z"
    },
    "papermill": {
     "duration": 0.052413,
     "end_time": "2021-01-25T14:18:32.361015",
     "exception": false,
     "start_time": "2021-01-25T14:18:32.308602",
     "status": "completed"
    },
    "tags": []
   },
   "outputs": [],
   "source": [
    "def data_augment(image, label):\n",
    "#     p_rotation = tf.random.uniform([], 0, 1.0, dtype=tf.float32)\n",
    "    p_spatial = tf.random.uniform([], 0, 1.0, dtype=tf.float32)\n",
    "    p_rotate = tf.random.uniform([], 0, 1.0, dtype=tf.float32)\n",
    "    p_pixel_1 = tf.random.uniform([], 0, 1.0, dtype=tf.float32)\n",
    "    p_pixel_2 = tf.random.uniform([], 0, 1.0, dtype=tf.float32)\n",
    "    p_pixel_3 = tf.random.uniform([], 0, 1.0, dtype=tf.float32)\n",
    "#     p_shear = tf.random.uniform([], 0, 1.0, dtype=tf.float32)\n",
    "    p_crop = tf.random.uniform([], 0, 1.0, dtype=tf.float32)\n",
    "    p_cutout = tf.random.uniform([], 0, 1.0, dtype=tf.float32)\n",
    "    \n",
    "#     # Shear\n",
    "#     if p_shear > .2:\n",
    "#         if p_shear > .6:\n",
    "#             image = transform_shear(image, HEIGHT, shear=20.)\n",
    "#         else:\n",
    "#             image = transform_shear(image, HEIGHT, shear=-20.)\n",
    "            \n",
    "#     # Rotation\n",
    "#     if p_rotation > .2:\n",
    "#         if p_rotation > .6:\n",
    "#             image = transform_rotation(image, HEIGHT, rotation=45.)\n",
    "#         else:\n",
    "#             image = transform_rotation(image, HEIGHT, rotation=-45.)\n",
    "            \n",
    "    # Flips\n",
    "    image = tf.image.random_flip_left_right(image)\n",
    "    image = tf.image.random_flip_up_down(image)\n",
    "    if p_spatial > .75:\n",
    "        image = tf.image.transpose(image)\n",
    "        \n",
    "    # Rotates\n",
    "    if p_rotate > .75:\n",
    "        image = tf.image.rot90(image, k=3) # rotate 270º\n",
    "    elif p_rotate > .5:\n",
    "        image = tf.image.rot90(image, k=2) # rotate 180º\n",
    "    elif p_rotate > .25:\n",
    "        image = tf.image.rot90(image, k=1) # rotate 90º\n",
    "        \n",
    "    # Pixel-level transforms\n",
    "    if p_pixel_1 >= .4:\n",
    "        image = tf.image.random_saturation(image, lower=.7, upper=1.3)\n",
    "    if p_pixel_2 >= .4:\n",
    "        image = tf.image.random_contrast(image, lower=.8, upper=1.2)\n",
    "    if p_pixel_3 >= .4:\n",
    "        image = tf.image.random_brightness(image, max_delta=.1)\n",
    "        \n",
    "    # Crops\n",
    "    if p_crop > .6:\n",
    "        if p_crop > .9:\n",
    "            image = tf.image.central_crop(image, central_fraction=.5)\n",
    "        elif p_crop > .8:\n",
    "            image = tf.image.central_crop(image, central_fraction=.6)\n",
    "        elif p_crop > .7:\n",
    "            image = tf.image.central_crop(image, central_fraction=.7)\n",
    "        else:\n",
    "            image = tf.image.central_crop(image, central_fraction=.8)\n",
    "    elif p_crop > .3:\n",
    "        crop_size = tf.random.uniform([], int(HEIGHT*.6), HEIGHT, dtype=tf.int32)\n",
    "        image = tf.image.random_crop(image, size=[crop_size, crop_size, CHANNELS])\n",
    "            \n",
    "    image = tf.image.resize(image, size=[HEIGHT, WIDTH])\n",
    "\n",
    "    if p_cutout > .5:\n",
    "        image = data_augment_cutout(image)\n",
    "        \n",
    "    return image, label"
   ]
  },
  {
   "cell_type": "markdown",
   "metadata": {
    "papermill": {
     "duration": 0.022238,
     "end_time": "2021-01-25T14:18:32.406301",
     "exception": false,
     "start_time": "2021-01-25T14:18:32.384063",
     "status": "completed"
    },
    "tags": []
   },
   "source": [
    "## Auxiliary functions"
   ]
  },
  {
   "cell_type": "code",
   "execution_count": 7,
   "metadata": {
    "_kg_hide-input": true,
    "execution": {
     "iopub.execute_input": "2021-01-25T14:18:32.467359Z",
     "iopub.status.busy": "2021-01-25T14:18:32.466639Z",
     "iopub.status.idle": "2021-01-25T14:18:32.469918Z",
     "shell.execute_reply": "2021-01-25T14:18:32.469123Z"
    },
    "papermill": {
     "duration": 0.040655,
     "end_time": "2021-01-25T14:18:32.470053",
     "exception": false,
     "start_time": "2021-01-25T14:18:32.429398",
     "status": "completed"
    },
    "tags": []
   },
   "outputs": [],
   "source": [
    "# CutOut\n",
    "def data_augment_cutout(image, min_mask_size=(int(HEIGHT * .1), int(HEIGHT * .1)), \n",
    "                        max_mask_size=(int(HEIGHT * .125), int(HEIGHT * .125))):\n",
    "    p_cutout = tf.random.uniform([], 0, 1.0, dtype=tf.float32)\n",
    "    \n",
    "    if p_cutout > .85: # 10~15 cut outs\n",
    "        n_cutout = tf.random.uniform([], 10, 15, dtype=tf.int32)\n",
    "        image = random_cutout(image, HEIGHT, WIDTH, \n",
    "                              min_mask_size=min_mask_size, max_mask_size=max_mask_size, k=n_cutout)\n",
    "    elif p_cutout > .6: # 5~10 cut outs\n",
    "        n_cutout = tf.random.uniform([], 5, 10, dtype=tf.int32)\n",
    "        image = random_cutout(image, HEIGHT, WIDTH, \n",
    "                              min_mask_size=min_mask_size, max_mask_size=max_mask_size, k=n_cutout)\n",
    "    elif p_cutout > .25: # 2~5 cut outs\n",
    "        n_cutout = tf.random.uniform([], 2, 5, dtype=tf.int32)\n",
    "        image = random_cutout(image, HEIGHT, WIDTH, \n",
    "                              min_mask_size=min_mask_size, max_mask_size=max_mask_size, k=n_cutout)\n",
    "    else: # 1 cut out\n",
    "        image = random_cutout(image, HEIGHT, WIDTH, \n",
    "                              min_mask_size=min_mask_size, max_mask_size=max_mask_size, k=1)\n",
    "\n",
    "    return image"
   ]
  },
  {
   "cell_type": "code",
   "execution_count": 8,
   "metadata": {
    "_cell_guid": "79c7e3d0-c299-4dcb-8224-4455121ee9b0",
    "_kg_hide-input": true,
    "_uuid": "d629ff2d2480ee46fbb7e2d37f6b5fab8052498a",
    "execution": {
     "iopub.execute_input": "2021-01-25T14:18:32.548334Z",
     "iopub.status.busy": "2021-01-25T14:18:32.532386Z",
     "iopub.status.idle": "2021-01-25T14:18:32.550551Z",
     "shell.execute_reply": "2021-01-25T14:18:32.551139Z"
    },
    "papermill": {
     "duration": 0.057848,
     "end_time": "2021-01-25T14:18:32.551335",
     "exception": false,
     "start_time": "2021-01-25T14:18:32.493487",
     "status": "completed"
    },
    "tags": []
   },
   "outputs": [],
   "source": [
    "# Datasets utility functions\n",
    "def random_crop(image, label):\n",
    "    \"\"\"\n",
    "        Resize and reshape images to the expected size.\n",
    "    \"\"\"\n",
    "    image = tf.image.random_crop(image, size=[HEIGHT, WIDTH, CHANNELS])\n",
    "    return image, label\n",
    "\n",
    "def prepare_image(image, label):\n",
    "    \"\"\"\n",
    "        Resize and reshape images to the expected size.\n",
    "    \"\"\"\n",
    "    \n",
    "    ch_1 = (tf.cast(image[:, :, 0], tf.float32) - 0.485)/ 0.229\n",
    "    ch_2 = (tf.cast(image[:, :, 1], tf.float32) - 0.456)/ 0.224\n",
    "    ch_3 = (tf.cast(image[:, :, 2], tf.float32) - 0.406)/ 0.225\n",
    "    image = tf.stack([ch_1, ch_2, ch_3], axis=2)\n",
    "    \n",
    "    image = tf.image.resize(image, [HEIGHT, WIDTH])\n",
    "    image = tf.reshape(image, [HEIGHT, WIDTH, CHANNELS])\n",
    "    return image, label\n",
    "\n",
    "def center_crop_(image, label, height_rs, width_rs, height=HEIGHT_DT, width=WIDTH_DT, channels=3):\n",
    "    image = tf.reshape(image, [height, width, channels]) # Original shape\n",
    "    \n",
    "    h, w = image.shape[0], image.shape[1]\n",
    "    if h > w:\n",
    "        image = tf.image.crop_to_bounding_box(image, (h - w) // 2, 0, w, w)\n",
    "    else:\n",
    "        image = tf.image.crop_to_bounding_box(image, 0, (w - h) // 2, h, h)\n",
    "        \n",
    "    image = tf.image.resize(image, [height_rs, width_rs]) # Expected shape\n",
    "    return image, label\n",
    "\n",
    "def get_dataset(filenames, labeled=True, ordered=False, repeated=False, \n",
    "                cached=False, augment=False):\n",
    "    \"\"\"\n",
    "        Return a Tensorflow dataset ready for training or inference.\n",
    "    \"\"\"\n",
    "    \n",
    "    ignore_order = tf.data.Options()\n",
    "    if not ordered:\n",
    "        ignore_order.experimental_deterministic = False\n",
    "        dataset = tf.data.Dataset.list_files(filenames)\n",
    "        dataset = dataset.interleave(tf.data.TFRecordDataset, num_parallel_calls=AUTO)\n",
    "    else:\n",
    "        dataset = tf.data.TFRecordDataset(filenames, num_parallel_reads=AUTO)\n",
    "        \n",
    "    dataset = dataset.with_options(ignore_order)\n",
    "    \n",
    "    dataset = dataset.map(lambda x: read_tfrecord(x, labeled=labeled), num_parallel_calls=AUTO)\n",
    "    \n",
    "    if augment:\n",
    "        dataset = dataset.map(data_augment, num_parallel_calls=AUTO)\n",
    "        \n",
    "    dataset = dataset.map(scale_image, num_parallel_calls=AUTO)\n",
    "    dataset = dataset.map(prepare_image, num_parallel_calls=AUTO)\n",
    "    \n",
    "    \n",
    "    if labeled:\n",
    "        dataset = dataset.map(conf_output, num_parallel_calls=AUTO)\n",
    "    \n",
    "    \n",
    "    if not ordered:\n",
    "        dataset = dataset.shuffle(2048)\n",
    "    if repeated:\n",
    "        dataset = dataset.repeat()\n",
    "        \n",
    "    dataset = dataset.batch(BATCH_SIZE)\n",
    "    \n",
    "    if cached:\n",
    "        dataset = dataset.cache()\n",
    "    dataset = dataset.prefetch(AUTO)\n",
    "    return dataset\n",
    "\n",
    "def conf_output(image, label):\n",
    "    \"\"\"\n",
    "        Configure the output of the dataset.\n",
    "    \"\"\"\n",
    "    aux_label = [0.]\n",
    "    aux_2_label = [0.]\n",
    "    if tf.math.argmax(label, axis=-1) == 4: # Healthy\n",
    "        aux_label = [1.]\n",
    "    if tf.math.argmax(label, axis=-1) == 3: # CMD\n",
    "        aux_2_label = [1.]\n",
    "    return (image, (label, aux_label, aux_2_label))"
   ]
  },
  {
   "cell_type": "markdown",
   "metadata": {
    "papermill": {
     "duration": 0.023201,
     "end_time": "2021-01-25T14:18:32.598062",
     "exception": false,
     "start_time": "2021-01-25T14:18:32.574861",
     "status": "completed"
    },
    "tags": []
   },
   "source": [
    "# Training data samples (with augmentation)"
   ]
  },
  {
   "cell_type": "code",
   "execution_count": 9,
   "metadata": {
    "_kg_hide-input": true,
    "execution": {
     "iopub.execute_input": "2021-01-25T14:18:32.649112Z",
     "iopub.status.busy": "2021-01-25T14:18:32.648197Z",
     "iopub.status.idle": "2021-01-25T14:18:32.651692Z",
     "shell.execute_reply": "2021-01-25T14:18:32.652227Z"
    },
    "papermill": {
     "duration": 0.030805,
     "end_time": "2021-01-25T14:18:32.652429",
     "exception": false,
     "start_time": "2021-01-25T14:18:32.621624",
     "status": "completed"
    },
    "tags": []
   },
   "outputs": [],
   "source": [
    "# train_dataset = get_dataset(FILENAMES_COMP, ordered=True, augment=True)\n",
    "# train_iter = iter(train_dataset.unbatch().batch(20))\n",
    "\n",
    "# display_batch_of_images(next(train_iter))\n",
    "# display_batch_of_images(next(train_iter))"
   ]
  },
  {
   "cell_type": "markdown",
   "metadata": {
    "papermill": {
     "duration": 0.023023,
     "end_time": "2021-01-25T14:18:32.699681",
     "exception": false,
     "start_time": "2021-01-25T14:18:32.676658",
     "status": "completed"
    },
    "tags": []
   },
   "source": [
    "# Model"
   ]
  },
  {
   "cell_type": "code",
   "execution_count": 10,
   "metadata": {
    "execution": {
     "iopub.execute_input": "2021-01-25T14:18:32.750305Z",
     "iopub.status.busy": "2021-01-25T14:18:32.749557Z",
     "iopub.status.idle": "2021-01-25T14:18:33.531739Z",
     "shell.execute_reply": "2021-01-25T14:18:33.530918Z"
    },
    "papermill": {
     "duration": 0.80892,
     "end_time": "2021-01-25T14:18:33.531895",
     "exception": false,
     "start_time": "2021-01-25T14:18:32.722975",
     "status": "completed"
    },
    "tags": []
   },
   "outputs": [
    {
     "name": "stdout",
     "output_type": "stream",
     "text": [
      "bit_m-r101x1_1\tbit_m-r101x3_1\tbit_m-r152x4_1\tbit_m-r50x1_1  bit_m-r50x3_1\r\n"
     ]
    }
   ],
   "source": [
    "!ls /kaggle/input/big-transfer-bit-weights"
   ]
  },
  {
   "cell_type": "code",
   "execution_count": 11,
   "metadata": {
    "execution": {
     "iopub.execute_input": "2021-01-25T14:18:33.590887Z",
     "iopub.status.busy": "2021-01-25T14:18:33.590107Z",
     "iopub.status.idle": "2021-01-25T14:18:34.286329Z",
     "shell.execute_reply": "2021-01-25T14:18:34.285644Z"
    },
    "papermill": {
     "duration": 0.730823,
     "end_time": "2021-01-25T14:18:34.286459",
     "exception": false,
     "start_time": "2021-01-25T14:18:33.555636",
     "status": "completed"
    },
    "tags": []
   },
   "outputs": [],
   "source": [
    "import tensorflow_hub as hub\n",
    "MODEL_PATH = KaggleDatasets().get_gcs_path('big-transfer-bit-weights')\n",
    "\n",
    "def model_fn(input_shape, N_CLASSES):\n",
    "    inputs = L.Input(shape=input_shape, name='input_image')\n",
    "    base_model = hub.KerasLayer(f'{MODEL_PATH}/bit_m-r50x1_1/')\n",
    "\n",
    "    base_model.trainable = True\n",
    "\n",
    "    x = base_model(inputs)\n",
    "    x = L.Dropout(.25)(x)\n",
    "    output = L.Dense(N_CLASSES, activation='softmax', name='output')(x)\n",
    "    output_healthy = L.Dense(1, activation='sigmoid', name='output_healthy')(x)\n",
    "    output_cmd = L.Dense(1, activation='sigmoid', name='output_cmd')(x)\n",
    "    \n",
    "    model = Model(inputs=inputs, outputs=[output, output_healthy, output_cmd])\n",
    "\n",
    "    return model"
   ]
  },
  {
   "cell_type": "markdown",
   "metadata": {
    "papermill": {
     "duration": 0.023777,
     "end_time": "2021-01-25T14:18:34.333881",
     "exception": false,
     "start_time": "2021-01-25T14:18:34.310104",
     "status": "completed"
    },
    "tags": []
   },
   "source": [
    "### Learning rate schedule"
   ]
  },
  {
   "cell_type": "code",
   "execution_count": 12,
   "metadata": {
    "_kg_hide-input": true,
    "execution": {
     "iopub.execute_input": "2021-01-25T14:18:34.402105Z",
     "iopub.status.busy": "2021-01-25T14:18:34.401392Z",
     "iopub.status.idle": "2021-01-25T14:19:24.849881Z",
     "shell.execute_reply": "2021-01-25T14:19:24.850495Z"
    },
    "papermill": {
     "duration": 50.492194,
     "end_time": "2021-01-25T14:19:24.850692",
     "exception": false,
     "start_time": "2021-01-25T14:18:34.358498",
     "status": "completed"
    },
    "tags": []
   },
   "outputs": [
    {
     "name": "stdout",
     "output_type": "stream",
     "text": [
      "11022 total steps and 334 steps per epoch\n",
      "Learning rate schedule: 1e-08 to 8e-05 to 1e-06\n"
     ]
    },
    {
     "data": {
      "image/png": "[encoded data removed]",
      "text/plain": [
       "<Figure size 1440x432 with 1 Axes>"
      ]
     },
     "metadata": {},
     "output_type": "display_data"
    }
   ],
   "source": [
    "lr_start = 1e-8\n",
    "lr_min = 1e-6\n",
    "lr_max = LEARNING_RATE\n",
    "num_cycles = 3.\n",
    "warmup_epochs = 3\n",
    "hold_max_epochs = 0\n",
    "total_epochs = EPOCHS\n",
    "step_size = (NUM_TRAINING_IMAGES//BATCH_SIZE)\n",
    "hold_max_steps = hold_max_epochs * step_size\n",
    "total_steps = total_epochs * step_size\n",
    "warmup_steps = warmup_epochs * step_size\n",
    "\n",
    "\n",
    "def lrfn(total_steps, warmup_steps=0, lr_start=1e-4, lr_max=1e-3, lr_min=1e-4, num_cycles=1.):\n",
    "    @tf.function\n",
    "    def cosine_with_hard_restarts_schedule_with_warmup_(step):\n",
    "        \"\"\" Create a schedule with a learning rate that decreases following the\n",
    "        values of the cosine function with several hard restarts, after a warmup\n",
    "        period during which it increases linearly between 0 and 1.\n",
    "        \"\"\"\n",
    "\n",
    "        if step < warmup_steps:\n",
    "            lr = (lr_max - lr_start) / warmup_steps * step + lr_start\n",
    "        else:\n",
    "            progress = (step - warmup_steps) / (total_steps - warmup_steps)\n",
    "            lr = lr_max * (0.5 * (1.0 + tf.math.cos(np.pi * ((num_cycles * progress) % 1.0))))\n",
    "            if lr_min is not None:\n",
    "                lr = tf.math.maximum(lr_min, float(lr))\n",
    "        return lr\n",
    "    return cosine_with_hard_restarts_schedule_with_warmup_\n",
    "\n",
    "lrfn_fn = lrfn(total_steps, warmup_steps, lr_start, lr_max, lr_min, num_cycles)\n",
    "rng = [i for i in range(total_steps)]\n",
    "y = [lrfn_fn(tf.cast(x, tf.float32)) for x in rng]\n",
    "\n",
    "sns.set(style='whitegrid')\n",
    "fig, ax = plt.subplots(figsize=(20, 6))\n",
    "plt.plot(rng, y)\n",
    "\n",
    "print(f'{total_steps} total steps and {step_size} steps per epoch')\n",
    "print(f'Learning rate schedule: {y[0]:.3g} to {max(y):.3g} to {y[-1]:.3g}')"
   ]
  },
  {
   "cell_type": "markdown",
   "metadata": {
    "papermill": {
     "duration": 0.025937,
     "end_time": "2021-01-25T14:19:24.902561",
     "exception": false,
     "start_time": "2021-01-25T14:19:24.876624",
     "status": "completed"
    },
    "tags": []
   },
   "source": [
    "# Training"
   ]
  },
  {
   "cell_type": "code",
   "execution_count": 13,
   "metadata": {
    "_kg_hide-input": true,
    "_kg_hide-output": true,
    "execution": {
     "iopub.execute_input": "2021-01-25T14:19:25.006747Z",
     "iopub.status.busy": "2021-01-25T14:19:24.968373Z",
     "iopub.status.idle": "2021-01-25T14:54:22.489674Z",
     "shell.execute_reply": "2021-01-25T14:54:22.488854Z"
    },
    "papermill": {
     "duration": 2097.561813,
     "end_time": "2021-01-25T14:54:22.489827",
     "exception": false,
     "start_time": "2021-01-25T14:19:24.928014",
     "status": "completed"
    },
    "tags": []
   },
   "outputs": [
    {
     "name": "stdout",
     "output_type": "stream",
     "text": [
      "\n",
      "FOLD: 1\n",
      "TRAIN: [ 0  2  3  4  5  7  9 10 11 12 13 14] VALID: [1 6 8]\n",
      "\n",
      "EPOCH 1/33\n",
      "time: 184.1s loss: 2.1861 accuracy: 0.5685 val_loss: 0.7758 val_accuracy: 0.8052 lr: 2.667e-05\n",
      "Saved model weights at \"model_0.h5\"\n",
      "\n",
      "EPOCH 2/33\n",
      "time: 66.3s loss: 1.2114 accuracy: 0.8211 val_loss: 0.6243 val_accuracy: 0.8648 lr: 5.334e-05\n",
      "Saved model weights at \"model_0.h5\"\n",
      "\n",
      "EPOCH 3/33\n",
      "time: 65.8s loss: 1.1335 accuracy: 0.8634 val_loss: 0.5905 val_accuracy: 0.8783 lr: 8e-05\n",
      "Saved model weights at \"model_0.h5\"\n",
      "\n",
      "EPOCH 4/33\n",
      "time: 65.1s loss: 1.1130 accuracy: 0.8738 val_loss: 0.6446 val_accuracy: 0.8688 lr: 7.804e-05\n",
      "\n",
      "EPOCH 5/33\n",
      "time: 61.4s loss: 1.0969 accuracy: 0.8817 val_loss: 0.5819 val_accuracy: 0.8691 lr: 7.236e-05\n",
      "\n",
      "EPOCH 6/33\n",
      "time: 63.8s loss: 1.0868 accuracy: 0.8889 val_loss: 0.5691 val_accuracy: 0.8814 lr: 6.351e-05\n",
      "Saved model weights at \"model_0.h5\"\n",
      "\n",
      "EPOCH 7/33\n",
      "time: 63.3s loss: 1.0784 accuracy: 0.8962 val_loss: 0.5389 val_accuracy: 0.8902 lr: 5.236e-05\n",
      "Saved model weights at \"model_0.h5\"\n",
      "\n",
      "EPOCH 8/33\n",
      "time: 61.9s loss: 1.0687 accuracy: 0.9009 val_loss: 0.5459 val_accuracy: 0.8880 lr: 4e-05\n",
      "\n",
      "EPOCH 9/33\n",
      "time: 61.1s loss: 1.0580 accuracy: 0.9078 val_loss: 0.5444 val_accuracy: 0.8902 lr: 2.764e-05\n",
      "Saved model weights at \"model_0.h5\"\n",
      "\n",
      "EPOCH 10/33\n",
      "time: 60.1s loss: 1.0481 accuracy: 0.9157 val_loss: 0.5459 val_accuracy: 0.8885 lr: 1.649e-05\n",
      "\n",
      "EPOCH 11/33\n",
      "time: 62.6s loss: 1.0377 accuracy: 0.9236 val_loss: 0.5418 val_accuracy: 0.8935 lr: 7.639e-06\n",
      "Saved model weights at \"model_0.h5\"\n",
      "\n",
      "EPOCH 12/33\n",
      "time: 60.6s loss: 1.0323 accuracy: 0.9274 val_loss: 0.5358 val_accuracy: 0.8909 lr: 1.958e-06\n",
      "\n",
      "EPOCH 13/33\n",
      "time: 62.5s loss: 1.0284 accuracy: 0.9324 val_loss: 0.5378 val_accuracy: 0.8928 lr: 8e-05\n",
      "\n",
      "EPOCH 14/33\n",
      "time: 62.4s loss: 1.0892 accuracy: 0.8878 val_loss: 0.5640 val_accuracy: 0.8871 lr: 7.804e-05\n",
      "\n",
      "EPOCH 15/33\n",
      "time: 63.0s loss: 1.0727 accuracy: 0.8958 val_loss: 0.5642 val_accuracy: 0.8859 lr: 7.236e-05\n",
      "\n",
      "EPOCH 16/33\n",
      "time: 61.4s loss: 1.0660 accuracy: 0.9017 val_loss: 0.5802 val_accuracy: 0.8622 lr: 6.351e-05\n",
      "\n",
      "EPOCH 17/33\n",
      "time: 60.5s loss: 1.0559 accuracy: 0.9091 val_loss: 0.5633 val_accuracy: 0.8821 lr: 5.236e-05\n",
      "\n",
      "EPOCH 18/33\n",
      "time: 61.2s loss: 1.0448 accuracy: 0.9190 val_loss: 0.5534 val_accuracy: 0.8892 lr: 4e-05\n",
      "\n",
      "EPOCH 19/33\n",
      "time: 62.2s loss: 1.0331 accuracy: 0.9268 val_loss: 0.5404 val_accuracy: 0.8904 lr: 2.764e-05\n",
      "\n",
      "EPOCH 20/33\n",
      "time: 61.2s loss: 1.0224 accuracy: 0.9357 val_loss: 0.5292 val_accuracy: 0.8944 lr: 1.649e-05\n",
      "Saved model weights at \"model_0.h5\"\n",
      "\n",
      "EPOCH 21/33\n",
      "time: 59.8s loss: 1.0087 accuracy: 0.9456 val_loss: 0.5372 val_accuracy: 0.8930 lr: 7.639e-06\n",
      "\n",
      "EPOCH 22/33\n",
      "time: 61.6s loss: 1.0022 accuracy: 0.9496 val_loss: 0.5391 val_accuracy: 0.8902 lr: 1.958e-06\n",
      "\n",
      "EPOCH 23/33\n",
      "time: 60.2s loss: 0.9962 accuracy: 0.9551 val_loss: 0.5380 val_accuracy: 0.8925 lr: 8e-05\n",
      "\n",
      "EPOCH 24/33\n",
      "time: 61.1s loss: 1.0600 accuracy: 0.9080 val_loss: 0.5416 val_accuracy: 0.8812 lr: 7.804e-05\n",
      "\n",
      "EPOCH 25/33\n",
      "time: 60.7s loss: 1.0538 accuracy: 0.9121 val_loss: 0.5802 val_accuracy: 0.8809 lr: 7.236e-05\n",
      "\n",
      "EPOCH 26/33\n",
      "time: 60.0s loss: 1.0454 accuracy: 0.9165 val_loss: 0.6013 val_accuracy: 0.8686 lr: 6.351e-05\n",
      "\n",
      "EPOCH 27/33\n",
      "time: 61.2s loss: 1.0351 accuracy: 0.9243 val_loss: 0.5598 val_accuracy: 0.8857 lr: 5.236e-05\n",
      "\n",
      "EPOCH 28/33\n",
      "time: 59.9s loss: 1.0217 accuracy: 0.9329 val_loss: 0.5695 val_accuracy: 0.8793 lr: 4e-05\n",
      "\n",
      "EPOCH 29/33\n",
      "time: 60.1s loss: 1.0102 accuracy: 0.9429 val_loss: 0.5579 val_accuracy: 0.8857 lr: 2.764e-05\n",
      "\n",
      "EPOCH 30/33\n",
      "time: 59.2s loss: 0.9989 accuracy: 0.9521 val_loss: 0.5518 val_accuracy: 0.8842 lr: 1.649e-05\n",
      "Epoch 00029: early stopping\n",
      "#### FOLD 1 OOF Accuracy = 0.894\n"
     ]
    }
   ],
   "source": [
    "skf = KFold(n_splits=N_FOLDS, shuffle=True, random_state=seed)\n",
    "oof_pred = []; oof_labels = []; oof_names = []; oof_folds = []; history_list = []\n",
    "\n",
    "for fold,(idxT, idxV) in enumerate(skf.split(np.arange(15))):\n",
    "    if fold >= FOLDS_USED:\n",
    "        break\n",
    "    if tpu: tf.tpu.experimental.initialize_tpu_system(tpu)\n",
    "    K.clear_session()\n",
    "    print(f'\\nFOLD: {fold+1}')\n",
    "    print(f'TRAIN: {idxT} VALID: {idxV}')\n",
    "\n",
    "    # Create train and validation sets\n",
    "    FILENAMES_COMP = tf.io.gfile.glob([GCS_PATH + '/Id_train%.2i*.tfrec' % x for x in idxT])\n",
    "#     FILENAMES_COMP_CBB = tf.io.gfile.glob([GCS_PATH_CLASSES + '/CBB%.2i*.tfrec' % x for x in idxT])\n",
    "#     FILENAMES_COMP_CBSD = tf.io.gfile.glob([GCS_PATH_CLASSES + '/CBSD%.2i*.tfrec' % x for x in idxT])\n",
    "#     FILENAMES_COMP_CGM = tf.io.gfile.glob([GCS_PATH_CLASSES + '/CGM%.2i*.tfrec' % x for x in idxT])\n",
    "#     FILENAMES_COMP_Healthy = tf.io.gfile.glob([GCS_PATH_CLASSES + '/Healthy%.2i*.tfrec' % x for x in idxT])\n",
    "    TRAIN_FILENAMES = FILENAMES_COMP\n",
    "    np.random.shuffle(TRAIN_FILENAMES)\n",
    "    \n",
    "    VALID_FILENAMES = tf.io.gfile.glob([GCS_PATH + '/Id_train%.2i*.tfrec' % x for x in idxV])\n",
    "    \n",
    "    ct_train = count_data_items(TRAIN_FILENAMES)\n",
    "    ct_valid = count_data_items(VALID_FILENAMES)\n",
    "    \n",
    "    step_size = (ct_train // BATCH_SIZE)\n",
    "    valid_step_size = (ct_valid // BATCH_SIZE)\n",
    "    total_steps = (total_epochs * step_size)\n",
    "    warmup_steps = (warmup_epochs * step_size)\n",
    "    \n",
    "    \n",
    "    # Build TF datasets\n",
    "    train_ds = strategy.experimental_distribute_dataset(get_dataset(TRAIN_FILENAMES, repeated=True, augment=True))\n",
    "    valid_ds = strategy.experimental_distribute_dataset(get_dataset(VALID_FILENAMES, ordered=True, repeated=True))\n",
    "    train_data_iter = iter(train_ds)\n",
    "    valid_data_iter = iter(valid_ds)\n",
    "    \n",
    "    \n",
    "    # Step functions\n",
    "    @tf.function\n",
    "    def train_step(data_iter):\n",
    "        def train_step_fn(x, y):\n",
    "            with tf.GradientTape() as tape:\n",
    "                probabilities = model(x, training=True)\n",
    "                loss = loss_fn(y[0], probabilities[0], label_smoothing=.3)\n",
    "                aux_loss = aux_loss_fn(y[1], probabilities[1], label_smoothing=.1) * 0.1 # loss weight\n",
    "                aux_2_loss = aux_2_loss_fn(y[2], probabilities[2], label_smoothing=.1) * 0.1 # loss weight\n",
    "                loss = loss + aux_loss + aux_2_loss\n",
    "            gradients = tape.gradient(loss, model.trainable_variables)\n",
    "            optimizer.apply_gradients(zip(gradients, model.trainable_variables))\n",
    "            # update metrics\n",
    "            train_accuracy.update_state(y[0], probabilities[0])\n",
    "#             train_aux_accuracy.update_state(y[1], probabilities[1])\n",
    "#             train_aux_2_accuracy.update_state(y[2], probabilities[2])\n",
    "            train_loss.update_state(loss)\n",
    "        for _ in tf.range(step_size):\n",
    "            strategy.experimental_run_v2(train_step_fn, next(data_iter))\n",
    "\n",
    "    @tf.function\n",
    "    def valid_step(data_iter):\n",
    "        def valid_step_fn(x, y):\n",
    "            probabilities = model(x, training=False)\n",
    "            loss = loss_fn(y[0], probabilities[0])\n",
    "            aux_loss = aux_loss_fn(y[1], probabilities[1]) * 0.1 # loss weight\n",
    "            aux_2_loss = aux_2_loss_fn(y[2], probabilities[2]) * 0.1 # loss weight\n",
    "            loss = loss + aux_loss + aux_2_loss\n",
    "            # update metrics\n",
    "            valid_accuracy.update_state(y[0], probabilities[0])\n",
    "#             valid_aux_accuracy.update_state(y[1], probabilities[1])\n",
    "#             valid_aux_2_accuracy.update_state(y[2], probabilities[2])\n",
    "            valid_loss.update_state(loss)\n",
    "        for _ in tf.range(valid_step_size):\n",
    "            strategy.experimental_run_v2(valid_step_fn, next(data_iter))\n",
    "    \n",
    "    \n",
    "    # Model\n",
    "    model_path = f'model_{fold}.h5'\n",
    "    with strategy.scope():\n",
    "        model = model_fn((None, None, CHANNELS), N_CLASSES)\n",
    "#         unfreeze_model(model) # unfreeze all layers except \"batch normalization\"\n",
    "        \n",
    "        lrfn_fn = lrfn(total_steps, warmup_steps, lr_start, lr_max, lr_min, num_cycles)\n",
    "#         optimizer = optimizers.SGD(learning_rate=lambda: lrfn_fn(tf.cast(optimizer.iterations, tf.float32)), \n",
    "#                                    momentum=0.95, nesterov=True)\n",
    "        optimizer = optimizers.Adam(learning_rate=lambda: lrfn_fn(tf.cast(optimizer.iterations, tf.float32)))\n",
    "        loss_fn = losses.categorical_crossentropy\n",
    "        aux_loss_fn = losses.binary_crossentropy\n",
    "        aux_2_loss_fn = losses.binary_crossentropy\n",
    "\n",
    "        train_accuracy = metrics.CategoricalAccuracy()\n",
    "        valid_accuracy = metrics.CategoricalAccuracy()\n",
    "#         train_aux_accuracy = metrics.BinaryAccuracy()\n",
    "#         valid_aux_accuracy = metrics.BinaryAccuracy()\n",
    "#         train_aux_2_accuracy = metrics.BinaryAccuracy()\n",
    "#         valid_aux_2_accuracy = metrics.BinaryAccuracy()\n",
    "        train_loss = metrics.Sum()\n",
    "        valid_loss = metrics.Sum()\n",
    "        \n",
    "        metrics_list = [train_accuracy, \n",
    "                        valid_accuracy, \n",
    "#                         train_aux_accuracy, \n",
    "#                         valid_aux_accuracy, \n",
    "#                         train_aux_2_accuracy, \n",
    "#                         valid_aux_2_accuracy, \n",
    "                        train_loss, \n",
    "                        valid_loss]\n",
    "    \n",
    "    \n",
    "    # Setup training loop\n",
    "    step = 0\n",
    "    epoch_steps = 0\n",
    "    patience_cnt = 0\n",
    "    best_val = 0\n",
    "    history = {'loss': [], 'val_loss': [], \n",
    "               'accuracy': [], 'val_accuracy': [], \n",
    "#                'accuracy_aux': [], 'val_accuracy_aux': [], \n",
    "#                'accuracy_aux_2': [], 'val_accuracy_aux_2': []\n",
    "              }\n",
    "\n",
    "    ### Train model\n",
    "    for epoch in range(EPOCHS):\n",
    "        epoch_start_time = time.time()\n",
    "\n",
    "        # Run training step\n",
    "        train_step(train_data_iter)\n",
    "        epoch_steps += step_size\n",
    "        step += step_size\n",
    "            \n",
    "\n",
    "        # Validation run at the end of each epoch\n",
    "        if (step // step_size) > epoch:\n",
    "            # Validation run\n",
    "            valid_epoch_steps = 0\n",
    "            valid_step(valid_data_iter)\n",
    "            valid_epoch_steps += valid_step_size\n",
    "\n",
    "            # Compute metrics\n",
    "#             history['accuracy_aux_2'].append(train_aux_2_accuracy.result().numpy())\n",
    "#             history['accuracy_aux'].append(train_aux_accuracy.result().numpy())\n",
    "            history['accuracy'].append(train_accuracy.result().numpy())\n",
    "            history['loss'].append(train_loss.result().numpy() / (BATCH_SIZE * epoch_steps))\n",
    "#             history['val_accuracy_aux_2'].append(valid_aux_2_accuracy.result().numpy())\n",
    "#             history['val_accuracy_aux'].append(valid_aux_accuracy.result().numpy())\n",
    "            history['val_accuracy'].append(valid_accuracy.result().numpy())\n",
    "            history['val_loss'].append(valid_loss.result().numpy() / (BATCH_SIZE * valid_epoch_steps))\n",
    "\n",
    "            # Report metrics\n",
    "            epoch_time = time.time() - epoch_start_time\n",
    "            print(f'\\nEPOCH {epoch+1}/{EPOCHS}')\n",
    "            print(f'time: {epoch_time:0.1f}s',\n",
    "                  f\"loss: {history['loss'][-1]:0.4f}\",\n",
    "#                   f\"accuracy_aux_2: {history['accuracy_aux_2'][-1]:0.4f}\",\n",
    "#                   f\"accuracy_aux: {history['accuracy_aux'][-1]:0.4f}\",\n",
    "                  f\"accuracy: {history['accuracy'][-1]:0.4f}\",\n",
    "                  f\"val_loss: {history['val_loss'][-1]:0.4f}\",\n",
    "#                   f\"val_accuracy_aux_2: {history['val_accuracy_aux_2'][-1]:0.4f}\",\n",
    "#                   f\"val_accuracy_aux: {history['val_accuracy_aux'][-1]:0.4f}\",\n",
    "                  f\"val_accuracy: {history['val_accuracy'][-1]:0.4f}\",\n",
    "                  f'lr: {lrfn_fn(tf.cast(optimizer.iterations, tf.int32).numpy()):0.4g}')\n",
    "\n",
    "            # Early stopping monitor\n",
    "            if history['val_accuracy'][-1] >= best_val:\n",
    "                best_val = history['val_accuracy'][-1]\n",
    "                model.save_weights(model_path)\n",
    "                print(f'Saved model weights at \"{model_path}\"')\n",
    "                patience_cnt = 1\n",
    "            else:\n",
    "                patience_cnt += 1\n",
    "            if patience_cnt > ES_PATIENCE:\n",
    "                print(f'Epoch {epoch:05d}: early stopping')\n",
    "                break\n",
    "\n",
    "                \n",
    "            # Set up next epoch\n",
    "            epoch_steps = 0\n",
    "            for metric in metrics_list:\n",
    "                metric.reset_states()\n",
    "    \n",
    "    \n",
    "    ### RESULTS\n",
    "    print(f\"#### FOLD {fold+1} OOF Accuracy = {np.max(history['val_accuracy']):.3f}\")\n",
    "    \n",
    "    history_list.append(history)\n",
    "    # Load best model weights\n",
    "    model.load_weights(model_path)\n",
    "\n",
    "    # OOF predictions\n",
    "    ds_valid = get_dataset(VALID_FILENAMES, ordered=True)\n",
    "    oof_folds.append(np.full((ct_valid), fold, dtype='int8'))\n",
    "    oof_labels.append([target[0].numpy() for img, target in iter(ds_valid.unbatch())])\n",
    "    x_oof = ds_valid.map(lambda image, target: image)\n",
    "    oof_pred.append(np.argmax(model.predict(x_oof)[0], axis=-1))\n",
    "    # OOF names\n",
    "    ds_valid_names = get_dataset(VALID_FILENAMES, labeled=False, ordered=True)\n",
    "    oof_names.append(np.array([img_name.numpy().decode('utf-8') for img, img_name in iter(ds_valid_names.unbatch())]))"
   ]
  },
  {
   "cell_type": "markdown",
   "metadata": {
    "papermill": {
     "duration": 0.038432,
     "end_time": "2021-01-25T14:54:22.567927",
     "exception": false,
     "start_time": "2021-01-25T14:54:22.529495",
     "status": "completed"
    },
    "tags": []
   },
   "source": [
    "## Model loss graph"
   ]
  },
  {
   "cell_type": "code",
   "execution_count": 14,
   "metadata": {
    "_kg_hide-input": true,
    "execution": {
     "iopub.execute_input": "2021-01-25T14:54:22.654316Z",
     "iopub.status.busy": "2021-01-25T14:54:22.653414Z",
     "iopub.status.idle": "2021-01-25T14:54:24.314003Z",
     "shell.execute_reply": "2021-01-25T14:54:24.313398Z"
    },
    "papermill": {
     "duration": 1.706219,
     "end_time": "2021-01-25T14:54:24.314121",
     "exception": false,
     "start_time": "2021-01-25T14:54:22.607902",
     "status": "completed"
    },
    "tags": []
   },
   "outputs": [
    {
     "name": "stdout",
     "output_type": "stream",
     "text": [
      "\n",
      "FOLD: 1\n"
     ]
    },
    {
     "data": {
      "image/png": "[encoded data removed]",
      "text/plain": [
       "<Figure size 1440x576 with 2 Axes>"
      ]
     },
     "metadata": {},
     "output_type": "display_data"
    }
   ],
   "source": [
    "for fold, history in enumerate(history_list):\n",
    "    print(f'\\nFOLD: {fold+1}')\n",
    "    plot_metrics(history)"
   ]
  },
  {
   "cell_type": "markdown",
   "metadata": {
    "papermill": {
     "duration": 0.041583,
     "end_time": "2021-01-25T14:54:24.397421",
     "exception": false,
     "start_time": "2021-01-25T14:54:24.355838",
     "status": "completed"
    },
    "tags": []
   },
   "source": [
    "# Model evaluation"
   ]
  },
  {
   "cell_type": "code",
   "execution_count": 15,
   "metadata": {
    "_kg_hide-input": true,
    "execution": {
     "iopub.execute_input": "2021-01-25T14:54:24.489668Z",
     "iopub.status.busy": "2021-01-25T14:54:24.488867Z",
     "iopub.status.idle": "2021-01-25T14:54:24.604472Z",
     "shell.execute_reply": "2021-01-25T14:54:24.603922Z"
    },
    "papermill": {
     "duration": 0.166119,
     "end_time": "2021-01-25T14:54:24.604600",
     "exception": false,
     "start_time": "2021-01-25T14:54:24.438481",
     "status": "completed"
    },
    "tags": []
   },
   "outputs": [
    {
     "name": "stdout",
     "output_type": "stream",
     "text": [
      "Overall OOF Accuracy = 0.893\n"
     ]
    },
    {
     "data": {
      "text/html": [
       "<div>\n",
       "<style scoped>\n",
       "    .dataframe tbody tr th:only-of-type {\n",
       "        vertical-align: middle;\n",
       "    }\n",
       "\n",
       "    .dataframe tbody tr th {\n",
       "        vertical-align: top;\n",
       "    }\n",
       "\n",
       "    .dataframe thead th {\n",
       "        text-align: right;\n",
       "    }\n",
       "</style>\n",
       "<table border=\"1\" class=\"dataframe\">\n",
       "  <thead>\n",
       "    <tr style=\"text-align: right;\">\n",
       "      <th></th>\n",
       "      <th>image_id</th>\n",
       "      <th>fold</th>\n",
       "      <th>target</th>\n",
       "      <th>pred</th>\n",
       "    </tr>\n",
       "  </thead>\n",
       "  <tbody>\n",
       "    <tr>\n",
       "      <th>0</th>\n",
       "      <td>1000201771.jpg</td>\n",
       "      <td>0</td>\n",
       "      <td>3</td>\n",
       "      <td>3</td>\n",
       "    </tr>\n",
       "    <tr>\n",
       "      <th>1</th>\n",
       "      <td>1000837476.jpg</td>\n",
       "      <td>0</td>\n",
       "      <td>3</td>\n",
       "      <td>3</td>\n",
       "    </tr>\n",
       "    <tr>\n",
       "      <th>2</th>\n",
       "      <td>1001723730.jpg</td>\n",
       "      <td>0</td>\n",
       "      <td>4</td>\n",
       "      <td>0</td>\n",
       "    </tr>\n",
       "    <tr>\n",
       "      <th>3</th>\n",
       "      <td>1001749118.jpg</td>\n",
       "      <td>0</td>\n",
       "      <td>3</td>\n",
       "      <td>3</td>\n",
       "    </tr>\n",
       "    <tr>\n",
       "      <th>4</th>\n",
       "      <td>1008284502.jpg</td>\n",
       "      <td>0</td>\n",
       "      <td>3</td>\n",
       "      <td>3</td>\n",
       "    </tr>\n",
       "  </tbody>\n",
       "</table>\n",
       "</div>"
      ],
      "text/plain": [
       "         image_id  fold  target  pred\n",
       "0  1000201771.jpg     0       3     3\n",
       "1  1000837476.jpg     0       3     3\n",
       "2  1001723730.jpg     0       4     0\n",
       "3  1001749118.jpg     0       3     3\n",
       "4  1008284502.jpg     0       3     3"
      ]
     },
     "metadata": {},
     "output_type": "display_data"
    },
    {
     "name": "stdout",
     "output_type": "stream",
     "text": [
      "                              precision    recall  f1-score   support\n",
      "\n",
      "    Cassava Bacterial Blight       0.68      0.64      0.66       217\n",
      "Cassava Brown Streak Disease       0.86      0.78      0.82       437\n",
      "        Cassava Green Mottle       0.86      0.80      0.83       478\n",
      "      Cassava Mosaic Disease       0.96      0.97      0.97      2633\n",
      "                     Healthy       0.72      0.78      0.75       514\n",
      "\n",
      "                    accuracy                           0.89      4279\n",
      "                   macro avg       0.81      0.79      0.80      4279\n",
      "                weighted avg       0.89      0.89      0.89      4279\n",
      "\n"
     ]
    }
   ],
   "source": [
    "y_true = np.concatenate(oof_labels)\n",
    "y_true = np.argmax(y_true, axis=-1)\n",
    "y_pred = np.concatenate(oof_pred)\n",
    "folds = np.concatenate(oof_folds)\n",
    "names = np.concatenate(oof_names)\n",
    "\n",
    "acc = accuracy_score(y_true, y_pred)\n",
    "print(f'Overall OOF Accuracy = {acc:.3f}')\n",
    "\n",
    "df_oof = pd.DataFrame({'image_id':names, 'fold':fold, \n",
    "                       'target':y_true, 'pred':y_pred})\n",
    "df_oof.to_csv('oof.csv', index=False)\n",
    "display(df_oof.head())\n",
    "\n",
    "print(classification_report(y_true, y_pred, target_names=CLASSES))"
   ]
  },
  {
   "cell_type": "markdown",
   "metadata": {
    "papermill": {
     "duration": 0.04157,
     "end_time": "2021-01-25T14:54:24.688503",
     "exception": false,
     "start_time": "2021-01-25T14:54:24.646933",
     "status": "completed"
    },
    "tags": []
   },
   "source": [
    "# Confusion matrix"
   ]
  },
  {
   "cell_type": "code",
   "execution_count": 16,
   "metadata": {
    "_kg_hide-input": true,
    "execution": {
     "iopub.execute_input": "2021-01-25T14:54:24.792175Z",
     "iopub.status.busy": "2021-01-25T14:54:24.783564Z",
     "iopub.status.idle": "2021-01-25T14:54:25.171559Z",
     "shell.execute_reply": "2021-01-25T14:54:25.172043Z"
    },
    "papermill": {
     "duration": 0.439915,
     "end_time": "2021-01-25T14:54:25.172222",
     "exception": false,
     "start_time": "2021-01-25T14:54:24.732307",
     "status": "completed"
    },
    "tags": []
   },
   "outputs": [
    {
     "data": {
      "image/png": "[encoded data removed]",
      "text/plain": [
       "<Figure size 1440x864 with 2 Axes>"
      ]
     },
     "metadata": {},
     "output_type": "display_data"
    }
   ],
   "source": [
    "fig, ax = plt.subplots(1, 1, figsize=(20, 12))\n",
    "cfn_matrix = confusion_matrix(y_true, y_pred, labels=range(len(CLASSES)))\n",
    "cfn_matrix = (cfn_matrix.T / cfn_matrix.sum(axis=1)).T\n",
    "df_cm = pd.DataFrame(cfn_matrix, index=CLASSES, columns=CLASSES)\n",
    "ax = sns.heatmap(df_cm, cmap='Blues', annot=True, fmt='.2f', linewidths=.5).set_title('Train', fontsize=30)\n",
    "plt.show()"
   ]
  },
  {
   "cell_type": "markdown",
   "metadata": {
    "papermill": {
     "duration": 0.043825,
     "end_time": "2021-01-25T14:54:25.259560",
     "exception": false,
     "start_time": "2021-01-25T14:54:25.215735",
     "status": "completed"
    },
    "tags": []
   },
   "source": [
    "# Visualize predictions"
   ]
  },
  {
   "cell_type": "code",
   "execution_count": 17,
   "metadata": {
    "_kg_hide-input": true,
    "execution": {
     "iopub.execute_input": "2021-01-25T14:54:25.353716Z",
     "iopub.status.busy": "2021-01-25T14:54:25.352864Z",
     "iopub.status.idle": "2021-01-25T14:54:25.357986Z",
     "shell.execute_reply": "2021-01-25T14:54:25.357461Z"
    },
    "papermill": {
     "duration": 0.054905,
     "end_time": "2021-01-25T14:54:25.358111",
     "exception": false,
     "start_time": "2021-01-25T14:54:25.303206",
     "status": "completed"
    },
    "tags": []
   },
   "outputs": [],
   "source": [
    "# train_dataset = get_dataset(TRAINING_FILENAMES, ordered=True)\n",
    "# x_samp, y_samp = dataset_to_numpy_util(train_dataset, 18)\n",
    "# y_samp = np.argmax(y_samp, axis=-1)\n",
    "\n",
    "# x_samp_1, y_samp_1 = x_samp[:9,:,:,:], y_samp[:9]\n",
    "# samp_preds_1 = model.predict(x_samp_1, batch_size=9)\n",
    "# display_9_images_with_predictions(x_samp_1, samp_preds_1, y_samp_1)\n",
    "\n",
    "# x_samp_2, y_samp_2 = x_samp[9:,:,:,:], y_samp[9:]\n",
    "# samp_preds_2 = model.predict(x_samp_2, batch_size=9)\n",
    "# display_9_images_with_predictions(x_samp_2, samp_preds_2, y_samp_2)"
   ]
  }
 ],
 "metadata": {
  "kernelspec": {
   "display_name": "Python 3",
   "language": "python",
   "name": "python3"
  },
  "language_info": {
   "codemirror_mode": {
    "name": "ipython",
    "version": 3
   },
   "file_extension": ".py",
   "mimetype": "text/x-python",
   "name": "python",
   "nbconvert_exporter": "python",
   "pygments_lexer": "ipython3",
   "version": "3.7.6"
  },
  "papermill": {
   "duration": 2171.366956,
   "end_time": "2021-01-25T14:54:25.612906",
   "environment_variables": {},
   "exception": null,
   "input_path": "__notebook__.ipynb",
   "output_path": "__notebook__.ipynb",
   "parameters": {},
   "start_time": "2021-01-25T14:18:14.245950",
   "version": "2.1.0"
  }
 },
 "nbformat": 4,
 "nbformat_minor": 4
}
