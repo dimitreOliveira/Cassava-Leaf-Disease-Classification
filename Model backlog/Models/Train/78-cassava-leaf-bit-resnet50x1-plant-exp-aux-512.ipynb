{
 "cells": [
  {
   "cell_type": "markdown",
   "metadata": {
    "papermill": {
     "duration": 0.022083,
     "end_time": "2021-01-25T02:35:16.073812",
     "exception": false,
     "start_time": "2021-01-25T02:35:16.051729",
     "status": "completed"
    },
    "tags": []
   },
   "source": [
    "## Dependencies"
   ]
  },
  {
   "cell_type": "code",
   "execution_count": 1,
   "metadata": {
    "_kg_hide-input": true,
    "_kg_hide-output": true,
    "execution": {
     "iopub.execute_input": "2021-01-25T02:35:16.120613Z",
     "iopub.status.busy": "2021-01-25T02:35:16.119841Z",
     "iopub.status.idle": "2021-01-25T02:35:16.124578Z",
     "shell.execute_reply": "2021-01-25T02:35:16.123808Z"
    },
    "papermill": {
     "duration": 0.029271,
     "end_time": "2021-01-25T02:35:16.124704",
     "exception": false,
     "start_time": "2021-01-25T02:35:16.095433",
     "status": "completed"
    },
    "tags": []
   },
   "outputs": [],
   "source": [
    "# !pip install --quiet efficientnet"
   ]
  },
  {
   "cell_type": "code",
   "execution_count": 2,
   "metadata": {
    "_cell_guid": "b1076dfc-b9ad-4769-8c92-a6c4dae69d19",
    "_kg_hide-input": true,
    "_kg_hide-output": true,
    "_uuid": "8f2839f25d086af736a60e9eeb907d3b93b6e0e5",
    "execution": {
     "iopub.execute_input": "2021-01-25T02:35:16.176061Z",
     "iopub.status.busy": "2021-01-25T02:35:16.175019Z",
     "iopub.status.idle": "2021-01-25T02:35:25.056947Z",
     "shell.execute_reply": "2021-01-25T02:35:25.057717Z"
    },
    "papermill": {
     "duration": 8.912295,
     "end_time": "2021-01-25T02:35:25.057891",
     "exception": false,
     "start_time": "2021-01-25T02:35:16.145596",
     "status": "completed"
    },
    "tags": []
   },
   "outputs": [],
   "source": [
    "import warnings, time\n",
    "from kaggle_datasets import KaggleDatasets\n",
    "from sklearn.model_selection import KFold\n",
    "from sklearn.metrics import classification_report, confusion_matrix, accuracy_score\n",
    "from tensorflow.keras import optimizers, Sequential, losses, metrics, Model\n",
    "from tensorflow.keras.callbacks import EarlyStopping\n",
    "# import efficientnet.tfkeras as efn\n",
    "from cassava_scripts import *\n",
    "from scripts_step_lr_schedulers import *\n",
    "\n",
    "\n",
    "seed = 0\n",
    "seed_everything(seed)\n",
    "warnings.filterwarnings('ignore')"
   ]
  },
  {
   "cell_type": "markdown",
   "metadata": {
    "papermill": {
     "duration": 0.020605,
     "end_time": "2021-01-25T02:35:25.101135",
     "exception": false,
     "start_time": "2021-01-25T02:35:25.080530",
     "status": "completed"
    },
    "tags": []
   },
   "source": [
    "### Hardware configuration"
   ]
  },
  {
   "cell_type": "code",
   "execution_count": 3,
   "metadata": {
    "_kg_hide-input": true,
    "execution": {
     "iopub.execute_input": "2021-01-25T02:35:25.160323Z",
     "iopub.status.busy": "2021-01-25T02:35:25.159255Z",
     "iopub.status.idle": "2021-01-25T02:35:29.425092Z",
     "shell.execute_reply": "2021-01-25T02:35:29.425677Z"
    },
    "papermill": {
     "duration": 4.303517,
     "end_time": "2021-01-25T02:35:29.425859",
     "exception": false,
     "start_time": "2021-01-25T02:35:25.122342",
     "status": "completed"
    },
    "tags": []
   },
   "outputs": [
    {
     "name": "stdout",
     "output_type": "stream",
     "text": [
      "Running on TPU grpc://10.0.0.2:8470\n",
      "REPLICAS: 8\n"
     ]
    }
   ],
   "source": [
    "# TPU or GPU detection\n",
    "# Detect hardware, return appropriate distribution strategy\n",
    "strategy, tpu = set_up_strategy()\n",
    "\n",
    "AUTO = tf.data.experimental.AUTOTUNE\n",
    "REPLICAS = strategy.num_replicas_in_sync\n",
    "print(f'REPLICAS: {REPLICAS}')"
   ]
  },
  {
   "cell_type": "markdown",
   "metadata": {
    "papermill": {
     "duration": 0.020902,
     "end_time": "2021-01-25T02:35:29.468631",
     "exception": false,
     "start_time": "2021-01-25T02:35:29.447729",
     "status": "completed"
    },
    "tags": []
   },
   "source": [
    "# Model parameters"
   ]
  },
  {
   "cell_type": "code",
   "execution_count": 4,
   "metadata": {
    "execution": {
     "iopub.execute_input": "2021-01-25T02:35:29.516236Z",
     "iopub.status.busy": "2021-01-25T02:35:29.515451Z",
     "iopub.status.idle": "2021-01-25T02:35:29.522105Z",
     "shell.execute_reply": "2021-01-25T02:35:29.522660Z"
    },
    "papermill": {
     "duration": 0.032531,
     "end_time": "2021-01-25T02:35:29.522851",
     "exception": false,
     "start_time": "2021-01-25T02:35:29.490320",
     "status": "completed"
    },
    "tags": []
   },
   "outputs": [],
   "source": [
    "BATCH_SIZE = 8 * REPLICAS\n",
    "LEARNING_RATE = 1e-5 * REPLICAS\n",
    "EPOCHS = 33\n",
    "HEIGHT = 512\n",
    "WIDTH = 512\n",
    "HEIGHT_DT = 512\n",
    "WIDTH_DT = 512\n",
    "CHANNELS = 3\n",
    "N_CLASSES = 5\n",
    "N_FOLDS = 5\n",
    "FOLDS_USED = 1\n",
    "ES_PATIENCE = 10"
   ]
  },
  {
   "cell_type": "markdown",
   "metadata": {
    "papermill": {
     "duration": 0.02151,
     "end_time": "2021-01-25T02:35:29.567844",
     "exception": false,
     "start_time": "2021-01-25T02:35:29.546334",
     "status": "completed"
    },
    "tags": []
   },
   "source": [
    "# Load data"
   ]
  },
  {
   "cell_type": "code",
   "execution_count": 5,
   "metadata": {
    "_kg_hide-input": true,
    "execution": {
     "iopub.execute_input": "2021-01-25T02:35:29.616701Z",
     "iopub.status.busy": "2021-01-25T02:35:29.615916Z",
     "iopub.status.idle": "2021-01-25T02:35:30.133018Z",
     "shell.execute_reply": "2021-01-25T02:35:30.133573Z"
    },
    "papermill": {
     "duration": 0.542623,
     "end_time": "2021-01-25T02:35:30.133723",
     "exception": false,
     "start_time": "2021-01-25T02:35:29.591100",
     "status": "completed"
    },
    "tags": []
   },
   "outputs": [
    {
     "name": "stdout",
     "output_type": "stream",
     "text": [
      "Train samples: 21397\n",
      "GCS: train images: 21395\n"
     ]
    },
    {
     "data": {
      "text/html": [
       "<div>\n",
       "<style scoped>\n",
       "    .dataframe tbody tr th:only-of-type {\n",
       "        vertical-align: middle;\n",
       "    }\n",
       "\n",
       "    .dataframe tbody tr th {\n",
       "        vertical-align: top;\n",
       "    }\n",
       "\n",
       "    .dataframe thead th {\n",
       "        text-align: right;\n",
       "    }\n",
       "</style>\n",
       "<table border=\"1\" class=\"dataframe\">\n",
       "  <thead>\n",
       "    <tr style=\"text-align: right;\">\n",
       "      <th></th>\n",
       "      <th>image_id</th>\n",
       "      <th>label</th>\n",
       "    </tr>\n",
       "  </thead>\n",
       "  <tbody>\n",
       "    <tr>\n",
       "      <th>0</th>\n",
       "      <td>1000015157.jpg</td>\n",
       "      <td>0</td>\n",
       "    </tr>\n",
       "    <tr>\n",
       "      <th>1</th>\n",
       "      <td>1000201771.jpg</td>\n",
       "      <td>3</td>\n",
       "    </tr>\n",
       "    <tr>\n",
       "      <th>2</th>\n",
       "      <td>100042118.jpg</td>\n",
       "      <td>1</td>\n",
       "    </tr>\n",
       "    <tr>\n",
       "      <th>3</th>\n",
       "      <td>1000723321.jpg</td>\n",
       "      <td>1</td>\n",
       "    </tr>\n",
       "    <tr>\n",
       "      <th>4</th>\n",
       "      <td>1000812911.jpg</td>\n",
       "      <td>3</td>\n",
       "    </tr>\n",
       "  </tbody>\n",
       "</table>\n",
       "</div>"
      ],
      "text/plain": [
       "         image_id  label\n",
       "0  1000015157.jpg      0\n",
       "1  1000201771.jpg      3\n",
       "2   100042118.jpg      1\n",
       "3  1000723321.jpg      1\n",
       "4  1000812911.jpg      3"
      ]
     },
     "metadata": {},
     "output_type": "display_data"
    }
   ],
   "source": [
    "database_base_path = '/kaggle/input/cassava-leaf-disease-classification/'\n",
    "train = pd.read_csv(f'{database_base_path}train.csv')\n",
    "print(f'Train samples: {len(train)}')\n",
    "\n",
    "GCS_PATH = KaggleDatasets().get_gcs_path(f'cassava-leaf-disease-tfrecords-center-{HEIGHT_DT}x{WIDTH_DT}') # Center croped and resized (50 TFRecord)\n",
    "# GCS_PATH_EXT = KaggleDatasets().get_gcs_path(f'cassava-leaf-disease-tfrecords-external-{HEIGHT_DT}x{WIDTH_DT}') # Center croped and resized (50 TFRecord) (External)\n",
    "# GCS_PATH_CLASSES = KaggleDatasets().get_gcs_path(f'cassava-leaf-disease-tfrecords-classes-{HEIGHT_DT}x{WIDTH_DT}') # Center croped and resized (50 TFRecord) by classes\n",
    "# GCS_PATH_EXT_CLASSES = KaggleDatasets().get_gcs_path(f'cassava-leaf-disease-tfrecords-classes-ext-{HEIGHT_DT}x{WIDTH_DT}') # Center croped and resized (50 TFRecord) (External) by classes\n",
    "\n",
    "\n",
    "FILENAMES_COMP = tf.io.gfile.glob(GCS_PATH + '/*.tfrec')\n",
    "# FILENAMES_2019 = tf.io.gfile.glob(GCS_PATH_EXT + '/*.tfrec')\n",
    "\n",
    "# FILENAMES_COMP_CBB = tf.io.gfile.glob(GCS_PATH_CLASSES + '/CBB*.tfrec')\n",
    "# FILENAMES_COMP_CBSD = tf.io.gfile.glob(GCS_PATH_CLASSES + '/CBSD*.tfrec')\n",
    "# FILENAMES_COMP_CGM = tf.io.gfile.glob(GCS_PATH_CLASSES + '/CGM*.tfrec')\n",
    "# FILENAMES_COMP_CMD = tf.io.gfile.glob(GCS_PATH_CLASSES + '/CMD*.tfrec')\n",
    "# FILENAMES_COMP_Healthy = tf.io.gfile.glob(GCS_PATH_CLASSES + '/Healthy*.tfrec')\n",
    "\n",
    "# FILENAMES_2019_CBB = tf.io.gfile.glob(GCS_PATH_EXT_CLASSES + '/CBB*.tfrec')\n",
    "# FILENAMES_2019_CBSD = tf.io.gfile.glob(GCS_PATH_EXT_CLASSES + '/CBSD*.tfrec')\n",
    "# FILENAMES_2019_CGM = tf.io.gfile.glob(GCS_PATH_EXT_CLASSES + '/CGM*.tfrec')\n",
    "# FILENAMES_2019_CMD = tf.io.gfile.glob(GCS_PATH_EXT_CLASSES + '/CMD*.tfrec')\n",
    "# FILENAMES_2019_Healthy = tf.io.gfile.glob(GCS_PATH_EXT_CLASSES + '/Healthy*.tfrec')\n",
    "\n",
    "\n",
    "TRAINING_FILENAMES = FILENAMES_COMP\n",
    "\n",
    "NUM_TRAINING_IMAGES = count_data_items(TRAINING_FILENAMES)\n",
    "\n",
    "print(f'GCS: train images: {NUM_TRAINING_IMAGES}')\n",
    "display(train.head())"
   ]
  },
  {
   "cell_type": "markdown",
   "metadata": {
    "papermill": {
     "duration": 0.021968,
     "end_time": "2021-01-25T02:35:30.179340",
     "exception": false,
     "start_time": "2021-01-25T02:35:30.157372",
     "status": "completed"
    },
    "tags": []
   },
   "source": [
    "# Augmentation"
   ]
  },
  {
   "cell_type": "code",
   "execution_count": 6,
   "metadata": {
    "execution": {
     "iopub.execute_input": "2021-01-25T02:35:30.228151Z",
     "iopub.status.busy": "2021-01-25T02:35:30.227410Z",
     "iopub.status.idle": "2021-01-25T02:35:30.249485Z",
     "shell.execute_reply": "2021-01-25T02:35:30.250190Z"
    },
    "papermill": {
     "duration": 0.048493,
     "end_time": "2021-01-25T02:35:30.250367",
     "exception": false,
     "start_time": "2021-01-25T02:35:30.201874",
     "status": "completed"
    },
    "tags": []
   },
   "outputs": [],
   "source": [
    "def data_augment(image, label):\n",
    "#     p_rotation = tf.random.uniform([], 0, 1.0, dtype=tf.float32)\n",
    "    p_spatial = tf.random.uniform([], 0, 1.0, dtype=tf.float32)\n",
    "    p_rotate = tf.random.uniform([], 0, 1.0, dtype=tf.float32)\n",
    "    p_pixel_1 = tf.random.uniform([], 0, 1.0, dtype=tf.float32)\n",
    "    p_pixel_2 = tf.random.uniform([], 0, 1.0, dtype=tf.float32)\n",
    "    p_pixel_3 = tf.random.uniform([], 0, 1.0, dtype=tf.float32)\n",
    "#     p_shear = tf.random.uniform([], 0, 1.0, dtype=tf.float32)\n",
    "    p_crop = tf.random.uniform([], 0, 1.0, dtype=tf.float32)\n",
    "    p_cutout = tf.random.uniform([], 0, 1.0, dtype=tf.float32)\n",
    "    \n",
    "#     # Shear\n",
    "#     if p_shear > .2:\n",
    "#         if p_shear > .6:\n",
    "#             image = transform_shear(image, HEIGHT, shear=20.)\n",
    "#         else:\n",
    "#             image = transform_shear(image, HEIGHT, shear=-20.)\n",
    "            \n",
    "#     # Rotation\n",
    "#     if p_rotation > .2:\n",
    "#         if p_rotation > .6:\n",
    "#             image = transform_rotation(image, HEIGHT, rotation=45.)\n",
    "#         else:\n",
    "#             image = transform_rotation(image, HEIGHT, rotation=-45.)\n",
    "            \n",
    "    # Flips\n",
    "    image = tf.image.random_flip_left_right(image)\n",
    "    image = tf.image.random_flip_up_down(image)\n",
    "    if p_spatial > .75:\n",
    "        image = tf.image.transpose(image)\n",
    "        \n",
    "    # Rotates\n",
    "    if p_rotate > .75:\n",
    "        image = tf.image.rot90(image, k=3) # rotate 270º\n",
    "    elif p_rotate > .5:\n",
    "        image = tf.image.rot90(image, k=2) # rotate 180º\n",
    "    elif p_rotate > .25:\n",
    "        image = tf.image.rot90(image, k=1) # rotate 90º\n",
    "        \n",
    "    # Pixel-level transforms\n",
    "    if p_pixel_1 >= .4:\n",
    "        image = tf.image.random_saturation(image, lower=.7, upper=1.3)\n",
    "    if p_pixel_2 >= .4:\n",
    "        image = tf.image.random_contrast(image, lower=.8, upper=1.2)\n",
    "    if p_pixel_3 >= .4:\n",
    "        image = tf.image.random_brightness(image, max_delta=.1)\n",
    "        \n",
    "    # Crops\n",
    "    if p_crop > .6:\n",
    "        if p_crop > .9:\n",
    "            image = tf.image.central_crop(image, central_fraction=.5)\n",
    "        elif p_crop > .8:\n",
    "            image = tf.image.central_crop(image, central_fraction=.6)\n",
    "        elif p_crop > .7:\n",
    "            image = tf.image.central_crop(image, central_fraction=.7)\n",
    "        else:\n",
    "            image = tf.image.central_crop(image, central_fraction=.8)\n",
    "    elif p_crop > .3:\n",
    "        crop_size = tf.random.uniform([], int(HEIGHT*.6), HEIGHT, dtype=tf.int32)\n",
    "        image = tf.image.random_crop(image, size=[crop_size, crop_size, CHANNELS])\n",
    "            \n",
    "    image = tf.image.resize(image, size=[HEIGHT, WIDTH])\n",
    "\n",
    "    if p_cutout > .5:\n",
    "        image = data_augment_cutout(image)\n",
    "        \n",
    "    return image, label"
   ]
  },
  {
   "cell_type": "markdown",
   "metadata": {
    "papermill": {
     "duration": 0.022667,
     "end_time": "2021-01-25T02:35:30.295559",
     "exception": false,
     "start_time": "2021-01-25T02:35:30.272892",
     "status": "completed"
    },
    "tags": []
   },
   "source": [
    "## Auxiliary functions"
   ]
  },
  {
   "cell_type": "code",
   "execution_count": 7,
   "metadata": {
    "_kg_hide-input": true,
    "execution": {
     "iopub.execute_input": "2021-01-25T02:35:30.344402Z",
     "iopub.status.busy": "2021-01-25T02:35:30.343715Z",
     "iopub.status.idle": "2021-01-25T02:35:30.355920Z",
     "shell.execute_reply": "2021-01-25T02:35:30.356432Z"
    },
    "papermill": {
     "duration": 0.038475,
     "end_time": "2021-01-25T02:35:30.356593",
     "exception": false,
     "start_time": "2021-01-25T02:35:30.318118",
     "status": "completed"
    },
    "tags": []
   },
   "outputs": [],
   "source": [
    "# CutOut\n",
    "def data_augment_cutout(image, min_mask_size=(int(HEIGHT * .1), int(HEIGHT * .1)), \n",
    "                        max_mask_size=(int(HEIGHT * .125), int(HEIGHT * .125))):\n",
    "    p_cutout = tf.random.uniform([], 0, 1.0, dtype=tf.float32)\n",
    "    \n",
    "    if p_cutout > .85: # 10~15 cut outs\n",
    "        n_cutout = tf.random.uniform([], 10, 15, dtype=tf.int32)\n",
    "        image = random_cutout(image, HEIGHT, WIDTH, \n",
    "                              min_mask_size=min_mask_size, max_mask_size=max_mask_size, k=n_cutout)\n",
    "    elif p_cutout > .6: # 5~10 cut outs\n",
    "        n_cutout = tf.random.uniform([], 5, 10, dtype=tf.int32)\n",
    "        image = random_cutout(image, HEIGHT, WIDTH, \n",
    "                              min_mask_size=min_mask_size, max_mask_size=max_mask_size, k=n_cutout)\n",
    "    elif p_cutout > .25: # 2~5 cut outs\n",
    "        n_cutout = tf.random.uniform([], 2, 5, dtype=tf.int32)\n",
    "        image = random_cutout(image, HEIGHT, WIDTH, \n",
    "                              min_mask_size=min_mask_size, max_mask_size=max_mask_size, k=n_cutout)\n",
    "    else: # 1 cut out\n",
    "        image = random_cutout(image, HEIGHT, WIDTH, \n",
    "                              min_mask_size=min_mask_size, max_mask_size=max_mask_size, k=1)\n",
    "\n",
    "    return image"
   ]
  },
  {
   "cell_type": "code",
   "execution_count": 8,
   "metadata": {
    "_cell_guid": "79c7e3d0-c299-4dcb-8224-4455121ee9b0",
    "_kg_hide-input": true,
    "_uuid": "d629ff2d2480ee46fbb7e2d37f6b5fab8052498a",
    "execution": {
     "iopub.execute_input": "2021-01-25T02:35:30.405366Z",
     "iopub.status.busy": "2021-01-25T02:35:30.404625Z",
     "iopub.status.idle": "2021-01-25T02:35:30.433049Z",
     "shell.execute_reply": "2021-01-25T02:35:30.433574Z"
    },
    "papermill": {
     "duration": 0.054614,
     "end_time": "2021-01-25T02:35:30.433758",
     "exception": false,
     "start_time": "2021-01-25T02:35:30.379144",
     "status": "completed"
    },
    "tags": []
   },
   "outputs": [],
   "source": [
    "# Datasets utility functions\n",
    "def random_crop(image, label):\n",
    "    \"\"\"\n",
    "        Resize and reshape images to the expected size.\n",
    "    \"\"\"\n",
    "    image = tf.image.random_crop(image, size=[HEIGHT, WIDTH, CHANNELS])\n",
    "    return image, label\n",
    "\n",
    "def prepare_image(image, label):\n",
    "    \"\"\"\n",
    "        Resize and reshape images to the expected size.\n",
    "    \"\"\"\n",
    "    \n",
    "    ch_1 = (tf.cast(image[:, :, 0], tf.float32) - 0.485)/ 0.229\n",
    "    ch_2 = (tf.cast(image[:, :, 1], tf.float32) - 0.456)/ 0.224\n",
    "    ch_3 = (tf.cast(image[:, :, 2], tf.float32) - 0.406)/ 0.225\n",
    "    image = tf.stack([ch_1, ch_2, ch_3], axis=2)\n",
    "    \n",
    "    image = tf.image.resize(image, [HEIGHT, WIDTH])\n",
    "    image = tf.reshape(image, [HEIGHT, WIDTH, CHANNELS])\n",
    "    return image, label\n",
    "\n",
    "def center_crop_(image, label, height_rs, width_rs, height=HEIGHT_DT, width=WIDTH_DT, channels=3):\n",
    "    image = tf.reshape(image, [height, width, channels]) # Original shape\n",
    "    \n",
    "    h, w = image.shape[0], image.shape[1]\n",
    "    if h > w:\n",
    "        image = tf.image.crop_to_bounding_box(image, (h - w) // 2, 0, w, w)\n",
    "    else:\n",
    "        image = tf.image.crop_to_bounding_box(image, 0, (w - h) // 2, h, h)\n",
    "        \n",
    "    image = tf.image.resize(image, [height_rs, width_rs]) # Expected shape\n",
    "    return image, label\n",
    "\n",
    "def get_dataset(filenames, labeled=True, ordered=False, repeated=False, \n",
    "                cached=False, augment=False):\n",
    "    \"\"\"\n",
    "        Return a Tensorflow dataset ready for training or inference.\n",
    "    \"\"\"\n",
    "    \n",
    "    ignore_order = tf.data.Options()\n",
    "    if not ordered:\n",
    "        ignore_order.experimental_deterministic = False\n",
    "        dataset = tf.data.Dataset.list_files(filenames)\n",
    "        dataset = dataset.interleave(tf.data.TFRecordDataset, num_parallel_calls=AUTO)\n",
    "    else:\n",
    "        dataset = tf.data.TFRecordDataset(filenames, num_parallel_reads=AUTO)\n",
    "        \n",
    "    dataset = dataset.with_options(ignore_order)\n",
    "    \n",
    "    dataset = dataset.map(lambda x: read_tfrecord(x, labeled=labeled), num_parallel_calls=AUTO)\n",
    "    \n",
    "    if augment:\n",
    "        dataset = dataset.map(data_augment, num_parallel_calls=AUTO)\n",
    "        \n",
    "    dataset = dataset.map(scale_image, num_parallel_calls=AUTO)\n",
    "    dataset = dataset.map(prepare_image, num_parallel_calls=AUTO)\n",
    "    \n",
    "    \n",
    "    if labeled:\n",
    "        dataset = dataset.map(conf_output, num_parallel_calls=AUTO)\n",
    "    \n",
    "    \n",
    "    if not ordered:\n",
    "        dataset = dataset.shuffle(2048)\n",
    "    if repeated:\n",
    "        dataset = dataset.repeat()\n",
    "        \n",
    "    dataset = dataset.batch(BATCH_SIZE)\n",
    "    \n",
    "    if cached:\n",
    "        dataset = dataset.cache()\n",
    "    dataset = dataset.prefetch(AUTO)\n",
    "    return dataset\n",
    "\n",
    "def conf_output(image, label):\n",
    "    \"\"\"\n",
    "        Configure the output of the dataset.\n",
    "    \"\"\"\n",
    "    aux_label = [0.]\n",
    "    aux_2_label = [0.]\n",
    "    if tf.math.argmax(label, axis=-1) == 4: # Healthy\n",
    "        aux_label = [1.]\n",
    "    if tf.math.argmax(label, axis=-1) == 3: # CMD\n",
    "        aux_2_label = [1.]\n",
    "    return (image, (label, aux_label, aux_2_label))"
   ]
  },
  {
   "cell_type": "markdown",
   "metadata": {
    "papermill": {
     "duration": 0.022482,
     "end_time": "2021-01-25T02:35:30.479111",
     "exception": false,
     "start_time": "2021-01-25T02:35:30.456629",
     "status": "completed"
    },
    "tags": []
   },
   "source": [
    "# Training data samples (with augmentation)"
   ]
  },
  {
   "cell_type": "code",
   "execution_count": 9,
   "metadata": {
    "_kg_hide-input": true,
    "execution": {
     "iopub.execute_input": "2021-01-25T02:35:30.529980Z",
     "iopub.status.busy": "2021-01-25T02:35:30.528903Z",
     "iopub.status.idle": "2021-01-25T02:35:30.532329Z",
     "shell.execute_reply": "2021-01-25T02:35:30.531657Z"
    },
    "papermill": {
     "duration": 0.030691,
     "end_time": "2021-01-25T02:35:30.532448",
     "exception": false,
     "start_time": "2021-01-25T02:35:30.501757",
     "status": "completed"
    },
    "tags": []
   },
   "outputs": [],
   "source": [
    "# train_dataset = get_dataset(FILENAMES_COMP, ordered=True, augment=True)\n",
    "# train_iter = iter(train_dataset.unbatch().batch(20))\n",
    "\n",
    "# display_batch_of_images(next(train_iter))\n",
    "# display_batch_of_images(next(train_iter))"
   ]
  },
  {
   "cell_type": "markdown",
   "metadata": {
    "papermill": {
     "duration": 0.022568,
     "end_time": "2021-01-25T02:35:30.578646",
     "exception": false,
     "start_time": "2021-01-25T02:35:30.556078",
     "status": "completed"
    },
    "tags": []
   },
   "source": [
    "# Model"
   ]
  },
  {
   "cell_type": "code",
   "execution_count": 10,
   "metadata": {
    "execution": {
     "iopub.execute_input": "2021-01-25T02:35:30.631624Z",
     "iopub.status.busy": "2021-01-25T02:35:30.630733Z",
     "iopub.status.idle": "2021-01-25T02:35:31.391925Z",
     "shell.execute_reply": "2021-01-25T02:35:31.391337Z"
    },
    "papermill": {
     "duration": 0.78996,
     "end_time": "2021-01-25T02:35:31.392064",
     "exception": false,
     "start_time": "2021-01-25T02:35:30.602104",
     "status": "completed"
    },
    "tags": []
   },
   "outputs": [
    {
     "name": "stdout",
     "output_type": "stream",
     "text": [
      "experts_bit_r50x1_in21k_flower_1  experts_bit_r50x1_in21k_vascular_plant_1\r\n",
      "experts_bit_r50x1_in21k_herb_1\t  experts_bit_r50x1_in21k_woody_plant_1\r\n",
      "experts_bit_r50x1_in21k_plant_1\r\n"
     ]
    }
   ],
   "source": [
    "!ls /kaggle/input/big-transfer-bit-expert-weights"
   ]
  },
  {
   "cell_type": "code",
   "execution_count": 11,
   "metadata": {
    "execution": {
     "iopub.execute_input": "2021-01-25T02:35:31.443010Z",
     "iopub.status.busy": "2021-01-25T02:35:31.442245Z",
     "iopub.status.idle": "2021-01-25T02:35:32.241133Z",
     "shell.execute_reply": "2021-01-25T02:35:32.240275Z"
    },
    "papermill": {
     "duration": 0.825609,
     "end_time": "2021-01-25T02:35:32.241310",
     "exception": false,
     "start_time": "2021-01-25T02:35:31.415701",
     "status": "completed"
    },
    "tags": []
   },
   "outputs": [],
   "source": [
    "import tensorflow_hub as hub\n",
    "MODEL_PATH = KaggleDatasets().get_gcs_path('big-transfer-bit-expert-weights')\n",
    "\n",
    "def model_fn(input_shape, N_CLASSES):\n",
    "    inputs = L.Input(shape=input_shape, name='input_image')\n",
    "    base_model = hub.KerasLayer(f'{MODEL_PATH}/experts_bit_r50x1_in21k_plant_1/')\n",
    "\n",
    "    base_model.trainable = True\n",
    "\n",
    "    x = base_model(inputs)\n",
    "    x = L.Dropout(.25)(x)\n",
    "    output = L.Dense(N_CLASSES, activation='softmax', name='output')(x)\n",
    "    output_healthy = L.Dense(1, activation='sigmoid', name='output_healthy')(x)\n",
    "    output_cmd = L.Dense(1, activation='sigmoid', name='output_cmd')(x)\n",
    "    \n",
    "    model = Model(inputs=inputs, outputs=[output, output_healthy, output_cmd])\n",
    "\n",
    "    return model"
   ]
  },
  {
   "cell_type": "markdown",
   "metadata": {
    "papermill": {
     "duration": 0.025881,
     "end_time": "2021-01-25T02:35:32.296395",
     "exception": false,
     "start_time": "2021-01-25T02:35:32.270514",
     "status": "completed"
    },
    "tags": []
   },
   "source": [
    "### Learning rate schedule"
   ]
  },
  {
   "cell_type": "code",
   "execution_count": 12,
   "metadata": {
    "_kg_hide-input": true,
    "execution": {
     "iopub.execute_input": "2021-01-25T02:35:32.363474Z",
     "iopub.status.busy": "2021-01-25T02:35:32.362740Z",
     "iopub.status.idle": "2021-01-25T02:36:27.371637Z",
     "shell.execute_reply": "2021-01-25T02:36:27.371013Z"
    },
    "papermill": {
     "duration": 55.04961,
     "end_time": "2021-01-25T02:36:27.371763",
     "exception": false,
     "start_time": "2021-01-25T02:35:32.322153",
     "status": "completed"
    },
    "tags": []
   },
   "outputs": [
    {
     "name": "stdout",
     "output_type": "stream",
     "text": [
      "11022 total steps and 334 steps per epoch\n",
      "Learning rate schedule: 1e-08 to 8e-05 to 1e-06\n"
     ]
    },
    {
     "data": {
      "image/png": "[encoded data removed]",
      "text/plain": [
       "<Figure size 1440x432 with 1 Axes>"
      ]
     },
     "metadata": {},
     "output_type": "display_data"
    }
   ],
   "source": [
    "lr_start = 1e-8\n",
    "lr_min = 1e-6\n",
    "lr_max = LEARNING_RATE\n",
    "num_cycles = 3.\n",
    "warmup_epochs = 3\n",
    "hold_max_epochs = 0\n",
    "total_epochs = EPOCHS\n",
    "step_size = (NUM_TRAINING_IMAGES//BATCH_SIZE)\n",
    "hold_max_steps = hold_max_epochs * step_size\n",
    "total_steps = total_epochs * step_size\n",
    "warmup_steps = warmup_epochs * step_size\n",
    "\n",
    "\n",
    "def lrfn(total_steps, warmup_steps=0, lr_start=1e-4, lr_max=1e-3, lr_min=1e-4, num_cycles=1.):\n",
    "    @tf.function\n",
    "    def cosine_with_hard_restarts_schedule_with_warmup_(step):\n",
    "        \"\"\" Create a schedule with a learning rate that decreases following the\n",
    "        values of the cosine function with several hard restarts, after a warmup\n",
    "        period during which it increases linearly between 0 and 1.\n",
    "        \"\"\"\n",
    "\n",
    "        if step < warmup_steps:\n",
    "            lr = (lr_max - lr_start) / warmup_steps * step + lr_start\n",
    "        else:\n",
    "            progress = (step - warmup_steps) / (total_steps - warmup_steps)\n",
    "            lr = lr_max * (0.5 * (1.0 + tf.math.cos(np.pi * ((num_cycles * progress) % 1.0))))\n",
    "            if lr_min is not None:\n",
    "                lr = tf.math.maximum(lr_min, float(lr))\n",
    "        return lr\n",
    "    return cosine_with_hard_restarts_schedule_with_warmup_\n",
    "\n",
    "lrfn_fn = lrfn(total_steps, warmup_steps, lr_start, lr_max, lr_min, num_cycles)\n",
    "rng = [i for i in range(total_steps)]\n",
    "y = [lrfn_fn(tf.cast(x, tf.float32)) for x in rng]\n",
    "\n",
    "sns.set(style='whitegrid')\n",
    "fig, ax = plt.subplots(figsize=(20, 6))\n",
    "plt.plot(rng, y)\n",
    "\n",
    "print(f'{total_steps} total steps and {step_size} steps per epoch')\n",
    "print(f'Learning rate schedule: {y[0]:.3g} to {max(y):.3g} to {y[-1]:.3g}')"
   ]
  },
  {
   "cell_type": "markdown",
   "metadata": {
    "papermill": {
     "duration": 0.024857,
     "end_time": "2021-01-25T02:36:27.424811",
     "exception": false,
     "start_time": "2021-01-25T02:36:27.399954",
     "status": "completed"
    },
    "tags": []
   },
   "source": [
    "# Training"
   ]
  },
  {
   "cell_type": "code",
   "execution_count": 13,
   "metadata": {
    "_kg_hide-input": true,
    "_kg_hide-output": true,
    "execution": {
     "iopub.execute_input": "2021-01-25T02:36:27.514771Z",
     "iopub.status.busy": "2021-01-25T02:36:27.485530Z",
     "iopub.status.idle": "2021-01-25T02:59:06.011967Z",
     "shell.execute_reply": "2021-01-25T02:59:06.010594Z"
    },
    "papermill": {
     "duration": 1358.561962,
     "end_time": "2021-01-25T02:59:06.012117",
     "exception": false,
     "start_time": "2021-01-25T02:36:27.450155",
     "status": "completed"
    },
    "tags": []
   },
   "outputs": [
    {
     "name": "stdout",
     "output_type": "stream",
     "text": [
      "\n",
      "FOLD: 1\n",
      "TRAIN: [ 0  2  3  4  5  7  9 10 11 12 13 14] VALID: [1 6 8]\n",
      "\n",
      "EPOCH 1/33\n",
      "time: 162.7s loss: 1.5085 accuracy_aux_2: 0.8241 accuracy_aux: 0.8648 accuracy: 0.7454 val_loss: 0.6029 val_accuracy_aux_2: 0.9316 val_accuracy_aux: 0.9261 val_accuracy: 0.8627 lr: 2.667e-05\n",
      "Saved model weights at \"model_0.h5\"\n",
      "\n",
      "EPOCH 2/33\n",
      "time: 64.1s loss: 1.1286 accuracy_aux_2: 0.9391 accuracy_aux: 0.9220 accuracy: 0.8636 val_loss: 0.5834 val_accuracy_aux_2: 0.9493 val_accuracy_aux: 0.9321 val_accuracy: 0.8809 lr: 5.334e-05\n",
      "Saved model weights at \"model_0.h5\"\n",
      "\n",
      "EPOCH 3/33\n",
      "time: 65.6s loss: 1.1101 accuracy_aux_2: 0.9437 accuracy_aux: 0.9303 accuracy: 0.8708 val_loss: 0.5955 val_accuracy_aux_2: 0.9455 val_accuracy_aux: 0.9328 val_accuracy: 0.8757 lr: 8e-05\n",
      "\n",
      "EPOCH 4/33\n",
      "time: 66.9s loss: 1.1002 accuracy_aux_2: 0.9465 accuracy_aux: 0.9351 accuracy: 0.8779 val_loss: 0.5801 val_accuracy_aux_2: 0.9500 val_accuracy_aux: 0.9373 val_accuracy: 0.8814 lr: 7.804e-05\n",
      "Saved model weights at \"model_0.h5\"\n",
      "\n",
      "EPOCH 5/33\n",
      "time: 61.5s loss: 1.0858 accuracy_aux_2: 0.9522 accuracy_aux: 0.9390 accuracy: 0.8900 val_loss: 0.5752 val_accuracy_aux_2: 0.9505 val_accuracy_aux: 0.9318 val_accuracy: 0.8838 lr: 7.236e-05\n",
      "Saved model weights at \"model_0.h5\"\n",
      "\n",
      "EPOCH 6/33\n",
      "time: 60.5s loss: 1.0783 accuracy_aux_2: 0.9544 accuracy_aux: 0.9408 accuracy: 0.8923 val_loss: 0.5554 val_accuracy_aux_2: 0.9545 val_accuracy_aux: 0.9337 val_accuracy: 0.8878 lr: 6.351e-05\n",
      "Saved model weights at \"model_0.h5\"\n",
      "\n",
      "EPOCH 7/33\n",
      "time: 60.8s loss: 1.0686 accuracy_aux_2: 0.9567 accuracy_aux: 0.9455 accuracy: 0.9007 val_loss: 0.5541 val_accuracy_aux_2: 0.9498 val_accuracy_aux: 0.9373 val_accuracy: 0.8873 lr: 5.236e-05\n",
      "\n",
      "EPOCH 8/33\n",
      "time: 63.5s loss: 1.0599 accuracy_aux_2: 0.9607 accuracy_aux: 0.9475 accuracy: 0.9070 val_loss: 0.5423 val_accuracy_aux_2: 0.9574 val_accuracy_aux: 0.9413 val_accuracy: 0.8954 lr: 4e-05\n",
      "Saved model weights at \"model_0.h5\"\n",
      "\n",
      "EPOCH 9/33\n",
      "time: 64.5s loss: 1.0493 accuracy_aux_2: 0.9631 accuracy_aux: 0.9505 accuracy: 0.9137 val_loss: 0.5512 val_accuracy_aux_2: 0.9550 val_accuracy_aux: 0.9382 val_accuracy: 0.8902 lr: 2.764e-05\n",
      "\n",
      "EPOCH 10/33\n",
      "time: 62.0s loss: 1.0415 accuracy_aux_2: 0.9648 accuracy_aux: 0.9565 accuracy: 0.9182 val_loss: 0.5491 val_accuracy_aux_2: 0.9541 val_accuracy_aux: 0.9380 val_accuracy: 0.8871 lr: 1.649e-05\n",
      "\n",
      "EPOCH 11/33\n",
      "time: 63.3s loss: 1.0325 accuracy_aux_2: 0.9682 accuracy_aux: 0.9600 accuracy: 0.9268 val_loss: 0.5411 val_accuracy_aux_2: 0.9557 val_accuracy_aux: 0.9384 val_accuracy: 0.8897 lr: 7.639e-06\n",
      "\n",
      "EPOCH 12/33\n",
      "time: 63.8s loss: 1.0258 accuracy_aux_2: 0.9702 accuracy_aux: 0.9601 accuracy: 0.9300 val_loss: 0.5327 val_accuracy_aux_2: 0.9562 val_accuracy_aux: 0.9358 val_accuracy: 0.8918 lr: 1.958e-06\n",
      "\n",
      "EPOCH 13/33\n",
      "time: 62.9s loss: 1.0228 accuracy_aux_2: 0.9695 accuracy_aux: 0.9632 accuracy: 0.9327 val_loss: 0.5338 val_accuracy_aux_2: 0.9557 val_accuracy_aux: 0.9368 val_accuracy: 0.8916 lr: 8e-05\n",
      "\n",
      "EPOCH 14/33\n",
      "time: 64.7s loss: 1.0584 accuracy_aux_2: 0.9606 accuracy_aux: 0.9488 accuracy: 0.9061 val_loss: 0.5723 val_accuracy_aux_2: 0.9486 val_accuracy_aux: 0.9370 val_accuracy: 0.8845 lr: 7.804e-05\n",
      "\n",
      "EPOCH 15/33\n",
      "time: 62.3s loss: 1.0561 accuracy_aux_2: 0.9611 accuracy_aux: 0.9523 accuracy: 0.9088 val_loss: 0.5899 val_accuracy_aux_2: 0.9470 val_accuracy_aux: 0.9373 val_accuracy: 0.8812 lr: 7.236e-05\n",
      "\n",
      "EPOCH 16/33\n",
      "time: 65.2s loss: 1.0520 accuracy_aux_2: 0.9612 accuracy_aux: 0.9506 accuracy: 0.9102 val_loss: 0.5593 val_accuracy_aux_2: 0.9534 val_accuracy_aux: 0.9368 val_accuracy: 0.8790 lr: 6.351e-05\n",
      "\n",
      "EPOCH 17/33\n",
      "time: 63.8s loss: 1.0439 accuracy_aux_2: 0.9640 accuracy_aux: 0.9545 accuracy: 0.9171 val_loss: 0.5523 val_accuracy_aux_2: 0.9550 val_accuracy_aux: 0.9347 val_accuracy: 0.8878 lr: 5.236e-05\n",
      "\n",
      "EPOCH 18/33\n",
      "time: 64.4s loss: 1.0338 accuracy_aux_2: 0.9659 accuracy_aux: 0.9577 accuracy: 0.9246 val_loss: 0.5343 val_accuracy_aux_2: 0.9515 val_accuracy_aux: 0.9358 val_accuracy: 0.8845 lr: 4e-05\n",
      "Epoch 00017: early stopping\n",
      "#### FOLD 1 OOF Accuracy = 0.895\n"
     ]
    }
   ],
   "source": [
    "skf = KFold(n_splits=N_FOLDS, shuffle=True, random_state=seed)\n",
    "oof_pred = []; oof_labels = []; oof_names = []; oof_folds = []; history_list = []\n",
    "\n",
    "for fold,(idxT, idxV) in enumerate(skf.split(np.arange(15))):\n",
    "    if fold >= FOLDS_USED:\n",
    "        break\n",
    "    if tpu: tf.tpu.experimental.initialize_tpu_system(tpu)\n",
    "    K.clear_session()\n",
    "    print(f'\\nFOLD: {fold+1}')\n",
    "    print(f'TRAIN: {idxT} VALID: {idxV}')\n",
    "\n",
    "    # Create train and validation sets\n",
    "    FILENAMES_COMP = tf.io.gfile.glob([GCS_PATH + '/Id_train%.2i*.tfrec' % x for x in idxT])\n",
    "#     FILENAMES_COMP_CBB = tf.io.gfile.glob([GCS_PATH_CLASSES + '/CBB%.2i*.tfrec' % x for x in idxT])\n",
    "#     FILENAMES_COMP_CBSD = tf.io.gfile.glob([GCS_PATH_CLASSES + '/CBSD%.2i*.tfrec' % x for x in idxT])\n",
    "#     FILENAMES_COMP_CGM = tf.io.gfile.glob([GCS_PATH_CLASSES + '/CGM%.2i*.tfrec' % x for x in idxT])\n",
    "#     FILENAMES_COMP_Healthy = tf.io.gfile.glob([GCS_PATH_CLASSES + '/Healthy%.2i*.tfrec' % x for x in idxT])\n",
    "    TRAIN_FILENAMES = FILENAMES_COMP\n",
    "    np.random.shuffle(TRAIN_FILENAMES)\n",
    "    \n",
    "    VALID_FILENAMES = tf.io.gfile.glob([GCS_PATH + '/Id_train%.2i*.tfrec' % x for x in idxV])\n",
    "    \n",
    "    ct_train = count_data_items(TRAIN_FILENAMES)\n",
    "    ct_valid = count_data_items(VALID_FILENAMES)\n",
    "    \n",
    "    step_size = (ct_train // BATCH_SIZE)\n",
    "    valid_step_size = (ct_valid // BATCH_SIZE)\n",
    "    total_steps = (total_epochs * step_size)\n",
    "    warmup_steps = (warmup_epochs * step_size)\n",
    "    \n",
    "    \n",
    "    # Build TF datasets\n",
    "    train_ds = strategy.experimental_distribute_dataset(get_dataset(TRAIN_FILENAMES, repeated=True, augment=True))\n",
    "    valid_ds = strategy.experimental_distribute_dataset(get_dataset(VALID_FILENAMES, ordered=True, repeated=True))\n",
    "    train_data_iter = iter(train_ds)\n",
    "    valid_data_iter = iter(valid_ds)\n",
    "    \n",
    "    \n",
    "    # Step functions\n",
    "    @tf.function\n",
    "    def train_step(data_iter):\n",
    "        def train_step_fn(x, y):\n",
    "            with tf.GradientTape() as tape:\n",
    "                probabilities = model(x, training=True)\n",
    "                loss = loss_fn(y[0], probabilities[0], label_smoothing=.3)\n",
    "                aux_loss = aux_loss_fn(y[1], probabilities[1], label_smoothing=.1) * 0.1 # loss weight\n",
    "                aux_2_loss = aux_2_loss_fn(y[2], probabilities[2], label_smoothing=.1) * 0.1 # loss weight\n",
    "                loss = loss + aux_loss + aux_2_loss\n",
    "            gradients = tape.gradient(loss, model.trainable_variables)\n",
    "            optimizer.apply_gradients(zip(gradients, model.trainable_variables))\n",
    "            # update metrics\n",
    "            train_accuracy.update_state(y[0], probabilities[0])\n",
    "            train_aux_accuracy.update_state(y[1], probabilities[1])\n",
    "            train_aux_2_accuracy.update_state(y[2], probabilities[2])\n",
    "            train_loss.update_state(loss)\n",
    "        for _ in tf.range(step_size):\n",
    "            strategy.experimental_run_v2(train_step_fn, next(data_iter))\n",
    "\n",
    "    @tf.function\n",
    "    def valid_step(data_iter):\n",
    "        def valid_step_fn(x, y):\n",
    "            probabilities = model(x, training=False)\n",
    "            loss = loss_fn(y[0], probabilities[0])\n",
    "            aux_loss = aux_loss_fn(y[1], probabilities[1]) * 0.1 # loss weight\n",
    "            aux_2_loss = aux_2_loss_fn(y[2], probabilities[2]) * 0.1 # loss weight\n",
    "            loss = loss + aux_loss + aux_2_loss\n",
    "            # update metrics\n",
    "            valid_accuracy.update_state(y[0], probabilities[0])\n",
    "            valid_aux_accuracy.update_state(y[1], probabilities[1])\n",
    "            valid_aux_2_accuracy.update_state(y[2], probabilities[2])\n",
    "            valid_loss.update_state(loss)\n",
    "        for _ in tf.range(valid_step_size):\n",
    "            strategy.experimental_run_v2(valid_step_fn, next(data_iter))\n",
    "    \n",
    "    \n",
    "    # Model\n",
    "    model_path = f'model_{fold}.h5'\n",
    "    with strategy.scope():\n",
    "        model = model_fn((None, None, CHANNELS), N_CLASSES)\n",
    "#         unfreeze_model(model) # unfreeze all layers except \"batch normalization\"\n",
    "        \n",
    "        lrfn_fn = lrfn(total_steps, warmup_steps, lr_start, lr_max, lr_min, num_cycles)\n",
    "        optimizer = optimizers.SGD(learning_rate=lambda: lrfn_fn(tf.cast(optimizer.iterations, tf.float32)), \n",
    "                                   momentum=0.95, nesterov=True)\n",
    "        loss_fn = losses.categorical_crossentropy\n",
    "        aux_loss_fn = losses.binary_crossentropy\n",
    "        aux_2_loss_fn = losses.binary_crossentropy\n",
    "\n",
    "        train_accuracy = metrics.CategoricalAccuracy()\n",
    "        valid_accuracy = metrics.CategoricalAccuracy()\n",
    "        train_aux_accuracy = metrics.BinaryAccuracy()\n",
    "        valid_aux_accuracy = metrics.BinaryAccuracy()\n",
    "        train_aux_2_accuracy = metrics.BinaryAccuracy()\n",
    "        valid_aux_2_accuracy = metrics.BinaryAccuracy()\n",
    "        train_loss = metrics.Sum()\n",
    "        valid_loss = metrics.Sum()\n",
    "        \n",
    "        metrics_list = [train_accuracy, \n",
    "                        valid_accuracy, \n",
    "                        train_aux_accuracy, \n",
    "                        valid_aux_accuracy, \n",
    "                        train_aux_2_accuracy, \n",
    "                        valid_aux_2_accuracy, \n",
    "                        train_loss, \n",
    "                        valid_loss]\n",
    "    \n",
    "    \n",
    "    # Setup training loop\n",
    "    step = 0\n",
    "    epoch_steps = 0\n",
    "    patience_cnt = 0\n",
    "    best_val = 0\n",
    "    history = {'loss': [], 'val_loss': [], \n",
    "               'accuracy': [], 'val_accuracy': [], \n",
    "               'accuracy_aux': [], 'val_accuracy_aux': [], \n",
    "               'accuracy_aux_2': [], 'val_accuracy_aux_2': []}\n",
    "\n",
    "    ### Train model\n",
    "    for epoch in range(EPOCHS):\n",
    "        epoch_start_time = time.time()\n",
    "\n",
    "        # Run training step\n",
    "        train_step(train_data_iter)\n",
    "        epoch_steps += step_size\n",
    "        step += step_size\n",
    "            \n",
    "\n",
    "        # Validation run at the end of each epoch\n",
    "        if (step // step_size) > epoch:\n",
    "            # Validation run\n",
    "            valid_epoch_steps = 0\n",
    "            valid_step(valid_data_iter)\n",
    "            valid_epoch_steps += valid_step_size\n",
    "\n",
    "            # Compute metrics\n",
    "            history['accuracy_aux_2'].append(train_aux_2_accuracy.result().numpy())\n",
    "            history['accuracy_aux'].append(train_aux_accuracy.result().numpy())\n",
    "            history['accuracy'].append(train_accuracy.result().numpy())\n",
    "            history['loss'].append(train_loss.result().numpy() / (BATCH_SIZE * epoch_steps))\n",
    "            history['val_accuracy_aux_2'].append(valid_aux_2_accuracy.result().numpy())\n",
    "            history['val_accuracy_aux'].append(valid_aux_accuracy.result().numpy())\n",
    "            history['val_accuracy'].append(valid_accuracy.result().numpy())\n",
    "            history['val_loss'].append(valid_loss.result().numpy() / (BATCH_SIZE * valid_epoch_steps))\n",
    "\n",
    "            # Report metrics\n",
    "            epoch_time = time.time() - epoch_start_time\n",
    "            print(f'\\nEPOCH {epoch+1}/{EPOCHS}')\n",
    "            print(f'time: {epoch_time:0.1f}s',\n",
    "                  f\"loss: {history['loss'][-1]:0.4f}\",\n",
    "                  f\"accuracy_aux_2: {history['accuracy_aux_2'][-1]:0.4f}\",\n",
    "                  f\"accuracy_aux: {history['accuracy_aux'][-1]:0.4f}\",\n",
    "                  f\"accuracy: {history['accuracy'][-1]:0.4f}\",\n",
    "                  f\"val_loss: {history['val_loss'][-1]:0.4f}\",\n",
    "                  f\"val_accuracy_aux_2: {history['val_accuracy_aux_2'][-1]:0.4f}\",\n",
    "                  f\"val_accuracy_aux: {history['val_accuracy_aux'][-1]:0.4f}\",\n",
    "                  f\"val_accuracy: {history['val_accuracy'][-1]:0.4f}\",\n",
    "                  f'lr: {lrfn_fn(tf.cast(optimizer.iterations, tf.int32).numpy()):0.4g}')\n",
    "\n",
    "            # Early stopping monitor\n",
    "            if history['val_accuracy'][-1] >= best_val:\n",
    "                best_val = history['val_accuracy'][-1]\n",
    "                model.save_weights(model_path)\n",
    "                print(f'Saved model weights at \"{model_path}\"')\n",
    "                patience_cnt = 1\n",
    "            else:\n",
    "                patience_cnt += 1\n",
    "            if patience_cnt > ES_PATIENCE:\n",
    "                print(f'Epoch {epoch:05d}: early stopping')\n",
    "                break\n",
    "\n",
    "                \n",
    "            # Set up next epoch\n",
    "            epoch_steps = 0\n",
    "            for metric in metrics_list:\n",
    "                metric.reset_states()\n",
    "    \n",
    "    \n",
    "    ### RESULTS\n",
    "    print(f\"#### FOLD {fold+1} OOF Accuracy = {np.max(history['val_accuracy']):.3f}\")\n",
    "    \n",
    "    history_list.append(history)\n",
    "    # Load best model weights\n",
    "    model.load_weights(model_path)\n",
    "\n",
    "    # OOF predictions\n",
    "    ds_valid = get_dataset(VALID_FILENAMES, ordered=True)\n",
    "    oof_folds.append(np.full((ct_valid), fold, dtype='int8'))\n",
    "    oof_labels.append([target[0].numpy() for img, target in iter(ds_valid.unbatch())])\n",
    "    x_oof = ds_valid.map(lambda image, target: image)\n",
    "    oof_pred.append(np.argmax(model.predict(x_oof)[0], axis=-1))\n",
    "    # OOF names\n",
    "    ds_valid_names = get_dataset(VALID_FILENAMES, labeled=False, ordered=True)\n",
    "    oof_names.append(np.array([img_name.numpy().decode('utf-8') for img, img_name in iter(ds_valid_names.unbatch())]))"
   ]
  },
  {
   "cell_type": "markdown",
   "metadata": {
    "papermill": {
     "duration": 0.033447,
     "end_time": "2021-01-25T02:59:06.079805",
     "exception": false,
     "start_time": "2021-01-25T02:59:06.046358",
     "status": "completed"
    },
    "tags": []
   },
   "source": [
    "## Model loss graph"
   ]
  },
  {
   "cell_type": "code",
   "execution_count": 14,
   "metadata": {
    "_kg_hide-input": true,
    "execution": {
     "iopub.execute_input": "2021-01-25T02:59:06.155190Z",
     "iopub.status.busy": "2021-01-25T02:59:06.154048Z",
     "iopub.status.idle": "2021-01-25T02:59:06.768439Z",
     "shell.execute_reply": "2021-01-25T02:59:06.767709Z"
    },
    "papermill": {
     "duration": 0.653913,
     "end_time": "2021-01-25T02:59:06.768556",
     "exception": false,
     "start_time": "2021-01-25T02:59:06.114643",
     "status": "completed"
    },
    "tags": []
   },
   "outputs": [
    {
     "name": "stdout",
     "output_type": "stream",
     "text": [
      "\n",
      "FOLD: 1\n"
     ]
    },
    {
     "data": {
      "image/png": "[encoded data removed]",
      "text/plain": [
       "<Figure size 1440x576 with 2 Axes>"
      ]
     },
     "metadata": {},
     "output_type": "display_data"
    }
   ],
   "source": [
    "for fold, history in enumerate(history_list):\n",
    "    print(f'\\nFOLD: {fold+1}')\n",
    "    plot_metrics(history)"
   ]
  },
  {
   "cell_type": "markdown",
   "metadata": {
    "papermill": {
     "duration": 0.035924,
     "end_time": "2021-01-25T02:59:06.840542",
     "exception": false,
     "start_time": "2021-01-25T02:59:06.804618",
     "status": "completed"
    },
    "tags": []
   },
   "source": [
    "# Model evaluation"
   ]
  },
  {
   "cell_type": "code",
   "execution_count": 15,
   "metadata": {
    "_kg_hide-input": true,
    "execution": {
     "iopub.execute_input": "2021-01-25T02:59:06.922843Z",
     "iopub.status.busy": "2021-01-25T02:59:06.922101Z",
     "iopub.status.idle": "2021-01-25T02:59:07.044468Z",
     "shell.execute_reply": "2021-01-25T02:59:07.043726Z"
    },
    "papermill": {
     "duration": 0.168144,
     "end_time": "2021-01-25T02:59:07.044589",
     "exception": false,
     "start_time": "2021-01-25T02:59:06.876445",
     "status": "completed"
    },
    "tags": []
   },
   "outputs": [
    {
     "name": "stdout",
     "output_type": "stream",
     "text": [
      "Overall OOF Accuracy = 0.895\n"
     ]
    },
    {
     "data": {
      "text/html": [
       "<div>\n",
       "<style scoped>\n",
       "    .dataframe tbody tr th:only-of-type {\n",
       "        vertical-align: middle;\n",
       "    }\n",
       "\n",
       "    .dataframe tbody tr th {\n",
       "        vertical-align: top;\n",
       "    }\n",
       "\n",
       "    .dataframe thead th {\n",
       "        text-align: right;\n",
       "    }\n",
       "</style>\n",
       "<table border=\"1\" class=\"dataframe\">\n",
       "  <thead>\n",
       "    <tr style=\"text-align: right;\">\n",
       "      <th></th>\n",
       "      <th>image_id</th>\n",
       "      <th>fold</th>\n",
       "      <th>target</th>\n",
       "      <th>pred</th>\n",
       "    </tr>\n",
       "  </thead>\n",
       "  <tbody>\n",
       "    <tr>\n",
       "      <th>0</th>\n",
       "      <td>1000201771.jpg</td>\n",
       "      <td>0</td>\n",
       "      <td>3</td>\n",
       "      <td>3</td>\n",
       "    </tr>\n",
       "    <tr>\n",
       "      <th>1</th>\n",
       "      <td>1000837476.jpg</td>\n",
       "      <td>0</td>\n",
       "      <td>3</td>\n",
       "      <td>3</td>\n",
       "    </tr>\n",
       "    <tr>\n",
       "      <th>2</th>\n",
       "      <td>1001723730.jpg</td>\n",
       "      <td>0</td>\n",
       "      <td>4</td>\n",
       "      <td>0</td>\n",
       "    </tr>\n",
       "    <tr>\n",
       "      <th>3</th>\n",
       "      <td>1001749118.jpg</td>\n",
       "      <td>0</td>\n",
       "      <td>3</td>\n",
       "      <td>3</td>\n",
       "    </tr>\n",
       "    <tr>\n",
       "      <th>4</th>\n",
       "      <td>1008284502.jpg</td>\n",
       "      <td>0</td>\n",
       "      <td>3</td>\n",
       "      <td>3</td>\n",
       "    </tr>\n",
       "  </tbody>\n",
       "</table>\n",
       "</div>"
      ],
      "text/plain": [
       "         image_id  fold  target  pred\n",
       "0  1000201771.jpg     0       3     3\n",
       "1  1000837476.jpg     0       3     3\n",
       "2  1001723730.jpg     0       4     0\n",
       "3  1001749118.jpg     0       3     3\n",
       "4  1008284502.jpg     0       3     3"
      ]
     },
     "metadata": {},
     "output_type": "display_data"
    },
    {
     "name": "stdout",
     "output_type": "stream",
     "text": [
      "                              precision    recall  f1-score   support\n",
      "\n",
      "    Cassava Bacterial Blight       0.68      0.65      0.67       217\n",
      "Cassava Brown Streak Disease       0.82      0.84      0.83       437\n",
      "        Cassava Green Mottle       0.85      0.79      0.82       478\n",
      "      Cassava Mosaic Disease       0.96      0.97      0.97      2633\n",
      "                     Healthy       0.75      0.75      0.75       514\n",
      "\n",
      "                    accuracy                           0.90      4279\n",
      "                   macro avg       0.81      0.80      0.81      4279\n",
      "                weighted avg       0.89      0.90      0.89      4279\n",
      "\n"
     ]
    }
   ],
   "source": [
    "y_true = np.concatenate(oof_labels)\n",
    "y_true = np.argmax(y_true, axis=-1)\n",
    "y_pred = np.concatenate(oof_pred)\n",
    "folds = np.concatenate(oof_folds)\n",
    "names = np.concatenate(oof_names)\n",
    "\n",
    "acc = accuracy_score(y_true, y_pred)\n",
    "print(f'Overall OOF Accuracy = {acc:.3f}')\n",
    "\n",
    "df_oof = pd.DataFrame({'image_id':names, 'fold':fold, \n",
    "                       'target':y_true, 'pred':y_pred})\n",
    "df_oof.to_csv('oof.csv', index=False)\n",
    "display(df_oof.head())\n",
    "\n",
    "print(classification_report(y_true, y_pred, target_names=CLASSES))"
   ]
  },
  {
   "cell_type": "markdown",
   "metadata": {
    "papermill": {
     "duration": 0.051583,
     "end_time": "2021-01-25T02:59:07.144323",
     "exception": false,
     "start_time": "2021-01-25T02:59:07.092740",
     "status": "completed"
    },
    "tags": []
   },
   "source": [
    "# Confusion matrix"
   ]
  },
  {
   "cell_type": "code",
   "execution_count": 16,
   "metadata": {
    "_kg_hide-input": true,
    "execution": {
     "iopub.execute_input": "2021-01-25T02:59:07.233843Z",
     "iopub.status.busy": "2021-01-25T02:59:07.233099Z",
     "iopub.status.idle": "2021-01-25T02:59:07.611359Z",
     "shell.execute_reply": "2021-01-25T02:59:07.610773Z"
    },
    "papermill": {
     "duration": 0.429819,
     "end_time": "2021-01-25T02:59:07.611482",
     "exception": false,
     "start_time": "2021-01-25T02:59:07.181663",
     "status": "completed"
    },
    "tags": []
   },
   "outputs": [
    {
     "data": {
      "image/png": "[encoded data removed]",
      "text/plain": [
       "<Figure size 1440x864 with 2 Axes>"
      ]
     },
     "metadata": {},
     "output_type": "display_data"
    }
   ],
   "source": [
    "fig, ax = plt.subplots(1, 1, figsize=(20, 12))\n",
    "cfn_matrix = confusion_matrix(y_true, y_pred, labels=range(len(CLASSES)))\n",
    "cfn_matrix = (cfn_matrix.T / cfn_matrix.sum(axis=1)).T\n",
    "df_cm = pd.DataFrame(cfn_matrix, index=CLASSES, columns=CLASSES)\n",
    "ax = sns.heatmap(df_cm, cmap='Blues', annot=True, fmt='.2f', linewidths=.5).set_title('Train', fontsize=30)\n",
    "plt.show()"
   ]
  },
  {
   "cell_type": "markdown",
   "metadata": {
    "papermill": {
     "duration": 0.038728,
     "end_time": "2021-01-25T02:59:07.690050",
     "exception": false,
     "start_time": "2021-01-25T02:59:07.651322",
     "status": "completed"
    },
    "tags": []
   },
   "source": [
    "# Visualize predictions"
   ]
  },
  {
   "cell_type": "code",
   "execution_count": 17,
   "metadata": {
    "_kg_hide-input": true,
    "execution": {
     "iopub.execute_input": "2021-01-25T02:59:07.773653Z",
     "iopub.status.busy": "2021-01-25T02:59:07.772857Z",
     "iopub.status.idle": "2021-01-25T02:59:07.776435Z",
     "shell.execute_reply": "2021-01-25T02:59:07.775736Z"
    },
    "papermill": {
     "duration": 0.047915,
     "end_time": "2021-01-25T02:59:07.776567",
     "exception": false,
     "start_time": "2021-01-25T02:59:07.728652",
     "status": "completed"
    },
    "tags": []
   },
   "outputs": [],
   "source": [
    "# train_dataset = get_dataset(TRAINING_FILENAMES, ordered=True)\n",
    "# x_samp, y_samp = dataset_to_numpy_util(train_dataset, 18)\n",
    "# y_samp = np.argmax(y_samp, axis=-1)\n",
    "\n",
    "# x_samp_1, y_samp_1 = x_samp[:9,:,:,:], y_samp[:9]\n",
    "# samp_preds_1 = model.predict(x_samp_1, batch_size=9)\n",
    "# display_9_images_with_predictions(x_samp_1, samp_preds_1, y_samp_1)\n",
    "\n",
    "# x_samp_2, y_samp_2 = x_samp[9:,:,:,:], y_samp[9:]\n",
    "# samp_preds_2 = model.predict(x_samp_2, batch_size=9)\n",
    "# display_9_images_with_predictions(x_samp_2, samp_preds_2, y_samp_2)"
   ]
  }
 ],
 "metadata": {
  "kernelspec": {
   "display_name": "Python 3",
   "language": "python",
   "name": "python3"
  },
  "language_info": {
   "codemirror_mode": {
    "name": "ipython",
    "version": 3
   },
   "file_extension": ".py",
   "mimetype": "text/x-python",
   "name": "python",
   "nbconvert_exporter": "python",
   "pygments_lexer": "ipython3",
   "version": "3.7.6"
  },
  "papermill": {
   "duration": 1437.554927,
   "end_time": "2021-01-25T02:59:08.025596",
   "environment_variables": {},
   "exception": null,
   "input_path": "__notebook__.ipynb",
   "output_path": "__notebook__.ipynb",
   "parameters": {},
   "start_time": "2021-01-25T02:35:10.470669",
   "version": "2.1.0"
  }
 },
 "nbformat": 4,
 "nbformat_minor": 4
}
