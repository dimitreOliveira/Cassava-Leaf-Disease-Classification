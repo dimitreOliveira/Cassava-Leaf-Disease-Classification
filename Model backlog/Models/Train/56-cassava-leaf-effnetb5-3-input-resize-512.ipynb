{
 "cells": [
  {
   "cell_type": "markdown",
   "metadata": {
    "papermill": {
     "duration": 0.021595,
     "end_time": "2021-01-22T00:11:09.361207",
     "exception": false,
     "start_time": "2021-01-22T00:11:09.339612",
     "status": "completed"
    },
    "tags": []
   },
   "source": [
    "## Dependencies"
   ]
  },
  {
   "cell_type": "code",
   "execution_count": 1,
   "metadata": {
    "_kg_hide-input": true,
    "_kg_hide-output": true,
    "execution": {
     "iopub.execute_input": "2021-01-22T00:11:09.404283Z",
     "iopub.status.busy": "2021-01-22T00:11:09.403589Z",
     "iopub.status.idle": "2021-01-22T00:11:19.289234Z",
     "shell.execute_reply": "2021-01-22T00:11:19.288581Z"
    },
    "papermill": {
     "duration": 9.90802,
     "end_time": "2021-01-22T00:11:19.289371",
     "exception": false,
     "start_time": "2021-01-22T00:11:09.381351",
     "status": "completed"
    },
    "tags": []
   },
   "outputs": [
    {
     "name": "stdout",
     "output_type": "stream",
     "text": [
      "\u001b[33mWARNING: You are using pip version 20.1.1; however, version 20.3.3 is available.\r\n",
      "You should consider upgrading via the '/opt/conda/bin/python3.7 -m pip install --upgrade pip' command.\u001b[0m\r\n"
     ]
    }
   ],
   "source": [
    "!pip install --quiet efficientnet"
   ]
  },
  {
   "cell_type": "code",
   "execution_count": 2,
   "metadata": {
    "_cell_guid": "b1076dfc-b9ad-4769-8c92-a6c4dae69d19",
    "_kg_hide-input": true,
    "_kg_hide-output": true,
    "_uuid": "8f2839f25d086af736a60e9eeb907d3b93b6e0e5",
    "execution": {
     "iopub.execute_input": "2021-01-22T00:11:19.339426Z",
     "iopub.status.busy": "2021-01-22T00:11:19.338679Z",
     "iopub.status.idle": "2021-01-22T00:11:27.410728Z",
     "shell.execute_reply": "2021-01-22T00:11:27.410002Z"
    },
    "papermill": {
     "duration": 8.10058,
     "end_time": "2021-01-22T00:11:27.410884",
     "exception": false,
     "start_time": "2021-01-22T00:11:19.310304",
     "status": "completed"
    },
    "tags": []
   },
   "outputs": [],
   "source": [
    "import warnings, time\n",
    "from kaggle_datasets import KaggleDatasets\n",
    "from sklearn.model_selection import KFold\n",
    "from sklearn.metrics import classification_report, confusion_matrix, accuracy_score\n",
    "from tensorflow.keras import optimizers, Sequential, losses, metrics, Model\n",
    "from tensorflow.keras.callbacks import EarlyStopping\n",
    "import efficientnet.tfkeras as efn\n",
    "from cassava_scripts import *\n",
    "from scripts_step_lr_schedulers import *\n",
    "\n",
    "\n",
    "seed = 0\n",
    "seed_everything(seed)\n",
    "warnings.filterwarnings('ignore')"
   ]
  },
  {
   "cell_type": "markdown",
   "metadata": {
    "papermill": {
     "duration": 0.019959,
     "end_time": "2021-01-22T00:11:27.453968",
     "exception": false,
     "start_time": "2021-01-22T00:11:27.434009",
     "status": "completed"
    },
    "tags": []
   },
   "source": [
    "### Hardware configuration"
   ]
  },
  {
   "cell_type": "code",
   "execution_count": 3,
   "metadata": {
    "_kg_hide-input": true,
    "execution": {
     "iopub.execute_input": "2021-01-22T00:11:27.624656Z",
     "iopub.status.busy": "2021-01-22T00:11:27.508110Z",
     "iopub.status.idle": "2021-01-22T00:11:31.609221Z",
     "shell.execute_reply": "2021-01-22T00:11:31.610089Z"
    },
    "papermill": {
     "duration": 4.135671,
     "end_time": "2021-01-22T00:11:31.610241",
     "exception": false,
     "start_time": "2021-01-22T00:11:27.474570",
     "status": "completed"
    },
    "tags": []
   },
   "outputs": [
    {
     "name": "stdout",
     "output_type": "stream",
     "text": [
      "Running on TPU grpc://10.0.0.2:8470\n",
      "REPLICAS: 8\n"
     ]
    }
   ],
   "source": [
    "# TPU or GPU detection\n",
    "# Detect hardware, return appropriate distribution strategy\n",
    "strategy, tpu = set_up_strategy()\n",
    "\n",
    "AUTO = tf.data.experimental.AUTOTUNE\n",
    "REPLICAS = strategy.num_replicas_in_sync\n",
    "print(f'REPLICAS: {REPLICAS}')"
   ]
  },
  {
   "cell_type": "markdown",
   "metadata": {
    "papermill": {
     "duration": 0.020762,
     "end_time": "2021-01-22T00:11:31.652884",
     "exception": false,
     "start_time": "2021-01-22T00:11:31.632122",
     "status": "completed"
    },
    "tags": []
   },
   "source": [
    "# Model parameters"
   ]
  },
  {
   "cell_type": "code",
   "execution_count": 4,
   "metadata": {
    "execution": {
     "iopub.execute_input": "2021-01-22T00:11:31.701382Z",
     "iopub.status.busy": "2021-01-22T00:11:31.700719Z",
     "iopub.status.idle": "2021-01-22T00:11:31.705340Z",
     "shell.execute_reply": "2021-01-22T00:11:31.704840Z"
    },
    "papermill": {
     "duration": 0.031691,
     "end_time": "2021-01-22T00:11:31.705452",
     "exception": false,
     "start_time": "2021-01-22T00:11:31.673761",
     "status": "completed"
    },
    "tags": []
   },
   "outputs": [],
   "source": [
    "BATCH_SIZE = 8 * REPLICAS\n",
    "LEARNING_RATE = 1e-5 * REPLICAS\n",
    "EPOCHS = 33\n",
    "HEIGHT = 512\n",
    "WIDTH = 512\n",
    "HEIGHT_DT = 512\n",
    "WIDTH_DT = 512\n",
    "CHANNELS = 3\n",
    "N_CLASSES = 5\n",
    "N_FOLDS = 5\n",
    "FOLDS_USED = 1\n",
    "ES_PATIENCE = 10"
   ]
  },
  {
   "cell_type": "markdown",
   "metadata": {
    "papermill": {
     "duration": 0.020741,
     "end_time": "2021-01-22T00:11:31.747194",
     "exception": false,
     "start_time": "2021-01-22T00:11:31.726453",
     "status": "completed"
    },
    "tags": []
   },
   "source": [
    "# Load data"
   ]
  },
  {
   "cell_type": "code",
   "execution_count": 5,
   "metadata": {
    "_kg_hide-input": true,
    "execution": {
     "iopub.execute_input": "2021-01-22T00:11:31.802313Z",
     "iopub.status.busy": "2021-01-22T00:11:31.801442Z",
     "iopub.status.idle": "2021-01-22T00:11:33.395040Z",
     "shell.execute_reply": "2021-01-22T00:11:33.394325Z"
    },
    "papermill": {
     "duration": 1.626931,
     "end_time": "2021-01-22T00:11:33.395161",
     "exception": false,
     "start_time": "2021-01-22T00:11:31.768230",
     "status": "completed"
    },
    "tags": []
   },
   "outputs": [
    {
     "name": "stdout",
     "output_type": "stream",
     "text": [
      "Train samples: 21397\n",
      "GCS: train images: 26335\n"
     ]
    },
    {
     "data": {
      "text/html": [
       "<div>\n",
       "<style scoped>\n",
       "    .dataframe tbody tr th:only-of-type {\n",
       "        vertical-align: middle;\n",
       "    }\n",
       "\n",
       "    .dataframe tbody tr th {\n",
       "        vertical-align: top;\n",
       "    }\n",
       "\n",
       "    .dataframe thead th {\n",
       "        text-align: right;\n",
       "    }\n",
       "</style>\n",
       "<table border=\"1\" class=\"dataframe\">\n",
       "  <thead>\n",
       "    <tr style=\"text-align: right;\">\n",
       "      <th></th>\n",
       "      <th>image_id</th>\n",
       "      <th>label</th>\n",
       "    </tr>\n",
       "  </thead>\n",
       "  <tbody>\n",
       "    <tr>\n",
       "      <th>0</th>\n",
       "      <td>1000015157.jpg</td>\n",
       "      <td>0</td>\n",
       "    </tr>\n",
       "    <tr>\n",
       "      <th>1</th>\n",
       "      <td>1000201771.jpg</td>\n",
       "      <td>3</td>\n",
       "    </tr>\n",
       "    <tr>\n",
       "      <th>2</th>\n",
       "      <td>100042118.jpg</td>\n",
       "      <td>1</td>\n",
       "    </tr>\n",
       "    <tr>\n",
       "      <th>3</th>\n",
       "      <td>1000723321.jpg</td>\n",
       "      <td>1</td>\n",
       "    </tr>\n",
       "    <tr>\n",
       "      <th>4</th>\n",
       "      <td>1000812911.jpg</td>\n",
       "      <td>3</td>\n",
       "    </tr>\n",
       "  </tbody>\n",
       "</table>\n",
       "</div>"
      ],
      "text/plain": [
       "         image_id  label\n",
       "0  1000015157.jpg      0\n",
       "1  1000201771.jpg      3\n",
       "2   100042118.jpg      1\n",
       "3  1000723321.jpg      1\n",
       "4  1000812911.jpg      3"
      ]
     },
     "metadata": {},
     "output_type": "display_data"
    }
   ],
   "source": [
    "database_base_path = '/kaggle/input/cassava-leaf-disease-classification/'\n",
    "train = pd.read_csv(f'{database_base_path}train.csv')\n",
    "print(f'Train samples: {len(train)}')\n",
    "\n",
    "GCS_PATH = KaggleDatasets().get_gcs_path(f'cassava-leaf-disease-tfrecords-center-{HEIGHT_DT}x{WIDTH_DT}') # Center croped and resized (50 TFRecord)\n",
    "GCS_PATH_EXT = KaggleDatasets().get_gcs_path(f'cassava-leaf-disease-tfrecords-external-{HEIGHT_DT}x{WIDTH_DT}') # Center croped and resized (50 TFRecord) (External)\n",
    "GCS_PATH_CLASSES = KaggleDatasets().get_gcs_path(f'cassava-leaf-disease-tfrecords-classes-{HEIGHT_DT}x{WIDTH_DT}') # Center croped and resized (50 TFRecord) by classes\n",
    "GCS_PATH_EXT_CLASSES = KaggleDatasets().get_gcs_path(f'cassava-leaf-disease-tfrecords-classes-ext-{HEIGHT_DT}x{WIDTH_DT}') # Center croped and resized (50 TFRecord) (External) by classes\n",
    "\n",
    "\n",
    "FILENAMES_COMP = tf.io.gfile.glob(GCS_PATH + '/*.tfrec')\n",
    "FILENAMES_2019 = tf.io.gfile.glob(GCS_PATH_EXT + '/*.tfrec')\n",
    "\n",
    "# FILENAMES_COMP_CBB = tf.io.gfile.glob(GCS_PATH_CLASSES + '/CBB*.tfrec')\n",
    "# FILENAMES_COMP_CBSD = tf.io.gfile.glob(GCS_PATH_CLASSES + '/CBSD*.tfrec')\n",
    "# FILENAMES_COMP_CGM = tf.io.gfile.glob(GCS_PATH_CLASSES + '/CGM*.tfrec')\n",
    "# FILENAMES_COMP_CMD = tf.io.gfile.glob(GCS_PATH_CLASSES + '/CMD*.tfrec')\n",
    "# FILENAMES_COMP_Healthy = tf.io.gfile.glob(GCS_PATH_CLASSES + '/Healthy*.tfrec')\n",
    "\n",
    "# FILENAMES_2019_CBB = tf.io.gfile.glob(GCS_PATH_EXT_CLASSES + '/CBB*.tfrec')\n",
    "# FILENAMES_2019_CBSD = tf.io.gfile.glob(GCS_PATH_EXT_CLASSES + '/CBSD*.tfrec')\n",
    "# FILENAMES_2019_CGM = tf.io.gfile.glob(GCS_PATH_EXT_CLASSES + '/CGM*.tfrec')\n",
    "# FILENAMES_2019_CMD = tf.io.gfile.glob(GCS_PATH_EXT_CLASSES + '/CMD*.tfrec')\n",
    "# FILENAMES_2019_Healthy = tf.io.gfile.glob(GCS_PATH_EXT_CLASSES + '/Healthy*.tfrec')\n",
    "\n",
    "\n",
    "TRAINING_FILENAMES = (FILENAMES_COMP + FILENAMES_2019)\n",
    "\n",
    "NUM_TRAINING_IMAGES = count_data_items(TRAINING_FILENAMES)\n",
    "\n",
    "print(f'GCS: train images: {NUM_TRAINING_IMAGES}')\n",
    "display(train.head())"
   ]
  },
  {
   "cell_type": "markdown",
   "metadata": {
    "papermill": {
     "duration": 0.022152,
     "end_time": "2021-01-22T00:11:33.443155",
     "exception": false,
     "start_time": "2021-01-22T00:11:33.421003",
     "status": "completed"
    },
    "tags": []
   },
   "source": [
    "# Augmentation"
   ]
  },
  {
   "cell_type": "code",
   "execution_count": 6,
   "metadata": {
    "execution": {
     "iopub.execute_input": "2021-01-22T00:11:33.511862Z",
     "iopub.status.busy": "2021-01-22T00:11:33.510799Z",
     "iopub.status.idle": "2021-01-22T00:11:33.514002Z",
     "shell.execute_reply": "2021-01-22T00:11:33.514456Z"
    },
    "papermill": {
     "duration": 0.049191,
     "end_time": "2021-01-22T00:11:33.514609",
     "exception": false,
     "start_time": "2021-01-22T00:11:33.465418",
     "status": "completed"
    },
    "tags": []
   },
   "outputs": [],
   "source": [
    "def data_augment(image, label):\n",
    "#     p_rotation = tf.random.uniform([], 0, 1.0, dtype=tf.float32)\n",
    "    p_spatial = tf.random.uniform([], 0, 1.0, dtype=tf.float32)\n",
    "    p_rotate = tf.random.uniform([], 0, 1.0, dtype=tf.float32)\n",
    "    p_pixel_1 = tf.random.uniform([], 0, 1.0, dtype=tf.float32)\n",
    "    p_pixel_2 = tf.random.uniform([], 0, 1.0, dtype=tf.float32)\n",
    "    p_pixel_3 = tf.random.uniform([], 0, 1.0, dtype=tf.float32)\n",
    "#     p_shear = tf.random.uniform([], 0, 1.0, dtype=tf.float32)\n",
    "    p_crop = tf.random.uniform([], 0, 1.0, dtype=tf.float32)\n",
    "    p_cutout = tf.random.uniform([], 0, 1.0, dtype=tf.float32)\n",
    "    \n",
    "#     # Shear\n",
    "#     if p_shear > .2:\n",
    "#         if p_shear > .6:\n",
    "#             image = transform_shear(image, HEIGHT, shear=20.)\n",
    "#         else:\n",
    "#             image = transform_shear(image, HEIGHT, shear=-20.)\n",
    "            \n",
    "#     # Rotation\n",
    "#     if p_rotation > .2:\n",
    "#         if p_rotation > .6:\n",
    "#             image = transform_rotation(image, HEIGHT, rotation=45.)\n",
    "#         else:\n",
    "#             image = transform_rotation(image, HEIGHT, rotation=-45.)\n",
    "            \n",
    "    # Flips\n",
    "    image = tf.image.random_flip_left_right(image)\n",
    "    image = tf.image.random_flip_up_down(image)\n",
    "    if p_spatial > .75:\n",
    "        image = tf.image.transpose(image)\n",
    "        \n",
    "    # Rotates\n",
    "    if p_rotate > .75:\n",
    "        image = tf.image.rot90(image, k=3) # rotate 270º\n",
    "    elif p_rotate > .5:\n",
    "        image = tf.image.rot90(image, k=2) # rotate 180º\n",
    "    elif p_rotate > .25:\n",
    "        image = tf.image.rot90(image, k=1) # rotate 90º\n",
    "        \n",
    "    # Pixel-level transforms\n",
    "    if p_pixel_1 >= .4:\n",
    "        image = tf.image.random_saturation(image, lower=.7, upper=1.3)\n",
    "    if p_pixel_2 >= .4:\n",
    "        image = tf.image.random_contrast(image, lower=.8, upper=1.2)\n",
    "    if p_pixel_3 >= .4:\n",
    "        image = tf.image.random_brightness(image, max_delta=.1)\n",
    "        \n",
    "    # Crops\n",
    "    if p_crop > .6:\n",
    "        if p_crop > .9:\n",
    "            image = tf.image.central_crop(image, central_fraction=.5)\n",
    "        elif p_crop > .8:\n",
    "            image = tf.image.central_crop(image, central_fraction=.6)\n",
    "        elif p_crop > .7:\n",
    "            image = tf.image.central_crop(image, central_fraction=.7)\n",
    "        else:\n",
    "            image = tf.image.central_crop(image, central_fraction=.8)\n",
    "    elif p_crop > .3:\n",
    "        crop_size = tf.random.uniform([], int(HEIGHT*.6), HEIGHT, dtype=tf.int32)\n",
    "        image = tf.image.random_crop(image, size=[crop_size, crop_size, CHANNELS])\n",
    "            \n",
    "    image = tf.image.resize(image, size=[HEIGHT, WIDTH])\n",
    "\n",
    "    if p_cutout > .5:\n",
    "        image = data_augment_cutout(image)\n",
    "        \n",
    "    return image, label"
   ]
  },
  {
   "cell_type": "markdown",
   "metadata": {
    "papermill": {
     "duration": 0.022028,
     "end_time": "2021-01-22T00:11:33.559337",
     "exception": false,
     "start_time": "2021-01-22T00:11:33.537309",
     "status": "completed"
    },
    "tags": []
   },
   "source": [
    "## Auxiliary functions"
   ]
  },
  {
   "cell_type": "code",
   "execution_count": 7,
   "metadata": {
    "_kg_hide-input": true,
    "execution": {
     "iopub.execute_input": "2021-01-22T00:11:33.618419Z",
     "iopub.status.busy": "2021-01-22T00:11:33.617667Z",
     "iopub.status.idle": "2021-01-22T00:11:33.620551Z",
     "shell.execute_reply": "2021-01-22T00:11:33.621106Z"
    },
    "papermill": {
     "duration": 0.039371,
     "end_time": "2021-01-22T00:11:33.621264",
     "exception": false,
     "start_time": "2021-01-22T00:11:33.581893",
     "status": "completed"
    },
    "tags": []
   },
   "outputs": [],
   "source": [
    "# CutOut\n",
    "def data_augment_cutout(image, min_mask_size=(int(HEIGHT * .1), int(HEIGHT * .1)), \n",
    "                        max_mask_size=(int(HEIGHT * .125), int(HEIGHT * .125))):\n",
    "    p_cutout = tf.random.uniform([], 0, 1.0, dtype=tf.float32)\n",
    "    \n",
    "    if p_cutout > .85: # 10~15 cut outs\n",
    "        n_cutout = tf.random.uniform([], 10, 15, dtype=tf.int32)\n",
    "        image = random_cutout(image, HEIGHT, WIDTH, \n",
    "                              min_mask_size=min_mask_size, max_mask_size=max_mask_size, k=n_cutout)\n",
    "    elif p_cutout > .6: # 5~10 cut outs\n",
    "        n_cutout = tf.random.uniform([], 5, 10, dtype=tf.int32)\n",
    "        image = random_cutout(image, HEIGHT, WIDTH, \n",
    "                              min_mask_size=min_mask_size, max_mask_size=max_mask_size, k=n_cutout)\n",
    "    elif p_cutout > .25: # 2~5 cut outs\n",
    "        n_cutout = tf.random.uniform([], 2, 5, dtype=tf.int32)\n",
    "        image = random_cutout(image, HEIGHT, WIDTH, \n",
    "                              min_mask_size=min_mask_size, max_mask_size=max_mask_size, k=n_cutout)\n",
    "    else: # 1 cut out\n",
    "        image = random_cutout(image, HEIGHT, WIDTH, \n",
    "                              min_mask_size=min_mask_size, max_mask_size=max_mask_size, k=1)\n",
    "\n",
    "    return image"
   ]
  },
  {
   "cell_type": "code",
   "execution_count": 8,
   "metadata": {
    "_cell_guid": "79c7e3d0-c299-4dcb-8224-4455121ee9b0",
    "_kg_hide-input": true,
    "_uuid": "d629ff2d2480ee46fbb7e2d37f6b5fab8052498a",
    "execution": {
     "iopub.execute_input": "2021-01-22T00:11:33.686240Z",
     "iopub.status.busy": "2021-01-22T00:11:33.680952Z",
     "iopub.status.idle": "2021-01-22T00:11:33.694901Z",
     "shell.execute_reply": "2021-01-22T00:11:33.694198Z"
    },
    "papermill": {
     "duration": 0.05065,
     "end_time": "2021-01-22T00:11:33.695028",
     "exception": false,
     "start_time": "2021-01-22T00:11:33.644378",
     "status": "completed"
    },
    "tags": []
   },
   "outputs": [],
   "source": [
    "# Datasets utility functions\n",
    "def random_crop(image, label):\n",
    "    \"\"\"\n",
    "        Resize and reshape images to the expected size.\n",
    "    \"\"\"\n",
    "    image = tf.image.random_crop(image, size=[HEIGHT, WIDTH, CHANNELS])\n",
    "    return image, label\n",
    "\n",
    "def prepare_image(image, label):\n",
    "    \"\"\"\n",
    "        Resize and reshape images to the expected size.\n",
    "    \"\"\"\n",
    "    image = tf.image.resize(image, [HEIGHT, WIDTH])\n",
    "    image = tf.reshape(image, [HEIGHT, WIDTH, CHANNELS])\n",
    "    return image, label\n",
    "\n",
    "def center_crop_(image, label, height_rs, width_rs, height=HEIGHT_DT, width=WIDTH_DT, channels=3):\n",
    "    image = tf.reshape(image, [height, width, channels]) # Original shape\n",
    "    \n",
    "    h, w = image.shape[0], image.shape[1]\n",
    "    if h > w:\n",
    "        image = tf.image.crop_to_bounding_box(image, (h - w) // 2, 0, w, w)\n",
    "    else:\n",
    "        image = tf.image.crop_to_bounding_box(image, 0, (w - h) // 2, h, h)\n",
    "        \n",
    "    image = tf.image.resize(image, [height_rs, width_rs]) # Expected shape\n",
    "    return image, label\n",
    "\n",
    "def get_dataset(filenames, labeled=True, ordered=False, repeated=False, \n",
    "                cached=False, augment=False):\n",
    "    \"\"\"\n",
    "        Return a Tensorflow dataset ready for training or inference.\n",
    "    \"\"\"\n",
    "    \n",
    "    ignore_order = tf.data.Options()\n",
    "    if not ordered:\n",
    "        ignore_order.experimental_deterministic = False\n",
    "        dataset = tf.data.Dataset.list_files(filenames)\n",
    "        dataset = dataset.interleave(tf.data.TFRecordDataset, num_parallel_calls=AUTO)\n",
    "    else:\n",
    "        dataset = tf.data.TFRecordDataset(filenames, num_parallel_reads=AUTO)\n",
    "        \n",
    "    dataset = dataset.with_options(ignore_order)\n",
    "    \n",
    "    dataset = dataset.map(lambda x: read_tfrecord(x, labeled=labeled), num_parallel_calls=AUTO)\n",
    "    \n",
    "    if augment:\n",
    "        dataset = dataset.map(data_augment, num_parallel_calls=AUTO)\n",
    "        \n",
    "    dataset = dataset.map(scale_image, num_parallel_calls=AUTO)\n",
    "    dataset = dataset.map(prepare_image, num_parallel_calls=AUTO)\n",
    "    \n",
    "    \n",
    "    dataset = dataset.map(conf_output, num_parallel_calls=AUTO)\n",
    "    \n",
    "    \n",
    "    if not ordered:\n",
    "        dataset = dataset.shuffle(2048)\n",
    "    if repeated:\n",
    "        dataset = dataset.repeat()\n",
    "        \n",
    "    dataset = dataset.batch(BATCH_SIZE)\n",
    "    \n",
    "    if cached:\n",
    "        dataset = dataset.cache()\n",
    "    dataset = dataset.prefetch(AUTO)\n",
    "    return dataset\n",
    "\n",
    "\n",
    "def conf_output(image, label):\n",
    "    \"\"\"\n",
    "        Configure the output of the dataset.\n",
    "    \"\"\"\n",
    "    output = ({'input_image': image, \n",
    "               'input_image_m': tf.image.resize(image, [384, 384]), \n",
    "               'input_image_s': tf.image.resize(image, [224, 224])}, label)\n",
    "    \n",
    "    return output"
   ]
  },
  {
   "cell_type": "markdown",
   "metadata": {
    "papermill": {
     "duration": 0.021858,
     "end_time": "2021-01-22T00:11:33.739092",
     "exception": false,
     "start_time": "2021-01-22T00:11:33.717234",
     "status": "completed"
    },
    "tags": []
   },
   "source": [
    "# Training data samples (with augmentation)"
   ]
  },
  {
   "cell_type": "code",
   "execution_count": 9,
   "metadata": {
    "_kg_hide-input": true,
    "collapsed": true,
    "execution": {
     "iopub.execute_input": "2021-01-22T00:11:33.793987Z",
     "iopub.status.busy": "2021-01-22T00:11:33.793169Z",
     "iopub.status.idle": "2021-01-22T00:11:45.935006Z",
     "shell.execute_reply": "2021-01-22T00:11:45.935579Z"
    },
    "papermill": {
     "duration": 12.17423,
     "end_time": "2021-01-22T00:11:45.935733",
     "exception": false,
     "start_time": "2021-01-22T00:11:33.761503",
     "status": "completed"
    },
    "tags": []
   },
   "outputs": [
    {
     "ename": "AttributeError",
     "evalue": "'dict' object has no attribute 'numpy'",
     "output_type": "error",
     "traceback": [
      "\u001b[0;31m---------------------------------------------------------------------------\u001b[0m",
      "\u001b[0;31mAttributeError\u001b[0m                            Traceback (most recent call last)",
      "\u001b[0;32m<ipython-input-9-cc07c49edf24>\u001b[0m in \u001b[0;36m<module>\u001b[0;34m\u001b[0m\n\u001b[1;32m      2\u001b[0m \u001b[0mtrain_iter\u001b[0m \u001b[0;34m=\u001b[0m \u001b[0miter\u001b[0m\u001b[0;34m(\u001b[0m\u001b[0mtrain_dataset\u001b[0m\u001b[0;34m.\u001b[0m\u001b[0munbatch\u001b[0m\u001b[0;34m(\u001b[0m\u001b[0;34m)\u001b[0m\u001b[0;34m.\u001b[0m\u001b[0mbatch\u001b[0m\u001b[0;34m(\u001b[0m\u001b[0;36m20\u001b[0m\u001b[0;34m)\u001b[0m\u001b[0;34m)\u001b[0m\u001b[0;34m\u001b[0m\u001b[0;34m\u001b[0m\u001b[0m\n\u001b[1;32m      3\u001b[0m \u001b[0;34m\u001b[0m\u001b[0m\n\u001b[0;32m----> 4\u001b[0;31m \u001b[0mdisplay_batch_of_images\u001b[0m\u001b[0;34m(\u001b[0m\u001b[0mnext\u001b[0m\u001b[0;34m(\u001b[0m\u001b[0mtrain_iter\u001b[0m\u001b[0;34m)\u001b[0m\u001b[0;34m)\u001b[0m\u001b[0;34m\u001b[0m\u001b[0;34m\u001b[0m\u001b[0m\n\u001b[0m\u001b[1;32m      5\u001b[0m \u001b[0mdisplay_batch_of_images\u001b[0m\u001b[0;34m(\u001b[0m\u001b[0mnext\u001b[0m\u001b[0;34m(\u001b[0m\u001b[0mtrain_iter\u001b[0m\u001b[0;34m)\u001b[0m\u001b[0;34m)\u001b[0m\u001b[0;34m\u001b[0m\u001b[0;34m\u001b[0m\u001b[0m\n",
      "\u001b[0;32m/kaggle/usr/lib/cassava_scripts/cassava_scripts.py\u001b[0m in \u001b[0;36mdisplay_batch_of_images\u001b[0;34m(databatch, predictions)\u001b[0m\n\u001b[1;32m    162\u001b[0m     \"\"\"\n\u001b[1;32m    163\u001b[0m     \u001b[0;31m# data\u001b[0m\u001b[0;34m\u001b[0m\u001b[0;34m\u001b[0m\u001b[0;34m\u001b[0m\u001b[0m\n\u001b[0;32m--> 164\u001b[0;31m     \u001b[0mimages\u001b[0m\u001b[0;34m,\u001b[0m \u001b[0mlabels\u001b[0m \u001b[0;34m=\u001b[0m \u001b[0mbatch_to_numpy_images_and_labels\u001b[0m\u001b[0;34m(\u001b[0m\u001b[0mdatabatch\u001b[0m\u001b[0;34m)\u001b[0m\u001b[0;34m\u001b[0m\u001b[0;34m\u001b[0m\u001b[0m\n\u001b[0m\u001b[1;32m    165\u001b[0m     \u001b[0mlabels\u001b[0m \u001b[0;34m=\u001b[0m \u001b[0mnp\u001b[0m\u001b[0;34m.\u001b[0m\u001b[0margmax\u001b[0m\u001b[0;34m(\u001b[0m\u001b[0mlabels\u001b[0m\u001b[0;34m,\u001b[0m \u001b[0maxis\u001b[0m\u001b[0;34m=\u001b[0m\u001b[0;34m-\u001b[0m\u001b[0;36m1\u001b[0m\u001b[0;34m)\u001b[0m\u001b[0;34m\u001b[0m\u001b[0;34m\u001b[0m\u001b[0m\n\u001b[1;32m    166\u001b[0m     \u001b[0;32mif\u001b[0m \u001b[0mlabels\u001b[0m \u001b[0;32mis\u001b[0m \u001b[0;32mNone\u001b[0m\u001b[0;34m:\u001b[0m\u001b[0;34m\u001b[0m\u001b[0;34m\u001b[0m\u001b[0m\n",
      "\u001b[0;32m/kaggle/usr/lib/cassava_scripts/cassava_scripts.py\u001b[0m in \u001b[0;36mbatch_to_numpy_images_and_labels\u001b[0;34m(data)\u001b[0m\n\u001b[1;32m    131\u001b[0m \u001b[0;32mdef\u001b[0m \u001b[0mbatch_to_numpy_images_and_labels\u001b[0m\u001b[0;34m(\u001b[0m\u001b[0mdata\u001b[0m\u001b[0;34m)\u001b[0m\u001b[0;34m:\u001b[0m\u001b[0;34m\u001b[0m\u001b[0;34m\u001b[0m\u001b[0m\n\u001b[1;32m    132\u001b[0m     \u001b[0mimages\u001b[0m\u001b[0;34m,\u001b[0m \u001b[0mlabels\u001b[0m \u001b[0;34m=\u001b[0m \u001b[0mdata\u001b[0m\u001b[0;34m\u001b[0m\u001b[0;34m\u001b[0m\u001b[0m\n\u001b[0;32m--> 133\u001b[0;31m     \u001b[0mnumpy_images\u001b[0m \u001b[0;34m=\u001b[0m \u001b[0mimages\u001b[0m\u001b[0;34m.\u001b[0m\u001b[0mnumpy\u001b[0m\u001b[0;34m(\u001b[0m\u001b[0;34m)\u001b[0m\u001b[0;34m\u001b[0m\u001b[0;34m\u001b[0m\u001b[0m\n\u001b[0m\u001b[1;32m    134\u001b[0m     \u001b[0mnumpy_labels\u001b[0m \u001b[0;34m=\u001b[0m \u001b[0mlabels\u001b[0m\u001b[0;34m.\u001b[0m\u001b[0mnumpy\u001b[0m\u001b[0;34m(\u001b[0m\u001b[0;34m)\u001b[0m\u001b[0;34m\u001b[0m\u001b[0;34m\u001b[0m\u001b[0m\n\u001b[1;32m    135\u001b[0m     \u001b[0;32mif\u001b[0m \u001b[0mnumpy_labels\u001b[0m\u001b[0;34m.\u001b[0m\u001b[0mdtype\u001b[0m \u001b[0;34m==\u001b[0m \u001b[0mobject\u001b[0m\u001b[0;34m:\u001b[0m \u001b[0;31m# binary string in this case, these are image ID strings\u001b[0m\u001b[0;34m\u001b[0m\u001b[0;34m\u001b[0m\u001b[0m\n",
      "\u001b[0;31mAttributeError\u001b[0m: 'dict' object has no attribute 'numpy'"
     ]
    }
   ],
   "source": [
    "train_dataset = get_dataset(FILENAMES_COMP, ordered=True, augment=True)\n",
    "train_iter = iter(train_dataset.unbatch().batch(20))\n",
    "\n",
    "display_batch_of_images(next(train_iter))\n",
    "display_batch_of_images(next(train_iter))"
   ]
  },
  {
   "cell_type": "markdown",
   "metadata": {
    "papermill": {
     "duration": 0.022967,
     "end_time": "2021-01-22T00:11:45.982300",
     "exception": false,
     "start_time": "2021-01-22T00:11:45.959333",
     "status": "completed"
    },
    "tags": []
   },
   "source": [
    "# Model"
   ]
  },
  {
   "cell_type": "code",
   "execution_count": 10,
   "metadata": {
    "execution": {
     "iopub.execute_input": "2021-01-22T00:11:46.042738Z",
     "iopub.status.busy": "2021-01-22T00:11:46.041738Z",
     "iopub.status.idle": "2021-01-22T00:11:46.044678Z",
     "shell.execute_reply": "2021-01-22T00:11:46.044099Z"
    },
    "papermill": {
     "duration": 0.03891,
     "end_time": "2021-01-22T00:11:46.044804",
     "exception": false,
     "start_time": "2021-01-22T00:11:46.005894",
     "status": "completed"
    },
    "tags": []
   },
   "outputs": [],
   "source": [
    "def model_fn(input_shape, N_CLASSES):\n",
    "    inputs = L.Input(shape=input_shape, name='input_image')\n",
    "    inputs_m = L.Input(shape=input_shape, name='input_image_m')\n",
    "    inputs_s = L.Input(shape=input_shape, name='input_image_s')\n",
    "    \n",
    "    # Big image\n",
    "    base_model = efn.EfficientNetB5(include_top=False, \n",
    "                                    weights='noisy-student', \n",
    "                                    pooling='avg')\n",
    "\n",
    "#     base_model.trainable = False\n",
    "    \n",
    "    x_b = base_model(inputs)\n",
    "    x_b = L.Dropout(.25)(x_b)\n",
    "    \n",
    "    x_m = base_model(inputs_m)\n",
    "    x_m = L.Dropout(.25)(x_m)\n",
    "    \n",
    "    x_s = base_model(inputs_s)\n",
    "    x_s = L.Dropout(.25)(x_s)\n",
    "    \n",
    "    x = L.Concatenate()([x_b, x_m, x_s])\n",
    "    \n",
    "    output = L.Dense(N_CLASSES, activation='softmax', name='output')(x)\n",
    "    model = Model(inputs=[inputs, inputs_m, inputs_s], outputs=output)\n",
    "\n",
    "    return model"
   ]
  },
  {
   "cell_type": "markdown",
   "metadata": {
    "papermill": {
     "duration": 0.022996,
     "end_time": "2021-01-22T00:11:46.090992",
     "exception": false,
     "start_time": "2021-01-22T00:11:46.067996",
     "status": "completed"
    },
    "tags": []
   },
   "source": [
    "### Learning rate schedule"
   ]
  },
  {
   "cell_type": "code",
   "execution_count": 11,
   "metadata": {
    "_kg_hide-input": true,
    "collapsed": true,
    "execution": {
     "iopub.execute_input": "2021-01-22T00:11:46.141712Z",
     "iopub.status.busy": "2021-01-22T00:11:46.141046Z",
     "iopub.status.idle": "2021-01-22T00:12:47.604745Z",
     "shell.execute_reply": "2021-01-22T00:12:47.604162Z"
    },
    "papermill": {
     "duration": 61.490471,
     "end_time": "2021-01-22T00:12:47.604887",
     "exception": false,
     "start_time": "2021-01-22T00:11:46.114416",
     "status": "completed"
    },
    "tags": []
   },
   "outputs": [
    {
     "name": "stdout",
     "output_type": "stream",
     "text": [
      "13563 total steps and 411 steps per epoch\n",
      "Learning rate schedule: 1e-08 to 8e-05 to 1e-06\n"
     ]
    },
    {
     "data": {
      "image/png": "[encoded data removed]",
      "text/plain": [
       "<Figure size 1440x432 with 1 Axes>"
      ]
     },
     "metadata": {},
     "output_type": "display_data"
    }
   ],
   "source": [
    "lr_start = 1e-8\n",
    "lr_min = 1e-6\n",
    "lr_max = LEARNING_RATE\n",
    "num_cycles = 3\n",
    "warmup_epochs = 3\n",
    "hold_max_epochs = 0\n",
    "total_epochs = EPOCHS\n",
    "step_size = (NUM_TRAINING_IMAGES//BATCH_SIZE)\n",
    "hold_max_steps = hold_max_epochs * step_size\n",
    "total_steps = total_epochs * step_size\n",
    "warmup_steps = warmup_epochs * step_size\n",
    "\n",
    "\n",
    "def lrfn(total_steps, warmup_steps=0, lr_start=1e-4, lr_max=1e-3, lr_min=1e-4, num_cycles=1.):\n",
    "    @tf.function\n",
    "    def cosine_with_hard_restarts_schedule_with_warmup_(step):\n",
    "        \"\"\" Create a schedule with a learning rate that decreases following the\n",
    "        values of the cosine function with several hard restarts, after a warmup\n",
    "        period during which it increases linearly between 0 and 1.\n",
    "        \"\"\"\n",
    "\n",
    "        if step < warmup_steps:\n",
    "            lr = (lr_max - lr_start) / warmup_steps * step + lr_start\n",
    "        else:\n",
    "            progress = (step - warmup_steps) / (total_steps - warmup_steps)\n",
    "            lr = lr_max * (0.5 * (1.0 + tf.math.cos(np.pi * ((num_cycles * progress) % 1.0))))\n",
    "            if lr_min is not None:\n",
    "                lr = tf.math.maximum(lr_min, float(lr))\n",
    "        return lr\n",
    "    return cosine_with_hard_restarts_schedule_with_warmup_\n",
    "\n",
    "lrfn_fn = lrfn(total_steps, warmup_steps, lr_start, lr_max, lr_min, num_cycles)\n",
    "rng = [i for i in range(total_steps)]\n",
    "y = [lrfn_fn(tf.cast(x, tf.float32)) for x in rng]\n",
    "\n",
    "sns.set(style='whitegrid')\n",
    "fig, ax = plt.subplots(figsize=(20, 6))\n",
    "plt.plot(rng, y)\n",
    "\n",
    "print(f'{total_steps} total steps and {step_size} steps per epoch')\n",
    "print(f'Learning rate schedule: {y[0]:.3g} to {max(y):.3g} to {y[-1]:.3g}')"
   ]
  },
  {
   "cell_type": "markdown",
   "metadata": {
    "papermill": {
     "duration": 0.02537,
     "end_time": "2021-01-22T00:12:47.655885",
     "exception": false,
     "start_time": "2021-01-22T00:12:47.630515",
     "status": "completed"
    },
    "tags": []
   },
   "source": [
    "# Training"
   ]
  },
  {
   "cell_type": "code",
   "execution_count": 12,
   "metadata": {
    "_kg_hide-input": true,
    "_kg_hide-output": true,
    "execution": {
     "iopub.execute_input": "2021-01-22T00:12:47.732693Z",
     "iopub.status.busy": "2021-01-22T00:12:47.711141Z",
     "iopub.status.idle": "2021-01-22T01:19:07.229876Z",
     "shell.execute_reply": "2021-01-22T01:19:07.230729Z"
    },
    "papermill": {
     "duration": 3979.54939,
     "end_time": "2021-01-22T01:19:07.230942",
     "exception": false,
     "start_time": "2021-01-22T00:12:47.681552",
     "status": "completed"
    },
    "tags": []
   },
   "outputs": [
    {
     "name": "stdout",
     "output_type": "stream",
     "text": [
      "\n",
      "FOLD: 1\n",
      "TRAIN: [ 0  2  3  4  5  7  9 10 11 12 13 14] VALID: [1 6 8]\n",
      "Downloading data from https://github.com/qubvel/efficientnet/releases/download/v0.0.1/efficientnet-b5_noisy-student_notop.h5\n",
      "115261440/115255328 [==============================] - 2s 0us/step\n",
      "\n",
      "EPOCH 1/33\n",
      "time: 483.8s loss: 1.3977 accuracy: 0.5621 val_loss: 1.1793 val_accuracy: 0.6811 lr: 2.667e-05\n",
      "Saved model weights at \"model_0.h5\"\n",
      "\n",
      "EPOCH 2/33\n",
      "time: 115.0s loss: 1.2218 accuracy: 0.7247 val_loss: 0.7992 val_accuracy: 0.7995 lr: 5.334e-05\n",
      "Saved model weights at \"model_0.h5\"\n",
      "\n",
      "EPOCH 3/33\n",
      "time: 114.6s loss: 1.1537 accuracy: 0.7869 val_loss: 0.6705 val_accuracy: 0.8352 lr: 8e-05\n",
      "Saved model weights at \"model_0.h5\"\n",
      "\n",
      "EPOCH 4/33\n",
      "time: 114.9s loss: 1.1216 accuracy: 0.8215 val_loss: 0.5794 val_accuracy: 0.8646 lr: 7.804e-05\n",
      "Saved model weights at \"model_0.h5\"\n",
      "\n",
      "EPOCH 5/33\n",
      "time: 114.9s loss: 1.0985 accuracy: 0.8389 val_loss: 0.6381 val_accuracy: 0.8670 lr: 7.236e-05\n",
      "Saved model weights at \"model_0.h5\"\n",
      "\n",
      "EPOCH 6/33\n",
      "time: 114.7s loss: 1.0874 accuracy: 0.8456 val_loss: 0.5993 val_accuracy: 0.8733 lr: 6.351e-05\n",
      "Saved model weights at \"model_0.h5\"\n",
      "\n",
      "EPOCH 7/33\n",
      "time: 114.8s loss: 1.0748 accuracy: 0.8529 val_loss: 0.5470 val_accuracy: 0.8759 lr: 5.236e-05\n",
      "Saved model weights at \"model_0.h5\"\n",
      "\n",
      "EPOCH 8/33\n",
      "time: 114.7s loss: 1.0704 accuracy: 0.8584 val_loss: 0.5660 val_accuracy: 0.8778 lr: 4e-05\n",
      "Saved model weights at \"model_0.h5\"\n",
      "\n",
      "EPOCH 9/33\n",
      "time: 114.7s loss: 1.0649 accuracy: 0.8627 val_loss: 0.5469 val_accuracy: 0.8793 lr: 2.764e-05\n",
      "Saved model weights at \"model_0.h5\"\n",
      "\n",
      "EPOCH 10/33\n",
      "time: 114.8s loss: 1.0584 accuracy: 0.8687 val_loss: 0.5502 val_accuracy: 0.8788 lr: 1.649e-05\n",
      "\n",
      "EPOCH 11/33\n",
      "time: 115.0s loss: 1.0581 accuracy: 0.8694 val_loss: 0.5490 val_accuracy: 0.8816 lr: 7.639e-06\n",
      "Saved model weights at \"model_0.h5\"\n",
      "\n",
      "EPOCH 12/33\n",
      "time: 115.1s loss: 1.0538 accuracy: 0.8709 val_loss: 0.5444 val_accuracy: 0.8809 lr: 1.958e-06\n",
      "\n",
      "EPOCH 13/33\n",
      "time: 114.6s loss: 1.0557 accuracy: 0.8689 val_loss: 0.5476 val_accuracy: 0.8809 lr: 8e-05\n",
      "\n",
      "EPOCH 14/33\n",
      "time: 114.5s loss: 1.0554 accuracy: 0.8717 val_loss: 0.5280 val_accuracy: 0.8814 lr: 7.804e-05\n",
      "\n",
      "EPOCH 15/33\n",
      "time: 114.7s loss: 1.0514 accuracy: 0.8738 val_loss: 0.5204 val_accuracy: 0.8833 lr: 7.236e-05\n",
      "Saved model weights at \"model_0.h5\"\n",
      "\n",
      "EPOCH 16/33\n",
      "time: 114.5s loss: 1.0446 accuracy: 0.8792 val_loss: 0.5260 val_accuracy: 0.8823 lr: 6.351e-05\n",
      "\n",
      "EPOCH 17/33\n",
      "time: 115.1s loss: 1.0427 accuracy: 0.8796 val_loss: 0.5321 val_accuracy: 0.8840 lr: 5.236e-05\n",
      "Saved model weights at \"model_0.h5\"\n",
      "\n",
      "EPOCH 18/33\n",
      "time: 115.3s loss: 1.0364 accuracy: 0.8841 val_loss: 0.5345 val_accuracy: 0.8838 lr: 4e-05\n",
      "\n",
      "EPOCH 19/33\n",
      "time: 115.2s loss: 1.0321 accuracy: 0.8874 val_loss: 0.5439 val_accuracy: 0.8864 lr: 2.764e-05\n",
      "Saved model weights at \"model_0.h5\"\n",
      "\n",
      "EPOCH 20/33\n",
      "time: 115.0s loss: 1.0300 accuracy: 0.8899 val_loss: 0.5339 val_accuracy: 0.8845 lr: 1.649e-05\n",
      "\n",
      "EPOCH 21/33\n",
      "time: 114.6s loss: 1.0306 accuracy: 0.8912 val_loss: 0.5292 val_accuracy: 0.8852 lr: 7.639e-06\n",
      "\n",
      "EPOCH 22/33\n",
      "time: 114.6s loss: 1.0298 accuracy: 0.8895 val_loss: 0.5288 val_accuracy: 0.8847 lr: 1.958e-06\n",
      "\n",
      "EPOCH 23/33\n",
      "time: 114.5s loss: 1.0306 accuracy: 0.8896 val_loss: 0.5277 val_accuracy: 0.8861 lr: 8e-05\n",
      "\n",
      "EPOCH 24/33\n",
      "time: 114.8s loss: 1.0356 accuracy: 0.8854 val_loss: 0.5434 val_accuracy: 0.8828 lr: 7.804e-05\n",
      "\n",
      "EPOCH 25/33\n",
      "time: 114.7s loss: 1.0278 accuracy: 0.8921 val_loss: 0.5402 val_accuracy: 0.8835 lr: 7.236e-05\n",
      "\n",
      "EPOCH 26/33\n",
      "time: 115.2s loss: 1.0266 accuracy: 0.8933 val_loss: 0.5506 val_accuracy: 0.8830 lr: 6.351e-05\n",
      "\n",
      "EPOCH 27/33\n",
      "time: 114.9s loss: 1.0251 accuracy: 0.8936 val_loss: 0.5353 val_accuracy: 0.8819 lr: 5.236e-05\n",
      "\n",
      "EPOCH 28/33\n",
      "time: 115.0s loss: 1.0213 accuracy: 0.8965 val_loss: 0.5248 val_accuracy: 0.8854 lr: 4e-05\n",
      "\n",
      "EPOCH 29/33\n",
      "time: 115.1s loss: 1.0207 accuracy: 0.8979 val_loss: 0.5290 val_accuracy: 0.8845 lr: 2.764e-05\n",
      "Epoch 00028: early stopping\n",
      "#### FOLD 1 OOF Accuracy = 0.886\n"
     ]
    }
   ],
   "source": [
    "skf = KFold(n_splits=N_FOLDS, shuffle=True, random_state=seed)\n",
    "oof_pred = []; oof_labels = []; oof_names = []; oof_folds = []; history_list = []\n",
    "\n",
    "for fold,(idxT, idxV) in enumerate(skf.split(np.arange(15))):\n",
    "    if fold >= FOLDS_USED:\n",
    "        break\n",
    "    if tpu: tf.tpu.experimental.initialize_tpu_system(tpu)\n",
    "    K.clear_session()\n",
    "    print(f'\\nFOLD: {fold+1}')\n",
    "    print(f'TRAIN: {idxT} VALID: {idxV}')\n",
    "\n",
    "    # Create train and validation sets\n",
    "    FILENAMES_COMP = tf.io.gfile.glob([GCS_PATH + '/Id_train%.2i*.tfrec' % x for x in idxT])\n",
    "    FILENAMES_2019 = tf.io.gfile.glob([GCS_PATH_EXT + '/Id_train%.2i*.tfrec' % x for x in idxT])\n",
    "\n",
    "#     FILENAMES_COMP_CBB = tf.io.gfile.glob([GCS_PATH_CLASSES + '/CBB%.2i*.tfrec' % x for x in idxT])\n",
    "#     FILENAMES_COMP_CBSD = tf.io.gfile.glob([GCS_PATH_CLASSES + '/CBSD%.2i*.tfrec' % x for x in idxT])\n",
    "#     FILENAMES_COMP_CGM = tf.io.gfile.glob([GCS_PATH_CLASSES + '/CGM%.2i*.tfrec' % x for x in idxT])\n",
    "#     FILENAMES_COMP_Healthy = tf.io.gfile.glob([GCS_PATH_CLASSES + '/Healthy%.2i*.tfrec' % x for x in idxT])\n",
    "    \n",
    "#     FILENAMES_2019_CBB = tf.io.gfile.glob([GCS_PATH_EXT_CLASSES + '/CBB%.2i*.tfrec' % x for x in idxT])\n",
    "#     FILENAMES_2019_CBSD = tf.io.gfile.glob([GCS_PATH_EXT_CLASSES + '/CBSD%.2i*.tfrec' % x for x in idxT])\n",
    "#     FILENAMES_2019_CGM = tf.io.gfile.glob([GCS_PATH_EXT_CLASSES + '/CGM%.2i*.tfrec' % x for x in idxT])\n",
    "#     FILENAMES_2019_Healthy = tf.io.gfile.glob([GCS_PATH_EXT_CLASSES + '/Healthy%.2i*.tfrec' % x for x in idxT])\n",
    "\n",
    "    TRAIN_FILENAMES = (FILENAMES_COMP + FILENAMES_2019)\n",
    "    \n",
    "    VALID_FILENAMES = tf.io.gfile.glob([GCS_PATH + '/Id_train%.2i*.tfrec' % x for x in idxV])\n",
    "    np.random.shuffle(TRAIN_FILENAMES)\n",
    "    \n",
    "    ct_train = count_data_items(TRAIN_FILENAMES)\n",
    "    ct_valid = count_data_items(VALID_FILENAMES)\n",
    "    \n",
    "    step_size = (ct_train // BATCH_SIZE)\n",
    "    valid_step_size = (ct_valid // BATCH_SIZE)\n",
    "    total_steps = (total_epochs * step_size)\n",
    "    warmup_steps = (warmup_epochs * step_size)\n",
    "    \n",
    "    \n",
    "    # Build TF datasets\n",
    "    train_ds = strategy.experimental_distribute_dataset(get_dataset(TRAIN_FILENAMES, repeated=True, augment=True))\n",
    "    valid_ds = strategy.experimental_distribute_dataset(get_dataset(VALID_FILENAMES, ordered=True, repeated=True))\n",
    "    train_data_iter = iter(train_ds)\n",
    "    valid_data_iter = iter(valid_ds)\n",
    "    \n",
    "    \n",
    "    # Step functions\n",
    "    @tf.function\n",
    "    def train_step(data_iter):\n",
    "        def train_step_fn(x, y):\n",
    "            with tf.GradientTape() as tape:\n",
    "                probabilities = model(x, training=True)\n",
    "                loss = loss_fn(y, probabilities, label_smoothing=.3)\n",
    "            gradients = tape.gradient(loss, model.trainable_variables)\n",
    "            optimizer.apply_gradients(zip(gradients, model.trainable_variables))\n",
    "            # update metrics\n",
    "            train_accuracy.update_state(y, probabilities)\n",
    "            train_loss.update_state(loss)\n",
    "        for _ in tf.range(step_size):\n",
    "            strategy.experimental_run_v2(train_step_fn, next(data_iter))\n",
    "\n",
    "    @tf.function\n",
    "    def valid_step(data_iter):\n",
    "        def valid_step_fn(x, y):\n",
    "            probabilities = model(x, training=False)\n",
    "            loss = loss_fn(y, probabilities)\n",
    "            # update metrics\n",
    "            valid_accuracy.update_state(y, probabilities)\n",
    "            valid_loss.update_state(loss)\n",
    "        for _ in tf.range(valid_step_size):\n",
    "            strategy.experimental_run_v2(valid_step_fn, next(data_iter))\n",
    "    \n",
    "    \n",
    "    # Model\n",
    "    model_path = f'model_{fold}.h5'\n",
    "    with strategy.scope():\n",
    "        model = model_fn((None, None, CHANNELS), N_CLASSES)\n",
    "        unfreeze_model(model) # unfreeze all layers except \"batch normalization\"\n",
    "        \n",
    "        lrfn_fn = lrfn(total_steps, warmup_steps, lr_start, lr_max, lr_min, num_cycles)\n",
    "        optimizer = optimizers.SGD(learning_rate=lambda: lrfn_fn(tf.cast(optimizer.iterations, tf.float32)), \n",
    "                                   momentum=0.95, nesterov=True)\n",
    "        loss_fn = losses.categorical_crossentropy\n",
    "\n",
    "        train_accuracy = metrics.CategoricalAccuracy()\n",
    "        valid_accuracy = metrics.CategoricalAccuracy()\n",
    "        train_loss = metrics.Sum()\n",
    "        valid_loss = metrics.Sum()\n",
    "    \n",
    "    \n",
    "    # Setup training loop\n",
    "    step = 0\n",
    "    epoch_steps = 0\n",
    "    patience_cnt = 0\n",
    "    best_val = 0\n",
    "    history = {'loss': [], 'val_loss': [], 'accuracy': [], 'val_accuracy': []}\n",
    "\n",
    "    ### Train model\n",
    "    for epoch in range(EPOCHS):\n",
    "        epoch_start_time = time.time()\n",
    "\n",
    "        # Run training step\n",
    "        train_step(train_data_iter)\n",
    "        epoch_steps += step_size\n",
    "        step += step_size\n",
    "            \n",
    "\n",
    "        # Validation run at the end of each epoch\n",
    "        if (step // step_size) > epoch:\n",
    "            # Validation run\n",
    "            valid_epoch_steps = 0\n",
    "            valid_step(valid_data_iter)\n",
    "            valid_epoch_steps += valid_step_size\n",
    "\n",
    "            # Compute metrics\n",
    "            history['accuracy'].append(train_accuracy.result().numpy())\n",
    "            history['loss'].append(train_loss.result().numpy() / (BATCH_SIZE * epoch_steps))\n",
    "            history['val_accuracy'].append(valid_accuracy.result().numpy())\n",
    "            history['val_loss'].append(valid_loss.result().numpy() / (BATCH_SIZE * valid_epoch_steps))\n",
    "\n",
    "            # Report metrics\n",
    "            epoch_time = time.time() - epoch_start_time\n",
    "            print(f'\\nEPOCH {epoch+1}/{EPOCHS}')\n",
    "            print(f'time: {epoch_time:0.1f}s',\n",
    "                  f\"loss: {history['loss'][-1]:0.4f}\",\n",
    "                  f\"accuracy: {history['accuracy'][-1]:0.4f}\",\n",
    "                  f\"val_loss: {history['val_loss'][-1]:0.4f}\",\n",
    "                  f\"val_accuracy: {history['val_accuracy'][-1]:0.4f}\",\n",
    "                  f'lr: {lrfn_fn(tf.cast(optimizer.iterations, tf.int32).numpy()):0.4g}')\n",
    "\n",
    "            # Early stopping monitor\n",
    "            if history['val_accuracy'][-1] >= best_val:\n",
    "                best_val = history['val_accuracy'][-1]\n",
    "                model.save_weights(model_path)\n",
    "                print(f'Saved model weights at \"{model_path}\"')\n",
    "                patience_cnt = 1\n",
    "            else:\n",
    "                patience_cnt += 1\n",
    "            if patience_cnt > ES_PATIENCE:\n",
    "                print(f'Epoch {epoch:05d}: early stopping')\n",
    "                break\n",
    "\n",
    "                \n",
    "            # Set up next epoch\n",
    "            epoch_steps = 0\n",
    "            train_accuracy.reset_states()\n",
    "            train_loss.reset_states()\n",
    "            valid_accuracy.reset_states()\n",
    "            valid_loss.reset_states()\n",
    "    \n",
    "    \n",
    "    ### RESULTS\n",
    "    print(f\"#### FOLD {fold+1} OOF Accuracy = {np.max(history['val_accuracy']):.3f}\")\n",
    "    \n",
    "    history_list.append(history)\n",
    "    # Load best model weights\n",
    "    model.load_weights(model_path)\n",
    "\n",
    "    # OOF predictions\n",
    "    ds_valid = get_dataset(VALID_FILENAMES, ordered=True)\n",
    "    oof_folds.append(np.full((ct_valid), fold, dtype='int8'))\n",
    "    oof_labels.append([target.numpy() for img, target in iter(ds_valid.unbatch())])\n",
    "    x_oof = ds_valid.map(lambda image, target: image)\n",
    "    oof_pred.append(np.argmax(model.predict(x_oof), axis=-1))\n",
    "    # OOF names\n",
    "    ds_valid_names = get_dataset(VALID_FILENAMES, labeled=False, ordered=True)\n",
    "    oof_names.append(np.array([img_name.numpy().decode('utf-8') for img, img_name in iter(ds_valid_names.unbatch())]))"
   ]
  },
  {
   "cell_type": "markdown",
   "metadata": {
    "papermill": {
     "duration": 0.049707,
     "end_time": "2021-01-22T01:19:07.331696",
     "exception": false,
     "start_time": "2021-01-22T01:19:07.281989",
     "status": "completed"
    },
    "tags": []
   },
   "source": [
    "## Model loss graph"
   ]
  },
  {
   "cell_type": "code",
   "execution_count": 13,
   "metadata": {
    "_kg_hide-input": true,
    "execution": {
     "iopub.execute_input": "2021-01-22T01:19:07.437634Z",
     "iopub.status.busy": "2021-01-22T01:19:07.436687Z",
     "iopub.status.idle": "2021-01-22T01:19:08.109998Z",
     "shell.execute_reply": "2021-01-22T01:19:08.110551Z"
    },
    "papermill": {
     "duration": 0.728459,
     "end_time": "2021-01-22T01:19:08.110717",
     "exception": false,
     "start_time": "2021-01-22T01:19:07.382258",
     "status": "completed"
    },
    "tags": []
   },
   "outputs": [
    {
     "name": "stdout",
     "output_type": "stream",
     "text": [
      "\n",
      "FOLD: 1\n"
     ]
    },
    {
     "data": {
      "image/png": "[encoded data removed]",
      "text/plain": [
       "<Figure size 1440x576 with 2 Axes>"
      ]
     },
     "metadata": {},
     "output_type": "display_data"
    }
   ],
   "source": [
    "for fold, history in enumerate(history_list):\n",
    "    print(f'\\nFOLD: {fold+1}')\n",
    "    plot_metrics(history)"
   ]
  },
  {
   "cell_type": "markdown",
   "metadata": {
    "papermill": {
     "duration": 0.056616,
     "end_time": "2021-01-22T01:19:08.220739",
     "exception": false,
     "start_time": "2021-01-22T01:19:08.164123",
     "status": "completed"
    },
    "tags": []
   },
   "source": [
    "# Model evaluation"
   ]
  },
  {
   "cell_type": "code",
   "execution_count": 14,
   "metadata": {
    "_kg_hide-input": true,
    "execution": {
     "iopub.execute_input": "2021-01-22T01:19:08.337403Z",
     "iopub.status.busy": "2021-01-22T01:19:08.336645Z",
     "iopub.status.idle": "2021-01-22T01:19:08.463278Z",
     "shell.execute_reply": "2021-01-22T01:19:08.462687Z"
    },
    "papermill": {
     "duration": 0.189672,
     "end_time": "2021-01-22T01:19:08.463393",
     "exception": false,
     "start_time": "2021-01-22T01:19:08.273721",
     "status": "completed"
    },
    "tags": []
   },
   "outputs": [
    {
     "name": "stdout",
     "output_type": "stream",
     "text": [
      "Overall OOF Accuracy = 0.886\n"
     ]
    },
    {
     "data": {
      "text/html": [
       "<div>\n",
       "<style scoped>\n",
       "    .dataframe tbody tr th:only-of-type {\n",
       "        vertical-align: middle;\n",
       "    }\n",
       "\n",
       "    .dataframe tbody tr th {\n",
       "        vertical-align: top;\n",
       "    }\n",
       "\n",
       "    .dataframe thead th {\n",
       "        text-align: right;\n",
       "    }\n",
       "</style>\n",
       "<table border=\"1\" class=\"dataframe\">\n",
       "  <thead>\n",
       "    <tr style=\"text-align: right;\">\n",
       "      <th></th>\n",
       "      <th>image_id</th>\n",
       "      <th>fold</th>\n",
       "      <th>target</th>\n",
       "      <th>pred</th>\n",
       "    </tr>\n",
       "  </thead>\n",
       "  <tbody>\n",
       "    <tr>\n",
       "      <th>0</th>\n",
       "      <td>1000201771.jpg</td>\n",
       "      <td>0</td>\n",
       "      <td>3</td>\n",
       "      <td>3</td>\n",
       "    </tr>\n",
       "    <tr>\n",
       "      <th>1</th>\n",
       "      <td>1000837476.jpg</td>\n",
       "      <td>0</td>\n",
       "      <td>3</td>\n",
       "      <td>3</td>\n",
       "    </tr>\n",
       "    <tr>\n",
       "      <th>2</th>\n",
       "      <td>1001723730.jpg</td>\n",
       "      <td>0</td>\n",
       "      <td>4</td>\n",
       "      <td>0</td>\n",
       "    </tr>\n",
       "    <tr>\n",
       "      <th>3</th>\n",
       "      <td>1001749118.jpg</td>\n",
       "      <td>0</td>\n",
       "      <td>3</td>\n",
       "      <td>3</td>\n",
       "    </tr>\n",
       "    <tr>\n",
       "      <th>4</th>\n",
       "      <td>1008284502.jpg</td>\n",
       "      <td>0</td>\n",
       "      <td>3</td>\n",
       "      <td>3</td>\n",
       "    </tr>\n",
       "  </tbody>\n",
       "</table>\n",
       "</div>"
      ],
      "text/plain": [
       "         image_id  fold  target  pred\n",
       "0  1000201771.jpg     0       3     3\n",
       "1  1000837476.jpg     0       3     3\n",
       "2  1001723730.jpg     0       4     0\n",
       "3  1001749118.jpg     0       3     3\n",
       "4  1008284502.jpg     0       3     3"
      ]
     },
     "metadata": {},
     "output_type": "display_data"
    },
    {
     "name": "stdout",
     "output_type": "stream",
     "text": [
      "                              precision    recall  f1-score   support\n",
      "\n",
      "    Cassava Bacterial Blight       0.62      0.59      0.61       217\n",
      "Cassava Brown Streak Disease       0.85      0.79      0.82       437\n",
      "        Cassava Green Mottle       0.81      0.82      0.82       478\n",
      "      Cassava Mosaic Disease       0.95      0.97      0.96      2633\n",
      "                     Healthy       0.74      0.72      0.73       514\n",
      "\n",
      "                    accuracy                           0.89      4279\n",
      "                   macro avg       0.79      0.78      0.79      4279\n",
      "                weighted avg       0.88      0.89      0.89      4279\n",
      "\n"
     ]
    }
   ],
   "source": [
    "y_true = np.concatenate(oof_labels)\n",
    "y_true = np.argmax(y_true, axis=-1)\n",
    "y_pred = np.concatenate(oof_pred)\n",
    "folds = np.concatenate(oof_folds)\n",
    "names = np.concatenate(oof_names)\n",
    "\n",
    "acc = accuracy_score(y_true, y_pred)\n",
    "print(f'Overall OOF Accuracy = {acc:.3f}')\n",
    "\n",
    "df_oof = pd.DataFrame({'image_id':names, 'fold':fold, \n",
    "                       'target':y_true, 'pred':y_pred})\n",
    "df_oof.to_csv('oof.csv', index=False)\n",
    "display(df_oof.head())\n",
    "\n",
    "print(classification_report(y_true, y_pred, target_names=CLASSES))"
   ]
  },
  {
   "cell_type": "markdown",
   "metadata": {
    "papermill": {
     "duration": 0.054731,
     "end_time": "2021-01-22T01:19:08.574618",
     "exception": false,
     "start_time": "2021-01-22T01:19:08.519887",
     "status": "completed"
    },
    "tags": []
   },
   "source": [
    "# Confusion matrix"
   ]
  },
  {
   "cell_type": "code",
   "execution_count": 15,
   "metadata": {
    "_kg_hide-input": true,
    "execution": {
     "iopub.execute_input": "2021-01-22T01:19:08.700580Z",
     "iopub.status.busy": "2021-01-22T01:19:08.699758Z",
     "iopub.status.idle": "2021-01-22T01:19:09.089965Z",
     "shell.execute_reply": "2021-01-22T01:19:09.089408Z"
    },
    "papermill": {
     "duration": 0.459597,
     "end_time": "2021-01-22T01:19:09.090085",
     "exception": false,
     "start_time": "2021-01-22T01:19:08.630488",
     "status": "completed"
    },
    "tags": []
   },
   "outputs": [
    {
     "data": {
      "image/png": "[encoded data removed]",
      "text/plain": [
       "<Figure size 1440x864 with 2 Axes>"
      ]
     },
     "metadata": {},
     "output_type": "display_data"
    }
   ],
   "source": [
    "fig, ax = plt.subplots(1, 1, figsize=(20, 12))\n",
    "cfn_matrix = confusion_matrix(y_true, y_pred, labels=range(len(CLASSES)))\n",
    "cfn_matrix = (cfn_matrix.T / cfn_matrix.sum(axis=1)).T\n",
    "df_cm = pd.DataFrame(cfn_matrix, index=CLASSES, columns=CLASSES)\n",
    "ax = sns.heatmap(df_cm, cmap='Blues', annot=True, fmt='.2f', linewidths=.5).set_title('Train', fontsize=30)\n",
    "plt.show()"
   ]
  },
  {
   "cell_type": "markdown",
   "metadata": {
    "papermill": {
     "duration": 0.062038,
     "end_time": "2021-01-22T01:19:09.207702",
     "exception": false,
     "start_time": "2021-01-22T01:19:09.145664",
     "status": "completed"
    },
    "tags": []
   },
   "source": [
    "# Visualize predictions"
   ]
  },
  {
   "cell_type": "code",
   "execution_count": 16,
   "metadata": {
    "_kg_hide-input": true,
    "execution": {
     "iopub.execute_input": "2021-01-22T01:19:09.333488Z",
     "iopub.status.busy": "2021-01-22T01:19:09.332681Z",
     "iopub.status.idle": "2021-01-22T01:19:11.859818Z",
     "shell.execute_reply": "2021-01-22T01:19:11.860549Z"
    },
    "papermill": {
     "duration": 2.595147,
     "end_time": "2021-01-22T01:19:11.860716",
     "exception": false,
     "start_time": "2021-01-22T01:19:09.265569",
     "status": "completed"
    },
    "tags": []
   },
   "outputs": [
    {
     "ename": "AttributeError",
     "evalue": "'dict' object has no attribute 'numpy'",
     "output_type": "error",
     "traceback": [
      "\u001b[0;31m---------------------------------------------------------------------------\u001b[0m",
      "\u001b[0;31mAttributeError\u001b[0m                            Traceback (most recent call last)",
      "\u001b[0;32m<ipython-input-16-9e972ff85c2c>\u001b[0m in \u001b[0;36m<module>\u001b[0;34m\u001b[0m\n\u001b[1;32m      1\u001b[0m \u001b[0mtrain_dataset\u001b[0m \u001b[0;34m=\u001b[0m \u001b[0mget_dataset\u001b[0m\u001b[0;34m(\u001b[0m\u001b[0mTRAINING_FILENAMES\u001b[0m\u001b[0;34m,\u001b[0m \u001b[0mordered\u001b[0m\u001b[0;34m=\u001b[0m\u001b[0;32mTrue\u001b[0m\u001b[0;34m)\u001b[0m\u001b[0;34m\u001b[0m\u001b[0;34m\u001b[0m\u001b[0m\n\u001b[0;32m----> 2\u001b[0;31m \u001b[0mx_samp\u001b[0m\u001b[0;34m,\u001b[0m \u001b[0my_samp\u001b[0m \u001b[0;34m=\u001b[0m \u001b[0mdataset_to_numpy_util\u001b[0m\u001b[0;34m(\u001b[0m\u001b[0mtrain_dataset\u001b[0m\u001b[0;34m,\u001b[0m \u001b[0;36m18\u001b[0m\u001b[0;34m)\u001b[0m\u001b[0;34m\u001b[0m\u001b[0;34m\u001b[0m\u001b[0m\n\u001b[0m\u001b[1;32m      3\u001b[0m \u001b[0my_samp\u001b[0m \u001b[0;34m=\u001b[0m \u001b[0mnp\u001b[0m\u001b[0;34m.\u001b[0m\u001b[0margmax\u001b[0m\u001b[0;34m(\u001b[0m\u001b[0my_samp\u001b[0m\u001b[0;34m,\u001b[0m \u001b[0maxis\u001b[0m\u001b[0;34m=\u001b[0m\u001b[0;34m-\u001b[0m\u001b[0;36m1\u001b[0m\u001b[0;34m)\u001b[0m\u001b[0;34m\u001b[0m\u001b[0;34m\u001b[0m\u001b[0m\n\u001b[1;32m      4\u001b[0m \u001b[0;34m\u001b[0m\u001b[0m\n\u001b[1;32m      5\u001b[0m \u001b[0mx_samp_1\u001b[0m\u001b[0;34m,\u001b[0m \u001b[0my_samp_1\u001b[0m \u001b[0;34m=\u001b[0m \u001b[0mx_samp\u001b[0m\u001b[0;34m[\u001b[0m\u001b[0;34m:\u001b[0m\u001b[0;36m9\u001b[0m\u001b[0;34m,\u001b[0m\u001b[0;34m:\u001b[0m\u001b[0;34m,\u001b[0m\u001b[0;34m:\u001b[0m\u001b[0;34m,\u001b[0m\u001b[0;34m:\u001b[0m\u001b[0;34m]\u001b[0m\u001b[0;34m,\u001b[0m \u001b[0my_samp\u001b[0m\u001b[0;34m[\u001b[0m\u001b[0;34m:\u001b[0m\u001b[0;36m9\u001b[0m\u001b[0;34m]\u001b[0m\u001b[0;34m\u001b[0m\u001b[0;34m\u001b[0m\u001b[0m\n",
      "\u001b[0;32m/kaggle/usr/lib/cassava_scripts/cassava_scripts.py\u001b[0m in \u001b[0;36mdataset_to_numpy_util\u001b[0;34m(dataset, N)\u001b[0m\n\u001b[1;32m    201\u001b[0m     \u001b[0mdataset\u001b[0m \u001b[0;34m=\u001b[0m \u001b[0mdataset\u001b[0m\u001b[0;34m.\u001b[0m\u001b[0munbatch\u001b[0m\u001b[0;34m(\u001b[0m\u001b[0;34m)\u001b[0m\u001b[0;34m.\u001b[0m\u001b[0mbatch\u001b[0m\u001b[0;34m(\u001b[0m\u001b[0mN\u001b[0m\u001b[0;34m)\u001b[0m\u001b[0;34m\u001b[0m\u001b[0;34m\u001b[0m\u001b[0m\n\u001b[1;32m    202\u001b[0m     \u001b[0;32mfor\u001b[0m \u001b[0mimages\u001b[0m\u001b[0;34m,\u001b[0m \u001b[0mlabels\u001b[0m \u001b[0;32min\u001b[0m \u001b[0mdataset\u001b[0m\u001b[0;34m:\u001b[0m\u001b[0;34m\u001b[0m\u001b[0;34m\u001b[0m\u001b[0m\n\u001b[0;32m--> 203\u001b[0;31m         \u001b[0mnumpy_images\u001b[0m \u001b[0;34m=\u001b[0m \u001b[0mimages\u001b[0m\u001b[0;34m.\u001b[0m\u001b[0mnumpy\u001b[0m\u001b[0;34m(\u001b[0m\u001b[0;34m)\u001b[0m\u001b[0;34m\u001b[0m\u001b[0;34m\u001b[0m\u001b[0m\n\u001b[0m\u001b[1;32m    204\u001b[0m         \u001b[0mnumpy_labels\u001b[0m \u001b[0;34m=\u001b[0m \u001b[0mlabels\u001b[0m\u001b[0;34m.\u001b[0m\u001b[0mnumpy\u001b[0m\u001b[0;34m(\u001b[0m\u001b[0;34m)\u001b[0m\u001b[0;34m\u001b[0m\u001b[0;34m\u001b[0m\u001b[0m\n\u001b[1;32m    205\u001b[0m         \u001b[0;32mbreak\u001b[0m\u001b[0;34m;\u001b[0m\u001b[0;34m\u001b[0m\u001b[0;34m\u001b[0m\u001b[0m\n",
      "\u001b[0;31mAttributeError\u001b[0m: 'dict' object has no attribute 'numpy'"
     ]
    }
   ],
   "source": [
    "train_dataset = get_dataset(TRAINING_FILENAMES, ordered=True)\n",
    "x_samp, y_samp = dataset_to_numpy_util(train_dataset, 18)\n",
    "y_samp = np.argmax(y_samp, axis=-1)\n",
    "\n",
    "x_samp_1, y_samp_1 = x_samp[:9,:,:,:], y_samp[:9]\n",
    "samp_preds_1 = model.predict(x_samp_1, batch_size=9)\n",
    "display_9_images_with_predictions(x_samp_1, samp_preds_1, y_samp_1)\n",
    "\n",
    "x_samp_2, y_samp_2 = x_samp[9:,:,:,:], y_samp[9:]\n",
    "samp_preds_2 = model.predict(x_samp_2, batch_size=9)\n",
    "display_9_images_with_predictions(x_samp_2, samp_preds_2, y_samp_2)"
   ]
  }
 ],
 "metadata": {
  "kernelspec": {
   "display_name": "Python 3",
   "language": "python",
   "name": "python3"
  },
  "language_info": {
   "codemirror_mode": {
    "name": "ipython",
    "version": 3
   },
   "file_extension": ".py",
   "mimetype": "text/x-python",
   "name": "python",
   "nbconvert_exporter": "python",
   "pygments_lexer": "ipython3",
   "version": "3.7.6"
  },
  "papermill": {
   "duration": 4087.977196,
   "end_time": "2021-01-22T01:19:12.129922",
   "environment_variables": {},
   "exception": null,
   "input_path": "__notebook__.ipynb",
   "output_path": "__notebook__.ipynb",
   "parameters": {},
   "start_time": "2021-01-22T00:11:04.152726",
   "version": "2.1.0"
  }
 },
 "nbformat": 4,
 "nbformat_minor": 4
}
