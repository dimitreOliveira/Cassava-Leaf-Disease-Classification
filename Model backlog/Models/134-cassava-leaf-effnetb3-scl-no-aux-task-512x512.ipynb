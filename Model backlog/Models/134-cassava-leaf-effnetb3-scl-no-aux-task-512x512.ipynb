{
 "cells": [
  {
   "cell_type": "markdown",
   "metadata": {
    "papermill": {
     "duration": 0.021415,
     "end_time": "2021-02-13T16:47:26.833845",
     "exception": false,
     "start_time": "2021-02-13T16:47:26.812430",
     "status": "completed"
    },
    "tags": []
   },
   "source": [
    "## Dependencies"
   ]
  },
  {
   "cell_type": "code",
   "execution_count": 1,
   "metadata": {
    "_cell_guid": "b1076dfc-b9ad-4769-8c92-a6c4dae69d19",
    "_kg_hide-input": true,
    "_kg_hide-output": true,
    "_uuid": "8f2839f25d086af736a60e9eeb907d3b93b6e0e5",
    "execution": {
     "iopub.execute_input": "2021-02-13T16:47:26.881035Z",
     "iopub.status.busy": "2021-02-13T16:47:26.880365Z",
     "iopub.status.idle": "2021-02-13T16:47:33.503946Z",
     "shell.execute_reply": "2021-02-13T16:47:33.504474Z"
    },
    "papermill": {
     "duration": 6.650807,
     "end_time": "2021-02-13T16:47:33.504819",
     "exception": false,
     "start_time": "2021-02-13T16:47:26.854012",
     "status": "completed"
    },
    "tags": []
   },
   "outputs": [],
   "source": [
    "import warnings, time\n",
    "from kaggle_datasets import KaggleDatasets\n",
    "from sklearn.model_selection import KFold\n",
    "from sklearn.metrics import classification_report, confusion_matrix, accuracy_score\n",
    "from tensorflow.keras import optimizers, Sequential, losses, metrics, Model\n",
    "from tensorflow.keras.callbacks import EarlyStopping, ModelCheckpoint\n",
    "from cassava_scripts import *\n",
    "from scripts_step_lr_schedulers import *\n",
    "import tensorflow_addons as tfa\n",
    "\n",
    "\n",
    "seed = 0\n",
    "seed_everything(seed)\n",
    "warnings.filterwarnings('ignore')"
   ]
  },
  {
   "cell_type": "markdown",
   "metadata": {
    "papermill": {
     "duration": 0.019365,
     "end_time": "2021-02-13T16:47:33.544572",
     "exception": false,
     "start_time": "2021-02-13T16:47:33.525207",
     "status": "completed"
    },
    "tags": []
   },
   "source": [
    "### Hardware configuration"
   ]
  },
  {
   "cell_type": "code",
   "execution_count": 2,
   "metadata": {
    "_kg_hide-input": true,
    "execution": {
     "iopub.execute_input": "2021-02-13T16:47:33.644906Z",
     "iopub.status.busy": "2021-02-13T16:47:33.643828Z",
     "iopub.status.idle": "2021-02-13T16:47:39.542771Z",
     "shell.execute_reply": "2021-02-13T16:47:39.542227Z"
    },
    "papermill": {
     "duration": 5.978438,
     "end_time": "2021-02-13T16:47:39.542924",
     "exception": false,
     "start_time": "2021-02-13T16:47:33.564486",
     "status": "completed"
    },
    "tags": []
   },
   "outputs": [
    {
     "name": "stdout",
     "output_type": "stream",
     "text": [
      "Running on TPU grpc://10.0.0.2:8470\n",
      "REPLICAS: 8\n"
     ]
    }
   ],
   "source": [
    "# TPU or GPU detection\n",
    "# Detect hardware, return appropriate distribution strategy\n",
    "strategy, tpu = set_up_strategy()\n",
    "\n",
    "AUTO = tf.data.experimental.AUTOTUNE\n",
    "REPLICAS = strategy.num_replicas_in_sync\n",
    "print(f'REPLICAS: {REPLICAS}')"
   ]
  },
  {
   "cell_type": "markdown",
   "metadata": {
    "papermill": {
     "duration": 0.019998,
     "end_time": "2021-02-13T16:47:39.583818",
     "exception": false,
     "start_time": "2021-02-13T16:47:39.563820",
     "status": "completed"
    },
    "tags": []
   },
   "source": [
    "# Model parameters"
   ]
  },
  {
   "cell_type": "code",
   "execution_count": 3,
   "metadata": {
    "execution": {
     "iopub.execute_input": "2021-02-13T16:47:39.632292Z",
     "iopub.status.busy": "2021-02-13T16:47:39.631596Z",
     "iopub.status.idle": "2021-02-13T16:47:39.636262Z",
     "shell.execute_reply": "2021-02-13T16:47:39.635734Z"
    },
    "papermill": {
     "duration": 0.03095,
     "end_time": "2021-02-13T16:47:39.636403",
     "exception": false,
     "start_time": "2021-02-13T16:47:39.605453",
     "status": "completed"
    },
    "tags": []
   },
   "outputs": [],
   "source": [
    "BATCH_SIZE = 8 * REPLICAS\n",
    "BATCH_SIZE_CL = 8 * REPLICAS\n",
    "LEARNING_RATE = 1e-5 * REPLICAS\n",
    "LEARNING_RATE_CL = 1e-5 * REPLICAS\n",
    "EPOCHS_CL = 15\n",
    "EPOCHS = 20\n",
    "HEIGHT = 512\n",
    "WIDTH = 512\n",
    "HEIGHT_DT = 512\n",
    "WIDTH_DT = 512\n",
    "CHANNELS = 3\n",
    "N_CLASSES = 5\n",
    "N_FOLDS = 5\n",
    "FOLDS_USED = 1\n",
    "ES_PATIENCE = 5"
   ]
  },
  {
   "cell_type": "markdown",
   "metadata": {
    "papermill": {
     "duration": 0.01983,
     "end_time": "2021-02-13T16:47:39.676503",
     "exception": false,
     "start_time": "2021-02-13T16:47:39.656673",
     "status": "completed"
    },
    "tags": []
   },
   "source": [
    "# Load data"
   ]
  },
  {
   "cell_type": "code",
   "execution_count": 4,
   "metadata": {
    "_kg_hide-input": true,
    "execution": {
     "iopub.execute_input": "2021-02-13T16:47:39.723497Z",
     "iopub.status.busy": "2021-02-13T16:47:39.722848Z",
     "iopub.status.idle": "2021-02-13T16:47:40.217226Z",
     "shell.execute_reply": "2021-02-13T16:47:40.216586Z"
    },
    "papermill": {
     "duration": 0.520737,
     "end_time": "2021-02-13T16:47:40.217368",
     "exception": false,
     "start_time": "2021-02-13T16:47:39.696631",
     "status": "completed"
    },
    "tags": []
   },
   "outputs": [
    {
     "name": "stdout",
     "output_type": "stream",
     "text": [
      "Train samples: 21397\n",
      "GCS: train images: 21395\n"
     ]
    },
    {
     "data": {
      "text/html": [
       "<div>\n",
       "<style scoped>\n",
       "    .dataframe tbody tr th:only-of-type {\n",
       "        vertical-align: middle;\n",
       "    }\n",
       "\n",
       "    .dataframe tbody tr th {\n",
       "        vertical-align: top;\n",
       "    }\n",
       "\n",
       "    .dataframe thead th {\n",
       "        text-align: right;\n",
       "    }\n",
       "</style>\n",
       "<table border=\"1\" class=\"dataframe\">\n",
       "  <thead>\n",
       "    <tr style=\"text-align: right;\">\n",
       "      <th></th>\n",
       "      <th>image_id</th>\n",
       "      <th>label</th>\n",
       "    </tr>\n",
       "  </thead>\n",
       "  <tbody>\n",
       "    <tr>\n",
       "      <th>0</th>\n",
       "      <td>1000015157.jpg</td>\n",
       "      <td>0</td>\n",
       "    </tr>\n",
       "    <tr>\n",
       "      <th>1</th>\n",
       "      <td>1000201771.jpg</td>\n",
       "      <td>3</td>\n",
       "    </tr>\n",
       "    <tr>\n",
       "      <th>2</th>\n",
       "      <td>100042118.jpg</td>\n",
       "      <td>1</td>\n",
       "    </tr>\n",
       "    <tr>\n",
       "      <th>3</th>\n",
       "      <td>1000723321.jpg</td>\n",
       "      <td>1</td>\n",
       "    </tr>\n",
       "    <tr>\n",
       "      <th>4</th>\n",
       "      <td>1000812911.jpg</td>\n",
       "      <td>3</td>\n",
       "    </tr>\n",
       "  </tbody>\n",
       "</table>\n",
       "</div>"
      ],
      "text/plain": [
       "         image_id  label\n",
       "0  1000015157.jpg      0\n",
       "1  1000201771.jpg      3\n",
       "2   100042118.jpg      1\n",
       "3  1000723321.jpg      1\n",
       "4  1000812911.jpg      3"
      ]
     },
     "metadata": {},
     "output_type": "display_data"
    }
   ],
   "source": [
    "database_base_path = '/kaggle/input/cassava-leaf-disease-classification/'\n",
    "train = pd.read_csv(f'{database_base_path}train.csv')\n",
    "print(f'Train samples: {len(train)}')\n",
    "\n",
    "GCS_PATH = KaggleDatasets().get_gcs_path(f'cassava-leaf-disease-tfrecords-center-{HEIGHT_DT}x{WIDTH_DT}') # Center croped and resized (50 TFRecord)\n",
    "# GCS_PATH_EXT = KaggleDatasets().get_gcs_path(f'cassava-leaf-disease-tfrecords-external-{HEIGHT_DT}x{WIDTH_DT}') # Center croped and resized (50 TFRecord) (External)\n",
    "# GCS_PATH_CLASSES = KaggleDatasets().get_gcs_path(f'cassava-leaf-disease-tfrecords-classes-{HEIGHT_DT}x{WIDTH_DT}') # Center croped and resized (50 TFRecord) by classes\n",
    "# GCS_PATH_EXT_CLASSES = KaggleDatasets().get_gcs_path(f'cassava-leaf-disease-tfrecords-classes-ext-{HEIGHT_DT}x{WIDTH_DT}') # Center croped and resized (50 TFRecord) (External) by classes\n",
    "\n",
    "\n",
    "FILENAMES_COMP = tf.io.gfile.glob(GCS_PATH + '/*.tfrec')\n",
    "# FILENAMES_2019 = tf.io.gfile.glob(GCS_PATH_EXT + '/*.tfrec')\n",
    "\n",
    "# FILENAMES_COMP_CBB = tf.io.gfile.glob(GCS_PATH_CLASSES + '/CBB*.tfrec')\n",
    "# FILENAMES_COMP_CBSD = tf.io.gfile.glob(GCS_PATH_CLASSES + '/CBSD*.tfrec')\n",
    "# FILENAMES_COMP_CGM = tf.io.gfile.glob(GCS_PATH_CLASSES + '/CGM*.tfrec')\n",
    "# FILENAMES_COMP_CMD = tf.io.gfile.glob(GCS_PATH_CLASSES + '/CMD*.tfrec')\n",
    "# FILENAMES_COMP_Healthy = tf.io.gfile.glob(GCS_PATH_CLASSES + '/Healthy*.tfrec')\n",
    "\n",
    "# FILENAMES_2019_CBB = tf.io.gfile.glob(GCS_PATH_EXT_CLASSES + '/CBB*.tfrec')\n",
    "# FILENAMES_2019_CBSD = tf.io.gfile.glob(GCS_PATH_EXT_CLASSES + '/CBSD*.tfrec')\n",
    "# FILENAMES_2019_CGM = tf.io.gfile.glob(GCS_PATH_EXT_CLASSES + '/CGM*.tfrec')\n",
    "# FILENAMES_2019_CMD = tf.io.gfile.glob(GCS_PATH_EXT_CLASSES + '/CMD*.tfrec')\n",
    "# FILENAMES_2019_Healthy = tf.io.gfile.glob(GCS_PATH_EXT_CLASSES + '/Healthy*.tfrec')\n",
    "\n",
    "TRAINING_FILENAMES = FILENAMES_COMP\n",
    "NUM_TRAINING_IMAGES = count_data_items(TRAINING_FILENAMES)\n",
    "\n",
    "print(f'GCS: train images: {NUM_TRAINING_IMAGES}')\n",
    "display(train.head())"
   ]
  },
  {
   "cell_type": "markdown",
   "metadata": {
    "papermill": {
     "duration": 0.021119,
     "end_time": "2021-02-13T16:47:40.260360",
     "exception": false,
     "start_time": "2021-02-13T16:47:40.239241",
     "status": "completed"
    },
    "tags": []
   },
   "source": [
    "# Augmentation"
   ]
  },
  {
   "cell_type": "code",
   "execution_count": 5,
   "metadata": {
    "execution": {
     "iopub.execute_input": "2021-02-13T16:47:40.320270Z",
     "iopub.status.busy": "2021-02-13T16:47:40.319587Z",
     "iopub.status.idle": "2021-02-13T16:47:40.322407Z",
     "shell.execute_reply": "2021-02-13T16:47:40.321817Z"
    },
    "papermill": {
     "duration": 0.040633,
     "end_time": "2021-02-13T16:47:40.322564",
     "exception": false,
     "start_time": "2021-02-13T16:47:40.281931",
     "status": "completed"
    },
    "tags": []
   },
   "outputs": [],
   "source": [
    "def data_augment(image, label):\n",
    "#     p_rotation = tf.random.uniform([], 0, 1.0, dtype=tf.float32)\n",
    "    p_spatial = tf.random.uniform([], 0, 1.0, dtype=tf.float32)\n",
    "    p_rotate = tf.random.uniform([], 0, 1.0, dtype=tf.float32)\n",
    "    p_pixel_1 = tf.random.uniform([], 0, 1.0, dtype=tf.float32)\n",
    "    p_pixel_2 = tf.random.uniform([], 0, 1.0, dtype=tf.float32)\n",
    "    p_pixel_3 = tf.random.uniform([], 0, 1.0, dtype=tf.float32)\n",
    "#     p_shear = tf.random.uniform([], 0, 1.0, dtype=tf.float32)\n",
    "    p_crop = tf.random.uniform([], 0, 1.0, dtype=tf.float32)\n",
    "    p_cutout = tf.random.uniform([], 0, 1.0, dtype=tf.float32)\n",
    "    \n",
    "#     # Shear\n",
    "#     if p_shear > .2:\n",
    "#         if p_shear > .6:\n",
    "#             image = transform_shear(image, HEIGHT, shear=20.)\n",
    "#         else:\n",
    "#             image = transform_shear(image, HEIGHT, shear=-20.)\n",
    "            \n",
    "#     # Rotation\n",
    "#     if p_rotation > .2:\n",
    "#         if p_rotation > .6:\n",
    "#             image = transform_rotation(image, HEIGHT, rotation=45.)\n",
    "#         else:\n",
    "#             image = transform_rotation(image, HEIGHT, rotation=-45.)\n",
    "            \n",
    "    # Flips\n",
    "    image = tf.image.random_flip_left_right(image)\n",
    "    image = tf.image.random_flip_up_down(image)\n",
    "    if p_spatial > .75:\n",
    "        image = tf.image.transpose(image)\n",
    "        \n",
    "    # Rotates\n",
    "    if p_rotate > .75:\n",
    "        image = tf.image.rot90(image, k=3) # rotate 270º\n",
    "    elif p_rotate > .5:\n",
    "        image = tf.image.rot90(image, k=2) # rotate 180º\n",
    "    elif p_rotate > .25:\n",
    "        image = tf.image.rot90(image, k=1) # rotate 90º\n",
    "        \n",
    "    # Pixel-level transforms\n",
    "    if p_pixel_1 >= .4:\n",
    "        image = tf.image.random_saturation(image, lower=.7, upper=1.3)\n",
    "    if p_pixel_2 >= .4:\n",
    "        image = tf.image.random_contrast(image, lower=.8, upper=1.2)\n",
    "    if p_pixel_3 >= .4:\n",
    "        image = tf.image.random_brightness(image, max_delta=.1)\n",
    "        \n",
    "    # Crops\n",
    "    if p_crop > .6:\n",
    "        if p_crop > .9:\n",
    "            image = tf.image.central_crop(image, central_fraction=.5)\n",
    "        elif p_crop > .8:\n",
    "            image = tf.image.central_crop(image, central_fraction=.6)\n",
    "        elif p_crop > .7:\n",
    "            image = tf.image.central_crop(image, central_fraction=.7)\n",
    "        else:\n",
    "            image = tf.image.central_crop(image, central_fraction=.8)\n",
    "    elif p_crop > .3:\n",
    "        crop_size = tf.random.uniform([], int(HEIGHT*.6), HEIGHT, dtype=tf.int32)\n",
    "        image = tf.image.random_crop(image, size=[crop_size, crop_size, CHANNELS])\n",
    "            \n",
    "    image = tf.image.resize(image, size=[HEIGHT, WIDTH])\n",
    "\n",
    "    if p_cutout > .5:\n",
    "        image = data_augment_cutout(image)\n",
    "        \n",
    "    return image, label"
   ]
  },
  {
   "cell_type": "markdown",
   "metadata": {
    "papermill": {
     "duration": 0.021391,
     "end_time": "2021-02-13T16:47:40.365969",
     "exception": false,
     "start_time": "2021-02-13T16:47:40.344578",
     "status": "completed"
    },
    "tags": []
   },
   "source": [
    "## Auxiliary functions"
   ]
  },
  {
   "cell_type": "code",
   "execution_count": 6,
   "metadata": {
    "_kg_hide-input": true,
    "execution": {
     "iopub.execute_input": "2021-02-13T16:47:40.419647Z",
     "iopub.status.busy": "2021-02-13T16:47:40.418990Z",
     "iopub.status.idle": "2021-02-13T16:47:40.421252Z",
     "shell.execute_reply": "2021-02-13T16:47:40.420734Z"
    },
    "papermill": {
     "duration": 0.033777,
     "end_time": "2021-02-13T16:47:40.421386",
     "exception": false,
     "start_time": "2021-02-13T16:47:40.387609",
     "status": "completed"
    },
    "tags": []
   },
   "outputs": [],
   "source": [
    "# CutOut\n",
    "def data_augment_cutout(image, min_mask_size=(int(HEIGHT * .1), int(HEIGHT * .1)), \n",
    "                        max_mask_size=(int(HEIGHT * .125), int(HEIGHT * .125))):\n",
    "    p_cutout = tf.random.uniform([], 0, 1.0, dtype=tf.float32)\n",
    "    \n",
    "    if p_cutout > .85: # 10~15 cut outs\n",
    "        n_cutout = tf.random.uniform([], 10, 15, dtype=tf.int32)\n",
    "        image = random_cutout(image, HEIGHT, WIDTH, \n",
    "                              min_mask_size=min_mask_size, max_mask_size=max_mask_size, k=n_cutout)\n",
    "    elif p_cutout > .6: # 5~10 cut outs\n",
    "        n_cutout = tf.random.uniform([], 5, 10, dtype=tf.int32)\n",
    "        image = random_cutout(image, HEIGHT, WIDTH, \n",
    "                              min_mask_size=min_mask_size, max_mask_size=max_mask_size, k=n_cutout)\n",
    "    elif p_cutout > .25: # 2~5 cut outs\n",
    "        n_cutout = tf.random.uniform([], 2, 5, dtype=tf.int32)\n",
    "        image = random_cutout(image, HEIGHT, WIDTH, \n",
    "                              min_mask_size=min_mask_size, max_mask_size=max_mask_size, k=n_cutout)\n",
    "    else: # 1 cut out\n",
    "        image = random_cutout(image, HEIGHT, WIDTH, \n",
    "                              min_mask_size=min_mask_size, max_mask_size=max_mask_size, k=1)\n",
    "\n",
    "    return image"
   ]
  },
  {
   "cell_type": "code",
   "execution_count": 7,
   "metadata": {
    "_cell_guid": "79c7e3d0-c299-4dcb-8224-4455121ee9b0",
    "_kg_hide-input": true,
    "_uuid": "d629ff2d2480ee46fbb7e2d37f6b5fab8052498a",
    "execution": {
     "iopub.execute_input": "2021-02-13T16:47:40.489771Z",
     "iopub.status.busy": "2021-02-13T16:47:40.489063Z",
     "iopub.status.idle": "2021-02-13T16:47:40.491738Z",
     "shell.execute_reply": "2021-02-13T16:47:40.492169Z"
    },
    "papermill": {
     "duration": 0.049037,
     "end_time": "2021-02-13T16:47:40.492342",
     "exception": false,
     "start_time": "2021-02-13T16:47:40.443305",
     "status": "completed"
    },
    "tags": []
   },
   "outputs": [],
   "source": [
    "# Datasets utility functions\n",
    "def random_crop(image, label):\n",
    "    \"\"\"\n",
    "        Resize and reshape images to the expected size.\n",
    "    \"\"\"\n",
    "    image = tf.image.random_crop(image, size=[HEIGHT, WIDTH, CHANNELS])\n",
    "    return image, label\n",
    "\n",
    "def prepare_image(image, label):\n",
    "    \"\"\"\n",
    "        Resize and reshape images to the expected size.\n",
    "    \"\"\"\n",
    "    image = tf.image.resize(image, [HEIGHT, WIDTH])\n",
    "    image = tf.reshape(image, [HEIGHT, WIDTH, CHANNELS])\n",
    "    return image, label\n",
    "\n",
    "def center_crop_(image, label, height_rs, width_rs, height=HEIGHT_DT, width=WIDTH_DT, channels=3):\n",
    "    image = tf.reshape(image, [height, width, channels]) # Original shape\n",
    "    \n",
    "    h, w = image.shape[0], image.shape[1]\n",
    "    if h > w:\n",
    "        image = tf.image.crop_to_bounding_box(image, (h - w) // 2, 0, w, w)\n",
    "    else:\n",
    "        image = tf.image.crop_to_bounding_box(image, 0, (w - h) // 2, h, h)\n",
    "        \n",
    "    image = tf.image.resize(image, [height_rs, width_rs]) # Expected shape\n",
    "    return image, label\n",
    "\n",
    "\n",
    "def read_tfrecord_(example, labeled=True, sparse=True, n_classes=5):\n",
    "    \"\"\"\n",
    "        1. Parse data based on the 'TFREC_FORMAT' map.\n",
    "        2. Decode image.\n",
    "        3. If 'labeled' returns (image, label) if not (image, name).\n",
    "    \"\"\"\n",
    "    if labeled:\n",
    "        TFREC_FORMAT = {\n",
    "            'image': tf.io.FixedLenFeature([], tf.string), \n",
    "            'target': tf.io.FixedLenFeature([], tf.int64), \n",
    "        }\n",
    "    else:\n",
    "        TFREC_FORMAT = {\n",
    "            'image': tf.io.FixedLenFeature([], tf.string), \n",
    "            'image_name': tf.io.FixedLenFeature([], tf.string), \n",
    "        }\n",
    "    example = tf.io.parse_single_example(example, TFREC_FORMAT)\n",
    "    image = decode_image(example['image'])\n",
    "    if labeled:\n",
    "        label_or_name = tf.cast(example['target'], tf.int32)\n",
    "        if not sparse: # One-Hot Encoding needed to use \"categorical_crossentropy\" loss\n",
    "            label_or_name = tf.one_hot(tf.cast(label_or_name, tf.int32), n_classes)\n",
    "    else:\n",
    "        label_or_name = example['image_name']\n",
    "    return image, label_or_name\n",
    "\n",
    "def get_dataset(filenames, labeled=True, ordered=False, repeated=False, \n",
    "                cached=False, augment=False, batch_size=BATCH_SIZE, sparse=True):\n",
    "    \"\"\"\n",
    "        Return a Tensorflow dataset ready for training or inference.\n",
    "    \"\"\"\n",
    "    \n",
    "    ignore_order = tf.data.Options()\n",
    "    if not ordered:\n",
    "        ignore_order.experimental_deterministic = False\n",
    "        dataset = tf.data.Dataset.list_files(filenames)\n",
    "        dataset = dataset.interleave(tf.data.TFRecordDataset, num_parallel_calls=AUTO)\n",
    "    else:\n",
    "        dataset = tf.data.TFRecordDataset(filenames, num_parallel_reads=AUTO)\n",
    "        \n",
    "    dataset = tf.data.TFRecordDataset(filenames, num_parallel_reads=AUTO)\n",
    "        \n",
    "    dataset = dataset.with_options(ignore_order)\n",
    "    \n",
    "    dataset = dataset.map(lambda x: read_tfrecord_(x, labeled=labeled, sparse=sparse), num_parallel_calls=AUTO)\n",
    "    \n",
    "    if augment:\n",
    "        dataset = dataset.map(data_augment, num_parallel_calls=AUTO)\n",
    "        \n",
    "#     dataset = dataset.map(scale_image, num_parallel_calls=AUTO)\n",
    "    dataset = dataset.map(prepare_image, num_parallel_calls=AUTO)\n",
    "    \n",
    "#     if labeled:\n",
    "#         dataset = dataset.map(lambda x, y: conf_output(x, y, sparse=sparse), num_parallel_calls=AUTO)\n",
    "    \n",
    "    if not ordered:\n",
    "        dataset = dataset.shuffle(2048)\n",
    "    if repeated:\n",
    "        dataset = dataset.repeat()\n",
    "        \n",
    "    dataset = dataset.batch(batch_size)\n",
    "    \n",
    "    if cached:\n",
    "        dataset = dataset.cache()\n",
    "    dataset = dataset.prefetch(AUTO)\n",
    "    return dataset\n",
    "\n",
    "def conf_output(image, label, sparse=False):\n",
    "    \"\"\"\n",
    "        Configure the output of the dataset.\n",
    "    \"\"\"\n",
    "    aux_label = [0.]\n",
    "    aux_2_label = [0.]\n",
    "    \n",
    "    if sparse:\n",
    "        if label == 4: # Healthy\n",
    "            aux_label = [1.]\n",
    "        if label == 3: # CMD\n",
    "            aux_2_label = [1.]\n",
    "    else:\n",
    "        if tf.math.argmax(label, axis=-1) == 4: # Healthy\n",
    "            aux_label = [1.]\n",
    "        if tf.math.argmax(label, axis=-1) == 3: # CMD\n",
    "            aux_2_label = [1.]\n",
    "        \n",
    "    return (image, (label, aux_label, aux_2_label))"
   ]
  },
  {
   "cell_type": "markdown",
   "metadata": {
    "papermill": {
     "duration": 0.0217,
     "end_time": "2021-02-13T16:47:40.536020",
     "exception": false,
     "start_time": "2021-02-13T16:47:40.514320",
     "status": "completed"
    },
    "tags": []
   },
   "source": [
    "# Training data samples (with augmentation)"
   ]
  },
  {
   "cell_type": "code",
   "execution_count": 8,
   "metadata": {
    "_kg_hide-input": true,
    "execution": {
     "iopub.execute_input": "2021-02-13T16:47:40.584254Z",
     "iopub.status.busy": "2021-02-13T16:47:40.583584Z",
     "iopub.status.idle": "2021-02-13T16:47:40.587101Z",
     "shell.execute_reply": "2021-02-13T16:47:40.586606Z"
    },
    "papermill": {
     "duration": 0.029302,
     "end_time": "2021-02-13T16:47:40.587243",
     "exception": false,
     "start_time": "2021-02-13T16:47:40.557941",
     "status": "completed"
    },
    "tags": []
   },
   "outputs": [],
   "source": [
    "# train_dataset = get_dataset(FILENAMES_COMP, ordered=True, augment=True)\n",
    "# train_iter = iter(train_dataset.unbatch().batch(20))\n",
    "\n",
    "# display_batch_of_images(next(train_iter))\n",
    "# display_batch_of_images(next(train_iter))"
   ]
  },
  {
   "cell_type": "markdown",
   "metadata": {
    "papermill": {
     "duration": 0.021783,
     "end_time": "2021-02-13T16:47:40.631005",
     "exception": false,
     "start_time": "2021-02-13T16:47:40.609222",
     "status": "completed"
    },
    "tags": []
   },
   "source": [
    "# Model"
   ]
  },
  {
   "cell_type": "code",
   "execution_count": 9,
   "metadata": {
    "execution": {
     "iopub.execute_input": "2021-02-13T16:47:40.690262Z",
     "iopub.status.busy": "2021-02-13T16:47:40.689484Z",
     "iopub.status.idle": "2021-02-13T16:47:40.692325Z",
     "shell.execute_reply": "2021-02-13T16:47:40.691847Z"
    },
    "papermill": {
     "duration": 0.038496,
     "end_time": "2021-02-13T16:47:40.692477",
     "exception": false,
     "start_time": "2021-02-13T16:47:40.653981",
     "status": "completed"
    },
    "tags": []
   },
   "outputs": [],
   "source": [
    "class UnitNormLayer(L.Layer):\n",
    "    \"\"\"\n",
    "    Normalize vectors (euclidean norm) in batch to unit hypersphere.\n",
    "    \"\"\"\n",
    "    def __init__(self, **kwargs):\n",
    "        super(UnitNormLayer, self).__init__(**kwargs)\n",
    "\n",
    "    def call(self, input_tensor):\n",
    "        norm = tf.norm(input_tensor, axis=1)\n",
    "        return input_tensor / tf.reshape(norm, [-1, 1])\n",
    "    \n",
    "def encoder_fn(input_shape):\n",
    "    inputs = L.Input(shape=input_shape, name='input_image')\n",
    "    base_model = tf.keras.applications.EfficientNetB3(input_tensor=inputs, \n",
    "                                                      include_top=False, \n",
    "                                                      weights='imagenet', \n",
    "                                                      pooling='avg')\n",
    "    \n",
    "    norm_embeddings = UnitNormLayer()(base_model.output)\n",
    "    \n",
    "    model = Model(inputs=inputs, outputs=norm_embeddings)\n",
    "    return model\n",
    "\n",
    "def add_projection_head(input_shape, encoder, num_projection_layers=1):\n",
    "    inputs = L.Input(shape=input_shape, name='input_image')\n",
    "    features = encoder(inputs)\n",
    "\n",
    "    outputs = L.Dense(128, activation='relu', name='projection_head')(features)\n",
    "    outputs = UnitNormLayer(name='output')(outputs)\n",
    "    \n",
    "    model = Model(inputs=inputs, outputs=outputs)\n",
    "    return model\n",
    "\n",
    "def classifier_fn(input_shape, N_CLASSES, encoder, trainable=True):\n",
    "    for layer in encoder.layers:\n",
    "        layer.trainable = trainable\n",
    "        \n",
    "    unfreeze_model(encoder) # unfreeze all layers except \"batch normalization\"\n",
    "    inputs = L.Input(shape=input_shape, name='input_image')\n",
    "    \n",
    "    features = encoder(inputs)\n",
    "    features = L.Dropout(.5)(features)\n",
    "    features = L.Dense(512, activation='relu')(features)\n",
    "    features = L.Dropout(.5)(features)\n",
    "    \n",
    "    output = L.Dense(N_CLASSES, activation='softmax', name='output')(features)\n",
    "    \n",
    "    model = Model(inputs=inputs, outputs=output)\n",
    "    return model"
   ]
  },
  {
   "cell_type": "code",
   "execution_count": 10,
   "metadata": {
    "execution": {
     "iopub.execute_input": "2021-02-13T16:47:40.744238Z",
     "iopub.status.busy": "2021-02-13T16:47:40.743467Z",
     "iopub.status.idle": "2021-02-13T16:47:40.745868Z",
     "shell.execute_reply": "2021-02-13T16:47:40.746332Z"
    },
    "papermill": {
     "duration": 0.032085,
     "end_time": "2021-02-13T16:47:40.746505",
     "exception": false,
     "start_time": "2021-02-13T16:47:40.714420",
     "status": "completed"
    },
    "tags": []
   },
   "outputs": [],
   "source": [
    "temperature = 0.1\n",
    "\n",
    "class SupervisedContrastiveLoss(losses.Loss):\n",
    "    def __init__(self, temperature=0.1, name=None):\n",
    "        super(SupervisedContrastiveLoss, self).__init__(name=name)\n",
    "        self.temperature = temperature\n",
    "\n",
    "    def __call__(self, labels, feature_vectors, sample_weight=None):\n",
    "        # Normalize feature vectors\n",
    "        feature_vectors_normalized = tf.math.l2_normalize(feature_vectors, axis=1)\n",
    "        # Compute logits\n",
    "        logits = tf.divide(\n",
    "            tf.matmul(\n",
    "                feature_vectors_normalized, tf.transpose(feature_vectors_normalized)\n",
    "            ),\n",
    "            temperature,\n",
    "        )\n",
    "        return tfa.losses.npairs_loss(tf.squeeze(labels), logits)"
   ]
  },
  {
   "cell_type": "markdown",
   "metadata": {
    "papermill": {
     "duration": 0.021876,
     "end_time": "2021-02-13T16:47:40.790421",
     "exception": false,
     "start_time": "2021-02-13T16:47:40.768545",
     "status": "completed"
    },
    "tags": []
   },
   "source": [
    "### Learning rate schedule"
   ]
  },
  {
   "cell_type": "code",
   "execution_count": 11,
   "metadata": {
    "_kg_hide-input": true,
    "execution": {
     "iopub.execute_input": "2021-02-13T16:47:40.844750Z",
     "iopub.status.busy": "2021-02-13T16:47:40.843739Z",
     "iopub.status.idle": "2021-02-13T16:48:12.577775Z",
     "shell.execute_reply": "2021-02-13T16:48:12.578236Z"
    },
    "papermill": {
     "duration": 31.765855,
     "end_time": "2021-02-13T16:48:12.578417",
     "exception": false,
     "start_time": "2021-02-13T16:47:40.812562",
     "status": "completed"
    },
    "tags": []
   },
   "outputs": [
    {
     "name": "stdout",
     "output_type": "stream",
     "text": [
      "6680 total steps and 334 steps per epoch\n",
      "Learning rate schedule: 1e-08 to 8e-05 to 1e-06\n"
     ]
    },
    {
     "data": {
      "image/png": "[encoded data removed]",
      "text/plain": [
       "<Figure size 1440x432 with 1 Axes>"
      ]
     },
     "metadata": {},
     "output_type": "display_data"
    }
   ],
   "source": [
    "lr_start = 1e-8\n",
    "lr_min = 1e-6\n",
    "lr_max = LEARNING_RATE\n",
    "num_cycles = 1\n",
    "warmup_epochs = 3\n",
    "hold_max_epochs = 0\n",
    "total_epochs = EPOCHS\n",
    "step_size = (NUM_TRAINING_IMAGES//BATCH_SIZE)\n",
    "hold_max_steps = hold_max_epochs * step_size\n",
    "total_steps = total_epochs * step_size\n",
    "warmup_steps = warmup_epochs * step_size\n",
    "\n",
    "\n",
    "def lrfn(total_steps, warmup_steps=0, lr_start=1e-4, lr_max=1e-3, lr_min=1e-4, num_cycles=1.):\n",
    "    @tf.function\n",
    "    def cosine_with_hard_restarts_schedule_with_warmup_(step):\n",
    "        \"\"\" Create a schedule with a learning rate that decreases following the\n",
    "        values of the cosine function with several hard restarts, after a warmup\n",
    "        period during which it increases linearly between 0 and 1.\n",
    "        \"\"\"\n",
    "\n",
    "        if step < warmup_steps:\n",
    "            lr = (lr_max - lr_start) / warmup_steps * step + lr_start\n",
    "        else:\n",
    "            progress = (step - warmup_steps) / (total_steps - warmup_steps)\n",
    "            lr = lr_max * (0.5 * (1.0 + tf.math.cos(np.pi * ((num_cycles * progress) % 1.0))))\n",
    "            if lr_min is not None:\n",
    "                lr = tf.math.maximum(lr_min, float(lr))\n",
    "        return lr\n",
    "    return cosine_with_hard_restarts_schedule_with_warmup_\n",
    "\n",
    "lrfn_fn = lrfn(total_steps, warmup_steps, lr_start, lr_max, lr_min, num_cycles)\n",
    "rng = [i for i in range(total_steps)]\n",
    "y = [lrfn_fn(tf.cast(x, tf.float32)) for x in rng]\n",
    "\n",
    "sns.set(style='whitegrid')\n",
    "fig, ax = plt.subplots(figsize=(20, 6))\n",
    "plt.plot(rng, y)\n",
    "\n",
    "print(f'{total_steps} total steps and {step_size} steps per epoch')\n",
    "print(f'Learning rate schedule: {y[0]:.3g} to {max(y):.3g} to {y[-1]:.3g}')"
   ]
  },
  {
   "cell_type": "code",
   "execution_count": 12,
   "metadata": {
    "_kg_hide-input": true,
    "execution": {
     "iopub.execute_input": "2021-02-13T16:48:12.630600Z",
     "iopub.status.busy": "2021-02-13T16:48:12.629613Z",
     "iopub.status.idle": "2021-02-13T16:48:35.315341Z",
     "shell.execute_reply": "2021-02-13T16:48:35.314786Z"
    },
    "papermill": {
     "duration": 22.712914,
     "end_time": "2021-02-13T16:48:35.315487",
     "exception": false,
     "start_time": "2021-02-13T16:48:12.602573",
     "status": "completed"
    },
    "tags": []
   },
   "outputs": [
    {
     "name": "stdout",
     "output_type": "stream",
     "text": [
      "Classifier Learning rate scheduler\n",
      "5010 total steps and 334 steps per epoch\n",
      "Learning rate schedule: 1e-08 to 8e-05 to 1e-06\n"
     ]
    },
    {
     "data": {
      "image/png": "[encoded data removed]",
      "text/plain": [
       "<Figure size 1440x432 with 1 Axes>"
      ]
     },
     "metadata": {},
     "output_type": "display_data"
    }
   ],
   "source": [
    "print('Classifier Learning rate scheduler')\n",
    "step_size_cl = (NUM_TRAINING_IMAGES//BATCH_SIZE_CL)\n",
    "total_steps_cl = (EPOCHS_CL * step_size_cl)\n",
    "warmup_steps_cl = warmup_epochs * step_size_cl\n",
    "num_cycles_cl = 1\n",
    "\n",
    "\n",
    "lrfn_fn = lrfn(total_steps_cl, warmup_steps_cl, lr_start, LEARNING_RATE_CL, lr_min, num_cycles_cl)\n",
    "rng = [i for i in range(total_steps_cl)]\n",
    "y = [lrfn_fn(tf.cast(x, tf.float32)) for x in rng]\n",
    "\n",
    "sns.set(style='whitegrid')\n",
    "fig, ax = plt.subplots(figsize=(20, 6))\n",
    "plt.plot(rng, y)\n",
    "\n",
    "print(f'{total_steps_cl} total steps and {step_size_cl} steps per epoch')\n",
    "print(f'Learning rate schedule: {y[0]:.3g} to {max(y):.3g} to {y[-1]:.3g}')"
   ]
  },
  {
   "cell_type": "markdown",
   "metadata": {
    "papermill": {
     "duration": 0.026215,
     "end_time": "2021-02-13T16:48:35.368229",
     "exception": false,
     "start_time": "2021-02-13T16:48:35.342014",
     "status": "completed"
    },
    "tags": []
   },
   "source": [
    "# Training"
   ]
  },
  {
   "cell_type": "code",
   "execution_count": 13,
   "metadata": {
    "_kg_hide-input": true,
    "_kg_hide-output": true,
    "execution": {
     "iopub.execute_input": "2021-02-13T16:48:35.447374Z",
     "iopub.status.busy": "2021-02-13T16:48:35.435788Z",
     "iopub.status.idle": "2021-02-13T17:20:57.521420Z",
     "shell.execute_reply": "2021-02-13T17:20:57.520881Z"
    },
    "papermill": {
     "duration": 1942.12661,
     "end_time": "2021-02-13T17:20:57.521703",
     "exception": false,
     "start_time": "2021-02-13T16:48:35.395093",
     "status": "completed"
    },
    "tags": []
   },
   "outputs": [
    {
     "name": "stdout",
     "output_type": "stream",
     "text": [
      "\n",
      "FOLD: 1\n",
      "TRAIN: [ 0  2  3  4  5  7  9 10 11 12 13 14] VALID: [1 6 8]\n",
      "Pre-training the encoder using \"Supervised Contrastive\" Loss\n",
      "Downloading data from https://storage.googleapis.com/keras-applications/efficientnetb3_notop.h5\n",
      "43941888/43941136 [==============================] - 0s 0us/step\n",
      "Model: \"model_1\"\n",
      "_________________________________________________________________\n",
      "Layer (type)                 Output Shape              Param #   \n",
      "=================================================================\n",
      "input_image (InputLayer)     [(None, None, None, 3)]   0         \n",
      "_________________________________________________________________\n",
      "model (Functional)           (None, 1536)              10783535  \n",
      "_________________________________________________________________\n",
      "projection_head (Dense)      (None, 128)               196736    \n",
      "_________________________________________________________________\n",
      "output (UnitNormLayer)       (None, 128)               0         \n",
      "=================================================================\n",
      "Total params: 10,980,271\n",
      "Trainable params: 10,805,672\n",
      "Non-trainable params: 174,599\n",
      "_________________________________________________________________\n",
      "Epoch 1/20\n",
      "267/267 - 95s - loss: 1.7563\n",
      "Epoch 2/20\n",
      "267/267 - 42s - loss: 1.5536\n",
      "Epoch 3/20\n",
      "267/267 - 42s - loss: 1.4782\n",
      "Epoch 4/20\n",
      "267/267 - 42s - loss: 1.4429\n",
      "Epoch 5/20\n",
      "267/267 - 42s - loss: 1.4164\n",
      "Epoch 6/20\n",
      "267/267 - 42s - loss: 1.3927\n",
      "Epoch 7/20\n",
      "267/267 - 42s - loss: 1.3678\n",
      "Epoch 8/20\n",
      "267/267 - 42s - loss: 1.3432\n",
      "Epoch 9/20\n",
      "267/267 - 43s - loss: 1.3260\n",
      "Epoch 10/20\n",
      "267/267 - 42s - loss: 1.3018\n",
      "Epoch 11/20\n",
      "267/267 - 42s - loss: 1.2854\n",
      "Epoch 12/20\n",
      "267/267 - 43s - loss: 1.2722\n",
      "Epoch 13/20\n",
      "267/267 - 42s - loss: 1.2483\n",
      "Epoch 14/20\n",
      "267/267 - 42s - loss: 1.2443\n",
      "Epoch 15/20\n",
      "267/267 - 42s - loss: 1.2303\n",
      "Epoch 16/20\n",
      "267/267 - 42s - loss: 1.2266\n",
      "Epoch 17/20\n",
      "267/267 - 42s - loss: 1.2230\n",
      "Epoch 18/20\n",
      "267/267 - 42s - loss: 1.2249\n",
      "Epoch 19/20\n",
      "267/267 - 42s - loss: 1.2202\n",
      "Epoch 20/20\n",
      "267/267 - 42s - loss: 1.2217\n",
      "Training the classifier with the frozen encoder\n",
      "Model: \"model_2\"\n",
      "_________________________________________________________________\n",
      "Layer (type)                 Output Shape              Param #   \n",
      "=================================================================\n",
      "input_image (InputLayer)     [(None, None, None, 3)]   0         \n",
      "_________________________________________________________________\n",
      "model (Functional)           (None, 1536)              10783535  \n",
      "_________________________________________________________________\n",
      "dropout (Dropout)            (None, 1536)              0         \n",
      "_________________________________________________________________\n",
      "dense (Dense)                (None, 512)               786944    \n",
      "_________________________________________________________________\n",
      "dropout_1 (Dropout)          (None, 512)               0         \n",
      "_________________________________________________________________\n",
      "output (Dense)               (None, 5)                 2565      \n",
      "=================================================================\n",
      "Total params: 11,573,044\n",
      "Trainable params: 11,398,445\n",
      "Non-trainable params: 174,599\n",
      "_________________________________________________________________\n",
      "Epoch 1/15\n",
      "267/267 - 143s - loss: 1.4234 - categorical_accuracy: 0.6606 - val_loss: 1.1590 - val_categorical_accuracy: 0.8511\n",
      "Epoch 2/15\n",
      "267/267 - 66s - loss: 1.0987 - categorical_accuracy: 0.8672 - val_loss: 1.0453 - val_categorical_accuracy: 0.8803\n",
      "Epoch 3/15\n",
      "267/267 - 65s - loss: 1.0337 - categorical_accuracy: 0.8873 - val_loss: 1.0255 - val_categorical_accuracy: 0.8853\n",
      "Epoch 4/15\n",
      "267/267 - 64s - loss: 1.0229 - categorical_accuracy: 0.8935 - val_loss: 1.0401 - val_categorical_accuracy: 0.8729\n",
      "Epoch 5/15\n",
      "267/267 - 63s - loss: 1.0122 - categorical_accuracy: 0.9013 - val_loss: 1.0303 - val_categorical_accuracy: 0.8827\n",
      "Epoch 6/15\n",
      "267/267 - 62s - loss: 1.0093 - categorical_accuracy: 0.9044 - val_loss: 1.0315 - val_categorical_accuracy: 0.8757\n",
      "Epoch 7/15\n",
      "267/267 - 61s - loss: 0.9979 - categorical_accuracy: 0.9126 - val_loss: 1.0312 - val_categorical_accuracy: 0.8824\n",
      "Epoch 8/15\n",
      "267/267 - 61s - loss: 0.9935 - categorical_accuracy: 0.9180 - val_loss: 1.0270 - val_categorical_accuracy: 0.8841\n",
      "Epoch 9/15\n",
      "267/267 - 61s - loss: 0.9848 - categorical_accuracy: 0.9233 - val_loss: 1.0340 - val_categorical_accuracy: 0.8778\n",
      "Epoch 10/15\n",
      "267/267 - 61s - loss: 0.9779 - categorical_accuracy: 0.9291 - val_loss: 1.0324 - val_categorical_accuracy: 0.8829\n",
      "Epoch 11/15\n",
      "267/267 - 60s - loss: 0.9709 - categorical_accuracy: 0.9356 - val_loss: 1.0322 - val_categorical_accuracy: 0.8855\n",
      "Epoch 12/15\n",
      "267/267 - 60s - loss: 0.9668 - categorical_accuracy: 0.9398 - val_loss: 1.0372 - val_categorical_accuracy: 0.8817\n",
      "Epoch 13/15\n",
      "267/267 - 60s - loss: 0.9612 - categorical_accuracy: 0.9456 - val_loss: 1.0349 - val_categorical_accuracy: 0.8846\n",
      "Epoch 14/15\n",
      "267/267 - 60s - loss: 0.9589 - categorical_accuracy: 0.9469 - val_loss: 1.0347 - val_categorical_accuracy: 0.8848\n",
      "Epoch 15/15\n",
      "267/267 - 60s - loss: 0.9562 - categorical_accuracy: 0.9493 - val_loss: 1.0349 - val_categorical_accuracy: 0.8853\n"
     ]
    },
    {
     "ename": "KeyError",
     "evalue": "'val_output_categorical_accuracy'",
     "output_type": "error",
     "traceback": [
      "\u001b[0;31m---------------------------------------------------------------------------\u001b[0m",
      "\u001b[0;31mKeyError\u001b[0m                                  Traceback (most recent call last)",
      "\u001b[0;32m<ipython-input-13-8ff0d1f9c866>\u001b[0m in \u001b[0;36m<module>\u001b[0;34m\u001b[0m\n\u001b[1;32m     79\u001b[0m \u001b[0;34m\u001b[0m\u001b[0m\n\u001b[1;32m     80\u001b[0m     \u001b[0;31m### RESULTS\u001b[0m\u001b[0;34m\u001b[0m\u001b[0;34m\u001b[0m\u001b[0;34m\u001b[0m\u001b[0m\n\u001b[0;32m---> 81\u001b[0;31m     \u001b[0mprint\u001b[0m\u001b[0;34m(\u001b[0m\u001b[0;34mf\"#### FOLD {fold+1} OOF Accuracy = {np.max(history['val_output_categorical_accuracy']):.3f}\"\u001b[0m\u001b[0;34m)\u001b[0m\u001b[0;34m\u001b[0m\u001b[0;34m\u001b[0m\u001b[0m\n\u001b[0m\u001b[1;32m     82\u001b[0m \u001b[0;34m\u001b[0m\u001b[0m\n\u001b[1;32m     83\u001b[0m     \u001b[0mhistory_list\u001b[0m\u001b[0;34m.\u001b[0m\u001b[0mappend\u001b[0m\u001b[0;34m(\u001b[0m\u001b[0mhistory\u001b[0m\u001b[0;34m)\u001b[0m\u001b[0;34m\u001b[0m\u001b[0;34m\u001b[0m\u001b[0m\n",
      "\u001b[0;31mKeyError\u001b[0m: 'val_output_categorical_accuracy'"
     ]
    }
   ],
   "source": [
    "skf = KFold(n_splits=N_FOLDS, shuffle=True, random_state=seed)\n",
    "oof_pred = []; oof_labels = []; oof_names = []; oof_folds = []; history_list = []; oof_embed = []\n",
    "\n",
    "for fold,(idxT, idxV) in enumerate(skf.split(np.arange(15))):\n",
    "    if fold >= FOLDS_USED:\n",
    "        break\n",
    "    if tpu: tf.tpu.experimental.initialize_tpu_system(tpu)\n",
    "    K.clear_session()\n",
    "    print(f'\\nFOLD: {fold+1}')\n",
    "    print(f'TRAIN: {idxT} VALID: {idxV}')\n",
    "\n",
    "    # Create train and validation sets\n",
    "    TRAIN_FILENAMES = tf.io.gfile.glob([GCS_PATH + '/Id_train%.2i*.tfrec' % x for x in idxT])\n",
    "#     FILENAMES_COMP_CBB = tf.io.gfile.glob([GCS_PATH_CLASSES + '/CBB%.2i*.tfrec' % x for x in idxT])\n",
    "#     FILENAMES_COMP_CBSD = tf.io.gfile.glob([GCS_PATH_CLASSES + '/CBSD%.2i*.tfrec' % x for x in idxT])\n",
    "#     FILENAMES_COMP_CGM = tf.io.gfile.glob([GCS_PATH_CLASSES + '/CGM%.2i*.tfrec' % x for x in idxT])\n",
    "#     FILENAMES_COMP_Healthy = tf.io.gfile.glob([GCS_PATH_CLASSES + '/Healthy%.2i*.tfrec' % x for x in idxT])\n",
    "    \n",
    "    VALID_FILENAMES = tf.io.gfile.glob([GCS_PATH + '/Id_train%.2i*.tfrec' % x for x in idxV])\n",
    "    np.random.shuffle(TRAIN_FILENAMES)\n",
    "    \n",
    "    ct_train = count_data_items(TRAIN_FILENAMES)\n",
    "    ct_valid = count_data_items(VALID_FILENAMES)\n",
    "    \n",
    "    step_size = (ct_train // BATCH_SIZE)\n",
    "    warmup_steps = (warmup_epochs * step_size)\n",
    "    total_steps = (total_epochs * step_size)\n",
    "    \n",
    "    ### Pre-train the encoder\n",
    "    print('Pre-training the encoder using \"Supervised Contrastive\" Loss')\n",
    "    with strategy.scope():\n",
    "        encoder = encoder_fn((None, None, CHANNELS))\n",
    "        unfreeze_model(encoder) # unfreeze all layers except \"batch normalization\"\n",
    "        encoder_proj = add_projection_head((None, None, CHANNELS), encoder)\n",
    "        encoder_proj.summary()\n",
    "\n",
    "        lrfn_fn = lrfn(total_steps, warmup_steps, lr_start, LEARNING_RATE, lr_min, num_cycles)\n",
    "        optimizer = optimizers.Adam(learning_rate=lambda: lrfn_fn(tf.cast(optimizer.iterations, tf.float32)))\n",
    "        encoder_proj.compile(optimizer=optimizer, \n",
    "                             loss={'output': SupervisedContrastiveLoss(temperature)})\n",
    "        \n",
    "    history_enc = encoder_proj.fit(x=get_dataset(TRAIN_FILENAMES, repeated=True), \n",
    "#                                    validation_data=get_dataset(VALID_FILENAMES, ordered=True), \n",
    "                                   steps_per_epoch=step_size, \n",
    "                                   batch_size=BATCH_SIZE, \n",
    "                                   epochs=EPOCHS,\n",
    "                                   verbose=2).history\n",
    "\n",
    "    \n",
    "    ### Train the classifier with the frozen encoder\n",
    "    print('Training the classifier with the frozen encoder')\n",
    "    step_size_cl = (ct_train // BATCH_SIZE_CL)\n",
    "    total_steps_cl = (EPOCHS_CL * step_size_cl)\n",
    "    \n",
    "    with strategy.scope():\n",
    "        model = classifier_fn((None, None, CHANNELS), N_CLASSES, encoder, trainable=True) #, trainable=False)\n",
    "        model.summary()\n",
    "\n",
    "        lrfn_fn = lrfn(total_steps_cl, warmup_steps_cl, lr_start, LEARNING_RATE_CL, lr_min, num_cycles_cl)\n",
    "        optimizer = optimizers.Adam(learning_rate=lambda: lrfn_fn(tf.cast(optimizer.iterations, tf.float32)))\n",
    "        model.compile(optimizer=optimizer, \n",
    "                      loss={'output': losses.CategoricalCrossentropy(label_smoothing=.3)},                      \n",
    "                      metrics={'output': metrics.CategoricalAccuracy()})\n",
    "    \n",
    "    model_path = f'model_{fold}.h5'\n",
    "    ckpoint = ModelCheckpoint(model_path, mode='max', verbose=0, \n",
    "                              save_best_only=True, save_weights_only=True, \n",
    "                              monitor='val_output_categorical_accuracy')\n",
    "    es = EarlyStopping(patience=ES_PATIENCE, mode='max', \n",
    "                       restore_best_weights=True, verbose=1, \n",
    "                       monitor='val_output_categorical_accuracy')\n",
    "    history = model.fit(x=get_dataset(TRAIN_FILENAMES, repeated=True, augment=True, batch_size=BATCH_SIZE_CL, sparse=False), \n",
    "                        validation_data=get_dataset(VALID_FILENAMES, ordered=True, batch_size=BATCH_SIZE_CL, sparse=False), \n",
    "                        steps_per_epoch=step_size, \n",
    "                        epochs=EPOCHS_CL, \n",
    "                        callbacks=[ckpoint, es], \n",
    "                        verbose=2).history\n",
    "    \n",
    "    \n",
    "    ### RESULTS\n",
    "    print(f\"#### FOLD {fold+1} OOF Accuracy = {np.max(history['val_output_categorical_accuracy']):.3f}\")\n",
    "    \n",
    "    history_list.append(history)\n",
    "    # Load best model weights\n",
    "    model.load_weights(model_path)\n",
    "\n",
    "    # OOF predictions\n",
    "    ds_valid = get_dataset(VALID_FILENAMES, ordered=True)\n",
    "    oof_folds.append(np.full((ct_valid), fold, dtype='int8'))\n",
    "    oof_labels.append([target[0].numpy() for img, target in iter(ds_valid.unbatch())])\n",
    "    x_oof = ds_valid.map(lambda image, target: image)\n",
    "    oof_pred.append(model.predict(x_oof)[0])\n",
    "    # OOF names\n",
    "    ds_valid_names = get_dataset(VALID_FILENAMES, labeled=False, ordered=True)\n",
    "    oof_names.append(np.array([img_name.numpy().decode('utf-8') for img, img_name in iter(ds_valid_names.unbatch())]))\n",
    "    oof_embed.append(encoder.predict(x_oof)) # OOF embeddings"
   ]
  },
  {
   "cell_type": "markdown",
   "metadata": {
    "papermill": {
     "duration": 0.052105,
     "end_time": "2021-02-13T17:20:57.626468",
     "exception": false,
     "start_time": "2021-02-13T17:20:57.574363",
     "status": "completed"
    },
    "tags": []
   },
   "source": [
    "## Model loss graph"
   ]
  },
  {
   "cell_type": "code",
   "execution_count": 14,
   "metadata": {
    "_kg_hide-input": true,
    "execution": {
     "iopub.execute_input": "2021-02-13T17:20:57.739486Z",
     "iopub.status.busy": "2021-02-13T17:20:57.737781Z",
     "iopub.status.idle": "2021-02-13T17:20:57.740202Z",
     "shell.execute_reply": "2021-02-13T17:20:57.740740Z"
    },
    "papermill": {
     "duration": 0.061845,
     "end_time": "2021-02-13T17:20:57.740927",
     "exception": false,
     "start_time": "2021-02-13T17:20:57.679082",
     "status": "completed"
    },
    "tags": []
   },
   "outputs": [],
   "source": [
    "for fold, history in enumerate(history_list):\n",
    "    print(f'\\nFOLD: {fold+1}')\n",
    "    plot_metrics(history, acc_name='output_categorical_accuracy')"
   ]
  },
  {
   "cell_type": "markdown",
   "metadata": {
    "papermill": {
     "duration": 0.057127,
     "end_time": "2021-02-13T17:20:57.850136",
     "exception": false,
     "start_time": "2021-02-13T17:20:57.793009",
     "status": "completed"
    },
    "tags": []
   },
   "source": [
    "# Model evaluation"
   ]
  },
  {
   "cell_type": "code",
   "execution_count": 15,
   "metadata": {
    "_kg_hide-input": true,
    "execution": {
     "iopub.execute_input": "2021-02-13T17:20:58.001319Z",
     "iopub.status.busy": "2021-02-13T17:20:58.000645Z",
     "iopub.status.idle": "2021-02-13T17:20:58.005862Z",
     "shell.execute_reply": "2021-02-13T17:20:58.005272Z"
    },
    "papermill": {
     "duration": 0.102038,
     "end_time": "2021-02-13T17:20:58.006020",
     "exception": false,
     "start_time": "2021-02-13T17:20:57.903982",
     "status": "completed"
    },
    "tags": []
   },
   "outputs": [
    {
     "ename": "ValueError",
     "evalue": "need at least one array to concatenate",
     "output_type": "error",
     "traceback": [
      "\u001b[0;31m---------------------------------------------------------------------------\u001b[0m",
      "\u001b[0;31mValueError\u001b[0m                                Traceback (most recent call last)",
      "\u001b[0;32m<ipython-input-15-8b0cc8258bd1>\u001b[0m in \u001b[0;36m<module>\u001b[0;34m\u001b[0m\n\u001b[0;32m----> 1\u001b[0;31m \u001b[0my_true\u001b[0m \u001b[0;34m=\u001b[0m \u001b[0mnp\u001b[0m\u001b[0;34m.\u001b[0m\u001b[0mconcatenate\u001b[0m\u001b[0;34m(\u001b[0m\u001b[0moof_labels\u001b[0m\u001b[0;34m)\u001b[0m\u001b[0;34m\u001b[0m\u001b[0;34m\u001b[0m\u001b[0m\n\u001b[0m\u001b[1;32m      2\u001b[0m \u001b[0;31m# y_true = np.argmax(y_true, axis=-1)\u001b[0m\u001b[0;34m\u001b[0m\u001b[0;34m\u001b[0m\u001b[0;34m\u001b[0m\u001b[0m\n\u001b[1;32m      3\u001b[0m \u001b[0my_prob\u001b[0m \u001b[0;34m=\u001b[0m \u001b[0mnp\u001b[0m\u001b[0;34m.\u001b[0m\u001b[0mconcatenate\u001b[0m\u001b[0;34m(\u001b[0m\u001b[0moof_pred\u001b[0m\u001b[0;34m)\u001b[0m\u001b[0;34m\u001b[0m\u001b[0;34m\u001b[0m\u001b[0m\n\u001b[1;32m      4\u001b[0m \u001b[0my_pred\u001b[0m \u001b[0;34m=\u001b[0m \u001b[0mnp\u001b[0m\u001b[0;34m.\u001b[0m\u001b[0margmax\u001b[0m\u001b[0;34m(\u001b[0m\u001b[0my_prob\u001b[0m\u001b[0;34m,\u001b[0m \u001b[0maxis\u001b[0m\u001b[0;34m=\u001b[0m\u001b[0;34m-\u001b[0m\u001b[0;36m1\u001b[0m\u001b[0;34m)\u001b[0m\u001b[0;34m\u001b[0m\u001b[0;34m\u001b[0m\u001b[0m\n\u001b[1;32m      5\u001b[0m \u001b[0mfolds\u001b[0m \u001b[0;34m=\u001b[0m \u001b[0mnp\u001b[0m\u001b[0;34m.\u001b[0m\u001b[0mconcatenate\u001b[0m\u001b[0;34m(\u001b[0m\u001b[0moof_folds\u001b[0m\u001b[0;34m)\u001b[0m\u001b[0;34m\u001b[0m\u001b[0;34m\u001b[0m\u001b[0m\n",
      "\u001b[0;32m<__array_function__ internals>\u001b[0m in \u001b[0;36mconcatenate\u001b[0;34m(*args, **kwargs)\u001b[0m\n",
      "\u001b[0;31mValueError\u001b[0m: need at least one array to concatenate"
     ]
    }
   ],
   "source": [
    "y_true = np.concatenate(oof_labels)\n",
    "# y_true = np.argmax(y_true, axis=-1)\n",
    "y_prob = np.concatenate(oof_pred)\n",
    "y_pred = np.argmax(y_prob, axis=-1)\n",
    "folds = np.concatenate(oof_folds)\n",
    "names = np.concatenate(oof_names)\n",
    "\n",
    "acc = accuracy_score(y_true, y_pred)\n",
    "print(f'Overall OOF Accuracy = {acc:.3f}')\n",
    "\n",
    "df_oof = pd.DataFrame({'image_id':names, 'fold':fold, \n",
    "                       'target':y_true, 'pred':y_pred})\n",
    "\n",
    "df_oof = df_oof.assign(probs=[prob for prob in y_prob])\n",
    "df_oof.to_csv('oof.csv', index=False)\n",
    "display(df_oof.head())\n",
    "\n",
    "print(classification_report(y_true, y_pred, target_names=CLASSES))"
   ]
  },
  {
   "cell_type": "markdown",
   "metadata": {
    "papermill": {
     "duration": 0.052495,
     "end_time": "2021-02-13T17:20:58.112091",
     "exception": false,
     "start_time": "2021-02-13T17:20:58.059596",
     "status": "completed"
    },
    "tags": []
   },
   "source": [
    "# Confusion matrix"
   ]
  },
  {
   "cell_type": "code",
   "execution_count": 16,
   "metadata": {
    "_kg_hide-input": true,
    "execution": {
     "iopub.execute_input": "2021-02-13T17:20:58.239976Z",
     "iopub.status.busy": "2021-02-13T17:20:58.239300Z",
     "iopub.status.idle": "2021-02-13T17:20:58.462120Z",
     "shell.execute_reply": "2021-02-13T17:20:58.461550Z"
    },
    "papermill": {
     "duration": 0.297533,
     "end_time": "2021-02-13T17:20:58.462280",
     "exception": false,
     "start_time": "2021-02-13T17:20:58.164747",
     "status": "completed"
    },
    "tags": []
   },
   "outputs": [
    {
     "ename": "NameError",
     "evalue": "name 'y_true' is not defined",
     "output_type": "error",
     "traceback": [
      "\u001b[0;31m---------------------------------------------------------------------------\u001b[0m",
      "\u001b[0;31mNameError\u001b[0m                                 Traceback (most recent call last)",
      "\u001b[0;32m<ipython-input-16-6128df710b33>\u001b[0m in \u001b[0;36m<module>\u001b[0;34m\u001b[0m\n\u001b[1;32m      1\u001b[0m \u001b[0mfig\u001b[0m\u001b[0;34m,\u001b[0m \u001b[0max\u001b[0m \u001b[0;34m=\u001b[0m \u001b[0mplt\u001b[0m\u001b[0;34m.\u001b[0m\u001b[0msubplots\u001b[0m\u001b[0;34m(\u001b[0m\u001b[0;36m1\u001b[0m\u001b[0;34m,\u001b[0m \u001b[0;36m1\u001b[0m\u001b[0;34m,\u001b[0m \u001b[0mfigsize\u001b[0m\u001b[0;34m=\u001b[0m\u001b[0;34m(\u001b[0m\u001b[0;36m20\u001b[0m\u001b[0;34m,\u001b[0m \u001b[0;36m12\u001b[0m\u001b[0;34m)\u001b[0m\u001b[0;34m)\u001b[0m\u001b[0;34m\u001b[0m\u001b[0;34m\u001b[0m\u001b[0m\n\u001b[0;32m----> 2\u001b[0;31m \u001b[0mcfn_matrix\u001b[0m \u001b[0;34m=\u001b[0m \u001b[0mconfusion_matrix\u001b[0m\u001b[0;34m(\u001b[0m\u001b[0my_true\u001b[0m\u001b[0;34m,\u001b[0m \u001b[0my_pred\u001b[0m\u001b[0;34m,\u001b[0m \u001b[0mlabels\u001b[0m\u001b[0;34m=\u001b[0m\u001b[0mrange\u001b[0m\u001b[0;34m(\u001b[0m\u001b[0mlen\u001b[0m\u001b[0;34m(\u001b[0m\u001b[0mCLASSES\u001b[0m\u001b[0;34m)\u001b[0m\u001b[0;34m)\u001b[0m\u001b[0;34m)\u001b[0m\u001b[0;34m\u001b[0m\u001b[0;34m\u001b[0m\u001b[0m\n\u001b[0m\u001b[1;32m      3\u001b[0m \u001b[0mcfn_matrix\u001b[0m \u001b[0;34m=\u001b[0m \u001b[0;34m(\u001b[0m\u001b[0mcfn_matrix\u001b[0m\u001b[0;34m.\u001b[0m\u001b[0mT\u001b[0m \u001b[0;34m/\u001b[0m \u001b[0mcfn_matrix\u001b[0m\u001b[0;34m.\u001b[0m\u001b[0msum\u001b[0m\u001b[0;34m(\u001b[0m\u001b[0maxis\u001b[0m\u001b[0;34m=\u001b[0m\u001b[0;36m1\u001b[0m\u001b[0;34m)\u001b[0m\u001b[0;34m)\u001b[0m\u001b[0;34m.\u001b[0m\u001b[0mT\u001b[0m\u001b[0;34m\u001b[0m\u001b[0;34m\u001b[0m\u001b[0m\n\u001b[1;32m      4\u001b[0m \u001b[0mdf_cm\u001b[0m \u001b[0;34m=\u001b[0m \u001b[0mpd\u001b[0m\u001b[0;34m.\u001b[0m\u001b[0mDataFrame\u001b[0m\u001b[0;34m(\u001b[0m\u001b[0mcfn_matrix\u001b[0m\u001b[0;34m,\u001b[0m \u001b[0mindex\u001b[0m\u001b[0;34m=\u001b[0m\u001b[0mCLASSES\u001b[0m\u001b[0;34m,\u001b[0m \u001b[0mcolumns\u001b[0m\u001b[0;34m=\u001b[0m\u001b[0mCLASSES\u001b[0m\u001b[0;34m)\u001b[0m\u001b[0;34m\u001b[0m\u001b[0;34m\u001b[0m\u001b[0m\n\u001b[1;32m      5\u001b[0m \u001b[0max\u001b[0m \u001b[0;34m=\u001b[0m \u001b[0msns\u001b[0m\u001b[0;34m.\u001b[0m\u001b[0mheatmap\u001b[0m\u001b[0;34m(\u001b[0m\u001b[0mdf_cm\u001b[0m\u001b[0;34m,\u001b[0m \u001b[0mcmap\u001b[0m\u001b[0;34m=\u001b[0m\u001b[0;34m'Blues'\u001b[0m\u001b[0;34m,\u001b[0m \u001b[0mannot\u001b[0m\u001b[0;34m=\u001b[0m\u001b[0;32mTrue\u001b[0m\u001b[0;34m,\u001b[0m \u001b[0mfmt\u001b[0m\u001b[0;34m=\u001b[0m\u001b[0;34m'.2f'\u001b[0m\u001b[0;34m,\u001b[0m \u001b[0mlinewidths\u001b[0m\u001b[0;34m=\u001b[0m\u001b[0;36m.5\u001b[0m\u001b[0;34m)\u001b[0m\u001b[0;34m.\u001b[0m\u001b[0mset_title\u001b[0m\u001b[0;34m(\u001b[0m\u001b[0;34m'Train'\u001b[0m\u001b[0;34m,\u001b[0m \u001b[0mfontsize\u001b[0m\u001b[0;34m=\u001b[0m\u001b[0;36m30\u001b[0m\u001b[0;34m)\u001b[0m\u001b[0;34m\u001b[0m\u001b[0;34m\u001b[0m\u001b[0m\n",
      "\u001b[0;31mNameError\u001b[0m: name 'y_true' is not defined"
     ]
    },
    {
     "data": {
      "image/png": "[encoded data removed]",
      "text/plain": [
       "<Figure size 1440x864 with 1 Axes>"
      ]
     },
     "metadata": {},
     "output_type": "display_data"
    }
   ],
   "source": [
    "fig, ax = plt.subplots(1, 1, figsize=(20, 12))\n",
    "cfn_matrix = confusion_matrix(y_true, y_pred, labels=range(len(CLASSES)))\n",
    "cfn_matrix = (cfn_matrix.T / cfn_matrix.sum(axis=1)).T\n",
    "df_cm = pd.DataFrame(cfn_matrix, index=CLASSES, columns=CLASSES)\n",
    "ax = sns.heatmap(df_cm, cmap='Blues', annot=True, fmt='.2f', linewidths=.5).set_title('Train', fontsize=30)\n",
    "plt.show()"
   ]
  },
  {
   "cell_type": "markdown",
   "metadata": {
    "papermill": {
     "duration": 0.054709,
     "end_time": "2021-02-13T17:20:58.571301",
     "exception": false,
     "start_time": "2021-02-13T17:20:58.516592",
     "status": "completed"
    },
    "tags": []
   },
   "source": [
    "# Visualize embeddings outputs"
   ]
  },
  {
   "cell_type": "code",
   "execution_count": 17,
   "metadata": {
    "_kg_hide-input": true,
    "execution": {
     "iopub.execute_input": "2021-02-13T17:20:58.722122Z",
     "iopub.status.busy": "2021-02-13T17:20:58.716476Z",
     "iopub.status.idle": "2021-02-13T17:20:58.727371Z",
     "shell.execute_reply": "2021-02-13T17:20:58.726729Z"
    },
    "papermill": {
     "duration": 0.102168,
     "end_time": "2021-02-13T17:20:58.727555",
     "exception": false,
     "start_time": "2021-02-13T17:20:58.625387",
     "status": "completed"
    },
    "tags": []
   },
   "outputs": [
    {
     "ename": "ValueError",
     "evalue": "need at least one array to concatenate",
     "output_type": "error",
     "traceback": [
      "\u001b[0;31m---------------------------------------------------------------------------\u001b[0m",
      "\u001b[0;31mValueError\u001b[0m                                Traceback (most recent call last)",
      "\u001b[0;32m<ipython-input-17-46a9978dcfce>\u001b[0m in \u001b[0;36m<module>\u001b[0;34m\u001b[0m\n\u001b[0;32m----> 1\u001b[0;31m \u001b[0my_embeddings\u001b[0m \u001b[0;34m=\u001b[0m \u001b[0mnp\u001b[0m\u001b[0;34m.\u001b[0m\u001b[0mconcatenate\u001b[0m\u001b[0;34m(\u001b[0m\u001b[0moof_embed\u001b[0m\u001b[0;34m)\u001b[0m\u001b[0;34m\u001b[0m\u001b[0;34m\u001b[0m\u001b[0m\n\u001b[0m\u001b[1;32m      2\u001b[0m \u001b[0;34m\u001b[0m\u001b[0m\n\u001b[1;32m      3\u001b[0m \u001b[0mvisualize_embeddings\u001b[0m\u001b[0;34m(\u001b[0m\u001b[0my_embeddings\u001b[0m\u001b[0;34m,\u001b[0m \u001b[0my_true\u001b[0m\u001b[0;34m)\u001b[0m\u001b[0;34m\u001b[0m\u001b[0;34m\u001b[0m\u001b[0m\n",
      "\u001b[0;32m<__array_function__ internals>\u001b[0m in \u001b[0;36mconcatenate\u001b[0;34m(*args, **kwargs)\u001b[0m\n",
      "\u001b[0;31mValueError\u001b[0m: need at least one array to concatenate"
     ]
    }
   ],
   "source": [
    "y_embeddings = np.concatenate(oof_embed)\n",
    "\n",
    "visualize_embeddings(y_embeddings, y_true)"
   ]
  },
  {
   "cell_type": "markdown",
   "metadata": {
    "papermill": {
     "duration": 0.054246,
     "end_time": "2021-02-13T17:20:58.836488",
     "exception": false,
     "start_time": "2021-02-13T17:20:58.782242",
     "status": "completed"
    },
    "tags": []
   },
   "source": [
    "# Visualize predictions"
   ]
  },
  {
   "cell_type": "code",
   "execution_count": 18,
   "metadata": {
    "_kg_hide-input": true,
    "execution": {
     "iopub.execute_input": "2021-02-13T17:20:58.951236Z",
     "iopub.status.busy": "2021-02-13T17:20:58.950312Z",
     "iopub.status.idle": "2021-02-13T17:20:58.954097Z",
     "shell.execute_reply": "2021-02-13T17:20:58.953599Z"
    },
    "papermill": {
     "duration": 0.062251,
     "end_time": "2021-02-13T17:20:58.954240",
     "exception": false,
     "start_time": "2021-02-13T17:20:58.891989",
     "status": "completed"
    },
    "tags": []
   },
   "outputs": [],
   "source": [
    "# train_dataset = get_dataset(TRAINING_FILENAMES, ordered=True)\n",
    "# x_samp, y_samp = dataset_to_numpy_util(train_dataset, 18)\n",
    "# y_samp = np.argmax(y_samp, axis=-1)\n",
    "\n",
    "# x_samp_1, y_samp_1 = x_samp[:9,:,:,:], y_samp[:9]\n",
    "# samp_preds_1 = model.predict(x_samp_1, batch_size=9)\n",
    "# display_9_images_with_predictions(x_samp_1, samp_preds_1, y_samp_1)\n",
    "\n",
    "# x_samp_2, y_samp_2 = x_samp[9:,:,:,:], y_samp[9:]\n",
    "# samp_preds_2 = model.predict(x_samp_2, batch_size=9)\n",
    "# display_9_images_with_predictions(x_samp_2, samp_preds_2, y_samp_2)"
   ]
  }
 ],
 "metadata": {
  "kernelspec": {
   "display_name": "Python 3",
   "language": "python",
   "name": "python3"
  },
  "language_info": {
   "codemirror_mode": {
    "name": "ipython",
    "version": 3
   },
   "file_extension": ".py",
   "mimetype": "text/x-python",
   "name": "python",
   "nbconvert_exporter": "python",
   "pygments_lexer": "ipython3",
   "version": "3.7.9"
  },
  "papermill": {
   "default_parameters": {},
   "duration": 2022.99332,
   "end_time": "2021-02-13T17:21:04.120489",
   "environment_variables": {},
   "exception": null,
   "input_path": "__notebook__.ipynb",
   "output_path": "__notebook__.ipynb",
   "parameters": {},
   "start_time": "2021-02-13T16:47:21.127169",
   "version": "2.2.2"
  }
 },
 "nbformat": 4,
 "nbformat_minor": 4
}
