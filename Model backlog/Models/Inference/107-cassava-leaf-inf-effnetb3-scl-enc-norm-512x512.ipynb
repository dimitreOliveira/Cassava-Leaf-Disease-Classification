{
 "cells": [
  {
   "cell_type": "markdown",
   "metadata": {
    "papermill": {
     "duration": 0.014597,
     "end_time": "2021-02-07T23:43:35.385068",
     "exception": false,
     "start_time": "2021-02-07T23:43:35.370471",
     "status": "completed"
    },
    "tags": []
   },
   "source": [
    "## Dependencies"
   ]
  },
  {
   "cell_type": "code",
   "execution_count": 1,
   "metadata": {
    "_kg_hide-input": true,
    "execution": {
     "iopub.execute_input": "2021-02-07T23:43:35.419702Z",
     "iopub.status.busy": "2021-02-07T23:43:35.418730Z",
     "iopub.status.idle": "2021-02-07T23:44:35.320389Z",
     "shell.execute_reply": "2021-02-07T23:44:35.319468Z"
    },
    "papermill": {
     "duration": 59.92156,
     "end_time": "2021-02-07T23:44:35.320597",
     "exception": false,
     "start_time": "2021-02-07T23:43:35.399037",
     "status": "completed"
    },
    "tags": []
   },
   "outputs": [],
   "source": [
    "!pip install --quiet /kaggle/input/kerasapplications\n",
    "!pip install --quiet /kaggle/input/efficientnet-git"
   ]
  },
  {
   "cell_type": "code",
   "execution_count": 2,
   "metadata": {
    "_cell_guid": "b1076dfc-b9ad-4769-8c92-a6c4dae69d19",
    "_kg_hide-input": true,
    "_kg_hide-output": true,
    "_uuid": "8f2839f25d086af736a60e9eeb907d3b93b6e0e5",
    "execution": {
     "iopub.execute_input": "2021-02-07T23:44:35.369466Z",
     "iopub.status.busy": "2021-02-07T23:44:35.368710Z",
     "iopub.status.idle": "2021-02-07T23:44:41.633026Z",
     "shell.execute_reply": "2021-02-07T23:44:41.631779Z"
    },
    "papermill": {
     "duration": 6.292656,
     "end_time": "2021-02-07T23:44:41.633153",
     "exception": false,
     "start_time": "2021-02-07T23:44:35.340497",
     "status": "completed"
    },
    "tags": []
   },
   "outputs": [],
   "source": [
    "import warnings, glob\n",
    "from tensorflow.keras import Sequential, Model\n",
    "import efficientnet.tfkeras as efn\n",
    "from cassava_scripts import *\n",
    "\n",
    "\n",
    "seed = 0\n",
    "seed_everything(seed)\n",
    "warnings.filterwarnings('ignore')"
   ]
  },
  {
   "cell_type": "markdown",
   "metadata": {
    "papermill": {
     "duration": 0.01334,
     "end_time": "2021-02-07T23:44:41.659963",
     "exception": false,
     "start_time": "2021-02-07T23:44:41.646623",
     "status": "completed"
    },
    "tags": []
   },
   "source": [
    "### Hardware configuration"
   ]
  },
  {
   "cell_type": "code",
   "execution_count": 3,
   "metadata": {
    "_kg_hide-input": true,
    "execution": {
     "iopub.execute_input": "2021-02-07T23:44:41.690572Z",
     "iopub.status.busy": "2021-02-07T23:44:41.689918Z",
     "iopub.status.idle": "2021-02-07T23:44:41.700697Z",
     "shell.execute_reply": "2021-02-07T23:44:41.699998Z"
    },
    "papermill": {
     "duration": 0.027689,
     "end_time": "2021-02-07T23:44:41.700820",
     "exception": false,
     "start_time": "2021-02-07T23:44:41.673131",
     "status": "completed"
    },
    "tags": []
   },
   "outputs": [
    {
     "name": "stdout",
     "output_type": "stream",
     "text": [
      "REPLICAS: 1\n"
     ]
    }
   ],
   "source": [
    "# TPU or GPU detection\n",
    "# Detect hardware, return appropriate distribution strategy\n",
    "strategy, tpu = set_up_strategy()\n",
    "\n",
    "AUTO = tf.data.experimental.AUTOTUNE\n",
    "REPLICAS = strategy.num_replicas_in_sync\n",
    "print(f'REPLICAS: {REPLICAS}')"
   ]
  },
  {
   "cell_type": "markdown",
   "metadata": {
    "papermill": {
     "duration": 0.013293,
     "end_time": "2021-02-07T23:44:41.729486",
     "exception": false,
     "start_time": "2021-02-07T23:44:41.716193",
     "status": "completed"
    },
    "tags": []
   },
   "source": [
    "# Model parameters"
   ]
  },
  {
   "cell_type": "code",
   "execution_count": 4,
   "metadata": {
    "execution": {
     "iopub.execute_input": "2021-02-07T23:44:41.760853Z",
     "iopub.status.busy": "2021-02-07T23:44:41.760174Z",
     "iopub.status.idle": "2021-02-07T23:44:41.763699Z",
     "shell.execute_reply": "2021-02-07T23:44:41.764142Z"
    },
    "papermill": {
     "duration": 0.021453,
     "end_time": "2021-02-07T23:44:41.764257",
     "exception": false,
     "start_time": "2021-02-07T23:44:41.742804",
     "status": "completed"
    },
    "tags": []
   },
   "outputs": [],
   "source": [
    "BATCH_SIZE = 8 * REPLICAS\n",
    "HEIGHT = 512\n",
    "WIDTH = 512\n",
    "CHANNELS = 3\n",
    "N_CLASSES = 5\n",
    "TTA_STEPS = 0 # Do TTA if > 0 "
   ]
  },
  {
   "cell_type": "markdown",
   "metadata": {
    "papermill": {
     "duration": 0.013155,
     "end_time": "2021-02-07T23:44:41.791213",
     "exception": false,
     "start_time": "2021-02-07T23:44:41.778058",
     "status": "completed"
    },
    "tags": []
   },
   "source": [
    "# Augmentation"
   ]
  },
  {
   "cell_type": "code",
   "execution_count": 5,
   "metadata": {
    "_kg_hide-input": false,
    "execution": {
     "iopub.execute_input": "2021-02-07T23:44:41.827400Z",
     "iopub.status.busy": "2021-02-07T23:44:41.826554Z",
     "iopub.status.idle": "2021-02-07T23:44:41.836475Z",
     "shell.execute_reply": "2021-02-07T23:44:41.835961Z"
    },
    "papermill": {
     "duration": 0.031792,
     "end_time": "2021-02-07T23:44:41.836586",
     "exception": false,
     "start_time": "2021-02-07T23:44:41.804794",
     "status": "completed"
    },
    "tags": []
   },
   "outputs": [],
   "source": [
    "def data_augment(image, label):\n",
    "    p_spatial = tf.random.uniform([], 0, 1.0, dtype=tf.float32)\n",
    "    p_rotate = tf.random.uniform([], 0, 1.0, dtype=tf.float32)\n",
    "#     p_pixel_1 = tf.random.uniform([], 0, 1.0, dtype=tf.float32)\n",
    "#     p_pixel_2 = tf.random.uniform([], 0, 1.0, dtype=tf.float32)\n",
    "#     p_pixel_3 = tf.random.uniform([], 0, 1.0, dtype=tf.float32)\n",
    "    p_crop = tf.random.uniform([], 0, 1.0, dtype=tf.float32)\n",
    "            \n",
    "    # Flips\n",
    "    image = tf.image.random_flip_left_right(image)\n",
    "    image = tf.image.random_flip_up_down(image)\n",
    "    if p_spatial > .75:\n",
    "        image = tf.image.transpose(image)\n",
    "        \n",
    "    # Rotates\n",
    "    if p_rotate > .75:\n",
    "        image = tf.image.rot90(image, k=3) # rotate 270º\n",
    "    elif p_rotate > .5:\n",
    "        image = tf.image.rot90(image, k=2) # rotate 180º\n",
    "    elif p_rotate > .25:\n",
    "        image = tf.image.rot90(image, k=1) # rotate 90º\n",
    "        \n",
    "#     # Pixel-level transforms\n",
    "#     if p_pixel_1 >= .4:\n",
    "#         image = tf.image.random_saturation(image, lower=.7, upper=1.3)\n",
    "#     if p_pixel_2 >= .4:\n",
    "#         image = tf.image.random_contrast(image, lower=.8, upper=1.2)\n",
    "#     if p_pixel_3 >= .4:\n",
    "#         image = tf.image.random_brightness(image, max_delta=.1)\n",
    "        \n",
    "    # Crops\n",
    "    if p_crop > .7:\n",
    "        if p_crop > .9:\n",
    "            image = tf.image.central_crop(image, central_fraction=.7)\n",
    "        elif p_crop > .8:\n",
    "            image = tf.image.central_crop(image, central_fraction=.8)\n",
    "        else:\n",
    "            image = tf.image.central_crop(image, central_fraction=.9)\n",
    "    elif p_crop > .4:\n",
    "        crop_size = tf.random.uniform([], int(HEIGHT*.8), HEIGHT, dtype=tf.int32)\n",
    "        image = tf.image.random_crop(image, size=[crop_size, crop_size, CHANNELS])\n",
    "        \n",
    "#     # Crops\n",
    "#     if p_crop > .6:\n",
    "#         if p_crop > .9:\n",
    "#             image = tf.image.central_crop(image, central_fraction=.5)\n",
    "#         elif p_crop > .8:\n",
    "#             image = tf.image.central_crop(image, central_fraction=.6)\n",
    "#         elif p_crop > .7:\n",
    "#             image = tf.image.central_crop(image, central_fraction=.7)\n",
    "#         else:\n",
    "#             image = tf.image.central_crop(image, central_fraction=.8)\n",
    "#     elif p_crop > .3:\n",
    "#         crop_size = tf.random.uniform([], int(HEIGHT*.6), HEIGHT, dtype=tf.int32)\n",
    "#         image = tf.image.random_crop(image, size=[crop_size, crop_size, CHANNELS])\n",
    "            \n",
    "\n",
    "    return image, label"
   ]
  },
  {
   "cell_type": "markdown",
   "metadata": {
    "papermill": {
     "duration": 0.013665,
     "end_time": "2021-02-07T23:44:41.864052",
     "exception": false,
     "start_time": "2021-02-07T23:44:41.850387",
     "status": "completed"
    },
    "tags": []
   },
   "source": [
    "## Auxiliary functions"
   ]
  },
  {
   "cell_type": "code",
   "execution_count": 6,
   "metadata": {
    "_cell_guid": "79c7e3d0-c299-4dcb-8224-4455121ee9b0",
    "_kg_hide-input": true,
    "_uuid": "d629ff2d2480ee46fbb7e2d37f6b5fab8052498a",
    "execution": {
     "iopub.execute_input": "2021-02-07T23:44:41.901824Z",
     "iopub.status.busy": "2021-02-07T23:44:41.901057Z",
     "iopub.status.idle": "2021-02-07T23:44:41.904333Z",
     "shell.execute_reply": "2021-02-07T23:44:41.903857Z"
    },
    "papermill": {
     "duration": 0.026609,
     "end_time": "2021-02-07T23:44:41.904425",
     "exception": false,
     "start_time": "2021-02-07T23:44:41.877816",
     "status": "completed"
    },
    "tags": []
   },
   "outputs": [],
   "source": [
    "# Datasets utility functions\n",
    "def resize_image(image, label):\n",
    "    image = tf.image.resize(image, [HEIGHT, WIDTH])\n",
    "    image = tf.reshape(image, [HEIGHT, WIDTH, CHANNELS])\n",
    "    return image, label\n",
    "\n",
    "def process_path(file_path):\n",
    "    name = get_name(file_path)\n",
    "    img = tf.io.read_file(file_path)\n",
    "    img = decode_image(img)\n",
    "    img, _ = scale_image(img, None)\n",
    "#     img = center_crop(img, HEIGHT, WIDTH)\n",
    "    return img, name\n",
    "\n",
    "def get_dataset(files_path, shuffled=False, tta=False, extension='jpg'):\n",
    "    dataset = tf.data.Dataset.list_files(f'{files_path}*{extension}', shuffle=shuffled)\n",
    "    dataset = dataset.map(process_path, num_parallel_calls=AUTO)\n",
    "    if tta:\n",
    "        dataset = dataset.map(data_augment, num_parallel_calls=AUTO)\n",
    "    dataset = dataset.map(resize_image, num_parallel_calls=AUTO)\n",
    "    dataset = dataset.batch(BATCH_SIZE)\n",
    "    dataset = dataset.prefetch(AUTO)\n",
    "    return dataset"
   ]
  },
  {
   "cell_type": "markdown",
   "metadata": {
    "papermill": {
     "duration": 0.013477,
     "end_time": "2021-02-07T23:44:41.931870",
     "exception": false,
     "start_time": "2021-02-07T23:44:41.918393",
     "status": "completed"
    },
    "tags": []
   },
   "source": [
    "# Load data"
   ]
  },
  {
   "cell_type": "code",
   "execution_count": 7,
   "metadata": {
    "_kg_hide-input": true,
    "execution": {
     "iopub.execute_input": "2021-02-07T23:44:41.972705Z",
     "iopub.status.busy": "2021-02-07T23:44:41.972071Z",
     "iopub.status.idle": "2021-02-07T23:44:42.000376Z",
     "shell.execute_reply": "2021-02-07T23:44:42.001201Z"
    },
    "papermill": {
     "duration": 0.055751,
     "end_time": "2021-02-07T23:44:42.001376",
     "exception": false,
     "start_time": "2021-02-07T23:44:41.945625",
     "status": "completed"
    },
    "tags": []
   },
   "outputs": [
    {
     "data": {
      "text/html": [
       "<div>\n",
       "<style scoped>\n",
       "    .dataframe tbody tr th:only-of-type {\n",
       "        vertical-align: middle;\n",
       "    }\n",
       "\n",
       "    .dataframe tbody tr th {\n",
       "        vertical-align: top;\n",
       "    }\n",
       "\n",
       "    .dataframe thead th {\n",
       "        text-align: right;\n",
       "    }\n",
       "</style>\n",
       "<table border=\"1\" class=\"dataframe\">\n",
       "  <thead>\n",
       "    <tr style=\"text-align: right;\">\n",
       "      <th></th>\n",
       "      <th>image_id</th>\n",
       "      <th>label</th>\n",
       "    </tr>\n",
       "  </thead>\n",
       "  <tbody>\n",
       "    <tr>\n",
       "      <th>0</th>\n",
       "      <td>2216849948.jpg</td>\n",
       "      <td>4</td>\n",
       "    </tr>\n",
       "  </tbody>\n",
       "</table>\n",
       "</div>"
      ],
      "text/plain": [
       "         image_id  label\n",
       "0  2216849948.jpg      4"
      ]
     },
     "metadata": {},
     "output_type": "display_data"
    },
    {
     "name": "stdout",
     "output_type": "stream",
     "text": [
      "GCS: test: 1\n"
     ]
    }
   ],
   "source": [
    "database_base_path = '/kaggle/input/cassava-leaf-disease-classification/'\n",
    "submission = pd.read_csv(f'{database_base_path}sample_submission.csv')\n",
    "display(submission.head())\n",
    "\n",
    "TEST_FILENAMES = tf.io.gfile.glob(f'{database_base_path}test_tfrecords/ld_test*.tfrec')\n",
    "NUM_TEST_IMAGES = count_data_items(TEST_FILENAMES)\n",
    "print(f'GCS: test: {NUM_TEST_IMAGES}')"
   ]
  },
  {
   "cell_type": "code",
   "execution_count": 8,
   "metadata": {
    "_kg_hide-input": true,
    "execution": {
     "iopub.execute_input": "2021-02-07T23:44:42.036340Z",
     "iopub.status.busy": "2021-02-07T23:44:42.035719Z",
     "iopub.status.idle": "2021-02-07T23:44:42.046527Z",
     "shell.execute_reply": "2021-02-07T23:44:42.045882Z"
    },
    "papermill": {
     "duration": 0.029872,
     "end_time": "2021-02-07T23:44:42.046637",
     "exception": false,
     "start_time": "2021-02-07T23:44:42.016765",
     "status": "completed"
    },
    "tags": []
   },
   "outputs": [
    {
     "name": "stdout",
     "output_type": "stream",
     "text": [
      "Models to predict:\n",
      "/kaggle/input/107-cassava-leaf-effnetb3-scl-enc-norm-512x512/model_0.h5\n"
     ]
    }
   ],
   "source": [
    "model_path_list = glob.glob('/kaggle/input/107-cassava-leaf-effnetb3-scl-enc-norm-512x512/*.h5')\n",
    "model_path_list.sort()\n",
    "\n",
    "print('Models to predict:')\n",
    "print(*model_path_list, sep='\\n')"
   ]
  },
  {
   "cell_type": "markdown",
   "metadata": {
    "papermill": {
     "duration": 0.01609,
     "end_time": "2021-02-07T23:44:42.078243",
     "exception": false,
     "start_time": "2021-02-07T23:44:42.062153",
     "status": "completed"
    },
    "tags": []
   },
   "source": [
    "# Model"
   ]
  },
  {
   "cell_type": "code",
   "execution_count": 9,
   "metadata": {
    "_kg_hide-output": true,
    "execution": {
     "iopub.execute_input": "2021-02-07T23:44:42.127592Z",
     "iopub.status.busy": "2021-02-07T23:44:42.126917Z",
     "iopub.status.idle": "2021-02-07T23:44:53.918159Z",
     "shell.execute_reply": "2021-02-07T23:44:53.917231Z"
    },
    "papermill": {
     "duration": 11.824524,
     "end_time": "2021-02-07T23:44:53.918297",
     "exception": false,
     "start_time": "2021-02-07T23:44:42.093773",
     "status": "completed"
    },
    "tags": []
   },
   "outputs": [
    {
     "name": "stdout",
     "output_type": "stream",
     "text": [
      "Model: \"model_1\"\n",
      "__________________________________________________________________________________________________\n",
      "Layer (type)                    Output Shape         Param #     Connected to                     \n",
      "==================================================================================================\n",
      "input_image (InputLayer)        [(None, None, None,  0                                            \n",
      "__________________________________________________________________________________________________\n",
      "model (Model)                   (None, 1536)         10783528    input_image[0][0]                \n",
      "__________________________________________________________________________________________________\n",
      "dropout (Dropout)               (None, 1536)         0           model[1][0]                      \n",
      "__________________________________________________________________________________________________\n",
      "dense (Dense)                   (None, 512)          786944      dropout[0][0]                    \n",
      "__________________________________________________________________________________________________\n",
      "dropout_1 (Dropout)             (None, 512)          0           dense[0][0]                      \n",
      "__________________________________________________________________________________________________\n",
      "output (Dense)                  (None, 5)            2565        dropout_1[0][0]                  \n",
      "__________________________________________________________________________________________________\n",
      "output_healthy (Dense)          (None, 1)            513         dropout_1[0][0]                  \n",
      "__________________________________________________________________________________________________\n",
      "output_cmd (Dense)              (None, 1)            513         dropout_1[0][0]                  \n",
      "==================================================================================================\n",
      "Total params: 11,574,063\n",
      "Trainable params: 11,399,471\n",
      "Non-trainable params: 174,592\n",
      "__________________________________________________________________________________________________\n"
     ]
    }
   ],
   "source": [
    "class UnitNormLayer(L.Layer):\n",
    "    \"\"\"\n",
    "    Normalize vectors (euclidean norm) in batch to unit hypersphere.\n",
    "    \"\"\"\n",
    "    def __init__(self, **kwargs):\n",
    "        super(UnitNormLayer, self).__init__(**kwargs)\n",
    "\n",
    "    def call(self, input_tensor):\n",
    "        norm = tf.norm(input_tensor, axis=1)\n",
    "        return input_tensor / tf.reshape(norm, [-1, 1])\n",
    "    \n",
    "def encoder_fn(input_shape):\n",
    "    inputs = L.Input(shape=input_shape, name='input_image')\n",
    "    base_model = efn.EfficientNetB3(input_tensor=inputs, \n",
    "                                    include_top=False, \n",
    "                                    weights=None, \n",
    "                                    pooling='avg')\n",
    "    \n",
    "    norm_embeddings = UnitNormLayer()(base_model.output)\n",
    "    \n",
    "    model = Model(inputs=inputs, outputs=norm_embeddings)\n",
    "    return model\n",
    "\n",
    "def classifier_fn(input_shape, N_CLASSES, encoder, trainable=True):\n",
    "    for layer in encoder.layers:\n",
    "        layer.trainable = trainable\n",
    "        \n",
    "    unfreeze_model(encoder) # unfreeze all layers except \"batch normalization\"\n",
    "    inputs = L.Input(shape=input_shape, name='input_image')\n",
    "    \n",
    "    features = encoder(inputs)\n",
    "    features = L.Dropout(.5)(features)\n",
    "    features = L.Dense(512, activation='relu')(features)\n",
    "    features = L.Dropout(.5)(features)\n",
    "    \n",
    "    output = L.Dense(N_CLASSES, activation='softmax', name='output')(features)\n",
    "    output_healthy = L.Dense(1, activation='sigmoid', name='output_healthy')(features)\n",
    "    output_cmd = L.Dense(1, activation='sigmoid', name='output_cmd')(features)\n",
    "    \n",
    "    model = Model(inputs=inputs, outputs=[output, output_healthy, output_cmd])\n",
    "    return model\n",
    "\n",
    "with strategy.scope():\n",
    "    encoder = encoder_fn((None, None, CHANNELS))\n",
    "    model = classifier_fn((None, None, CHANNELS), N_CLASSES, encoder, trainable=True)\n",
    "    \n",
    "model.summary()"
   ]
  },
  {
   "cell_type": "markdown",
   "metadata": {
    "papermill": {
     "duration": 0.015368,
     "end_time": "2021-02-07T23:44:53.949659",
     "exception": false,
     "start_time": "2021-02-07T23:44:53.934291",
     "status": "completed"
    },
    "tags": []
   },
   "source": [
    "# Test set predictions"
   ]
  },
  {
   "cell_type": "code",
   "execution_count": 10,
   "metadata": {
    "_kg_hide-input": false,
    "execution": {
     "iopub.execute_input": "2021-02-07T23:44:53.992754Z",
     "iopub.status.busy": "2021-02-07T23:44:53.992125Z",
     "iopub.status.idle": "2021-02-07T23:45:01.022503Z",
     "shell.execute_reply": "2021-02-07T23:45:01.021974Z"
    },
    "papermill": {
     "duration": 7.057335,
     "end_time": "2021-02-07T23:45:01.022677",
     "exception": false,
     "start_time": "2021-02-07T23:44:53.965342",
     "status": "completed"
    },
    "tags": []
   },
   "outputs": [
    {
     "name": "stdout",
     "output_type": "stream",
     "text": [
      "/kaggle/input/107-cassava-leaf-effnetb3-scl-enc-norm-512x512/model_0.h5\n"
     ]
    }
   ],
   "source": [
    "files_path = f'{database_base_path}test_images/'\n",
    "test_size = len(os.listdir(files_path))\n",
    "test_preds = np.zeros((test_size, N_CLASSES))\n",
    "\n",
    "\n",
    "for model_path in model_path_list:\n",
    "    print(model_path)\n",
    "    K.clear_session()\n",
    "    model.load_weights(model_path)\n",
    "\n",
    "    if TTA_STEPS > 0:\n",
    "        test_ds = get_dataset(files_path, tta=True).repeat()\n",
    "        ct_steps = TTA_STEPS * ((test_size/BATCH_SIZE) + 1)\n",
    "        preds = model.predict(test_ds, steps=ct_steps, verbose=1)[0][:(test_size * TTA_STEPS)]\n",
    "        preds = np.mean(preds.reshape(test_size, TTA_STEPS, N_CLASSES, order='F'), axis=1)\n",
    "        test_preds += preds / len(model_path_list)\n",
    "    else:\n",
    "        test_ds = get_dataset(files_path, tta=False)\n",
    "        x_test = test_ds.map(lambda image, image_name: image)\n",
    "        test_preds += model.predict(x_test)[0] / len(model_path_list)\n",
    "    \n",
    "test_preds = np.argmax(test_preds, axis=-1)\n",
    "test_names_ds = get_dataset(files_path)\n",
    "image_names = [img_name.numpy().decode('utf-8') for img, img_name in iter(test_names_ds.unbatch())]"
   ]
  },
  {
   "cell_type": "code",
   "execution_count": 11,
   "metadata": {
    "_kg_hide-input": true,
    "execution": {
     "iopub.execute_input": "2021-02-07T23:45:01.060763Z",
     "iopub.status.busy": "2021-02-07T23:45:01.060117Z",
     "iopub.status.idle": "2021-02-07T23:45:01.122584Z",
     "shell.execute_reply": "2021-02-07T23:45:01.122088Z"
    },
    "papermill": {
     "duration": 0.084308,
     "end_time": "2021-02-07T23:45:01.122688",
     "exception": false,
     "start_time": "2021-02-07T23:45:01.038380",
     "status": "completed"
    },
    "tags": []
   },
   "outputs": [
    {
     "data": {
      "text/html": [
       "<div>\n",
       "<style scoped>\n",
       "    .dataframe tbody tr th:only-of-type {\n",
       "        vertical-align: middle;\n",
       "    }\n",
       "\n",
       "    .dataframe tbody tr th {\n",
       "        vertical-align: top;\n",
       "    }\n",
       "\n",
       "    .dataframe thead th {\n",
       "        text-align: right;\n",
       "    }\n",
       "</style>\n",
       "<table border=\"1\" class=\"dataframe\">\n",
       "  <thead>\n",
       "    <tr style=\"text-align: right;\">\n",
       "      <th></th>\n",
       "      <th>image_id</th>\n",
       "      <th>label</th>\n",
       "    </tr>\n",
       "  </thead>\n",
       "  <tbody>\n",
       "    <tr>\n",
       "      <th>0</th>\n",
       "      <td>2216849948.jpg</td>\n",
       "      <td>4</td>\n",
       "    </tr>\n",
       "  </tbody>\n",
       "</table>\n",
       "</div>"
      ],
      "text/plain": [
       "         image_id  label\n",
       "0  2216849948.jpg      4"
      ]
     },
     "metadata": {},
     "output_type": "display_data"
    }
   ],
   "source": [
    "submission = pd.DataFrame({'image_id': image_names, 'label': test_preds})\n",
    "submission.to_csv('submission.csv', index=False)\n",
    "display(submission.head())"
   ]
  }
 ],
 "metadata": {
  "kernelspec": {
   "display_name": "Python 3",
   "language": "python",
   "name": "python3"
  },
  "language_info": {
   "codemirror_mode": {
    "name": "ipython",
    "version": 3
   },
   "file_extension": ".py",
   "mimetype": "text/x-python",
   "name": "python",
   "nbconvert_exporter": "python",
   "pygments_lexer": "ipython3",
   "version": "3.7.6"
  },
  "papermill": {
   "duration": 91.891493,
   "end_time": "2021-02-07T23:45:02.868389",
   "environment_variables": {},
   "exception": null,
   "input_path": "__notebook__.ipynb",
   "output_path": "__notebook__.ipynb",
   "parameters": {},
   "start_time": "2021-02-07T23:43:30.976896",
   "version": "2.1.0"
  }
 },
 "nbformat": 4,
 "nbformat_minor": 4
}
