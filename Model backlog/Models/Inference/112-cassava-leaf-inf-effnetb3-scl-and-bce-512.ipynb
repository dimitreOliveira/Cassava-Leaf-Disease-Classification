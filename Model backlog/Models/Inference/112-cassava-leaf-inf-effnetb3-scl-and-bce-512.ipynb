{
 "cells": [
  {
   "cell_type": "markdown",
   "metadata": {
    "papermill": {
     "duration": 0.01154,
     "end_time": "2021-02-09T19:59:25.443314",
     "exception": false,
     "start_time": "2021-02-09T19:59:25.431774",
     "status": "completed"
    },
    "tags": []
   },
   "source": [
    "## Dependencies"
   ]
  },
  {
   "cell_type": "code",
   "execution_count": 1,
   "metadata": {
    "_kg_hide-input": true,
    "execution": {
     "iopub.execute_input": "2021-02-09T19:59:25.470495Z",
     "iopub.status.busy": "2021-02-09T19:59:25.469776Z",
     "iopub.status.idle": "2021-02-09T20:00:21.680173Z",
     "shell.execute_reply": "2021-02-09T20:00:21.679217Z"
    },
    "papermill": {
     "duration": 56.226363,
     "end_time": "2021-02-09T20:00:21.680311",
     "exception": false,
     "start_time": "2021-02-09T19:59:25.453948",
     "status": "completed"
    },
    "tags": []
   },
   "outputs": [],
   "source": [
    "!pip install --quiet /kaggle/input/kerasapplications\n",
    "!pip install --quiet /kaggle/input/efficientnet-git"
   ]
  },
  {
   "cell_type": "code",
   "execution_count": 2,
   "metadata": {
    "_cell_guid": "b1076dfc-b9ad-4769-8c92-a6c4dae69d19",
    "_kg_hide-input": true,
    "_kg_hide-output": true,
    "_uuid": "8f2839f25d086af736a60e9eeb907d3b93b6e0e5",
    "execution": {
     "iopub.execute_input": "2021-02-09T20:00:21.707585Z",
     "iopub.status.busy": "2021-02-09T20:00:21.706748Z",
     "iopub.status.idle": "2021-02-09T20:00:27.944722Z",
     "shell.execute_reply": "2021-02-09T20:00:27.943669Z"
    },
    "papermill": {
     "duration": 6.253574,
     "end_time": "2021-02-09T20:00:27.944839",
     "exception": false,
     "start_time": "2021-02-09T20:00:21.691265",
     "status": "completed"
    },
    "tags": []
   },
   "outputs": [],
   "source": [
    "import warnings, glob\n",
    "from tensorflow.keras import Sequential, Model\n",
    "import efficientnet.tfkeras as efn\n",
    "from cassava_scripts import *\n",
    "\n",
    "\n",
    "seed = 0\n",
    "seed_everything(seed)\n",
    "warnings.filterwarnings('ignore')"
   ]
  },
  {
   "cell_type": "markdown",
   "metadata": {
    "papermill": {
     "duration": 0.010413,
     "end_time": "2021-02-09T20:00:27.966138",
     "exception": false,
     "start_time": "2021-02-09T20:00:27.955725",
     "status": "completed"
    },
    "tags": []
   },
   "source": [
    "### Hardware configuration"
   ]
  },
  {
   "cell_type": "code",
   "execution_count": 3,
   "metadata": {
    "_kg_hide-input": true,
    "execution": {
     "iopub.execute_input": "2021-02-09T20:00:27.991629Z",
     "iopub.status.busy": "2021-02-09T20:00:27.991024Z",
     "iopub.status.idle": "2021-02-09T20:00:28.000601Z",
     "shell.execute_reply": "2021-02-09T20:00:28.001232Z"
    },
    "papermill": {
     "duration": 0.024767,
     "end_time": "2021-02-09T20:00:28.001376",
     "exception": false,
     "start_time": "2021-02-09T20:00:27.976609",
     "status": "completed"
    },
    "tags": []
   },
   "outputs": [
    {
     "name": "stdout",
     "output_type": "stream",
     "text": [
      "REPLICAS: 1\n"
     ]
    }
   ],
   "source": [
    "# TPU or GPU detection\n",
    "# Detect hardware, return appropriate distribution strategy\n",
    "strategy, tpu = set_up_strategy()\n",
    "\n",
    "AUTO = tf.data.experimental.AUTOTUNE\n",
    "REPLICAS = strategy.num_replicas_in_sync\n",
    "print(f'REPLICAS: {REPLICAS}')"
   ]
  },
  {
   "cell_type": "markdown",
   "metadata": {
    "papermill": {
     "duration": 0.010576,
     "end_time": "2021-02-09T20:00:28.025218",
     "exception": false,
     "start_time": "2021-02-09T20:00:28.014642",
     "status": "completed"
    },
    "tags": []
   },
   "source": [
    "# Model parameters"
   ]
  },
  {
   "cell_type": "code",
   "execution_count": 4,
   "metadata": {
    "execution": {
     "iopub.execute_input": "2021-02-09T20:00:28.052831Z",
     "iopub.status.busy": "2021-02-09T20:00:28.051087Z",
     "iopub.status.idle": "2021-02-09T20:00:28.053474Z",
     "shell.execute_reply": "2021-02-09T20:00:28.053877Z"
    },
    "papermill": {
     "duration": 0.017865,
     "end_time": "2021-02-09T20:00:28.054034",
     "exception": false,
     "start_time": "2021-02-09T20:00:28.036169",
     "status": "completed"
    },
    "tags": []
   },
   "outputs": [],
   "source": [
    "BATCH_SIZE = 8 * REPLICAS\n",
    "HEIGHT = 512\n",
    "WIDTH = 512\n",
    "CHANNELS = 3\n",
    "N_CLASSES = 5\n",
    "TTA_STEPS = 0 # Do TTA if > 0 "
   ]
  },
  {
   "cell_type": "markdown",
   "metadata": {
    "papermill": {
     "duration": 0.010728,
     "end_time": "2021-02-09T20:00:28.075645",
     "exception": false,
     "start_time": "2021-02-09T20:00:28.064917",
     "status": "completed"
    },
    "tags": []
   },
   "source": [
    "# Augmentation"
   ]
  },
  {
   "cell_type": "code",
   "execution_count": 5,
   "metadata": {
    "_kg_hide-input": false,
    "execution": {
     "iopub.execute_input": "2021-02-09T20:00:28.110690Z",
     "iopub.status.busy": "2021-02-09T20:00:28.104865Z",
     "iopub.status.idle": "2021-02-09T20:00:28.112913Z",
     "shell.execute_reply": "2021-02-09T20:00:28.113322Z"
    },
    "papermill": {
     "duration": 0.026925,
     "end_time": "2021-02-09T20:00:28.113428",
     "exception": false,
     "start_time": "2021-02-09T20:00:28.086503",
     "status": "completed"
    },
    "tags": []
   },
   "outputs": [],
   "source": [
    "def data_augment(image, label):\n",
    "    p_spatial = tf.random.uniform([], 0, 1.0, dtype=tf.float32)\n",
    "    p_rotate = tf.random.uniform([], 0, 1.0, dtype=tf.float32)\n",
    "#     p_pixel_1 = tf.random.uniform([], 0, 1.0, dtype=tf.float32)\n",
    "#     p_pixel_2 = tf.random.uniform([], 0, 1.0, dtype=tf.float32)\n",
    "#     p_pixel_3 = tf.random.uniform([], 0, 1.0, dtype=tf.float32)\n",
    "    p_crop = tf.random.uniform([], 0, 1.0, dtype=tf.float32)\n",
    "            \n",
    "    # Flips\n",
    "    image = tf.image.random_flip_left_right(image)\n",
    "    image = tf.image.random_flip_up_down(image)\n",
    "    if p_spatial > .75:\n",
    "        image = tf.image.transpose(image)\n",
    "        \n",
    "    # Rotates\n",
    "    if p_rotate > .75:\n",
    "        image = tf.image.rot90(image, k=3) # rotate 270º\n",
    "    elif p_rotate > .5:\n",
    "        image = tf.image.rot90(image, k=2) # rotate 180º\n",
    "    elif p_rotate > .25:\n",
    "        image = tf.image.rot90(image, k=1) # rotate 90º\n",
    "        \n",
    "#     # Pixel-level transforms\n",
    "#     if p_pixel_1 >= .4:\n",
    "#         image = tf.image.random_saturation(image, lower=.7, upper=1.3)\n",
    "#     if p_pixel_2 >= .4:\n",
    "#         image = tf.image.random_contrast(image, lower=.8, upper=1.2)\n",
    "#     if p_pixel_3 >= .4:\n",
    "#         image = tf.image.random_brightness(image, max_delta=.1)\n",
    "        \n",
    "    # Crops\n",
    "    if p_crop > .7:\n",
    "        if p_crop > .9:\n",
    "            image = tf.image.central_crop(image, central_fraction=.7)\n",
    "        elif p_crop > .8:\n",
    "            image = tf.image.central_crop(image, central_fraction=.8)\n",
    "        else:\n",
    "            image = tf.image.central_crop(image, central_fraction=.9)\n",
    "    elif p_crop > .4:\n",
    "        crop_size = tf.random.uniform([], int(HEIGHT*.8), HEIGHT, dtype=tf.int32)\n",
    "        image = tf.image.random_crop(image, size=[crop_size, crop_size, CHANNELS])\n",
    "        \n",
    "#     # Crops\n",
    "#     if p_crop > .6:\n",
    "#         if p_crop > .9:\n",
    "#             image = tf.image.central_crop(image, central_fraction=.5)\n",
    "#         elif p_crop > .8:\n",
    "#             image = tf.image.central_crop(image, central_fraction=.6)\n",
    "#         elif p_crop > .7:\n",
    "#             image = tf.image.central_crop(image, central_fraction=.7)\n",
    "#         else:\n",
    "#             image = tf.image.central_crop(image, central_fraction=.8)\n",
    "#     elif p_crop > .3:\n",
    "#         crop_size = tf.random.uniform([], int(HEIGHT*.6), HEIGHT, dtype=tf.int32)\n",
    "#         image = tf.image.random_crop(image, size=[crop_size, crop_size, CHANNELS])\n",
    "            \n",
    "\n",
    "    return image, label"
   ]
  },
  {
   "cell_type": "markdown",
   "metadata": {
    "papermill": {
     "duration": 0.010925,
     "end_time": "2021-02-09T20:00:28.135235",
     "exception": false,
     "start_time": "2021-02-09T20:00:28.124310",
     "status": "completed"
    },
    "tags": []
   },
   "source": [
    "## Auxiliary functions"
   ]
  },
  {
   "cell_type": "code",
   "execution_count": 6,
   "metadata": {
    "_cell_guid": "79c7e3d0-c299-4dcb-8224-4455121ee9b0",
    "_kg_hide-input": true,
    "_uuid": "d629ff2d2480ee46fbb7e2d37f6b5fab8052498a",
    "execution": {
     "iopub.execute_input": "2021-02-09T20:00:28.165394Z",
     "iopub.status.busy": "2021-02-09T20:00:28.164559Z",
     "iopub.status.idle": "2021-02-09T20:00:28.168872Z",
     "shell.execute_reply": "2021-02-09T20:00:28.168464Z"
    },
    "papermill": {
     "duration": 0.022776,
     "end_time": "2021-02-09T20:00:28.168974",
     "exception": false,
     "start_time": "2021-02-09T20:00:28.146198",
     "status": "completed"
    },
    "tags": []
   },
   "outputs": [],
   "source": [
    "# Datasets utility functions\n",
    "def resize_image(image, label):\n",
    "    image = tf.image.resize(image, [HEIGHT, WIDTH])\n",
    "    image = tf.reshape(image, [HEIGHT, WIDTH, CHANNELS])\n",
    "    return image, label\n",
    "\n",
    "def process_path(file_path):\n",
    "    name = get_name(file_path)\n",
    "    img = tf.io.read_file(file_path)\n",
    "    img = decode_image(img)\n",
    "    img, _ = scale_image(img, None)\n",
    "#     img = center_crop(img, HEIGHT, WIDTH)\n",
    "    return img, name\n",
    "\n",
    "def get_dataset(files_path, shuffled=False, tta=False, extension='jpg'):\n",
    "    dataset = tf.data.Dataset.list_files(f'{files_path}*{extension}', shuffle=shuffled)\n",
    "    dataset = dataset.map(process_path, num_parallel_calls=AUTO)\n",
    "    if tta:\n",
    "        dataset = dataset.map(data_augment, num_parallel_calls=AUTO)\n",
    "    dataset = dataset.map(resize_image, num_parallel_calls=AUTO)\n",
    "    dataset = dataset.batch(BATCH_SIZE)\n",
    "    dataset = dataset.prefetch(AUTO)\n",
    "    return dataset"
   ]
  },
  {
   "cell_type": "markdown",
   "metadata": {
    "papermill": {
     "duration": 0.010841,
     "end_time": "2021-02-09T20:00:28.190672",
     "exception": false,
     "start_time": "2021-02-09T20:00:28.179831",
     "status": "completed"
    },
    "tags": []
   },
   "source": [
    "# Load data"
   ]
  },
  {
   "cell_type": "code",
   "execution_count": 7,
   "metadata": {
    "_kg_hide-input": true,
    "execution": {
     "iopub.execute_input": "2021-02-09T20:00:28.218533Z",
     "iopub.status.busy": "2021-02-09T20:00:28.218012Z",
     "iopub.status.idle": "2021-02-09T20:00:28.249405Z",
     "shell.execute_reply": "2021-02-09T20:00:28.248659Z"
    },
    "papermill": {
     "duration": 0.047836,
     "end_time": "2021-02-09T20:00:28.249494",
     "exception": false,
     "start_time": "2021-02-09T20:00:28.201658",
     "status": "completed"
    },
    "tags": []
   },
   "outputs": [
    {
     "data": {
      "text/html": [
       "<div>\n",
       "<style scoped>\n",
       "    .dataframe tbody tr th:only-of-type {\n",
       "        vertical-align: middle;\n",
       "    }\n",
       "\n",
       "    .dataframe tbody tr th {\n",
       "        vertical-align: top;\n",
       "    }\n",
       "\n",
       "    .dataframe thead th {\n",
       "        text-align: right;\n",
       "    }\n",
       "</style>\n",
       "<table border=\"1\" class=\"dataframe\">\n",
       "  <thead>\n",
       "    <tr style=\"text-align: right;\">\n",
       "      <th></th>\n",
       "      <th>image_id</th>\n",
       "      <th>label</th>\n",
       "    </tr>\n",
       "  </thead>\n",
       "  <tbody>\n",
       "    <tr>\n",
       "      <th>0</th>\n",
       "      <td>2216849948.jpg</td>\n",
       "      <td>4</td>\n",
       "    </tr>\n",
       "  </tbody>\n",
       "</table>\n",
       "</div>"
      ],
      "text/plain": [
       "         image_id  label\n",
       "0  2216849948.jpg      4"
      ]
     },
     "metadata": {},
     "output_type": "display_data"
    },
    {
     "name": "stdout",
     "output_type": "stream",
     "text": [
      "GCS: test: 1\n"
     ]
    }
   ],
   "source": [
    "database_base_path = '/kaggle/input/cassava-leaf-disease-classification/'\n",
    "submission = pd.read_csv(f'{database_base_path}sample_submission.csv')\n",
    "display(submission.head())\n",
    "\n",
    "TEST_FILENAMES = tf.io.gfile.glob(f'{database_base_path}test_tfrecords/ld_test*.tfrec')\n",
    "NUM_TEST_IMAGES = count_data_items(TEST_FILENAMES)\n",
    "print(f'GCS: test: {NUM_TEST_IMAGES}')"
   ]
  },
  {
   "cell_type": "code",
   "execution_count": 8,
   "metadata": {
    "_kg_hide-input": true,
    "execution": {
     "iopub.execute_input": "2021-02-09T20:00:28.277080Z",
     "iopub.status.busy": "2021-02-09T20:00:28.276520Z",
     "iopub.status.idle": "2021-02-09T20:00:28.297397Z",
     "shell.execute_reply": "2021-02-09T20:00:28.296916Z"
    },
    "papermill": {
     "duration": 0.036196,
     "end_time": "2021-02-09T20:00:28.297481",
     "exception": false,
     "start_time": "2021-02-09T20:00:28.261285",
     "status": "completed"
    },
    "tags": []
   },
   "outputs": [
    {
     "name": "stdout",
     "output_type": "stream",
     "text": [
      "Models to predict:\n",
      "/kaggle/input/112-cassava-leaf-effnetb3-scl-and-bce-512/model_0.h5\n"
     ]
    }
   ],
   "source": [
    "model_path_list = glob.glob('/kaggle/input/112-cassava-leaf-effnetb3-scl-and-bce-512/*.h5')\n",
    "model_path_list.sort()\n",
    "\n",
    "print('Models to predict:')\n",
    "print(*model_path_list, sep='\\n')"
   ]
  },
  {
   "cell_type": "markdown",
   "metadata": {
    "papermill": {
     "duration": 0.01206,
     "end_time": "2021-02-09T20:00:28.321634",
     "exception": false,
     "start_time": "2021-02-09T20:00:28.309574",
     "status": "completed"
    },
    "tags": []
   },
   "source": [
    "# Model"
   ]
  },
  {
   "cell_type": "code",
   "execution_count": 9,
   "metadata": {
    "_kg_hide-output": true,
    "execution": {
     "iopub.execute_input": "2021-02-09T20:00:28.363324Z",
     "iopub.status.busy": "2021-02-09T20:00:28.358895Z",
     "iopub.status.idle": "2021-02-09T20:00:38.811574Z",
     "shell.execute_reply": "2021-02-09T20:00:38.812235Z"
    },
    "papermill": {
     "duration": 10.478652,
     "end_time": "2021-02-09T20:00:38.812403",
     "exception": false,
     "start_time": "2021-02-09T20:00:28.333751",
     "status": "completed"
    },
    "tags": []
   },
   "outputs": [
    {
     "name": "stdout",
     "output_type": "stream",
     "text": [
      "Model: \"model_1\"\n",
      "__________________________________________________________________________________________________\n",
      "Layer (type)                    Output Shape         Param #     Connected to                     \n",
      "==================================================================================================\n",
      "input_image (InputLayer)        [(None, None, None,  0                                            \n",
      "__________________________________________________________________________________________________\n",
      "model (Model)                   (None, 1536)         10783528    input_image[0][0]                \n",
      "__________________________________________________________________________________________________\n",
      "dropout (Dropout)               (None, 1536)         0           model[1][0]                      \n",
      "__________________________________________________________________________________________________\n",
      "dense (Dense)                   (None, 512)          786944      dropout[0][0]                    \n",
      "__________________________________________________________________________________________________\n",
      "dropout_1 (Dropout)             (None, 512)          0           dense[0][0]                      \n",
      "__________________________________________________________________________________________________\n",
      "projection_head (Dense)         (None, 128)          196736      model[1][0]                      \n",
      "__________________________________________________________________________________________________\n",
      "projection_head_aux1 (Dense)    (None, 128)          196736      model[1][0]                      \n",
      "__________________________________________________________________________________________________\n",
      "projection_head_aux2 (Dense)    (None, 128)          196736      model[1][0]                      \n",
      "__________________________________________________________________________________________________\n",
      "output (Dense)                  (None, 5)            2565        dropout_1[0][0]                  \n",
      "__________________________________________________________________________________________________\n",
      "output_healthy (Dense)          (None, 1)            513         dropout_1[0][0]                  \n",
      "__________________________________________________________________________________________________\n",
      "output_cmd (Dense)              (None, 1)            513         dropout_1[0][0]                  \n",
      "__________________________________________________________________________________________________\n",
      "output_scl (UnitNormLayer)      (None, 128)          0           projection_head[0][0]            \n",
      "__________________________________________________________________________________________________\n",
      "output_healthy_scl (UnitNormLay (None, 128)          0           projection_head_aux1[0][0]       \n",
      "__________________________________________________________________________________________________\n",
      "output_cmd_scl (UnitNormLayer)  (None, 128)          0           projection_head_aux2[0][0]       \n",
      "==================================================================================================\n",
      "Total params: 12,164,271\n",
      "Trainable params: 11,989,679\n",
      "Non-trainable params: 174,592\n",
      "__________________________________________________________________________________________________\n"
     ]
    }
   ],
   "source": [
    "class UnitNormLayer(L.Layer):\n",
    "    \"\"\"\n",
    "    Normalize vectors (euclidean norm) in batch to unit hypersphere.\n",
    "    \"\"\"\n",
    "    def __init__(self, **kwargs):\n",
    "        super(UnitNormLayer, self).__init__(**kwargs)\n",
    "\n",
    "    def call(self, input_tensor):\n",
    "        norm = tf.norm(input_tensor, axis=1)\n",
    "        return input_tensor / tf.reshape(norm, [-1, 1])\n",
    "    \n",
    "def encoder_fn(input_shape):\n",
    "    inputs = L.Input(shape=input_shape, name='input_image')\n",
    "    base_model = efn.EfficientNetB3(input_tensor=inputs, \n",
    "                                    include_top=False, \n",
    "                                    weights=None, \n",
    "                                    pooling='avg')\n",
    "    \n",
    "    norm_embeddings = UnitNormLayer()(base_model.output)\n",
    "    \n",
    "    model = Model(inputs=inputs, outputs=norm_embeddings)\n",
    "    return model\n",
    "\n",
    "def model_fn(input_shape, N_CLASSES, encoder):\n",
    "    inputs = L.Input(shape=input_shape, name='input_image')\n",
    "    \n",
    "    # Encoder\n",
    "    unfreeze_model(encoder) # unfreeze all layers except \"batch normalization\"\n",
    "    features = encoder(inputs)\n",
    "    \n",
    "    # Projection head\n",
    "    outputs = L.Dense(128, activation='relu', name='projection_head')(features)\n",
    "    output_scl = UnitNormLayer(name='output_scl')(outputs)\n",
    "\n",
    "    output_healthy = L.Dense(128, activation='relu', name='projection_head_aux1')(features)\n",
    "    output_healthy_scl = UnitNormLayer(name='output_healthy_scl')(output_healthy)\n",
    "\n",
    "    output_cmd = L.Dense(128, activation='relu', name='projection_head_aux2')(features)\n",
    "    output_cmd_scl = UnitNormLayer(name='output_cmd_scl')(output_cmd)\n",
    "    \n",
    "    # Classification head\n",
    "    features = L.Dropout(.5)(features)\n",
    "    features = L.Dense(512, activation='relu')(features)\n",
    "    features = L.Dropout(.5)(features)\n",
    "    \n",
    "    output = L.Dense(N_CLASSES, activation='softmax', name='output')(features)\n",
    "    output_healthy = L.Dense(1, activation='sigmoid', name='output_healthy')(features)\n",
    "    output_cmd = L.Dense(1, activation='sigmoid', name='output_cmd')(features)\n",
    "    \n",
    "    model = Model(inputs=inputs, outputs=[output, output_healthy, output_cmd, \n",
    "                                          output_scl, output_healthy_scl, output_cmd_scl])\n",
    "    return model\n",
    "\n",
    "with strategy.scope():\n",
    "    encoder = encoder_fn((None, None, CHANNELS))\n",
    "    model = model_fn((None, None, CHANNELS), N_CLASSES, encoder)\n",
    "    \n",
    "model.summary()"
   ]
  },
  {
   "cell_type": "markdown",
   "metadata": {
    "papermill": {
     "duration": 0.01239,
     "end_time": "2021-02-09T20:00:38.850445",
     "exception": false,
     "start_time": "2021-02-09T20:00:38.838055",
     "status": "completed"
    },
    "tags": []
   },
   "source": [
    "# Test set predictions"
   ]
  },
  {
   "cell_type": "code",
   "execution_count": 10,
   "metadata": {
    "_kg_hide-input": false,
    "execution": {
     "iopub.execute_input": "2021-02-09T20:00:38.886429Z",
     "iopub.status.busy": "2021-02-09T20:00:38.885880Z",
     "iopub.status.idle": "2021-02-09T20:00:45.957554Z",
     "shell.execute_reply": "2021-02-09T20:00:45.956506Z"
    },
    "papermill": {
     "duration": 7.094763,
     "end_time": "2021-02-09T20:00:45.957672",
     "exception": false,
     "start_time": "2021-02-09T20:00:38.862909",
     "status": "completed"
    },
    "tags": []
   },
   "outputs": [
    {
     "name": "stdout",
     "output_type": "stream",
     "text": [
      "/kaggle/input/112-cassava-leaf-effnetb3-scl-and-bce-512/model_0.h5\n"
     ]
    }
   ],
   "source": [
    "files_path = f'{database_base_path}test_images/'\n",
    "test_size = len(os.listdir(files_path))\n",
    "test_preds = np.zeros((test_size, N_CLASSES))\n",
    "\n",
    "\n",
    "for model_path in model_path_list:\n",
    "    print(model_path)\n",
    "    K.clear_session()\n",
    "    model.load_weights(model_path)\n",
    "\n",
    "    if TTA_STEPS > 0:\n",
    "        test_ds = get_dataset(files_path, tta=True).repeat()\n",
    "        ct_steps = TTA_STEPS * ((test_size/BATCH_SIZE) + 1)\n",
    "        preds = model.predict(test_ds, steps=ct_steps, verbose=1)[0][:(test_size * TTA_STEPS)]\n",
    "        preds = np.mean(preds.reshape(test_size, TTA_STEPS, N_CLASSES, order='F'), axis=1)\n",
    "        test_preds += preds / len(model_path_list)\n",
    "    else:\n",
    "        test_ds = get_dataset(files_path, tta=False)\n",
    "        x_test = test_ds.map(lambda image, image_name: image)\n",
    "        test_preds += model.predict(x_test)[0] / len(model_path_list)\n",
    "    \n",
    "test_preds = np.argmax(test_preds, axis=-1)\n",
    "test_names_ds = get_dataset(files_path)\n",
    "image_names = [img_name.numpy().decode('utf-8') for img, img_name in iter(test_names_ds.unbatch())]"
   ]
  },
  {
   "cell_type": "code",
   "execution_count": 11,
   "metadata": {
    "_kg_hide-input": true,
    "execution": {
     "iopub.execute_input": "2021-02-09T20:00:45.990225Z",
     "iopub.status.busy": "2021-02-09T20:00:45.989545Z",
     "iopub.status.idle": "2021-02-09T20:00:46.045375Z",
     "shell.execute_reply": "2021-02-09T20:00:46.046107Z"
    },
    "papermill": {
     "duration": 0.075414,
     "end_time": "2021-02-09T20:00:46.046241",
     "exception": false,
     "start_time": "2021-02-09T20:00:45.970827",
     "status": "completed"
    },
    "tags": []
   },
   "outputs": [
    {
     "data": {
      "text/html": [
       "<div>\n",
       "<style scoped>\n",
       "    .dataframe tbody tr th:only-of-type {\n",
       "        vertical-align: middle;\n",
       "    }\n",
       "\n",
       "    .dataframe tbody tr th {\n",
       "        vertical-align: top;\n",
       "    }\n",
       "\n",
       "    .dataframe thead th {\n",
       "        text-align: right;\n",
       "    }\n",
       "</style>\n",
       "<table border=\"1\" class=\"dataframe\">\n",
       "  <thead>\n",
       "    <tr style=\"text-align: right;\">\n",
       "      <th></th>\n",
       "      <th>image_id</th>\n",
       "      <th>label</th>\n",
       "    </tr>\n",
       "  </thead>\n",
       "  <tbody>\n",
       "    <tr>\n",
       "      <th>0</th>\n",
       "      <td>2216849948.jpg</td>\n",
       "      <td>4</td>\n",
       "    </tr>\n",
       "  </tbody>\n",
       "</table>\n",
       "</div>"
      ],
      "text/plain": [
       "         image_id  label\n",
       "0  2216849948.jpg      4"
      ]
     },
     "metadata": {},
     "output_type": "display_data"
    }
   ],
   "source": [
    "submission = pd.DataFrame({'image_id': image_names, 'label': test_preds})\n",
    "submission.to_csv('submission.csv', index=False)\n",
    "display(submission.head())"
   ]
  }
 ],
 "metadata": {
  "kernelspec": {
   "display_name": "Python 3",
   "language": "python",
   "name": "python3"
  },
  "language_info": {
   "codemirror_mode": {
    "name": "ipython",
    "version": 3
   },
   "file_extension": ".py",
   "mimetype": "text/x-python",
   "name": "python",
   "nbconvert_exporter": "python",
   "pygments_lexer": "ipython3",
   "version": "3.7.6"
  },
  "papermill": {
   "duration": 85.872584,
   "end_time": "2021-02-09T20:00:47.351174",
   "environment_variables": {},
   "exception": null,
   "input_path": "__notebook__.ipynb",
   "output_path": "__notebook__.ipynb",
   "parameters": {},
   "start_time": "2021-02-09T19:59:21.478590",
   "version": "2.1.0"
  }
 },
 "nbformat": 4,
 "nbformat_minor": 4
}
