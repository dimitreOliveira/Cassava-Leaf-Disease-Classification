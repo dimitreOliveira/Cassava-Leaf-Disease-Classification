{
 "cells": [
  {
   "cell_type": "markdown",
   "metadata": {
    "papermill": {
     "duration": 0.01328,
     "end_time": "2021-01-31T02:07:14.826447",
     "exception": false,
     "start_time": "2021-01-31T02:07:14.813167",
     "status": "completed"
    },
    "tags": []
   },
   "source": [
    "## Dependencies"
   ]
  },
  {
   "cell_type": "code",
   "execution_count": 1,
   "metadata": {
    "_kg_hide-input": true,
    "execution": {
     "iopub.execute_input": "2021-01-31T02:07:14.855423Z",
     "iopub.status.busy": "2021-01-31T02:07:14.854627Z",
     "iopub.status.idle": "2021-01-31T02:08:10.881300Z",
     "shell.execute_reply": "2021-01-31T02:08:10.880754Z"
    },
    "papermill": {
     "duration": 56.043812,
     "end_time": "2021-01-31T02:08:10.881458",
     "exception": false,
     "start_time": "2021-01-31T02:07:14.837646",
     "status": "completed"
    },
    "tags": []
   },
   "outputs": [],
   "source": [
    "!pip install --quiet /kaggle/input/kerasapplications\n",
    "!pip install --quiet /kaggle/input/efficientnet-git"
   ]
  },
  {
   "cell_type": "code",
   "execution_count": 2,
   "metadata": {
    "_cell_guid": "b1076dfc-b9ad-4769-8c92-a6c4dae69d19",
    "_kg_hide-input": true,
    "_kg_hide-output": true,
    "_uuid": "8f2839f25d086af736a60e9eeb907d3b93b6e0e5",
    "execution": {
     "iopub.execute_input": "2021-01-31T02:08:10.909853Z",
     "iopub.status.busy": "2021-01-31T02:08:10.908683Z",
     "iopub.status.idle": "2021-01-31T02:08:17.031981Z",
     "shell.execute_reply": "2021-01-31T02:08:17.030989Z"
    },
    "papermill": {
     "duration": 6.139225,
     "end_time": "2021-01-31T02:08:17.032097",
     "exception": false,
     "start_time": "2021-01-31T02:08:10.892872",
     "status": "completed"
    },
    "tags": []
   },
   "outputs": [],
   "source": [
    "import warnings, glob\n",
    "from tensorflow.keras import Sequential, Model\n",
    "import efficientnet.tfkeras as efn\n",
    "from cassava_scripts import *\n",
    "\n",
    "\n",
    "seed = 0\n",
    "seed_everything(seed)\n",
    "warnings.filterwarnings('ignore')"
   ]
  },
  {
   "cell_type": "markdown",
   "metadata": {
    "papermill": {
     "duration": 0.010281,
     "end_time": "2021-01-31T02:08:17.053206",
     "exception": false,
     "start_time": "2021-01-31T02:08:17.042925",
     "status": "completed"
    },
    "tags": []
   },
   "source": [
    "### Hardware configuration"
   ]
  },
  {
   "cell_type": "code",
   "execution_count": 3,
   "metadata": {
    "_kg_hide-input": true,
    "execution": {
     "iopub.execute_input": "2021-01-31T02:08:17.078653Z",
     "iopub.status.busy": "2021-01-31T02:08:17.078039Z",
     "iopub.status.idle": "2021-01-31T02:08:17.088183Z",
     "shell.execute_reply": "2021-01-31T02:08:17.087184Z"
    },
    "papermill": {
     "duration": 0.024619,
     "end_time": "2021-01-31T02:08:17.088303",
     "exception": false,
     "start_time": "2021-01-31T02:08:17.063684",
     "status": "completed"
    },
    "tags": []
   },
   "outputs": [
    {
     "name": "stdout",
     "output_type": "stream",
     "text": [
      "REPLICAS: 1\n"
     ]
    }
   ],
   "source": [
    "# TPU or GPU detection\n",
    "# Detect hardware, return appropriate distribution strategy\n",
    "strategy, tpu = set_up_strategy()\n",
    "\n",
    "AUTO = tf.data.experimental.AUTOTUNE\n",
    "REPLICAS = strategy.num_replicas_in_sync\n",
    "print(f'REPLICAS: {REPLICAS}')"
   ]
  },
  {
   "cell_type": "markdown",
   "metadata": {
    "papermill": {
     "duration": 0.010542,
     "end_time": "2021-01-31T02:08:17.111408",
     "exception": false,
     "start_time": "2021-01-31T02:08:17.100866",
     "status": "completed"
    },
    "tags": []
   },
   "source": [
    "# Model parameters"
   ]
  },
  {
   "cell_type": "code",
   "execution_count": 4,
   "metadata": {
    "execution": {
     "iopub.execute_input": "2021-01-31T02:08:17.137075Z",
     "iopub.status.busy": "2021-01-31T02:08:17.136543Z",
     "iopub.status.idle": "2021-01-31T02:08:17.140520Z",
     "shell.execute_reply": "2021-01-31T02:08:17.139983Z"
    },
    "papermill": {
     "duration": 0.018481,
     "end_time": "2021-01-31T02:08:17.140605",
     "exception": false,
     "start_time": "2021-01-31T02:08:17.122124",
     "status": "completed"
    },
    "tags": []
   },
   "outputs": [],
   "source": [
    "BATCH_SIZE = 8 * REPLICAS\n",
    "HEIGHT = 512\n",
    "WIDTH = 512\n",
    "CHANNELS = 3\n",
    "N_CLASSES = 5\n",
    "TTA_STEPS = 0 # Do TTA if > 0 "
   ]
  },
  {
   "cell_type": "markdown",
   "metadata": {
    "papermill": {
     "duration": 0.010559,
     "end_time": "2021-01-31T02:08:17.161747",
     "exception": false,
     "start_time": "2021-01-31T02:08:17.151188",
     "status": "completed"
    },
    "tags": []
   },
   "source": [
    "# Augmentation"
   ]
  },
  {
   "cell_type": "code",
   "execution_count": 5,
   "metadata": {
    "_kg_hide-input": false,
    "execution": {
     "iopub.execute_input": "2021-01-31T02:08:17.197762Z",
     "iopub.status.busy": "2021-01-31T02:08:17.195961Z",
     "iopub.status.idle": "2021-01-31T02:08:17.198430Z",
     "shell.execute_reply": "2021-01-31T02:08:17.198833Z"
    },
    "papermill": {
     "duration": 0.026461,
     "end_time": "2021-01-31T02:08:17.198939",
     "exception": false,
     "start_time": "2021-01-31T02:08:17.172478",
     "status": "completed"
    },
    "tags": []
   },
   "outputs": [],
   "source": [
    "def data_augment(image, label):\n",
    "    p_spatial = tf.random.uniform([], 0, 1.0, dtype=tf.float32)\n",
    "    p_rotate = tf.random.uniform([], 0, 1.0, dtype=tf.float32)\n",
    "#     p_pixel_1 = tf.random.uniform([], 0, 1.0, dtype=tf.float32)\n",
    "#     p_pixel_2 = tf.random.uniform([], 0, 1.0, dtype=tf.float32)\n",
    "#     p_pixel_3 = tf.random.uniform([], 0, 1.0, dtype=tf.float32)\n",
    "    p_crop = tf.random.uniform([], 0, 1.0, dtype=tf.float32)\n",
    "            \n",
    "    # Flips\n",
    "    image = tf.image.random_flip_left_right(image)\n",
    "    image = tf.image.random_flip_up_down(image)\n",
    "    if p_spatial > .75:\n",
    "        image = tf.image.transpose(image)\n",
    "        \n",
    "    # Rotates\n",
    "    if p_rotate > .75:\n",
    "        image = tf.image.rot90(image, k=3) # rotate 270º\n",
    "    elif p_rotate > .5:\n",
    "        image = tf.image.rot90(image, k=2) # rotate 180º\n",
    "    elif p_rotate > .25:\n",
    "        image = tf.image.rot90(image, k=1) # rotate 90º\n",
    "        \n",
    "#     # Pixel-level transforms\n",
    "#     if p_pixel_1 >= .4:\n",
    "#         image = tf.image.random_saturation(image, lower=.7, upper=1.3)\n",
    "#     if p_pixel_2 >= .4:\n",
    "#         image = tf.image.random_contrast(image, lower=.8, upper=1.2)\n",
    "#     if p_pixel_3 >= .4:\n",
    "#         image = tf.image.random_brightness(image, max_delta=.1)\n",
    "        \n",
    "    # Crops\n",
    "    if p_crop > .7:\n",
    "        if p_crop > .9:\n",
    "            image = tf.image.central_crop(image, central_fraction=.7)\n",
    "        elif p_crop > .8:\n",
    "            image = tf.image.central_crop(image, central_fraction=.8)\n",
    "        else:\n",
    "            image = tf.image.central_crop(image, central_fraction=.9)\n",
    "    elif p_crop > .4:\n",
    "        crop_size = tf.random.uniform([], int(HEIGHT*.8), HEIGHT, dtype=tf.int32)\n",
    "        image = tf.image.random_crop(image, size=[crop_size, crop_size, CHANNELS])\n",
    "        \n",
    "#     # Crops\n",
    "#     if p_crop > .6:\n",
    "#         if p_crop > .9:\n",
    "#             image = tf.image.central_crop(image, central_fraction=.5)\n",
    "#         elif p_crop > .8:\n",
    "#             image = tf.image.central_crop(image, central_fraction=.6)\n",
    "#         elif p_crop > .7:\n",
    "#             image = tf.image.central_crop(image, central_fraction=.7)\n",
    "#         else:\n",
    "#             image = tf.image.central_crop(image, central_fraction=.8)\n",
    "#     elif p_crop > .3:\n",
    "#         crop_size = tf.random.uniform([], int(HEIGHT*.6), HEIGHT, dtype=tf.int32)\n",
    "#         image = tf.image.random_crop(image, size=[crop_size, crop_size, CHANNELS])\n",
    "            \n",
    "\n",
    "    return image, label"
   ]
  },
  {
   "cell_type": "markdown",
   "metadata": {
    "papermill": {
     "duration": 0.010698,
     "end_time": "2021-01-31T02:08:17.220520",
     "exception": false,
     "start_time": "2021-01-31T02:08:17.209822",
     "status": "completed"
    },
    "tags": []
   },
   "source": [
    "## Auxiliary functions"
   ]
  },
  {
   "cell_type": "code",
   "execution_count": 6,
   "metadata": {
    "_cell_guid": "79c7e3d0-c299-4dcb-8224-4455121ee9b0",
    "_kg_hide-input": true,
    "_uuid": "d629ff2d2480ee46fbb7e2d37f6b5fab8052498a",
    "execution": {
     "iopub.execute_input": "2021-01-31T02:08:17.251325Z",
     "iopub.status.busy": "2021-01-31T02:08:17.250742Z",
     "iopub.status.idle": "2021-01-31T02:08:17.254009Z",
     "shell.execute_reply": "2021-01-31T02:08:17.253523Z"
    },
    "papermill": {
     "duration": 0.022791,
     "end_time": "2021-01-31T02:08:17.254096",
     "exception": false,
     "start_time": "2021-01-31T02:08:17.231305",
     "status": "completed"
    },
    "tags": []
   },
   "outputs": [],
   "source": [
    "# Datasets utility functions\n",
    "def resize_image(image, label):\n",
    "    image = tf.image.resize(image, [HEIGHT, WIDTH])\n",
    "    image = tf.reshape(image, [HEIGHT, WIDTH, CHANNELS])\n",
    "    return image, label\n",
    "\n",
    "def process_path(file_path):\n",
    "    name = get_name(file_path)\n",
    "    img = tf.io.read_file(file_path)\n",
    "    img = decode_image(img)\n",
    "    img, _ = scale_image(img, None)\n",
    "#     img = center_crop(img, HEIGHT, WIDTH)\n",
    "    return img, name\n",
    "\n",
    "def get_dataset(files_path, shuffled=False, tta=False, extension='jpg'):\n",
    "    dataset = tf.data.Dataset.list_files(f'{files_path}*{extension}', shuffle=shuffled)\n",
    "    dataset = dataset.map(process_path, num_parallel_calls=AUTO)\n",
    "    if tta:\n",
    "        dataset = dataset.map(data_augment, num_parallel_calls=AUTO)\n",
    "    dataset = dataset.map(resize_image, num_parallel_calls=AUTO)\n",
    "    dataset = dataset.batch(BATCH_SIZE)\n",
    "    dataset = dataset.prefetch(AUTO)\n",
    "    return dataset"
   ]
  },
  {
   "cell_type": "markdown",
   "metadata": {
    "papermill": {
     "duration": 0.010718,
     "end_time": "2021-01-31T02:08:17.276265",
     "exception": false,
     "start_time": "2021-01-31T02:08:17.265547",
     "status": "completed"
    },
    "tags": []
   },
   "source": [
    "# Load data"
   ]
  },
  {
   "cell_type": "code",
   "execution_count": 7,
   "metadata": {
    "_kg_hide-input": true,
    "execution": {
     "iopub.execute_input": "2021-01-31T02:08:17.304676Z",
     "iopub.status.busy": "2021-01-31T02:08:17.304110Z",
     "iopub.status.idle": "2021-01-31T02:08:17.329884Z",
     "shell.execute_reply": "2021-01-31T02:08:17.329472Z"
    },
    "papermill": {
     "duration": 0.042645,
     "end_time": "2021-01-31T02:08:17.329969",
     "exception": false,
     "start_time": "2021-01-31T02:08:17.287324",
     "status": "completed"
    },
    "tags": []
   },
   "outputs": [
    {
     "data": {
      "text/html": [
       "<div>\n",
       "<style scoped>\n",
       "    .dataframe tbody tr th:only-of-type {\n",
       "        vertical-align: middle;\n",
       "    }\n",
       "\n",
       "    .dataframe tbody tr th {\n",
       "        vertical-align: top;\n",
       "    }\n",
       "\n",
       "    .dataframe thead th {\n",
       "        text-align: right;\n",
       "    }\n",
       "</style>\n",
       "<table border=\"1\" class=\"dataframe\">\n",
       "  <thead>\n",
       "    <tr style=\"text-align: right;\">\n",
       "      <th></th>\n",
       "      <th>image_id</th>\n",
       "      <th>label</th>\n",
       "    </tr>\n",
       "  </thead>\n",
       "  <tbody>\n",
       "    <tr>\n",
       "      <th>0</th>\n",
       "      <td>2216849948.jpg</td>\n",
       "      <td>4</td>\n",
       "    </tr>\n",
       "  </tbody>\n",
       "</table>\n",
       "</div>"
      ],
      "text/plain": [
       "         image_id  label\n",
       "0  2216849948.jpg      4"
      ]
     },
     "metadata": {},
     "output_type": "display_data"
    },
    {
     "name": "stdout",
     "output_type": "stream",
     "text": [
      "GCS: test: 1\n"
     ]
    }
   ],
   "source": [
    "database_base_path = '/kaggle/input/cassava-leaf-disease-classification/'\n",
    "submission = pd.read_csv(f'{database_base_path}sample_submission.csv')\n",
    "display(submission.head())\n",
    "\n",
    "TEST_FILENAMES = tf.io.gfile.glob(f'{database_base_path}test_tfrecords/ld_test*.tfrec')\n",
    "NUM_TEST_IMAGES = count_data_items(TEST_FILENAMES)\n",
    "print(f'GCS: test: {NUM_TEST_IMAGES}')"
   ]
  },
  {
   "cell_type": "code",
   "execution_count": 8,
   "metadata": {
    "_kg_hide-input": true,
    "execution": {
     "iopub.execute_input": "2021-01-31T02:08:17.357144Z",
     "iopub.status.busy": "2021-01-31T02:08:17.356623Z",
     "iopub.status.idle": "2021-01-31T02:08:17.365568Z",
     "shell.execute_reply": "2021-01-31T02:08:17.366049Z"
    },
    "papermill": {
     "duration": 0.024537,
     "end_time": "2021-01-31T02:08:17.366145",
     "exception": false,
     "start_time": "2021-01-31T02:08:17.341608",
     "status": "completed"
    },
    "tags": []
   },
   "outputs": [
    {
     "name": "stdout",
     "output_type": "stream",
     "text": [
      "Models to predict:\n",
      "/kaggle/input/92-cassava-leaf-effnetb4-scl-dense-aux-512x512/model_0.h5\n"
     ]
    }
   ],
   "source": [
    "model_path_list = glob.glob('/kaggle/input/92-cassava-leaf-effnetb4-scl-dense-aux-512x512/*.h5')\n",
    "model_path_list.sort()\n",
    "\n",
    "print('Models to predict:')\n",
    "print(*model_path_list, sep='\\n')"
   ]
  },
  {
   "cell_type": "markdown",
   "metadata": {
    "papermill": {
     "duration": 0.01201,
     "end_time": "2021-01-31T02:08:17.390227",
     "exception": false,
     "start_time": "2021-01-31T02:08:17.378217",
     "status": "completed"
    },
    "tags": []
   },
   "source": [
    "# Model"
   ]
  },
  {
   "cell_type": "code",
   "execution_count": 9,
   "metadata": {
    "_kg_hide-output": true,
    "execution": {
     "iopub.execute_input": "2021-01-31T02:08:17.426131Z",
     "iopub.status.busy": "2021-01-31T02:08:17.425560Z",
     "iopub.status.idle": "2021-01-31T02:08:29.473401Z",
     "shell.execute_reply": "2021-01-31T02:08:29.474226Z"
    },
    "papermill": {
     "duration": 12.07225,
     "end_time": "2021-01-31T02:08:29.474460",
     "exception": false,
     "start_time": "2021-01-31T02:08:17.402210",
     "status": "completed"
    },
    "tags": []
   },
   "outputs": [
    {
     "name": "stdout",
     "output_type": "stream",
     "text": [
      "Model: \"model_1\"\n",
      "__________________________________________________________________________________________________\n",
      "Layer (type)                    Output Shape         Param #     Connected to                     \n",
      "==================================================================================================\n",
      "input_image (InputLayer)        [(None, None, None,  0                                            \n",
      "__________________________________________________________________________________________________\n",
      "model (Model)                   (None, 1792)         17673816    input_image[0][0]                \n",
      "__________________________________________________________________________________________________\n",
      "dropout (Dropout)               (None, 1792)         0           model[1][0]                      \n",
      "__________________________________________________________________________________________________\n",
      "dense (Dense)                   (None, 1000)         1793000     dropout[0][0]                    \n",
      "__________________________________________________________________________________________________\n",
      "dropout_1 (Dropout)             (None, 1000)         0           dense[0][0]                      \n",
      "__________________________________________________________________________________________________\n",
      "output (Dense)                  (None, 5)            5005        dropout_1[0][0]                  \n",
      "__________________________________________________________________________________________________\n",
      "output_healthy (Dense)          (None, 1)            1001        dropout_1[0][0]                  \n",
      "__________________________________________________________________________________________________\n",
      "output_cmd (Dense)              (None, 1)            1001        dropout_1[0][0]                  \n",
      "==================================================================================================\n",
      "Total params: 19,473,823\n",
      "Trainable params: 1,800,007\n",
      "Non-trainable params: 17,673,816\n",
      "__________________________________________________________________________________________________\n"
     ]
    }
   ],
   "source": [
    "def encoder_fn(input_shape):\n",
    "    inputs = L.Input(shape=input_shape, name='input_image')\n",
    "    base_model = efn.EfficientNetB4(input_tensor=inputs, \n",
    "                                    include_top=False, \n",
    "                                    weights=None, \n",
    "                                    pooling='avg')\n",
    "    \n",
    "    model = Model(inputs=inputs, outputs=base_model.output)\n",
    "    return model\n",
    "\n",
    "def classifier_fn(input_shape, N_CLASSES, encoder, trainable=True):\n",
    "    for layer in encoder.layers:\n",
    "        layer.trainable = trainable\n",
    "        \n",
    "    inputs = L.Input(shape=input_shape, name='input_image')\n",
    "    \n",
    "    features = encoder(inputs)\n",
    "    features = L.Dropout(.25)(features)\n",
    "    features = L.Dense(1000, activation='relu')(features)\n",
    "    features = L.Dropout(.25)(features)\n",
    "    \n",
    "    output = L.Dense(N_CLASSES, activation='softmax', name='output', dtype='float32')(features)\n",
    "    output_healthy = L.Dense(1, activation='sigmoid', name='output_healthy', dtype='float32')(features)\n",
    "    output_cmd = L.Dense(1, activation='sigmoid', name='output_cmd', dtype='float32')(features)\n",
    "    \n",
    "    model = Model(inputs=inputs, outputs=[output, output_healthy, output_cmd])\n",
    "    return model\n",
    "\n",
    "with strategy.scope():\n",
    "    encoder = encoder_fn((None, None, CHANNELS))\n",
    "    model = classifier_fn((None, None, CHANNELS), N_CLASSES, encoder, trainable=False)\n",
    "    \n",
    "model.summary()"
   ]
  },
  {
   "cell_type": "markdown",
   "metadata": {
    "papermill": {
     "duration": 0.012544,
     "end_time": "2021-01-31T02:08:29.500626",
     "exception": false,
     "start_time": "2021-01-31T02:08:29.488082",
     "status": "completed"
    },
    "tags": []
   },
   "source": [
    "# Test set predictions"
   ]
  },
  {
   "cell_type": "code",
   "execution_count": 10,
   "metadata": {
    "_kg_hide-input": false,
    "execution": {
     "iopub.execute_input": "2021-01-31T02:08:29.536535Z",
     "iopub.status.busy": "2021-01-31T02:08:29.535941Z",
     "iopub.status.idle": "2021-01-31T02:08:37.573244Z",
     "shell.execute_reply": "2021-01-31T02:08:37.566247Z"
    },
    "papermill": {
     "duration": 8.060339,
     "end_time": "2021-01-31T02:08:37.573524",
     "exception": false,
     "start_time": "2021-01-31T02:08:29.513185",
     "status": "completed"
    },
    "tags": []
   },
   "outputs": [
    {
     "name": "stdout",
     "output_type": "stream",
     "text": [
      "/kaggle/input/92-cassava-leaf-effnetb4-scl-dense-aux-512x512/model_0.h5\n"
     ]
    }
   ],
   "source": [
    "files_path = f'{database_base_path}test_images/'\n",
    "test_size = len(os.listdir(files_path))\n",
    "test_preds = np.zeros((test_size, N_CLASSES))\n",
    "\n",
    "\n",
    "for model_path in model_path_list:\n",
    "    print(model_path)\n",
    "    K.clear_session()\n",
    "    model.load_weights(model_path)\n",
    "\n",
    "    if TTA_STEPS > 0:\n",
    "        test_ds = get_dataset(files_path, tta=True).repeat()\n",
    "        ct_steps = TTA_STEPS * ((test_size/BATCH_SIZE) + 1)\n",
    "        preds = model.predict(test_ds, steps=ct_steps, verbose=1)[0][:(test_size * TTA_STEPS)]\n",
    "        preds = np.mean(preds.reshape(test_size, TTA_STEPS, N_CLASSES, order='F'), axis=1)\n",
    "        test_preds += preds / len(model_path_list)\n",
    "    else:\n",
    "        test_ds = get_dataset(files_path, tta=False)\n",
    "        x_test = test_ds.map(lambda image, image_name: image)\n",
    "        test_preds += model.predict(x_test)[0] / len(model_path_list)\n",
    "    \n",
    "test_preds = np.argmax(test_preds, axis=-1)\n",
    "test_names_ds = get_dataset(files_path)\n",
    "image_names = [img_name.numpy().decode('utf-8') for img, img_name in iter(test_names_ds.unbatch())]"
   ]
  },
  {
   "cell_type": "code",
   "execution_count": 11,
   "metadata": {
    "_kg_hide-input": true,
    "execution": {
     "iopub.execute_input": "2021-01-31T02:08:37.627913Z",
     "iopub.status.busy": "2021-01-31T02:08:37.626881Z",
     "iopub.status.idle": "2021-01-31T02:08:37.692085Z",
     "shell.execute_reply": "2021-01-31T02:08:37.691631Z"
    },
    "papermill": {
     "duration": 0.088559,
     "end_time": "2021-01-31T02:08:37.692184",
     "exception": false,
     "start_time": "2021-01-31T02:08:37.603625",
     "status": "completed"
    },
    "tags": []
   },
   "outputs": [
    {
     "data": {
      "text/html": [
       "<div>\n",
       "<style scoped>\n",
       "    .dataframe tbody tr th:only-of-type {\n",
       "        vertical-align: middle;\n",
       "    }\n",
       "\n",
       "    .dataframe tbody tr th {\n",
       "        vertical-align: top;\n",
       "    }\n",
       "\n",
       "    .dataframe thead th {\n",
       "        text-align: right;\n",
       "    }\n",
       "</style>\n",
       "<table border=\"1\" class=\"dataframe\">\n",
       "  <thead>\n",
       "    <tr style=\"text-align: right;\">\n",
       "      <th></th>\n",
       "      <th>image_id</th>\n",
       "      <th>label</th>\n",
       "    </tr>\n",
       "  </thead>\n",
       "  <tbody>\n",
       "    <tr>\n",
       "      <th>0</th>\n",
       "      <td>2216849948.jpg</td>\n",
       "      <td>4</td>\n",
       "    </tr>\n",
       "  </tbody>\n",
       "</table>\n",
       "</div>"
      ],
      "text/plain": [
       "         image_id  label\n",
       "0  2216849948.jpg      4"
      ]
     },
     "metadata": {},
     "output_type": "display_data"
    }
   ],
   "source": [
    "submission = pd.DataFrame({'image_id': image_names, 'label': test_preds})\n",
    "submission.to_csv('submission.csv', index=False)\n",
    "display(submission.head())"
   ]
  }
 ],
 "metadata": {
  "kernelspec": {
   "display_name": "Python 3",
   "language": "python",
   "name": "python3"
  },
  "language_info": {
   "codemirror_mode": {
    "name": "ipython",
    "version": 3
   },
   "file_extension": ".py",
   "mimetype": "text/x-python",
   "name": "python",
   "nbconvert_exporter": "python",
   "pygments_lexer": "ipython3",
   "version": "3.7.6"
  },
  "papermill": {
   "duration": 87.829897,
   "end_time": "2021-01-31T02:08:38.779653",
   "environment_variables": {},
   "exception": null,
   "input_path": "__notebook__.ipynb",
   "output_path": "__notebook__.ipynb",
   "parameters": {},
   "start_time": "2021-01-31T02:07:10.949756",
   "version": "2.1.0"
  }
 },
 "nbformat": 4,
 "nbformat_minor": 4
}
