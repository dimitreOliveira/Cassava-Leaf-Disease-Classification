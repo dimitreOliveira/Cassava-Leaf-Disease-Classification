{
 "cells": [
  {
   "cell_type": "markdown",
   "metadata": {
    "papermill": {
     "duration": 0.014796,
     "end_time": "2021-02-07T12:13:59.592972",
     "exception": false,
     "start_time": "2021-02-07T12:13:59.578176",
     "status": "completed"
    },
    "tags": []
   },
   "source": [
    "## Dependencies"
   ]
  },
  {
   "cell_type": "code",
   "execution_count": 1,
   "metadata": {
    "_kg_hide-input": true,
    "execution": {
     "iopub.execute_input": "2021-02-07T12:13:59.627195Z",
     "iopub.status.busy": "2021-02-07T12:13:59.626235Z",
     "iopub.status.idle": "2021-02-07T12:14:59.517278Z",
     "shell.execute_reply": "2021-02-07T12:14:59.516208Z"
    },
    "papermill": {
     "duration": 59.910393,
     "end_time": "2021-02-07T12:14:59.517443",
     "exception": false,
     "start_time": "2021-02-07T12:13:59.607050",
     "status": "completed"
    },
    "tags": []
   },
   "outputs": [],
   "source": [
    "!pip install --quiet /kaggle/input/kerasapplications\n",
    "!pip install --quiet /kaggle/input/efficientnet-git"
   ]
  },
  {
   "cell_type": "code",
   "execution_count": 2,
   "metadata": {
    "_cell_guid": "b1076dfc-b9ad-4769-8c92-a6c4dae69d19",
    "_kg_hide-input": true,
    "_kg_hide-output": true,
    "_uuid": "8f2839f25d086af736a60e9eeb907d3b93b6e0e5",
    "execution": {
     "iopub.execute_input": "2021-02-07T12:14:59.553911Z",
     "iopub.status.busy": "2021-02-07T12:14:59.552967Z",
     "iopub.status.idle": "2021-02-07T12:15:05.928568Z",
     "shell.execute_reply": "2021-02-07T12:15:05.927014Z"
    },
    "papermill": {
     "duration": 6.396216,
     "end_time": "2021-02-07T12:15:05.928694",
     "exception": false,
     "start_time": "2021-02-07T12:14:59.532478",
     "status": "completed"
    },
    "tags": []
   },
   "outputs": [],
   "source": [
    "import warnings, glob\n",
    "from tensorflow.keras import Sequential, Model\n",
    "import efficientnet.tfkeras as efn\n",
    "from cassava_scripts import *\n",
    "\n",
    "\n",
    "seed = 0\n",
    "seed_everything(seed)\n",
    "warnings.filterwarnings('ignore')"
   ]
  },
  {
   "cell_type": "markdown",
   "metadata": {
    "papermill": {
     "duration": 0.01328,
     "end_time": "2021-02-07T12:15:05.955475",
     "exception": false,
     "start_time": "2021-02-07T12:15:05.942195",
     "status": "completed"
    },
    "tags": []
   },
   "source": [
    "### Hardware configuration"
   ]
  },
  {
   "cell_type": "code",
   "execution_count": 3,
   "metadata": {
    "_kg_hide-input": true,
    "execution": {
     "iopub.execute_input": "2021-02-07T12:15:05.987210Z",
     "iopub.status.busy": "2021-02-07T12:15:05.986479Z",
     "iopub.status.idle": "2021-02-07T12:15:05.996392Z",
     "shell.execute_reply": "2021-02-07T12:15:05.997118Z"
    },
    "papermill": {
     "duration": 0.02853,
     "end_time": "2021-02-07T12:15:05.997278",
     "exception": false,
     "start_time": "2021-02-07T12:15:05.968748",
     "status": "completed"
    },
    "tags": []
   },
   "outputs": [
    {
     "name": "stdout",
     "output_type": "stream",
     "text": [
      "REPLICAS: 1\n"
     ]
    }
   ],
   "source": [
    "# TPU or GPU detection\n",
    "# Detect hardware, return appropriate distribution strategy\n",
    "strategy, tpu = set_up_strategy()\n",
    "\n",
    "AUTO = tf.data.experimental.AUTOTUNE\n",
    "REPLICAS = strategy.num_replicas_in_sync\n",
    "print(f'REPLICAS: {REPLICAS}')"
   ]
  },
  {
   "cell_type": "markdown",
   "metadata": {
    "papermill": {
     "duration": 0.013032,
     "end_time": "2021-02-07T12:15:06.025725",
     "exception": false,
     "start_time": "2021-02-07T12:15:06.012693",
     "status": "completed"
    },
    "tags": []
   },
   "source": [
    "# Model parameters"
   ]
  },
  {
   "cell_type": "code",
   "execution_count": 4,
   "metadata": {
    "execution": {
     "iopub.execute_input": "2021-02-07T12:15:06.058635Z",
     "iopub.status.busy": "2021-02-07T12:15:06.057903Z",
     "iopub.status.idle": "2021-02-07T12:15:06.062160Z",
     "shell.execute_reply": "2021-02-07T12:15:06.061542Z"
    },
    "papermill": {
     "duration": 0.022861,
     "end_time": "2021-02-07T12:15:06.062261",
     "exception": false,
     "start_time": "2021-02-07T12:15:06.039400",
     "status": "completed"
    },
    "tags": []
   },
   "outputs": [],
   "source": [
    "BATCH_SIZE = 8 * REPLICAS\n",
    "HEIGHT = 512\n",
    "WIDTH = 512\n",
    "CHANNELS = 3\n",
    "N_CLASSES = 5\n",
    "TTA_STEPS = 0 # Do TTA if > 0 "
   ]
  },
  {
   "cell_type": "markdown",
   "metadata": {
    "papermill": {
     "duration": 0.013622,
     "end_time": "2021-02-07T12:15:06.089609",
     "exception": false,
     "start_time": "2021-02-07T12:15:06.075987",
     "status": "completed"
    },
    "tags": []
   },
   "source": [
    "# Augmentation"
   ]
  },
  {
   "cell_type": "code",
   "execution_count": 5,
   "metadata": {
    "_kg_hide-input": false,
    "execution": {
     "iopub.execute_input": "2021-02-07T12:15:06.132638Z",
     "iopub.status.busy": "2021-02-07T12:15:06.124644Z",
     "iopub.status.idle": "2021-02-07T12:15:06.135270Z",
     "shell.execute_reply": "2021-02-07T12:15:06.134785Z"
    },
    "papermill": {
     "duration": 0.032027,
     "end_time": "2021-02-07T12:15:06.135377",
     "exception": false,
     "start_time": "2021-02-07T12:15:06.103350",
     "status": "completed"
    },
    "tags": []
   },
   "outputs": [],
   "source": [
    "def data_augment(image, label):\n",
    "    p_spatial = tf.random.uniform([], 0, 1.0, dtype=tf.float32)\n",
    "    p_rotate = tf.random.uniform([], 0, 1.0, dtype=tf.float32)\n",
    "#     p_pixel_1 = tf.random.uniform([], 0, 1.0, dtype=tf.float32)\n",
    "#     p_pixel_2 = tf.random.uniform([], 0, 1.0, dtype=tf.float32)\n",
    "#     p_pixel_3 = tf.random.uniform([], 0, 1.0, dtype=tf.float32)\n",
    "    p_crop = tf.random.uniform([], 0, 1.0, dtype=tf.float32)\n",
    "            \n",
    "    # Flips\n",
    "    image = tf.image.random_flip_left_right(image)\n",
    "    image = tf.image.random_flip_up_down(image)\n",
    "    if p_spatial > .75:\n",
    "        image = tf.image.transpose(image)\n",
    "        \n",
    "    # Rotates\n",
    "    if p_rotate > .75:\n",
    "        image = tf.image.rot90(image, k=3) # rotate 270º\n",
    "    elif p_rotate > .5:\n",
    "        image = tf.image.rot90(image, k=2) # rotate 180º\n",
    "    elif p_rotate > .25:\n",
    "        image = tf.image.rot90(image, k=1) # rotate 90º\n",
    "        \n",
    "#     # Pixel-level transforms\n",
    "#     if p_pixel_1 >= .4:\n",
    "#         image = tf.image.random_saturation(image, lower=.7, upper=1.3)\n",
    "#     if p_pixel_2 >= .4:\n",
    "#         image = tf.image.random_contrast(image, lower=.8, upper=1.2)\n",
    "#     if p_pixel_3 >= .4:\n",
    "#         image = tf.image.random_brightness(image, max_delta=.1)\n",
    "        \n",
    "    # Crops\n",
    "    if p_crop > .7:\n",
    "        if p_crop > .9:\n",
    "            image = tf.image.central_crop(image, central_fraction=.7)\n",
    "        elif p_crop > .8:\n",
    "            image = tf.image.central_crop(image, central_fraction=.8)\n",
    "        else:\n",
    "            image = tf.image.central_crop(image, central_fraction=.9)\n",
    "    elif p_crop > .4:\n",
    "        crop_size = tf.random.uniform([], int(HEIGHT*.8), HEIGHT, dtype=tf.int32)\n",
    "        image = tf.image.random_crop(image, size=[crop_size, crop_size, CHANNELS])\n",
    "        \n",
    "#     # Crops\n",
    "#     if p_crop > .6:\n",
    "#         if p_crop > .9:\n",
    "#             image = tf.image.central_crop(image, central_fraction=.5)\n",
    "#         elif p_crop > .8:\n",
    "#             image = tf.image.central_crop(image, central_fraction=.6)\n",
    "#         elif p_crop > .7:\n",
    "#             image = tf.image.central_crop(image, central_fraction=.7)\n",
    "#         else:\n",
    "#             image = tf.image.central_crop(image, central_fraction=.8)\n",
    "#     elif p_crop > .3:\n",
    "#         crop_size = tf.random.uniform([], int(HEIGHT*.6), HEIGHT, dtype=tf.int32)\n",
    "#         image = tf.image.random_crop(image, size=[crop_size, crop_size, CHANNELS])\n",
    "            \n",
    "\n",
    "    return image, label"
   ]
  },
  {
   "cell_type": "markdown",
   "metadata": {
    "papermill": {
     "duration": 0.01457,
     "end_time": "2021-02-07T12:15:06.163371",
     "exception": false,
     "start_time": "2021-02-07T12:15:06.148801",
     "status": "completed"
    },
    "tags": []
   },
   "source": [
    "## Auxiliary functions"
   ]
  },
  {
   "cell_type": "code",
   "execution_count": 6,
   "metadata": {
    "_cell_guid": "79c7e3d0-c299-4dcb-8224-4455121ee9b0",
    "_kg_hide-input": true,
    "_uuid": "d629ff2d2480ee46fbb7e2d37f6b5fab8052498a",
    "execution": {
     "iopub.execute_input": "2021-02-07T12:15:06.201950Z",
     "iopub.status.busy": "2021-02-07T12:15:06.198605Z",
     "iopub.status.idle": "2021-02-07T12:15:06.204593Z",
     "shell.execute_reply": "2021-02-07T12:15:06.204077Z"
    },
    "papermill": {
     "duration": 0.027497,
     "end_time": "2021-02-07T12:15:06.204687",
     "exception": false,
     "start_time": "2021-02-07T12:15:06.177190",
     "status": "completed"
    },
    "tags": []
   },
   "outputs": [],
   "source": [
    "# Datasets utility functions\n",
    "def resize_image(image, label):\n",
    "    image = tf.image.resize(image, [HEIGHT, WIDTH])\n",
    "    image = tf.reshape(image, [HEIGHT, WIDTH, CHANNELS])\n",
    "    return image, label\n",
    "\n",
    "def process_path(file_path):\n",
    "    name = get_name(file_path)\n",
    "    img = tf.io.read_file(file_path)\n",
    "    img = decode_image(img)\n",
    "    img, _ = scale_image(img, None)\n",
    "#     img = center_crop(img, HEIGHT, WIDTH)\n",
    "    return img, name\n",
    "\n",
    "def get_dataset(files_path, shuffled=False, tta=False, extension='jpg'):\n",
    "    dataset = tf.data.Dataset.list_files(f'{files_path}*{extension}', shuffle=shuffled)\n",
    "    dataset = dataset.map(process_path, num_parallel_calls=AUTO)\n",
    "    if tta:\n",
    "        dataset = dataset.map(data_augment, num_parallel_calls=AUTO)\n",
    "    dataset = dataset.map(resize_image, num_parallel_calls=AUTO)\n",
    "    dataset = dataset.batch(BATCH_SIZE)\n",
    "    dataset = dataset.prefetch(AUTO)\n",
    "    return dataset"
   ]
  },
  {
   "cell_type": "markdown",
   "metadata": {
    "papermill": {
     "duration": 0.013881,
     "end_time": "2021-02-07T12:15:06.232454",
     "exception": false,
     "start_time": "2021-02-07T12:15:06.218573",
     "status": "completed"
    },
    "tags": []
   },
   "source": [
    "# Load data"
   ]
  },
  {
   "cell_type": "code",
   "execution_count": 7,
   "metadata": {
    "_kg_hide-input": true,
    "execution": {
     "iopub.execute_input": "2021-02-07T12:15:06.270321Z",
     "iopub.status.busy": "2021-02-07T12:15:06.269728Z",
     "iopub.status.idle": "2021-02-07T12:15:06.298415Z",
     "shell.execute_reply": "2021-02-07T12:15:06.298991Z"
    },
    "papermill": {
     "duration": 0.052973,
     "end_time": "2021-02-07T12:15:06.299155",
     "exception": false,
     "start_time": "2021-02-07T12:15:06.246182",
     "status": "completed"
    },
    "tags": []
   },
   "outputs": [
    {
     "data": {
      "text/html": [
       "<div>\n",
       "<style scoped>\n",
       "    .dataframe tbody tr th:only-of-type {\n",
       "        vertical-align: middle;\n",
       "    }\n",
       "\n",
       "    .dataframe tbody tr th {\n",
       "        vertical-align: top;\n",
       "    }\n",
       "\n",
       "    .dataframe thead th {\n",
       "        text-align: right;\n",
       "    }\n",
       "</style>\n",
       "<table border=\"1\" class=\"dataframe\">\n",
       "  <thead>\n",
       "    <tr style=\"text-align: right;\">\n",
       "      <th></th>\n",
       "      <th>image_id</th>\n",
       "      <th>label</th>\n",
       "    </tr>\n",
       "  </thead>\n",
       "  <tbody>\n",
       "    <tr>\n",
       "      <th>0</th>\n",
       "      <td>2216849948.jpg</td>\n",
       "      <td>4</td>\n",
       "    </tr>\n",
       "  </tbody>\n",
       "</table>\n",
       "</div>"
      ],
      "text/plain": [
       "         image_id  label\n",
       "0  2216849948.jpg      4"
      ]
     },
     "metadata": {},
     "output_type": "display_data"
    },
    {
     "name": "stdout",
     "output_type": "stream",
     "text": [
      "GCS: test: 1\n"
     ]
    }
   ],
   "source": [
    "database_base_path = '/kaggle/input/cassava-leaf-disease-classification/'\n",
    "submission = pd.read_csv(f'{database_base_path}sample_submission.csv')\n",
    "display(submission.head())\n",
    "\n",
    "TEST_FILENAMES = tf.io.gfile.glob(f'{database_base_path}test_tfrecords/ld_test*.tfrec')\n",
    "NUM_TEST_IMAGES = count_data_items(TEST_FILENAMES)\n",
    "print(f'GCS: test: {NUM_TEST_IMAGES}')"
   ]
  },
  {
   "cell_type": "code",
   "execution_count": 8,
   "metadata": {
    "_kg_hide-input": true,
    "execution": {
     "iopub.execute_input": "2021-02-07T12:15:06.333958Z",
     "iopub.status.busy": "2021-02-07T12:15:06.333382Z",
     "iopub.status.idle": "2021-02-07T12:15:06.349921Z",
     "shell.execute_reply": "2021-02-07T12:15:06.350578Z"
    },
    "papermill": {
     "duration": 0.035937,
     "end_time": "2021-02-07T12:15:06.350715",
     "exception": false,
     "start_time": "2021-02-07T12:15:06.314778",
     "status": "completed"
    },
    "tags": []
   },
   "outputs": [
    {
     "name": "stdout",
     "output_type": "stream",
     "text": [
      "Models to predict:\n",
      "/kaggle/input/100-cassava-leaf-effnetb3-scl-cce-bn-frozen-512/model_0.h5\n"
     ]
    }
   ],
   "source": [
    "model_path_list = glob.glob('/kaggle/input/100-cassava-leaf-effnetb3-scl-cce-bn-frozen-512/*.h5')\n",
    "model_path_list.sort()\n",
    "\n",
    "print('Models to predict:')\n",
    "print(*model_path_list, sep='\\n')"
   ]
  },
  {
   "cell_type": "markdown",
   "metadata": {
    "papermill": {
     "duration": 0.015132,
     "end_time": "2021-02-07T12:15:06.382158",
     "exception": false,
     "start_time": "2021-02-07T12:15:06.367026",
     "status": "completed"
    },
    "tags": []
   },
   "source": [
    "# Model"
   ]
  },
  {
   "cell_type": "code",
   "execution_count": 9,
   "metadata": {
    "_kg_hide-output": true,
    "execution": {
     "iopub.execute_input": "2021-02-07T12:15:06.430399Z",
     "iopub.status.busy": "2021-02-07T12:15:06.429572Z",
     "iopub.status.idle": "2021-02-07T12:15:17.749277Z",
     "shell.execute_reply": "2021-02-07T12:15:17.750161Z"
    },
    "papermill": {
     "duration": 11.352712,
     "end_time": "2021-02-07T12:15:17.750364",
     "exception": false,
     "start_time": "2021-02-07T12:15:06.397652",
     "status": "completed"
    },
    "tags": []
   },
   "outputs": [
    {
     "name": "stdout",
     "output_type": "stream",
     "text": [
      "Model: \"model_1\"\n",
      "__________________________________________________________________________________________________\n",
      "Layer (type)                    Output Shape         Param #     Connected to                     \n",
      "==================================================================================================\n",
      "input_image (InputLayer)        [(None, None, None,  0                                            \n",
      "__________________________________________________________________________________________________\n",
      "model (Model)                   (None, 1536)         10783528    input_image[0][0]                \n",
      "__________________________________________________________________________________________________\n",
      "dropout (Dropout)               (None, 1536)         0           model[1][0]                      \n",
      "__________________________________________________________________________________________________\n",
      "dense (Dense)                   (None, 512)          786944      dropout[0][0]                    \n",
      "__________________________________________________________________________________________________\n",
      "dropout_1 (Dropout)             (None, 512)          0           dense[0][0]                      \n",
      "__________________________________________________________________________________________________\n",
      "output (Dense)                  (None, 5)            2565        dropout_1[0][0]                  \n",
      "__________________________________________________________________________________________________\n",
      "output_healthy (Dense)          (None, 1)            513         dropout_1[0][0]                  \n",
      "__________________________________________________________________________________________________\n",
      "output_cmd (Dense)              (None, 1)            513         dropout_1[0][0]                  \n",
      "==================================================================================================\n",
      "Total params: 11,574,063\n",
      "Trainable params: 11,399,471\n",
      "Non-trainable params: 174,592\n",
      "__________________________________________________________________________________________________\n"
     ]
    }
   ],
   "source": [
    "def encoder_fn(input_shape):\n",
    "    inputs = L.Input(shape=input_shape, name='input_image')\n",
    "    base_model = efn.EfficientNetB3(input_tensor=inputs, \n",
    "                                    include_top=False, \n",
    "                                    weights=None, \n",
    "                                    pooling='avg')\n",
    "    \n",
    "    model = Model(inputs=inputs, outputs=base_model.output)\n",
    "    return model\n",
    "\n",
    "def classifier_fn(input_shape, N_CLASSES, encoder, trainable=True):\n",
    "    for layer in encoder.layers:\n",
    "        layer.trainable = trainable\n",
    "        \n",
    "    unfreeze_model(encoder) # unfreeze all layers except \"batch normalization\"        \n",
    "    inputs = L.Input(shape=input_shape, name='input_image')\n",
    "    \n",
    "    features = encoder(inputs)\n",
    "    features = L.Dropout(.5)(features)\n",
    "    features = L.Dense(512, activation='relu')(features)\n",
    "    features = L.Dropout(.5)(features)\n",
    "    \n",
    "    output = L.Dense(N_CLASSES, activation='softmax', name='output', dtype='float32')(features)\n",
    "    output_healthy = L.Dense(1, activation='sigmoid', name='output_healthy', dtype='float32')(features)\n",
    "    output_cmd = L.Dense(1, activation='sigmoid', name='output_cmd', dtype='float32')(features)\n",
    "    \n",
    "    model = Model(inputs=inputs, outputs=[output, output_healthy, output_cmd])\n",
    "    return model\n",
    "\n",
    "with strategy.scope():\n",
    "    encoder = encoder_fn((None, None, CHANNELS))\n",
    "    model = classifier_fn((None, None, CHANNELS), N_CLASSES, encoder, trainable=True)\n",
    "    \n",
    "model.summary()"
   ]
  },
  {
   "cell_type": "markdown",
   "metadata": {
    "papermill": {
     "duration": 0.015406,
     "end_time": "2021-02-07T12:15:17.782730",
     "exception": false,
     "start_time": "2021-02-07T12:15:17.767324",
     "status": "completed"
    },
    "tags": []
   },
   "source": [
    "# Test set predictions"
   ]
  },
  {
   "cell_type": "code",
   "execution_count": 10,
   "metadata": {
    "_kg_hide-input": false,
    "execution": {
     "iopub.execute_input": "2021-02-07T12:15:17.826307Z",
     "iopub.status.busy": "2021-02-07T12:15:17.825544Z",
     "iopub.status.idle": "2021-02-07T12:15:24.994801Z",
     "shell.execute_reply": "2021-02-07T12:15:24.993860Z"
    },
    "papermill": {
     "duration": 7.196775,
     "end_time": "2021-02-07T12:15:24.994939",
     "exception": false,
     "start_time": "2021-02-07T12:15:17.798164",
     "status": "completed"
    },
    "tags": []
   },
   "outputs": [
    {
     "name": "stdout",
     "output_type": "stream",
     "text": [
      "/kaggle/input/100-cassava-leaf-effnetb3-scl-cce-bn-frozen-512/model_0.h5\n"
     ]
    }
   ],
   "source": [
    "files_path = f'{database_base_path}test_images/'\n",
    "test_size = len(os.listdir(files_path))\n",
    "test_preds = np.zeros((test_size, N_CLASSES))\n",
    "\n",
    "\n",
    "for model_path in model_path_list:\n",
    "    print(model_path)\n",
    "    K.clear_session()\n",
    "    model.load_weights(model_path)\n",
    "\n",
    "    if TTA_STEPS > 0:\n",
    "        test_ds = get_dataset(files_path, tta=True).repeat()\n",
    "        ct_steps = TTA_STEPS * ((test_size/BATCH_SIZE) + 1)\n",
    "        preds = model.predict(test_ds, steps=ct_steps, verbose=1)[0][:(test_size * TTA_STEPS)]\n",
    "        preds = np.mean(preds.reshape(test_size, TTA_STEPS, N_CLASSES, order='F'), axis=1)\n",
    "        test_preds += preds / len(model_path_list)\n",
    "    else:\n",
    "        test_ds = get_dataset(files_path, tta=False)\n",
    "        x_test = test_ds.map(lambda image, image_name: image)\n",
    "        test_preds += model.predict(x_test)[0] / len(model_path_list)\n",
    "    \n",
    "test_preds = np.argmax(test_preds, axis=-1)\n",
    "test_names_ds = get_dataset(files_path)\n",
    "image_names = [img_name.numpy().decode('utf-8') for img, img_name in iter(test_names_ds.unbatch())]"
   ]
  },
  {
   "cell_type": "code",
   "execution_count": 11,
   "metadata": {
    "_kg_hide-input": true,
    "execution": {
     "iopub.execute_input": "2021-02-07T12:15:25.036359Z",
     "iopub.status.busy": "2021-02-07T12:15:25.035556Z",
     "iopub.status.idle": "2021-02-07T12:15:25.097149Z",
     "shell.execute_reply": "2021-02-07T12:15:25.096501Z"
    },
    "papermill": {
     "duration": 0.085412,
     "end_time": "2021-02-07T12:15:25.097287",
     "exception": false,
     "start_time": "2021-02-07T12:15:25.011875",
     "status": "completed"
    },
    "tags": []
   },
   "outputs": [
    {
     "data": {
      "text/html": [
       "<div>\n",
       "<style scoped>\n",
       "    .dataframe tbody tr th:only-of-type {\n",
       "        vertical-align: middle;\n",
       "    }\n",
       "\n",
       "    .dataframe tbody tr th {\n",
       "        vertical-align: top;\n",
       "    }\n",
       "\n",
       "    .dataframe thead th {\n",
       "        text-align: right;\n",
       "    }\n",
       "</style>\n",
       "<table border=\"1\" class=\"dataframe\">\n",
       "  <thead>\n",
       "    <tr style=\"text-align: right;\">\n",
       "      <th></th>\n",
       "      <th>image_id</th>\n",
       "      <th>label</th>\n",
       "    </tr>\n",
       "  </thead>\n",
       "  <tbody>\n",
       "    <tr>\n",
       "      <th>0</th>\n",
       "      <td>2216849948.jpg</td>\n",
       "      <td>4</td>\n",
       "    </tr>\n",
       "  </tbody>\n",
       "</table>\n",
       "</div>"
      ],
      "text/plain": [
       "         image_id  label\n",
       "0  2216849948.jpg      4"
      ]
     },
     "metadata": {},
     "output_type": "display_data"
    }
   ],
   "source": [
    "submission = pd.DataFrame({'image_id': image_names, 'label': test_preds})\n",
    "submission.to_csv('submission.csv', index=False)\n",
    "display(submission.head())"
   ]
  }
 ],
 "metadata": {
  "kernelspec": {
   "display_name": "Python 3",
   "language": "python",
   "name": "python3"
  },
  "language_info": {
   "codemirror_mode": {
    "name": "ipython",
    "version": 3
   },
   "file_extension": ".py",
   "mimetype": "text/x-python",
   "name": "python",
   "nbconvert_exporter": "python",
   "pygments_lexer": "ipython3",
   "version": "3.7.6"
  },
  "papermill": {
   "duration": 90.719323,
   "end_time": "2021-02-07T12:15:26.393115",
   "environment_variables": {},
   "exception": null,
   "input_path": "__notebook__.ipynb",
   "output_path": "__notebook__.ipynb",
   "parameters": {},
   "start_time": "2021-02-07T12:13:55.673792",
   "version": "2.1.0"
  }
 },
 "nbformat": 4,
 "nbformat_minor": 4
}
